{
 "cells": [
  {
   "cell_type": "code",
   "execution_count": 1,
   "metadata": {},
   "outputs": [],
   "source": [
    "import pandas as pd\n",
    "import numpy as np\n",
    "import random\n",
    "from sklearn.impute import KNNImputer\n",
    "from sklearn.model_selection import StratifiedShuffleSplit\n",
    "import seaborn as sns\n",
    "import matplotlib.pyplot as plt\n",
    "from scipy.stats import ttest_ind\n",
    "from sklearn.preprocessing import StandardScaler\n",
    "import joblib"
   ]
  },
  {
   "cell_type": "code",
   "execution_count": 2,
   "metadata": {},
   "outputs": [
    {
     "data": {
      "text/plain": [
       "2261"
      ]
     },
     "execution_count": 2,
     "metadata": {},
     "output_type": "execute_result"
    }
   ],
   "source": [
    "df = pd.read_csv('./data/HCC OP+RFA 20230511 n=2261 去名化.csv')\n",
    "df.head()\n",
    "len(df)"
   ]
  },
  {
   "cell_type": "code",
   "execution_count": 3,
   "metadata": {},
   "outputs": [
    {
     "name": "stderr",
     "output_type": "stream",
     "text": [
      "c:\\Users\\Max\\anaconda3\\envs\\OP_RFA\\lib\\site-packages\\pandas\\core\\internals\\blocks.py:2323: RuntimeWarning: invalid value encountered in cast\n",
      "  values = values.astype(str)\n"
     ]
    },
    {
     "data": {
      "text/plain": [
       "1480"
      ]
     },
     "execution_count": 3,
     "metadata": {},
     "output_type": "execute_result"
    }
   ],
   "source": [
    "df = df.drop(df[df['Treatment'] == 2].index)\n",
    "df.to_csv('./data/HCC OP 20230511 n=2261 去名化.csv',index=False)\n",
    "len(df)"
   ]
  },
  {
   "cell_type": "code",
   "execution_count": 4,
   "metadata": {},
   "outputs": [],
   "source": [
    "selected_features = [\n",
    "    'OP&RFA Data ID','ISD number','20230511 OP_NAP','Milan_out', 'Age', 'Sex', 'Image_Vasulcar_invasion(Portal vein,Hepatic vein)', 'BCLC', 'Child_Class'\n",
    "    , 'Weight', 'Height', 'BMI', 'WBC', 'HB', 'PLAT', 'PTINR', 'ALB', 'Na', 'K', 'CHOL','BUN', 'CR', 'BILI','ALK-P','LDH'\n",
    "    , 'ALT', 'AST', 'APRI','FIB4', 'NLR','GLU','GGT', 'AFP', 'HBsAg', 'HCV'\n",
    "    , 'alcoholism', 'Tumor size', 'Tumor number', 'ALBIscore', 'ALBIgrade'\n",
    "]\n",
    "\n",
    "selected_labels = ['Recur', 'Recurrence free survival','Early recur','Early RFS','Late recur','Late RFS']\n",
    "selected_features_post = ['Histologic grade', 'MVI', 'Inflammation', 'Ishak', 'Steatosis grade']"
   ]
  },
  {
   "cell_type": "code",
   "execution_count": 5,
   "metadata": {},
   "outputs": [
    {
     "name": "stdout",
     "output_type": "stream",
     "text": [
      "1480\n"
     ]
    },
    {
     "name": "stderr",
     "output_type": "stream",
     "text": [
      "c:\\Users\\Max\\anaconda3\\envs\\OP_RFA\\lib\\site-packages\\pandas\\core\\internals\\blocks.py:2323: RuntimeWarning: invalid value encountered in cast\n",
      "  values = values.astype(str)\n"
     ]
    }
   ],
   "source": [
    "df = pd.read_csv('./data/HCC OP 20230511 n=2261 去名化.csv')\n",
    "df_op = df[ selected_features + selected_features_post + selected_labels ]\n",
    "df_op.to_csv('./data/post_early/HCC OP survival data.csv',index=False)\n",
    "print(len(df_op))"
   ]
  },
  {
   "attachments": {},
   "cell_type": "markdown",
   "metadata": {},
   "source": [
    "統計每個欄位的缺值\n",
    "- ISD number 缺 758\n",
    "- Late recur,Late RFS 缺 652\n",
    "- 其他都缺不多，最多的為CHOL:147筆,Steatosis grade:153筆"
   ]
  },
  {
   "cell_type": "code",
   "execution_count": 6,
   "metadata": {},
   "outputs": [
    {
     "name": "stdout",
     "output_type": "stream",
     "text": [
      "                                               Column  NaN_Count\n",
      "0                                      OP&RFA Data ID          0\n",
      "1                                          ISD number        758\n",
      "2                                     20230511 OP_NAP        876\n",
      "3                                           Milan_out          0\n",
      "4                                                 Age          0\n",
      "5                                                 Sex          0\n",
      "6   Image_Vasulcar_invasion(Portal vein,Hepatic vein)          0\n",
      "7                                                BCLC          0\n",
      "8                                         Child_Class          0\n",
      "9                                              Weight         21\n",
      "10                                             Height         25\n",
      "11                                                BMI         25\n",
      "12                                                WBC          0\n",
      "13                                                 HB          0\n",
      "14                                               PLAT          0\n",
      "15                                              PTINR          0\n",
      "16                                                ALB          0\n",
      "17                                                 Na          0\n",
      "18                                                  K          0\n",
      "19                                               CHOL        147\n",
      "20                                                BUN          0\n",
      "21                                                 CR          0\n",
      "22                                               BILI          0\n",
      "23                                              ALK-P         13\n",
      "24                                                LDH        124\n",
      "25                                                ALT          0\n",
      "26                                                AST          3\n",
      "27                                               APRI          3\n",
      "28                                               FIB4          3\n",
      "29                                                NLR          6\n",
      "30                                                GLU         57\n",
      "31                                                GGT         14\n",
      "32                                                AFP          1\n",
      "33                                              HBsAg          0\n",
      "34                                                HCV          0\n",
      "35                                         alcoholism         19\n",
      "36                                         Tumor size          0\n",
      "37                                       Tumor number          0\n",
      "38                                          ALBIscore          0\n",
      "39                                          ALBIgrade          0\n",
      "40                                   Histologic grade          4\n",
      "41                                                MVI         66\n",
      "42                                       Inflammation         30\n",
      "43                                              Ishak          5\n",
      "44                                    Steatosis grade        153\n",
      "45                                              Recur          0\n",
      "46                           Recurrence free survival          0\n",
      "47                                        Early recur          0\n",
      "48                                          Early RFS          0\n",
      "49                                         Late recur        652\n",
      "50                                           Late RFS        652\n"
     ]
    }
   ],
   "source": [
    "df_op = pd.read_csv('./data/post_early/HCC OP survival data.csv')\n",
    "nan_counts = df_op.isnull().sum()\n",
    "result_df = pd.DataFrame({'Column': nan_counts.index, 'NaN_Count': nan_counts.values})\n",
    "print(result_df)"
   ]
  },
  {
   "attachments": {},
   "cell_type": "markdown",
   "metadata": {},
   "source": [
    "分成三相位齊全跟不齊全的資料集"
   ]
  },
  {
   "cell_type": "code",
   "execution_count": 7,
   "metadata": {},
   "outputs": [
    {
     "name": "stdout",
     "output_type": "stream",
     "text": [
      "604 604\n"
     ]
    },
    {
     "name": "stderr",
     "output_type": "stream",
     "text": [
      "c:\\Users\\Max\\anaconda3\\envs\\OP_RFA\\lib\\site-packages\\pandas\\core\\internals\\blocks.py:2323: RuntimeWarning: invalid value encountered in cast\n",
      "  values = values.astype(str)\n"
     ]
    }
   ],
   "source": [
    "df = pd.read_csv('./data/post_early/HCC OP survival data.csv')\n",
    "matched_cases = df[df['20230511 OP_NAP'] == 1]['ISD number']\n",
    "\n",
    "matched_cases_data = df[df['ISD number'].isin(matched_cases)]\n",
    "matched_cases_data.to_csv('./data/post_early/HCC OP 20230511 allNAP.csv',index=False)\n",
    "print(len(matched_cases),len(matched_cases_data))"
   ]
  },
  {
   "cell_type": "code",
   "execution_count": 8,
   "metadata": {},
   "outputs": [
    {
     "data": {
      "text/plain": [
       "876"
      ]
     },
     "execution_count": 8,
     "metadata": {},
     "output_type": "execute_result"
    }
   ],
   "source": [
    "for case in matched_cases:\n",
    "    df = df.drop(df[df['ISD number'] == case].index)\n",
    "df.to_csv('./data/post_early/HCC OP 20230511 incompleteNAP.csv',index=False)\n",
    "len(df)"
   ]
  },
  {
   "attachments": {},
   "cell_type": "markdown",
   "metadata": {},
   "source": [
    "統計個案缺值數量\n",
    "- HCC OP 20230511 allNAP_v1 是刪除了[ 'Late recur','Late RFS','ISD number','20230511 OP_NAP']\n",
    "- HCC OP 20230511 incompleteNAP_v1 是刪除了[ 'Late recur','Late RFS','ISD number','20230511 OP_NAP']"
   ]
  },
  {
   "cell_type": "code",
   "execution_count": 9,
   "metadata": {},
   "outputs": [
    {
     "name": "stderr",
     "output_type": "stream",
     "text": [
      "c:\\Users\\Max\\anaconda3\\envs\\OP_RFA\\lib\\site-packages\\pandas\\core\\internals\\blocks.py:2323: RuntimeWarning: invalid value encountered in cast\n",
      "  values = values.astype(str)\n"
     ]
    }
   ],
   "source": [
    "df_NAP = pd.read_csv('./data/post_early/HCC OP 20230511 allNAP.csv')\n",
    "df_NAP = df_NAP.drop(columns=[ 'Late recur','Late RFS','ISD number','20230511 OP_NAP'])\n",
    "num = df_NAP.isna().T.sum()\n",
    "df_NAP['Eachcase Nan count'] = num\n",
    "df_NAP.to_csv('./data/post_early/HCC OP 20230511 allNAP_v1.csv',index=False)\n"
   ]
  },
  {
   "cell_type": "code",
   "execution_count": 10,
   "metadata": {},
   "outputs": [
    {
     "name": "stdout",
     "output_type": "stream",
     "text": [
      "    Eachcase Nan count  Percentage\n",
      "0                  417   69.039735\n",
      "1                  106   17.549669\n",
      "2                   42    6.953642\n",
      "3                   20    3.311258\n",
      "4                   11    1.821192\n",
      "5                    5    0.827815\n",
      "6                    2    0.331126\n",
      "10                   1    0.165563\n"
     ]
    }
   ],
   "source": [
    "column_name = 'Eachcase Nan count'\n",
    "value_counts = df_NAP[column_name].value_counts()\n",
    "# 計算總資料數\n",
    "total_count = value_counts.sum()\n",
    "# 計算各數值佔總資料的百分比\n",
    "percentages = value_counts / total_count * 100\n",
    "# 將數值數量和百分比合併為一個DataFrame\n",
    "result = pd.concat([value_counts, percentages], axis=1, keys=['Eachcase Nan count', 'Percentage'])\n",
    "# 輸出結果\n",
    "print(result)"
   ]
  },
  {
   "cell_type": "code",
   "execution_count": 11,
   "metadata": {},
   "outputs": [
    {
     "name": "stdout",
     "output_type": "stream",
     "text": [
      "601\n"
     ]
    },
    {
     "name": "stderr",
     "output_type": "stream",
     "text": [
      "c:\\Users\\Max\\anaconda3\\envs\\OP_RFA\\lib\\site-packages\\pandas\\core\\internals\\blocks.py:2323: RuntimeWarning: invalid value encountered in cast\n",
      "  values = values.astype(str)\n"
     ]
    }
   ],
   "source": [
    "df = pd.read_csv('./data/post_early/HCC OP 20230511 allNAP_v1.csv')\n",
    "\n",
    "# 丟掉 num 欄位數值大於 5 的案例\n",
    "df_filtered = df[df['Eachcase Nan count'] < 6]\n",
    "print(len(df_filtered))\n",
    "df_filtered.to_csv('./data/post_early/HCC OP 20230511 allNAP_v1.csv',index=False)"
   ]
  },
  {
   "cell_type": "code",
   "execution_count": 12,
   "metadata": {},
   "outputs": [
    {
     "name": "stderr",
     "output_type": "stream",
     "text": [
      "c:\\Users\\Max\\anaconda3\\envs\\OP_RFA\\lib\\site-packages\\pandas\\core\\internals\\blocks.py:2323: RuntimeWarning: invalid value encountered in cast\n",
      "  values = values.astype(str)\n"
     ]
    }
   ],
   "source": [
    "df_incomplete = pd.read_csv('./data/post_early/HCC OP 20230511 incompleteNAP.csv')\n",
    "df_incomplete = df_incomplete.drop(columns=[ 'Late recur','Late RFS','ISD number','20230511 OP_NAP'])\n",
    "num = df_incomplete.isna().T.sum()\n",
    "df_incomplete['Eachcase Nan count'] = num\n",
    "df_incomplete.to_csv('./data/post_early/HCC OP 20230511 incompleteNAP_v1.csv',index=False)"
   ]
  },
  {
   "cell_type": "code",
   "execution_count": 13,
   "metadata": {},
   "outputs": [
    {
     "name": "stdout",
     "output_type": "stream",
     "text": [
      "   Eachcase Nan count  Percentage\n",
      "0                 654   74.657534\n",
      "1                 125   14.269406\n",
      "2                  55    6.278539\n",
      "3                  28    3.196347\n",
      "4                  11    1.255708\n",
      "5                   3    0.342466\n"
     ]
    }
   ],
   "source": [
    "column_name = 'Eachcase Nan count'\n",
    "value_counts = df_incomplete[column_name].value_counts()\n",
    "# 計算總資料數\n",
    "total_count = value_counts.sum()\n",
    "# 計算各數值佔總資料的百分比\n",
    "percentages = value_counts / total_count * 100\n",
    "# 將數值數量和百分比合併為一個DataFrame\n",
    "result = pd.concat([value_counts, percentages], axis=1, keys=['Eachcase Nan count', 'Percentage'])\n",
    "# 輸出結果\n",
    "print(result)"
   ]
  },
  {
   "attachments": {},
   "cell_type": "markdown",
   "metadata": {},
   "source": [
    "切資料集"
   ]
  },
  {
   "cell_type": "code",
   "execution_count": 14,
   "metadata": {},
   "outputs": [],
   "source": [
    "df_NAP = pd.read_csv('./data/post_early/HCC OP 20230511 allNAP_v1.csv')\n",
    "df_incomplete = pd.read_csv('./data/post_early/HCC OP 20230511 incompleteNAP_v1.csv')"
   ]
  },
  {
   "cell_type": "code",
   "execution_count": 15,
   "metadata": {},
   "outputs": [
    {
     "name": "stdout",
     "output_type": "stream",
     "text": [
      "601 876\n"
     ]
    }
   ],
   "source": [
    "print(len(df_NAP),len(df_incomplete))"
   ]
  },
  {
   "cell_type": "code",
   "execution_count": 16,
   "metadata": {},
   "outputs": [],
   "source": [
    "random_num=37\n",
    "X = df_NAP.drop(columns=['Recur', 'Recurrence free survival','Early recur','Early RFS'])\n",
    "y_death = df_NAP['Early recur']  # 是否死亡\n",
    "X_miss = df_incomplete.drop(columns=['Recur', 'Recurrence free survival','Early recur','Early RFS'])\n",
    "y_death_miss = df_incomplete['Early recur']  # 是否死亡"
   ]
  },
  {
   "cell_type": "code",
   "execution_count": 17,
   "metadata": {},
   "outputs": [],
   "source": [
    "sss = StratifiedShuffleSplit(n_splits=1, test_size=0.3, random_state=random_num)\n",
    "results = sss.split(X, y_death)\n",
    "train_index, test_index = results.__next__()\n",
    "results_miss = sss.split(X_miss, y_death_miss)\n",
    "train_index_miss, test_index_miss = results_miss.__next__()"
   ]
  },
  {
   "cell_type": "code",
   "execution_count": 18,
   "metadata": {},
   "outputs": [
    {
     "name": "stdout",
     "output_type": "stream",
     "text": [
      "Train: 420\n"
     ]
    },
    {
     "data": {
      "text/plain": [
       "1    258\n",
       "0    162\n",
       "Name: Recur, dtype: int64"
      ]
     },
     "metadata": {},
     "output_type": "display_data"
    },
    {
     "name": "stdout",
     "output_type": "stream",
     "text": [
      "Test: 181\n"
     ]
    },
    {
     "data": {
      "text/plain": [
       "1    106\n",
       "0     75\n",
       "Name: Recur, dtype: int64"
      ]
     },
     "metadata": {},
     "output_type": "display_data"
    },
    {
     "name": "stdout",
     "output_type": "stream",
     "text": [
      "Train_miss: 613\n"
     ]
    },
    {
     "data": {
      "text/plain": [
       "1    320\n",
       "0    293\n",
       "Name: Recur, dtype: int64"
      ]
     },
     "metadata": {},
     "output_type": "display_data"
    },
    {
     "name": "stdout",
     "output_type": "stream",
     "text": [
      "Test_miss: 263\n"
     ]
    },
    {
     "data": {
      "text/plain": [
       "1    141\n",
       "0    122\n",
       "Name: Recur, dtype: int64"
      ]
     },
     "metadata": {},
     "output_type": "display_data"
    }
   ],
   "source": [
    "print(f\"Train: {len(train_index)}\")\n",
    "display(df_NAP.iloc[train_index].Recur.value_counts())\n",
    "print(f\"Test: {len(test_index)}\")\n",
    "display(df_NAP.iloc[test_index].Recur.value_counts())\n",
    "print(f\"Train_miss: {len(train_index_miss)}\")\n",
    "display(df_incomplete.iloc[train_index_miss].Recur.value_counts())\n",
    "print(f\"Test_miss: {len(test_index_miss)}\")\n",
    "display(df_incomplete.iloc[test_index_miss].Recur.value_counts())"
   ]
  },
  {
   "cell_type": "code",
   "execution_count": 19,
   "metadata": {},
   "outputs": [],
   "source": [
    "train_df = df_NAP.iloc[train_index]\n",
    "test_df = df_NAP.iloc[test_index]\n",
    "train_df_miss = df_incomplete.iloc[train_index_miss]\n",
    "test_df_miss = df_incomplete.iloc[test_index_miss]"
   ]
  },
  {
   "cell_type": "code",
   "execution_count": 20,
   "metadata": {},
   "outputs": [],
   "source": [
    "train_df = train_df.sample(frac=1, random_state=random_num).sample(frac=1, random_state=random_num).reset_index(drop=True)\n",
    "test_df = test_df.sample(frac=1, random_state=random_num).sample(frac=1, random_state=random_num).reset_index(drop=True)\n",
    "train_df_miss = train_df_miss.sample(frac=1, random_state=random_num).sample(frac=1, random_state=random_num).reset_index(drop=True)\n",
    "test_df_miss = test_df_miss.sample(frac=1, random_state=random_num).sample(frac=1, random_state=random_num).reset_index(drop=True)"
   ]
  },
  {
   "cell_type": "code",
   "execution_count": 21,
   "metadata": {},
   "outputs": [
    {
     "name": "stderr",
     "output_type": "stream",
     "text": [
      "c:\\Users\\Max\\anaconda3\\envs\\OP_RFA\\lib\\site-packages\\pandas\\core\\internals\\blocks.py:2323: RuntimeWarning: invalid value encountered in cast\n",
      "  values = values.astype(str)\n"
     ]
    }
   ],
   "source": [
    "train_df.to_csv(\"./data/post_early/HCC OP 20230511 allNAP_v1_train.csv\", index=False)\n",
    "test_df.to_csv(\"./data/post_early/HCC OP 20230511 allNAP_v1_test.csv\", index=False)\n",
    "train_df_miss.to_csv(\"./data/post_early/HCC OP 20230511 incompleteNAP_v1_train.csv\", index=False)\n",
    "test_df_miss.to_csv(\"./data/post_early/HCC OP 20230511 incompleteNAP_v1_test.csv\", index=False)"
   ]
  },
  {
   "cell_type": "code",
   "execution_count": 22,
   "metadata": {},
   "outputs": [
    {
     "name": "stdout",
     "output_type": "stream",
     "text": [
      "420 181 613 263\n"
     ]
    }
   ],
   "source": [
    "print(len(train_df),len(test_df),len(train_df_miss),len(test_df_miss))"
   ]
  },
  {
   "attachments": {},
   "cell_type": "markdown",
   "metadata": {},
   "source": [
    "HCC OP 20230511 train.csv ,HCC OP 20230511 test.csv是包含recur 跟 early recur兩種"
   ]
  },
  {
   "cell_type": "code",
   "execution_count": 23,
   "metadata": {},
   "outputs": [
    {
     "name": "stdout",
     "output_type": "stream",
     "text": [
      "1033 444\n"
     ]
    }
   ],
   "source": [
    "combined_train = pd.concat([train_df, train_df_miss], axis=0)\n",
    "combined_test = pd.concat([test_df, test_df_miss], axis=0)\n",
    "combined_train.to_csv('./data/post_early/HCC OP 20230511 train.csv',index=False)\n",
    "combined_test.to_csv('./data/post_early/HCC OP 20230511 test.csv',index=False)\n",
    "print(len(combined_train),len(combined_test))"
   ]
  },
  {
   "cell_type": "code",
   "execution_count": 24,
   "metadata": {},
   "outputs": [
    {
     "name": "stderr",
     "output_type": "stream",
     "text": [
      "c:\\Users\\Max\\anaconda3\\envs\\OP_RFA\\lib\\site-packages\\pandas\\core\\internals\\blocks.py:2323: RuntimeWarning: invalid value encountered in cast\n",
      "  values = values.astype(str)\n"
     ]
    }
   ],
   "source": [
    "combined_train = combined_train.drop(columns=['Recur', 'Recurrence free survival'])\n",
    "combined_test = combined_test.drop(columns=['Recur', 'Recurrence free survival'])\n",
    "combined_train.to_csv('./data/post_early/HCC OP 20230511 train_early.csv',index=False)\n",
    "combined_test.to_csv('./data/post_early/HCC OP 20230511 test_early.csv',index=False)"
   ]
  },
  {
   "cell_type": "code",
   "execution_count": 25,
   "metadata": {},
   "outputs": [
    {
     "name": "stdout",
     "output_type": "stream",
     "text": [
      "1033 444\n"
     ]
    }
   ],
   "source": [
    "print(len(combined_train),len(combined_test))"
   ]
  },
  {
   "attachments": {},
   "cell_type": "markdown",
   "metadata": {},
   "source": [
    "看資料分布"
   ]
  },
  {
   "cell_type": "code",
   "execution_count": 26,
   "metadata": {},
   "outputs": [
    {
     "data": {
      "image/png": "[encoded data removed]",
      "text/plain": [
       "<Figure size 640x480 with 1 Axes>"
      ]
     },
     "metadata": {},
     "output_type": "display_data"
    }
   ],
   "source": [
    "test = pd.read_csv('./data/post_early/HCC OP 20230511 train_early.csv')\n",
    "# 绘制train['recur']的圆饼图\n",
    "counts = test['Early recur'].value_counts().to_dict()\n",
    "counts_keys = list(counts.keys())\n",
    "counts_keys.sort()\n",
    "counts = {k: counts[k] for k in counts_keys}\n",
    "fig, ax = plt.subplots()\n",
    "colors = sns.color_palette(\"Set2\")[:len(counts.keys())]\n",
    "ax.set_title('Training_Recur', fontdict={'size': 20})\n",
    "ax.pie(counts.values(), labels=counts.keys(), colors=colors, autopct='%1.1f%%', textprops={'fontsize': 14})\n",
    "#plt.savefig('./data_cluster/統計圖表/train分佈.png')\n",
    "plt.show()"
   ]
  },
  {
   "cell_type": "code",
   "execution_count": 27,
   "metadata": {},
   "outputs": [
    {
     "data": {
      "image/png": "[encoded data removed]",
      "text/plain": [
       "<Figure size 640x480 with 1 Axes>"
      ]
     },
     "metadata": {},
     "output_type": "display_data"
    }
   ],
   "source": [
    "test = pd.read_csv('./data/post_early/HCC OP 20230511 test_early.csv')\n",
    "# 绘制train['recur']的圆饼图\n",
    "counts = test['Early recur'].value_counts().to_dict()\n",
    "counts_keys = list(counts.keys())\n",
    "counts_keys.sort()\n",
    "counts = {k: counts[k] for k in counts_keys}\n",
    "fig, ax = plt.subplots()\n",
    "colors = sns.color_palette(\"Set2\")[:len(counts.keys())]\n",
    "ax.set_title('Test_Recur', fontdict={'size': 20})\n",
    "ax.pie(counts.values(), labels=counts.keys(), colors=colors, autopct='%1.1f%%', textprops={'fontsize': 14})\n",
    "# plt.savefig('./result/統計圖表/OP_pre test分佈.png')\n",
    "plt.show()"
   ]
  },
  {
   "attachments": {},
   "cell_type": "markdown",
   "metadata": {},
   "source": [
    "查看資料集是否有顯著差異"
   ]
  },
  {
   "cell_type": "code",
   "execution_count": 28,
   "metadata": {},
   "outputs": [],
   "source": [
    "from scipy.stats import ttest_ind\n",
    "# 計算各欄位的 p-value\n",
    "p_values = []\n",
    "for column in combined_train.columns:\n",
    "    # 執行 t 檢定\n",
    "    _, p_value = ttest_ind(combined_train[column], combined_test[column])\n",
    "    p_values.append(p_value)\n",
    "\n",
    "# 打印 p-value\n",
    "for column, p_value in zip(combined_train.columns, p_values):\n",
    "    #print(f\"{column}: p-value = {p_value}\")\n",
    "    if p_value < 0.05:\n",
    "        print(column)"
   ]
  },
  {
   "attachments": {},
   "cell_type": "markdown",
   "metadata": {},
   "source": [
    "補值"
   ]
  },
  {
   "cell_type": "code",
   "execution_count": 29,
   "metadata": {},
   "outputs": [
    {
     "name": "stdout",
     "output_type": "stream",
     "text": [
      "1033\n"
     ]
    }
   ],
   "source": [
    "df = pd.read_csv('./data/post_early/HCC OP 20230511 train_early.csv')\n",
    "df = df.drop(['OP&RFA Data ID','Eachcase Nan count'], axis=1)\n",
    "\n",
    "# 初始化 KNNImputer 物件\n",
    "imputer = KNNImputer(n_neighbors=199)\n",
    "\n",
    "# 執行 KNN 補值\n",
    "df_imputed = imputer.fit_transform(df)\n",
    "\n",
    "# 將補值後的結果轉換為 DataFrame\n",
    "df_imputed = pd.DataFrame(df_imputed, columns=df.columns)\n",
    "\n",
    "# 將補值後的結果加入原始資料集中\n",
    "df = df_imputed\n",
    "df.to_csv('./data/post_early/HCC OP 20230511 train_early_input.csv',index=False)\n",
    "print(len(df))"
   ]
  },
  {
   "cell_type": "code",
   "execution_count": 30,
   "metadata": {},
   "outputs": [
    {
     "data": {
      "text/html": [
       "<div>\n",
       "<style scoped>\n",
       "    .dataframe tbody tr th:only-of-type {\n",
       "        vertical-align: middle;\n",
       "    }\n",
       "\n",
       "    .dataframe tbody tr th {\n",
       "        vertical-align: top;\n",
       "    }\n",
       "\n",
       "    .dataframe thead th {\n",
       "        text-align: right;\n",
       "    }\n",
       "</style>\n",
       "<table border=\"1\" class=\"dataframe\">\n",
       "  <thead>\n",
       "    <tr style=\"text-align: right;\">\n",
       "      <th></th>\n",
       "      <th>Milan_out</th>\n",
       "      <th>Age</th>\n",
       "      <th>Sex</th>\n",
       "      <th>Image_Vasulcar_invasion(Portal vein,Hepatic vein)</th>\n",
       "      <th>BCLC</th>\n",
       "      <th>Child_Class</th>\n",
       "      <th>Weight</th>\n",
       "      <th>Height</th>\n",
       "      <th>BMI</th>\n",
       "      <th>WBC</th>\n",
       "      <th>...</th>\n",
       "      <th>Tumor number</th>\n",
       "      <th>ALBIscore</th>\n",
       "      <th>ALBIgrade</th>\n",
       "      <th>Histologic grade</th>\n",
       "      <th>MVI</th>\n",
       "      <th>Inflammation</th>\n",
       "      <th>Ishak</th>\n",
       "      <th>Steatosis grade</th>\n",
       "      <th>Early recur</th>\n",
       "      <th>Early RFS</th>\n",
       "    </tr>\n",
       "  </thead>\n",
       "  <tbody>\n",
       "    <tr>\n",
       "      <th>0</th>\n",
       "      <td>1</td>\n",
       "      <td>73.04</td>\n",
       "      <td>1</td>\n",
       "      <td>1</td>\n",
       "      <td>3</td>\n",
       "      <td>1</td>\n",
       "      <td>45.9</td>\n",
       "      <td>157.8</td>\n",
       "      <td>18.433113</td>\n",
       "      <td>5700</td>\n",
       "      <td>...</td>\n",
       "      <td>1</td>\n",
       "      <td>-2.160</td>\n",
       "      <td>2.0</td>\n",
       "      <td>2.0</td>\n",
       "      <td>1.0</td>\n",
       "      <td>1.0</td>\n",
       "      <td>4.0</td>\n",
       "      <td>0.0</td>\n",
       "      <td>1</td>\n",
       "      <td>17.1</td>\n",
       "    </tr>\n",
       "    <tr>\n",
       "      <th>1</th>\n",
       "      <td>1</td>\n",
       "      <td>48.93</td>\n",
       "      <td>1</td>\n",
       "      <td>0</td>\n",
       "      <td>1</td>\n",
       "      <td>1</td>\n",
       "      <td>85.5</td>\n",
       "      <td>170.4</td>\n",
       "      <td>29.446042</td>\n",
       "      <td>8900</td>\n",
       "      <td>...</td>\n",
       "      <td>1</td>\n",
       "      <td>-2.894</td>\n",
       "      <td>1.0</td>\n",
       "      <td>2.5</td>\n",
       "      <td>1.0</td>\n",
       "      <td>1.0</td>\n",
       "      <td>6.0</td>\n",
       "      <td>1.0</td>\n",
       "      <td>0</td>\n",
       "      <td>24.0</td>\n",
       "    </tr>\n",
       "    <tr>\n",
       "      <th>3</th>\n",
       "      <td>0</td>\n",
       "      <td>60.00</td>\n",
       "      <td>1</td>\n",
       "      <td>0</td>\n",
       "      <td>0</td>\n",
       "      <td>1</td>\n",
       "      <td>63.5</td>\n",
       "      <td>170.0</td>\n",
       "      <td>21.972318</td>\n",
       "      <td>7900</td>\n",
       "      <td>...</td>\n",
       "      <td>1</td>\n",
       "      <td>-2.956</td>\n",
       "      <td>1.0</td>\n",
       "      <td>2.0</td>\n",
       "      <td>0.0</td>\n",
       "      <td>1.0</td>\n",
       "      <td>2.0</td>\n",
       "      <td>NaN</td>\n",
       "      <td>0</td>\n",
       "      <td>24.0</td>\n",
       "    </tr>\n",
       "    <tr>\n",
       "      <th>12</th>\n",
       "      <td>1</td>\n",
       "      <td>50.21</td>\n",
       "      <td>1</td>\n",
       "      <td>0</td>\n",
       "      <td>1</td>\n",
       "      <td>1</td>\n",
       "      <td>72.7</td>\n",
       "      <td>165.9</td>\n",
       "      <td>26.414454</td>\n",
       "      <td>6100</td>\n",
       "      <td>...</td>\n",
       "      <td>1</td>\n",
       "      <td>-2.123</td>\n",
       "      <td>2.0</td>\n",
       "      <td>2.0</td>\n",
       "      <td>0.0</td>\n",
       "      <td>1.0</td>\n",
       "      <td>2.0</td>\n",
       "      <td>NaN</td>\n",
       "      <td>0</td>\n",
       "      <td>24.0</td>\n",
       "    </tr>\n",
       "    <tr>\n",
       "      <th>16</th>\n",
       "      <td>0</td>\n",
       "      <td>64.84</td>\n",
       "      <td>1</td>\n",
       "      <td>0</td>\n",
       "      <td>1</td>\n",
       "      <td>1</td>\n",
       "      <td>87.6</td>\n",
       "      <td>167.9</td>\n",
       "      <td>31.074397</td>\n",
       "      <td>5700</td>\n",
       "      <td>...</td>\n",
       "      <td>1</td>\n",
       "      <td>-2.742</td>\n",
       "      <td>1.0</td>\n",
       "      <td>2.0</td>\n",
       "      <td>0.0</td>\n",
       "      <td>1.0</td>\n",
       "      <td>2.0</td>\n",
       "      <td>2.0</td>\n",
       "      <td>0</td>\n",
       "      <td>24.0</td>\n",
       "    </tr>\n",
       "  </tbody>\n",
       "</table>\n",
       "<p>5 rows × 44 columns</p>\n",
       "</div>"
      ],
      "text/plain": [
       "    Milan_out    Age  Sex  Image_Vasulcar_invasion(Portal vein,Hepatic vein)  \\\n",
       "0           1  73.04    1                                                  1   \n",
       "1           1  48.93    1                                                  0   \n",
       "3           0  60.00    1                                                  0   \n",
       "12          1  50.21    1                                                  0   \n",
       "16          0  64.84    1                                                  0   \n",
       "\n",
       "    BCLC  Child_Class  Weight  Height        BMI   WBC  ...  Tumor number  \\\n",
       "0      3            1    45.9   157.8  18.433113  5700  ...             1   \n",
       "1      1            1    85.5   170.4  29.446042  8900  ...             1   \n",
       "3      0            1    63.5   170.0  21.972318  7900  ...             1   \n",
       "12     1            1    72.7   165.9  26.414454  6100  ...             1   \n",
       "16     1            1    87.6   167.9  31.074397  5700  ...             1   \n",
       "\n",
       "    ALBIscore  ALBIgrade  Histologic grade  MVI  Inflammation  Ishak  \\\n",
       "0      -2.160        2.0               2.0  1.0           1.0    4.0   \n",
       "1      -2.894        1.0               2.5  1.0           1.0    6.0   \n",
       "3      -2.956        1.0               2.0  0.0           1.0    2.0   \n",
       "12     -2.123        2.0               2.0  0.0           1.0    2.0   \n",
       "16     -2.742        1.0               2.0  0.0           1.0    2.0   \n",
       "\n",
       "    Steatosis grade  Early recur  Early RFS  \n",
       "0               0.0            1       17.1  \n",
       "1               1.0            0       24.0  \n",
       "3               NaN            0       24.0  \n",
       "12              NaN            0       24.0  \n",
       "16              2.0            0       24.0  \n",
       "\n",
       "[5 rows x 44 columns]"
      ]
     },
     "execution_count": 30,
     "metadata": {},
     "output_type": "execute_result"
    }
   ],
   "source": [
    "train_df = pd.read_csv(\"./data/post_early/HCC OP 20230511 train_early_input.csv\")\n",
    "test_df = pd.read_csv(\"./data/post_early/HCC OP 20230511 test_early.csv\")\n",
    "test_df = test_df.drop(['OP&RFA Data ID','Eachcase Nan count'], axis=1)\n",
    "#先將test資料切分出有缺值跟無缺值\n",
    "known_data = test_df.dropna()\n",
    "missing_data = test_df[test_df.isna().any(axis=1)]\n",
    "\n",
    "# 將空字串替換成 NaN 值\n",
    "#missing_data.replace(' ', np.nan, inplace=True)\n",
    "missing_data.head()"
   ]
  },
  {
   "cell_type": "code",
   "execution_count": 31,
   "metadata": {},
   "outputs": [
    {
     "name": "stderr",
     "output_type": "stream",
     "text": [
      "C:\\Users\\Max\\AppData\\Local\\Temp\\ipykernel_11440\\2216344822.py:7: FutureWarning: The frame.append method is deprecated and will be removed from pandas in a future version. Use pandas.concat instead.\n",
      "  train_df = train_df.append(nan_df)\n",
      "C:\\Users\\Max\\AppData\\Local\\Temp\\ipykernel_11440\\2216344822.py:15: FutureWarning: The frame.append method is deprecated and will be removed from pandas in a future version. Use pandas.concat instead.\n",
      "  known_data = known_data.append(last_row)\n",
      "C:\\Users\\Max\\AppData\\Local\\Temp\\ipykernel_11440\\2216344822.py:7: FutureWarning: The frame.append method is deprecated and will be removed from pandas in a future version. Use pandas.concat instead.\n",
      "  train_df = train_df.append(nan_df)\n",
      "C:\\Users\\Max\\AppData\\Local\\Temp\\ipykernel_11440\\2216344822.py:15: FutureWarning: The frame.append method is deprecated and will be removed from pandas in a future version. Use pandas.concat instead.\n",
      "  known_data = known_data.append(last_row)\n",
      "C:\\Users\\Max\\AppData\\Local\\Temp\\ipykernel_11440\\2216344822.py:7: FutureWarning: The frame.append method is deprecated and will be removed from pandas in a future version. Use pandas.concat instead.\n",
      "  train_df = train_df.append(nan_df)\n",
      "C:\\Users\\Max\\AppData\\Local\\Temp\\ipykernel_11440\\2216344822.py:15: FutureWarning: The frame.append method is deprecated and will be removed from pandas in a future version. Use pandas.concat instead.\n",
      "  known_data = known_data.append(last_row)\n",
      "C:\\Users\\Max\\AppData\\Local\\Temp\\ipykernel_11440\\2216344822.py:7: FutureWarning: The frame.append method is deprecated and will be removed from pandas in a future version. Use pandas.concat instead.\n",
      "  train_df = train_df.append(nan_df)\n",
      "C:\\Users\\Max\\AppData\\Local\\Temp\\ipykernel_11440\\2216344822.py:15: FutureWarning: The frame.append method is deprecated and will be removed from pandas in a future version. Use pandas.concat instead.\n",
      "  known_data = known_data.append(last_row)\n",
      "C:\\Users\\Max\\AppData\\Local\\Temp\\ipykernel_11440\\2216344822.py:7: FutureWarning: The frame.append method is deprecated and will be removed from pandas in a future version. Use pandas.concat instead.\n",
      "  train_df = train_df.append(nan_df)\n",
      "C:\\Users\\Max\\AppData\\Local\\Temp\\ipykernel_11440\\2216344822.py:15: FutureWarning: The frame.append method is deprecated and will be removed from pandas in a future version. Use pandas.concat instead.\n",
      "  known_data = known_data.append(last_row)\n",
      "C:\\Users\\Max\\AppData\\Local\\Temp\\ipykernel_11440\\2216344822.py:7: FutureWarning: The frame.append method is deprecated and will be removed from pandas in a future version. Use pandas.concat instead.\n",
      "  train_df = train_df.append(nan_df)\n",
      "C:\\Users\\Max\\AppData\\Local\\Temp\\ipykernel_11440\\2216344822.py:15: FutureWarning: The frame.append method is deprecated and will be removed from pandas in a future version. Use pandas.concat instead.\n",
      "  known_data = known_data.append(last_row)\n",
      "C:\\Users\\Max\\AppData\\Local\\Temp\\ipykernel_11440\\2216344822.py:7: FutureWarning: The frame.append method is deprecated and will be removed from pandas in a future version. Use pandas.concat instead.\n",
      "  train_df = train_df.append(nan_df)\n",
      "C:\\Users\\Max\\AppData\\Local\\Temp\\ipykernel_11440\\2216344822.py:15: FutureWarning: The frame.append method is deprecated and will be removed from pandas in a future version. Use pandas.concat instead.\n",
      "  known_data = known_data.append(last_row)\n",
      "C:\\Users\\Max\\AppData\\Local\\Temp\\ipykernel_11440\\2216344822.py:7: FutureWarning: The frame.append method is deprecated and will be removed from pandas in a future version. Use pandas.concat instead.\n",
      "  train_df = train_df.append(nan_df)\n",
      "C:\\Users\\Max\\AppData\\Local\\Temp\\ipykernel_11440\\2216344822.py:15: FutureWarning: The frame.append method is deprecated and will be removed from pandas in a future version. Use pandas.concat instead.\n",
      "  known_data = known_data.append(last_row)\n",
      "C:\\Users\\Max\\AppData\\Local\\Temp\\ipykernel_11440\\2216344822.py:7: FutureWarning: The frame.append method is deprecated and will be removed from pandas in a future version. Use pandas.concat instead.\n",
      "  train_df = train_df.append(nan_df)\n",
      "C:\\Users\\Max\\AppData\\Local\\Temp\\ipykernel_11440\\2216344822.py:15: FutureWarning: The frame.append method is deprecated and will be removed from pandas in a future version. Use pandas.concat instead.\n",
      "  known_data = known_data.append(last_row)\n",
      "C:\\Users\\Max\\AppData\\Local\\Temp\\ipykernel_11440\\2216344822.py:7: FutureWarning: The frame.append method is deprecated and will be removed from pandas in a future version. Use pandas.concat instead.\n",
      "  train_df = train_df.append(nan_df)\n",
      "C:\\Users\\Max\\AppData\\Local\\Temp\\ipykernel_11440\\2216344822.py:15: FutureWarning: The frame.append method is deprecated and will be removed from pandas in a future version. Use pandas.concat instead.\n",
      "  known_data = known_data.append(last_row)\n",
      "C:\\Users\\Max\\AppData\\Local\\Temp\\ipykernel_11440\\2216344822.py:7: FutureWarning: The frame.append method is deprecated and will be removed from pandas in a future version. Use pandas.concat instead.\n",
      "  train_df = train_df.append(nan_df)\n",
      "C:\\Users\\Max\\AppData\\Local\\Temp\\ipykernel_11440\\2216344822.py:15: FutureWarning: The frame.append method is deprecated and will be removed from pandas in a future version. Use pandas.concat instead.\n",
      "  known_data = known_data.append(last_row)\n",
      "C:\\Users\\Max\\AppData\\Local\\Temp\\ipykernel_11440\\2216344822.py:7: FutureWarning: The frame.append method is deprecated and will be removed from pandas in a future version. Use pandas.concat instead.\n",
      "  train_df = train_df.append(nan_df)\n",
      "C:\\Users\\Max\\AppData\\Local\\Temp\\ipykernel_11440\\2216344822.py:15: FutureWarning: The frame.append method is deprecated and will be removed from pandas in a future version. Use pandas.concat instead.\n",
      "  known_data = known_data.append(last_row)\n",
      "C:\\Users\\Max\\AppData\\Local\\Temp\\ipykernel_11440\\2216344822.py:7: FutureWarning: The frame.append method is deprecated and will be removed from pandas in a future version. Use pandas.concat instead.\n",
      "  train_df = train_df.append(nan_df)\n",
      "C:\\Users\\Max\\AppData\\Local\\Temp\\ipykernel_11440\\2216344822.py:15: FutureWarning: The frame.append method is deprecated and will be removed from pandas in a future version. Use pandas.concat instead.\n",
      "  known_data = known_data.append(last_row)\n",
      "C:\\Users\\Max\\AppData\\Local\\Temp\\ipykernel_11440\\2216344822.py:7: FutureWarning: The frame.append method is deprecated and will be removed from pandas in a future version. Use pandas.concat instead.\n",
      "  train_df = train_df.append(nan_df)\n",
      "C:\\Users\\Max\\AppData\\Local\\Temp\\ipykernel_11440\\2216344822.py:15: FutureWarning: The frame.append method is deprecated and will be removed from pandas in a future version. Use pandas.concat instead.\n",
      "  known_data = known_data.append(last_row)\n",
      "C:\\Users\\Max\\AppData\\Local\\Temp\\ipykernel_11440\\2216344822.py:7: FutureWarning: The frame.append method is deprecated and will be removed from pandas in a future version. Use pandas.concat instead.\n",
      "  train_df = train_df.append(nan_df)\n",
      "C:\\Users\\Max\\AppData\\Local\\Temp\\ipykernel_11440\\2216344822.py:15: FutureWarning: The frame.append method is deprecated and will be removed from pandas in a future version. Use pandas.concat instead.\n",
      "  known_data = known_data.append(last_row)\n",
      "C:\\Users\\Max\\AppData\\Local\\Temp\\ipykernel_11440\\2216344822.py:7: FutureWarning: The frame.append method is deprecated and will be removed from pandas in a future version. Use pandas.concat instead.\n",
      "  train_df = train_df.append(nan_df)\n",
      "C:\\Users\\Max\\AppData\\Local\\Temp\\ipykernel_11440\\2216344822.py:15: FutureWarning: The frame.append method is deprecated and will be removed from pandas in a future version. Use pandas.concat instead.\n",
      "  known_data = known_data.append(last_row)\n",
      "C:\\Users\\Max\\AppData\\Local\\Temp\\ipykernel_11440\\2216344822.py:7: FutureWarning: The frame.append method is deprecated and will be removed from pandas in a future version. Use pandas.concat instead.\n",
      "  train_df = train_df.append(nan_df)\n",
      "C:\\Users\\Max\\AppData\\Local\\Temp\\ipykernel_11440\\2216344822.py:15: FutureWarning: The frame.append method is deprecated and will be removed from pandas in a future version. Use pandas.concat instead.\n",
      "  known_data = known_data.append(last_row)\n",
      "C:\\Users\\Max\\AppData\\Local\\Temp\\ipykernel_11440\\2216344822.py:7: FutureWarning: The frame.append method is deprecated and will be removed from pandas in a future version. Use pandas.concat instead.\n",
      "  train_df = train_df.append(nan_df)\n",
      "C:\\Users\\Max\\AppData\\Local\\Temp\\ipykernel_11440\\2216344822.py:15: FutureWarning: The frame.append method is deprecated and will be removed from pandas in a future version. Use pandas.concat instead.\n",
      "  known_data = known_data.append(last_row)\n",
      "C:\\Users\\Max\\AppData\\Local\\Temp\\ipykernel_11440\\2216344822.py:7: FutureWarning: The frame.append method is deprecated and will be removed from pandas in a future version. Use pandas.concat instead.\n",
      "  train_df = train_df.append(nan_df)\n",
      "C:\\Users\\Max\\AppData\\Local\\Temp\\ipykernel_11440\\2216344822.py:15: FutureWarning: The frame.append method is deprecated and will be removed from pandas in a future version. Use pandas.concat instead.\n",
      "  known_data = known_data.append(last_row)\n",
      "C:\\Users\\Max\\AppData\\Local\\Temp\\ipykernel_11440\\2216344822.py:7: FutureWarning: The frame.append method is deprecated and will be removed from pandas in a future version. Use pandas.concat instead.\n",
      "  train_df = train_df.append(nan_df)\n",
      "C:\\Users\\Max\\AppData\\Local\\Temp\\ipykernel_11440\\2216344822.py:15: FutureWarning: The frame.append method is deprecated and will be removed from pandas in a future version. Use pandas.concat instead.\n",
      "  known_data = known_data.append(last_row)\n",
      "C:\\Users\\Max\\AppData\\Local\\Temp\\ipykernel_11440\\2216344822.py:7: FutureWarning: The frame.append method is deprecated and will be removed from pandas in a future version. Use pandas.concat instead.\n",
      "  train_df = train_df.append(nan_df)\n",
      "C:\\Users\\Max\\AppData\\Local\\Temp\\ipykernel_11440\\2216344822.py:15: FutureWarning: The frame.append method is deprecated and will be removed from pandas in a future version. Use pandas.concat instead.\n",
      "  known_data = known_data.append(last_row)\n",
      "C:\\Users\\Max\\AppData\\Local\\Temp\\ipykernel_11440\\2216344822.py:7: FutureWarning: The frame.append method is deprecated and will be removed from pandas in a future version. Use pandas.concat instead.\n",
      "  train_df = train_df.append(nan_df)\n",
      "C:\\Users\\Max\\AppData\\Local\\Temp\\ipykernel_11440\\2216344822.py:15: FutureWarning: The frame.append method is deprecated and will be removed from pandas in a future version. Use pandas.concat instead.\n",
      "  known_data = known_data.append(last_row)\n",
      "C:\\Users\\Max\\AppData\\Local\\Temp\\ipykernel_11440\\2216344822.py:7: FutureWarning: The frame.append method is deprecated and will be removed from pandas in a future version. Use pandas.concat instead.\n",
      "  train_df = train_df.append(nan_df)\n",
      "C:\\Users\\Max\\AppData\\Local\\Temp\\ipykernel_11440\\2216344822.py:15: FutureWarning: The frame.append method is deprecated and will be removed from pandas in a future version. Use pandas.concat instead.\n",
      "  known_data = known_data.append(last_row)\n",
      "C:\\Users\\Max\\AppData\\Local\\Temp\\ipykernel_11440\\2216344822.py:7: FutureWarning: The frame.append method is deprecated and will be removed from pandas in a future version. Use pandas.concat instead.\n",
      "  train_df = train_df.append(nan_df)\n",
      "C:\\Users\\Max\\AppData\\Local\\Temp\\ipykernel_11440\\2216344822.py:15: FutureWarning: The frame.append method is deprecated and will be removed from pandas in a future version. Use pandas.concat instead.\n",
      "  known_data = known_data.append(last_row)\n",
      "C:\\Users\\Max\\AppData\\Local\\Temp\\ipykernel_11440\\2216344822.py:7: FutureWarning: The frame.append method is deprecated and will be removed from pandas in a future version. Use pandas.concat instead.\n",
      "  train_df = train_df.append(nan_df)\n",
      "C:\\Users\\Max\\AppData\\Local\\Temp\\ipykernel_11440\\2216344822.py:15: FutureWarning: The frame.append method is deprecated and will be removed from pandas in a future version. Use pandas.concat instead.\n",
      "  known_data = known_data.append(last_row)\n",
      "C:\\Users\\Max\\AppData\\Local\\Temp\\ipykernel_11440\\2216344822.py:7: FutureWarning: The frame.append method is deprecated and will be removed from pandas in a future version. Use pandas.concat instead.\n",
      "  train_df = train_df.append(nan_df)\n",
      "C:\\Users\\Max\\AppData\\Local\\Temp\\ipykernel_11440\\2216344822.py:15: FutureWarning: The frame.append method is deprecated and will be removed from pandas in a future version. Use pandas.concat instead.\n",
      "  known_data = known_data.append(last_row)\n",
      "C:\\Users\\Max\\AppData\\Local\\Temp\\ipykernel_11440\\2216344822.py:7: FutureWarning: The frame.append method is deprecated and will be removed from pandas in a future version. Use pandas.concat instead.\n",
      "  train_df = train_df.append(nan_df)\n",
      "C:\\Users\\Max\\AppData\\Local\\Temp\\ipykernel_11440\\2216344822.py:15: FutureWarning: The frame.append method is deprecated and will be removed from pandas in a future version. Use pandas.concat instead.\n",
      "  known_data = known_data.append(last_row)\n",
      "C:\\Users\\Max\\AppData\\Local\\Temp\\ipykernel_11440\\2216344822.py:7: FutureWarning: The frame.append method is deprecated and will be removed from pandas in a future version. Use pandas.concat instead.\n",
      "  train_df = train_df.append(nan_df)\n",
      "C:\\Users\\Max\\AppData\\Local\\Temp\\ipykernel_11440\\2216344822.py:15: FutureWarning: The frame.append method is deprecated and will be removed from pandas in a future version. Use pandas.concat instead.\n",
      "  known_data = known_data.append(last_row)\n",
      "C:\\Users\\Max\\AppData\\Local\\Temp\\ipykernel_11440\\2216344822.py:7: FutureWarning: The frame.append method is deprecated and will be removed from pandas in a future version. Use pandas.concat instead.\n",
      "  train_df = train_df.append(nan_df)\n",
      "C:\\Users\\Max\\AppData\\Local\\Temp\\ipykernel_11440\\2216344822.py:15: FutureWarning: The frame.append method is deprecated and will be removed from pandas in a future version. Use pandas.concat instead.\n",
      "  known_data = known_data.append(last_row)\n",
      "C:\\Users\\Max\\AppData\\Local\\Temp\\ipykernel_11440\\2216344822.py:7: FutureWarning: The frame.append method is deprecated and will be removed from pandas in a future version. Use pandas.concat instead.\n",
      "  train_df = train_df.append(nan_df)\n",
      "C:\\Users\\Max\\AppData\\Local\\Temp\\ipykernel_11440\\2216344822.py:15: FutureWarning: The frame.append method is deprecated and will be removed from pandas in a future version. Use pandas.concat instead.\n",
      "  known_data = known_data.append(last_row)\n",
      "C:\\Users\\Max\\AppData\\Local\\Temp\\ipykernel_11440\\2216344822.py:7: FutureWarning: The frame.append method is deprecated and will be removed from pandas in a future version. Use pandas.concat instead.\n",
      "  train_df = train_df.append(nan_df)\n",
      "C:\\Users\\Max\\AppData\\Local\\Temp\\ipykernel_11440\\2216344822.py:15: FutureWarning: The frame.append method is deprecated and will be removed from pandas in a future version. Use pandas.concat instead.\n",
      "  known_data = known_data.append(last_row)\n",
      "C:\\Users\\Max\\AppData\\Local\\Temp\\ipykernel_11440\\2216344822.py:7: FutureWarning: The frame.append method is deprecated and will be removed from pandas in a future version. Use pandas.concat instead.\n",
      "  train_df = train_df.append(nan_df)\n",
      "C:\\Users\\Max\\AppData\\Local\\Temp\\ipykernel_11440\\2216344822.py:15: FutureWarning: The frame.append method is deprecated and will be removed from pandas in a future version. Use pandas.concat instead.\n",
      "  known_data = known_data.append(last_row)\n",
      "C:\\Users\\Max\\AppData\\Local\\Temp\\ipykernel_11440\\2216344822.py:7: FutureWarning: The frame.append method is deprecated and will be removed from pandas in a future version. Use pandas.concat instead.\n",
      "  train_df = train_df.append(nan_df)\n",
      "C:\\Users\\Max\\AppData\\Local\\Temp\\ipykernel_11440\\2216344822.py:15: FutureWarning: The frame.append method is deprecated and will be removed from pandas in a future version. Use pandas.concat instead.\n",
      "  known_data = known_data.append(last_row)\n",
      "C:\\Users\\Max\\AppData\\Local\\Temp\\ipykernel_11440\\2216344822.py:7: FutureWarning: The frame.append method is deprecated and will be removed from pandas in a future version. Use pandas.concat instead.\n",
      "  train_df = train_df.append(nan_df)\n",
      "C:\\Users\\Max\\AppData\\Local\\Temp\\ipykernel_11440\\2216344822.py:15: FutureWarning: The frame.append method is deprecated and will be removed from pandas in a future version. Use pandas.concat instead.\n",
      "  known_data = known_data.append(last_row)\n",
      "C:\\Users\\Max\\AppData\\Local\\Temp\\ipykernel_11440\\2216344822.py:7: FutureWarning: The frame.append method is deprecated and will be removed from pandas in a future version. Use pandas.concat instead.\n",
      "  train_df = train_df.append(nan_df)\n",
      "C:\\Users\\Max\\AppData\\Local\\Temp\\ipykernel_11440\\2216344822.py:15: FutureWarning: The frame.append method is deprecated and will be removed from pandas in a future version. Use pandas.concat instead.\n",
      "  known_data = known_data.append(last_row)\n",
      "C:\\Users\\Max\\AppData\\Local\\Temp\\ipykernel_11440\\2216344822.py:7: FutureWarning: The frame.append method is deprecated and will be removed from pandas in a future version. Use pandas.concat instead.\n",
      "  train_df = train_df.append(nan_df)\n",
      "C:\\Users\\Max\\AppData\\Local\\Temp\\ipykernel_11440\\2216344822.py:15: FutureWarning: The frame.append method is deprecated and will be removed from pandas in a future version. Use pandas.concat instead.\n",
      "  known_data = known_data.append(last_row)\n",
      "C:\\Users\\Max\\AppData\\Local\\Temp\\ipykernel_11440\\2216344822.py:7: FutureWarning: The frame.append method is deprecated and will be removed from pandas in a future version. Use pandas.concat instead.\n",
      "  train_df = train_df.append(nan_df)\n",
      "C:\\Users\\Max\\AppData\\Local\\Temp\\ipykernel_11440\\2216344822.py:15: FutureWarning: The frame.append method is deprecated and will be removed from pandas in a future version. Use pandas.concat instead.\n",
      "  known_data = known_data.append(last_row)\n",
      "C:\\Users\\Max\\AppData\\Local\\Temp\\ipykernel_11440\\2216344822.py:7: FutureWarning: The frame.append method is deprecated and will be removed from pandas in a future version. Use pandas.concat instead.\n",
      "  train_df = train_df.append(nan_df)\n",
      "C:\\Users\\Max\\AppData\\Local\\Temp\\ipykernel_11440\\2216344822.py:15: FutureWarning: The frame.append method is deprecated and will be removed from pandas in a future version. Use pandas.concat instead.\n",
      "  known_data = known_data.append(last_row)\n",
      "C:\\Users\\Max\\AppData\\Local\\Temp\\ipykernel_11440\\2216344822.py:7: FutureWarning: The frame.append method is deprecated and will be removed from pandas in a future version. Use pandas.concat instead.\n",
      "  train_df = train_df.append(nan_df)\n",
      "C:\\Users\\Max\\AppData\\Local\\Temp\\ipykernel_11440\\2216344822.py:15: FutureWarning: The frame.append method is deprecated and will be removed from pandas in a future version. Use pandas.concat instead.\n",
      "  known_data = known_data.append(last_row)\n",
      "C:\\Users\\Max\\AppData\\Local\\Temp\\ipykernel_11440\\2216344822.py:7: FutureWarning: The frame.append method is deprecated and will be removed from pandas in a future version. Use pandas.concat instead.\n",
      "  train_df = train_df.append(nan_df)\n",
      "C:\\Users\\Max\\AppData\\Local\\Temp\\ipykernel_11440\\2216344822.py:15: FutureWarning: The frame.append method is deprecated and will be removed from pandas in a future version. Use pandas.concat instead.\n",
      "  known_data = known_data.append(last_row)\n",
      "C:\\Users\\Max\\AppData\\Local\\Temp\\ipykernel_11440\\2216344822.py:7: FutureWarning: The frame.append method is deprecated and will be removed from pandas in a future version. Use pandas.concat instead.\n",
      "  train_df = train_df.append(nan_df)\n",
      "C:\\Users\\Max\\AppData\\Local\\Temp\\ipykernel_11440\\2216344822.py:15: FutureWarning: The frame.append method is deprecated and will be removed from pandas in a future version. Use pandas.concat instead.\n",
      "  known_data = known_data.append(last_row)\n",
      "C:\\Users\\Max\\AppData\\Local\\Temp\\ipykernel_11440\\2216344822.py:7: FutureWarning: The frame.append method is deprecated and will be removed from pandas in a future version. Use pandas.concat instead.\n",
      "  train_df = train_df.append(nan_df)\n",
      "C:\\Users\\Max\\AppData\\Local\\Temp\\ipykernel_11440\\2216344822.py:15: FutureWarning: The frame.append method is deprecated and will be removed from pandas in a future version. Use pandas.concat instead.\n",
      "  known_data = known_data.append(last_row)\n",
      "C:\\Users\\Max\\AppData\\Local\\Temp\\ipykernel_11440\\2216344822.py:7: FutureWarning: The frame.append method is deprecated and will be removed from pandas in a future version. Use pandas.concat instead.\n",
      "  train_df = train_df.append(nan_df)\n",
      "C:\\Users\\Max\\AppData\\Local\\Temp\\ipykernel_11440\\2216344822.py:15: FutureWarning: The frame.append method is deprecated and will be removed from pandas in a future version. Use pandas.concat instead.\n",
      "  known_data = known_data.append(last_row)\n",
      "C:\\Users\\Max\\AppData\\Local\\Temp\\ipykernel_11440\\2216344822.py:7: FutureWarning: The frame.append method is deprecated and will be removed from pandas in a future version. Use pandas.concat instead.\n",
      "  train_df = train_df.append(nan_df)\n",
      "C:\\Users\\Max\\AppData\\Local\\Temp\\ipykernel_11440\\2216344822.py:15: FutureWarning: The frame.append method is deprecated and will be removed from pandas in a future version. Use pandas.concat instead.\n",
      "  known_data = known_data.append(last_row)\n",
      "C:\\Users\\Max\\AppData\\Local\\Temp\\ipykernel_11440\\2216344822.py:7: FutureWarning: The frame.append method is deprecated and will be removed from pandas in a future version. Use pandas.concat instead.\n",
      "  train_df = train_df.append(nan_df)\n",
      "C:\\Users\\Max\\AppData\\Local\\Temp\\ipykernel_11440\\2216344822.py:15: FutureWarning: The frame.append method is deprecated and will be removed from pandas in a future version. Use pandas.concat instead.\n",
      "  known_data = known_data.append(last_row)\n",
      "C:\\Users\\Max\\AppData\\Local\\Temp\\ipykernel_11440\\2216344822.py:7: FutureWarning: The frame.append method is deprecated and will be removed from pandas in a future version. Use pandas.concat instead.\n",
      "  train_df = train_df.append(nan_df)\n",
      "C:\\Users\\Max\\AppData\\Local\\Temp\\ipykernel_11440\\2216344822.py:15: FutureWarning: The frame.append method is deprecated and will be removed from pandas in a future version. Use pandas.concat instead.\n",
      "  known_data = known_data.append(last_row)\n",
      "C:\\Users\\Max\\AppData\\Local\\Temp\\ipykernel_11440\\2216344822.py:7: FutureWarning: The frame.append method is deprecated and will be removed from pandas in a future version. Use pandas.concat instead.\n",
      "  train_df = train_df.append(nan_df)\n",
      "C:\\Users\\Max\\AppData\\Local\\Temp\\ipykernel_11440\\2216344822.py:15: FutureWarning: The frame.append method is deprecated and will be removed from pandas in a future version. Use pandas.concat instead.\n",
      "  known_data = known_data.append(last_row)\n",
      "C:\\Users\\Max\\AppData\\Local\\Temp\\ipykernel_11440\\2216344822.py:7: FutureWarning: The frame.append method is deprecated and will be removed from pandas in a future version. Use pandas.concat instead.\n",
      "  train_df = train_df.append(nan_df)\n",
      "C:\\Users\\Max\\AppData\\Local\\Temp\\ipykernel_11440\\2216344822.py:15: FutureWarning: The frame.append method is deprecated and will be removed from pandas in a future version. Use pandas.concat instead.\n",
      "  known_data = known_data.append(last_row)\n",
      "C:\\Users\\Max\\AppData\\Local\\Temp\\ipykernel_11440\\2216344822.py:7: FutureWarning: The frame.append method is deprecated and will be removed from pandas in a future version. Use pandas.concat instead.\n",
      "  train_df = train_df.append(nan_df)\n",
      "C:\\Users\\Max\\AppData\\Local\\Temp\\ipykernel_11440\\2216344822.py:15: FutureWarning: The frame.append method is deprecated and will be removed from pandas in a future version. Use pandas.concat instead.\n",
      "  known_data = known_data.append(last_row)\n",
      "C:\\Users\\Max\\AppData\\Local\\Temp\\ipykernel_11440\\2216344822.py:7: FutureWarning: The frame.append method is deprecated and will be removed from pandas in a future version. Use pandas.concat instead.\n",
      "  train_df = train_df.append(nan_df)\n",
      "C:\\Users\\Max\\AppData\\Local\\Temp\\ipykernel_11440\\2216344822.py:15: FutureWarning: The frame.append method is deprecated and will be removed from pandas in a future version. Use pandas.concat instead.\n",
      "  known_data = known_data.append(last_row)\n",
      "C:\\Users\\Max\\AppData\\Local\\Temp\\ipykernel_11440\\2216344822.py:7: FutureWarning: The frame.append method is deprecated and will be removed from pandas in a future version. Use pandas.concat instead.\n",
      "  train_df = train_df.append(nan_df)\n",
      "C:\\Users\\Max\\AppData\\Local\\Temp\\ipykernel_11440\\2216344822.py:15: FutureWarning: The frame.append method is deprecated and will be removed from pandas in a future version. Use pandas.concat instead.\n",
      "  known_data = known_data.append(last_row)\n",
      "C:\\Users\\Max\\AppData\\Local\\Temp\\ipykernel_11440\\2216344822.py:7: FutureWarning: The frame.append method is deprecated and will be removed from pandas in a future version. Use pandas.concat instead.\n",
      "  train_df = train_df.append(nan_df)\n",
      "C:\\Users\\Max\\AppData\\Local\\Temp\\ipykernel_11440\\2216344822.py:15: FutureWarning: The frame.append method is deprecated and will be removed from pandas in a future version. Use pandas.concat instead.\n",
      "  known_data = known_data.append(last_row)\n",
      "C:\\Users\\Max\\AppData\\Local\\Temp\\ipykernel_11440\\2216344822.py:7: FutureWarning: The frame.append method is deprecated and will be removed from pandas in a future version. Use pandas.concat instead.\n",
      "  train_df = train_df.append(nan_df)\n",
      "C:\\Users\\Max\\AppData\\Local\\Temp\\ipykernel_11440\\2216344822.py:15: FutureWarning: The frame.append method is deprecated and will be removed from pandas in a future version. Use pandas.concat instead.\n",
      "  known_data = known_data.append(last_row)\n",
      "C:\\Users\\Max\\AppData\\Local\\Temp\\ipykernel_11440\\2216344822.py:7: FutureWarning: The frame.append method is deprecated and will be removed from pandas in a future version. Use pandas.concat instead.\n",
      "  train_df = train_df.append(nan_df)\n",
      "C:\\Users\\Max\\AppData\\Local\\Temp\\ipykernel_11440\\2216344822.py:15: FutureWarning: The frame.append method is deprecated and will be removed from pandas in a future version. Use pandas.concat instead.\n",
      "  known_data = known_data.append(last_row)\n",
      "C:\\Users\\Max\\AppData\\Local\\Temp\\ipykernel_11440\\2216344822.py:7: FutureWarning: The frame.append method is deprecated and will be removed from pandas in a future version. Use pandas.concat instead.\n",
      "  train_df = train_df.append(nan_df)\n",
      "C:\\Users\\Max\\AppData\\Local\\Temp\\ipykernel_11440\\2216344822.py:15: FutureWarning: The frame.append method is deprecated and will be removed from pandas in a future version. Use pandas.concat instead.\n",
      "  known_data = known_data.append(last_row)\n",
      "C:\\Users\\Max\\AppData\\Local\\Temp\\ipykernel_11440\\2216344822.py:7: FutureWarning: The frame.append method is deprecated and will be removed from pandas in a future version. Use pandas.concat instead.\n",
      "  train_df = train_df.append(nan_df)\n",
      "C:\\Users\\Max\\AppData\\Local\\Temp\\ipykernel_11440\\2216344822.py:15: FutureWarning: The frame.append method is deprecated and will be removed from pandas in a future version. Use pandas.concat instead.\n",
      "  known_data = known_data.append(last_row)\n",
      "C:\\Users\\Max\\AppData\\Local\\Temp\\ipykernel_11440\\2216344822.py:7: FutureWarning: The frame.append method is deprecated and will be removed from pandas in a future version. Use pandas.concat instead.\n",
      "  train_df = train_df.append(nan_df)\n",
      "C:\\Users\\Max\\AppData\\Local\\Temp\\ipykernel_11440\\2216344822.py:15: FutureWarning: The frame.append method is deprecated and will be removed from pandas in a future version. Use pandas.concat instead.\n",
      "  known_data = known_data.append(last_row)\n",
      "C:\\Users\\Max\\AppData\\Local\\Temp\\ipykernel_11440\\2216344822.py:7: FutureWarning: The frame.append method is deprecated and will be removed from pandas in a future version. Use pandas.concat instead.\n",
      "  train_df = train_df.append(nan_df)\n",
      "C:\\Users\\Max\\AppData\\Local\\Temp\\ipykernel_11440\\2216344822.py:15: FutureWarning: The frame.append method is deprecated and will be removed from pandas in a future version. Use pandas.concat instead.\n",
      "  known_data = known_data.append(last_row)\n",
      "C:\\Users\\Max\\AppData\\Local\\Temp\\ipykernel_11440\\2216344822.py:7: FutureWarning: The frame.append method is deprecated and will be removed from pandas in a future version. Use pandas.concat instead.\n",
      "  train_df = train_df.append(nan_df)\n",
      "C:\\Users\\Max\\AppData\\Local\\Temp\\ipykernel_11440\\2216344822.py:15: FutureWarning: The frame.append method is deprecated and will be removed from pandas in a future version. Use pandas.concat instead.\n",
      "  known_data = known_data.append(last_row)\n",
      "C:\\Users\\Max\\AppData\\Local\\Temp\\ipykernel_11440\\2216344822.py:7: FutureWarning: The frame.append method is deprecated and will be removed from pandas in a future version. Use pandas.concat instead.\n",
      "  train_df = train_df.append(nan_df)\n",
      "C:\\Users\\Max\\AppData\\Local\\Temp\\ipykernel_11440\\2216344822.py:15: FutureWarning: The frame.append method is deprecated and will be removed from pandas in a future version. Use pandas.concat instead.\n",
      "  known_data = known_data.append(last_row)\n",
      "C:\\Users\\Max\\AppData\\Local\\Temp\\ipykernel_11440\\2216344822.py:7: FutureWarning: The frame.append method is deprecated and will be removed from pandas in a future version. Use pandas.concat instead.\n",
      "  train_df = train_df.append(nan_df)\n",
      "C:\\Users\\Max\\AppData\\Local\\Temp\\ipykernel_11440\\2216344822.py:15: FutureWarning: The frame.append method is deprecated and will be removed from pandas in a future version. Use pandas.concat instead.\n",
      "  known_data = known_data.append(last_row)\n",
      "C:\\Users\\Max\\AppData\\Local\\Temp\\ipykernel_11440\\2216344822.py:7: FutureWarning: The frame.append method is deprecated and will be removed from pandas in a future version. Use pandas.concat instead.\n",
      "  train_df = train_df.append(nan_df)\n",
      "C:\\Users\\Max\\AppData\\Local\\Temp\\ipykernel_11440\\2216344822.py:15: FutureWarning: The frame.append method is deprecated and will be removed from pandas in a future version. Use pandas.concat instead.\n",
      "  known_data = known_data.append(last_row)\n",
      "C:\\Users\\Max\\AppData\\Local\\Temp\\ipykernel_11440\\2216344822.py:7: FutureWarning: The frame.append method is deprecated and will be removed from pandas in a future version. Use pandas.concat instead.\n",
      "  train_df = train_df.append(nan_df)\n",
      "C:\\Users\\Max\\AppData\\Local\\Temp\\ipykernel_11440\\2216344822.py:15: FutureWarning: The frame.append method is deprecated and will be removed from pandas in a future version. Use pandas.concat instead.\n",
      "  known_data = known_data.append(last_row)\n",
      "C:\\Users\\Max\\AppData\\Local\\Temp\\ipykernel_11440\\2216344822.py:7: FutureWarning: The frame.append method is deprecated and will be removed from pandas in a future version. Use pandas.concat instead.\n",
      "  train_df = train_df.append(nan_df)\n",
      "C:\\Users\\Max\\AppData\\Local\\Temp\\ipykernel_11440\\2216344822.py:15: FutureWarning: The frame.append method is deprecated and will be removed from pandas in a future version. Use pandas.concat instead.\n",
      "  known_data = known_data.append(last_row)\n",
      "C:\\Users\\Max\\AppData\\Local\\Temp\\ipykernel_11440\\2216344822.py:7: FutureWarning: The frame.append method is deprecated and will be removed from pandas in a future version. Use pandas.concat instead.\n",
      "  train_df = train_df.append(nan_df)\n",
      "C:\\Users\\Max\\AppData\\Local\\Temp\\ipykernel_11440\\2216344822.py:15: FutureWarning: The frame.append method is deprecated and will be removed from pandas in a future version. Use pandas.concat instead.\n",
      "  known_data = known_data.append(last_row)\n",
      "C:\\Users\\Max\\AppData\\Local\\Temp\\ipykernel_11440\\2216344822.py:7: FutureWarning: The frame.append method is deprecated and will be removed from pandas in a future version. Use pandas.concat instead.\n",
      "  train_df = train_df.append(nan_df)\n",
      "C:\\Users\\Max\\AppData\\Local\\Temp\\ipykernel_11440\\2216344822.py:15: FutureWarning: The frame.append method is deprecated and will be removed from pandas in a future version. Use pandas.concat instead.\n",
      "  known_data = known_data.append(last_row)\n",
      "C:\\Users\\Max\\AppData\\Local\\Temp\\ipykernel_11440\\2216344822.py:7: FutureWarning: The frame.append method is deprecated and will be removed from pandas in a future version. Use pandas.concat instead.\n",
      "  train_df = train_df.append(nan_df)\n",
      "C:\\Users\\Max\\AppData\\Local\\Temp\\ipykernel_11440\\2216344822.py:15: FutureWarning: The frame.append method is deprecated and will be removed from pandas in a future version. Use pandas.concat instead.\n",
      "  known_data = known_data.append(last_row)\n",
      "C:\\Users\\Max\\AppData\\Local\\Temp\\ipykernel_11440\\2216344822.py:7: FutureWarning: The frame.append method is deprecated and will be removed from pandas in a future version. Use pandas.concat instead.\n",
      "  train_df = train_df.append(nan_df)\n",
      "C:\\Users\\Max\\AppData\\Local\\Temp\\ipykernel_11440\\2216344822.py:15: FutureWarning: The frame.append method is deprecated and will be removed from pandas in a future version. Use pandas.concat instead.\n",
      "  known_data = known_data.append(last_row)\n",
      "C:\\Users\\Max\\AppData\\Local\\Temp\\ipykernel_11440\\2216344822.py:7: FutureWarning: The frame.append method is deprecated and will be removed from pandas in a future version. Use pandas.concat instead.\n",
      "  train_df = train_df.append(nan_df)\n",
      "C:\\Users\\Max\\AppData\\Local\\Temp\\ipykernel_11440\\2216344822.py:15: FutureWarning: The frame.append method is deprecated and will be removed from pandas in a future version. Use pandas.concat instead.\n",
      "  known_data = known_data.append(last_row)\n",
      "C:\\Users\\Max\\AppData\\Local\\Temp\\ipykernel_11440\\2216344822.py:7: FutureWarning: The frame.append method is deprecated and will be removed from pandas in a future version. Use pandas.concat instead.\n",
      "  train_df = train_df.append(nan_df)\n",
      "C:\\Users\\Max\\AppData\\Local\\Temp\\ipykernel_11440\\2216344822.py:15: FutureWarning: The frame.append method is deprecated and will be removed from pandas in a future version. Use pandas.concat instead.\n",
      "  known_data = known_data.append(last_row)\n",
      "C:\\Users\\Max\\AppData\\Local\\Temp\\ipykernel_11440\\2216344822.py:7: FutureWarning: The frame.append method is deprecated and will be removed from pandas in a future version. Use pandas.concat instead.\n",
      "  train_df = train_df.append(nan_df)\n",
      "C:\\Users\\Max\\AppData\\Local\\Temp\\ipykernel_11440\\2216344822.py:15: FutureWarning: The frame.append method is deprecated and will be removed from pandas in a future version. Use pandas.concat instead.\n",
      "  known_data = known_data.append(last_row)\n",
      "C:\\Users\\Max\\AppData\\Local\\Temp\\ipykernel_11440\\2216344822.py:7: FutureWarning: The frame.append method is deprecated and will be removed from pandas in a future version. Use pandas.concat instead.\n",
      "  train_df = train_df.append(nan_df)\n",
      "C:\\Users\\Max\\AppData\\Local\\Temp\\ipykernel_11440\\2216344822.py:15: FutureWarning: The frame.append method is deprecated and will be removed from pandas in a future version. Use pandas.concat instead.\n",
      "  known_data = known_data.append(last_row)\n",
      "C:\\Users\\Max\\AppData\\Local\\Temp\\ipykernel_11440\\2216344822.py:7: FutureWarning: The frame.append method is deprecated and will be removed from pandas in a future version. Use pandas.concat instead.\n",
      "  train_df = train_df.append(nan_df)\n",
      "C:\\Users\\Max\\AppData\\Local\\Temp\\ipykernel_11440\\2216344822.py:15: FutureWarning: The frame.append method is deprecated and will be removed from pandas in a future version. Use pandas.concat instead.\n",
      "  known_data = known_data.append(last_row)\n",
      "C:\\Users\\Max\\AppData\\Local\\Temp\\ipykernel_11440\\2216344822.py:7: FutureWarning: The frame.append method is deprecated and will be removed from pandas in a future version. Use pandas.concat instead.\n",
      "  train_df = train_df.append(nan_df)\n",
      "C:\\Users\\Max\\AppData\\Local\\Temp\\ipykernel_11440\\2216344822.py:15: FutureWarning: The frame.append method is deprecated and will be removed from pandas in a future version. Use pandas.concat instead.\n",
      "  known_data = known_data.append(last_row)\n",
      "C:\\Users\\Max\\AppData\\Local\\Temp\\ipykernel_11440\\2216344822.py:7: FutureWarning: The frame.append method is deprecated and will be removed from pandas in a future version. Use pandas.concat instead.\n",
      "  train_df = train_df.append(nan_df)\n",
      "C:\\Users\\Max\\AppData\\Local\\Temp\\ipykernel_11440\\2216344822.py:15: FutureWarning: The frame.append method is deprecated and will be removed from pandas in a future version. Use pandas.concat instead.\n",
      "  known_data = known_data.append(last_row)\n",
      "C:\\Users\\Max\\AppData\\Local\\Temp\\ipykernel_11440\\2216344822.py:7: FutureWarning: The frame.append method is deprecated and will be removed from pandas in a future version. Use pandas.concat instead.\n",
      "  train_df = train_df.append(nan_df)\n",
      "C:\\Users\\Max\\AppData\\Local\\Temp\\ipykernel_11440\\2216344822.py:15: FutureWarning: The frame.append method is deprecated and will be removed from pandas in a future version. Use pandas.concat instead.\n",
      "  known_data = known_data.append(last_row)\n",
      "C:\\Users\\Max\\AppData\\Local\\Temp\\ipykernel_11440\\2216344822.py:7: FutureWarning: The frame.append method is deprecated and will be removed from pandas in a future version. Use pandas.concat instead.\n",
      "  train_df = train_df.append(nan_df)\n",
      "C:\\Users\\Max\\AppData\\Local\\Temp\\ipykernel_11440\\2216344822.py:15: FutureWarning: The frame.append method is deprecated and will be removed from pandas in a future version. Use pandas.concat instead.\n",
      "  known_data = known_data.append(last_row)\n",
      "C:\\Users\\Max\\AppData\\Local\\Temp\\ipykernel_11440\\2216344822.py:7: FutureWarning: The frame.append method is deprecated and will be removed from pandas in a future version. Use pandas.concat instead.\n",
      "  train_df = train_df.append(nan_df)\n",
      "C:\\Users\\Max\\AppData\\Local\\Temp\\ipykernel_11440\\2216344822.py:15: FutureWarning: The frame.append method is deprecated and will be removed from pandas in a future version. Use pandas.concat instead.\n",
      "  known_data = known_data.append(last_row)\n",
      "C:\\Users\\Max\\AppData\\Local\\Temp\\ipykernel_11440\\2216344822.py:7: FutureWarning: The frame.append method is deprecated and will be removed from pandas in a future version. Use pandas.concat instead.\n",
      "  train_df = train_df.append(nan_df)\n",
      "C:\\Users\\Max\\AppData\\Local\\Temp\\ipykernel_11440\\2216344822.py:15: FutureWarning: The frame.append method is deprecated and will be removed from pandas in a future version. Use pandas.concat instead.\n",
      "  known_data = known_data.append(last_row)\n",
      "C:\\Users\\Max\\AppData\\Local\\Temp\\ipykernel_11440\\2216344822.py:7: FutureWarning: The frame.append method is deprecated and will be removed from pandas in a future version. Use pandas.concat instead.\n",
      "  train_df = train_df.append(nan_df)\n",
      "C:\\Users\\Max\\AppData\\Local\\Temp\\ipykernel_11440\\2216344822.py:15: FutureWarning: The frame.append method is deprecated and will be removed from pandas in a future version. Use pandas.concat instead.\n",
      "  known_data = known_data.append(last_row)\n",
      "C:\\Users\\Max\\AppData\\Local\\Temp\\ipykernel_11440\\2216344822.py:7: FutureWarning: The frame.append method is deprecated and will be removed from pandas in a future version. Use pandas.concat instead.\n",
      "  train_df = train_df.append(nan_df)\n",
      "C:\\Users\\Max\\AppData\\Local\\Temp\\ipykernel_11440\\2216344822.py:15: FutureWarning: The frame.append method is deprecated and will be removed from pandas in a future version. Use pandas.concat instead.\n",
      "  known_data = known_data.append(last_row)\n",
      "C:\\Users\\Max\\AppData\\Local\\Temp\\ipykernel_11440\\2216344822.py:7: FutureWarning: The frame.append method is deprecated and will be removed from pandas in a future version. Use pandas.concat instead.\n",
      "  train_df = train_df.append(nan_df)\n",
      "C:\\Users\\Max\\AppData\\Local\\Temp\\ipykernel_11440\\2216344822.py:15: FutureWarning: The frame.append method is deprecated and will be removed from pandas in a future version. Use pandas.concat instead.\n",
      "  known_data = known_data.append(last_row)\n",
      "C:\\Users\\Max\\AppData\\Local\\Temp\\ipykernel_11440\\2216344822.py:7: FutureWarning: The frame.append method is deprecated and will be removed from pandas in a future version. Use pandas.concat instead.\n",
      "  train_df = train_df.append(nan_df)\n",
      "C:\\Users\\Max\\AppData\\Local\\Temp\\ipykernel_11440\\2216344822.py:15: FutureWarning: The frame.append method is deprecated and will be removed from pandas in a future version. Use pandas.concat instead.\n",
      "  known_data = known_data.append(last_row)\n",
      "C:\\Users\\Max\\AppData\\Local\\Temp\\ipykernel_11440\\2216344822.py:7: FutureWarning: The frame.append method is deprecated and will be removed from pandas in a future version. Use pandas.concat instead.\n",
      "  train_df = train_df.append(nan_df)\n",
      "C:\\Users\\Max\\AppData\\Local\\Temp\\ipykernel_11440\\2216344822.py:15: FutureWarning: The frame.append method is deprecated and will be removed from pandas in a future version. Use pandas.concat instead.\n",
      "  known_data = known_data.append(last_row)\n",
      "C:\\Users\\Max\\AppData\\Local\\Temp\\ipykernel_11440\\2216344822.py:7: FutureWarning: The frame.append method is deprecated and will be removed from pandas in a future version. Use pandas.concat instead.\n",
      "  train_df = train_df.append(nan_df)\n",
      "C:\\Users\\Max\\AppData\\Local\\Temp\\ipykernel_11440\\2216344822.py:15: FutureWarning: The frame.append method is deprecated and will be removed from pandas in a future version. Use pandas.concat instead.\n",
      "  known_data = known_data.append(last_row)\n",
      "C:\\Users\\Max\\AppData\\Local\\Temp\\ipykernel_11440\\2216344822.py:7: FutureWarning: The frame.append method is deprecated and will be removed from pandas in a future version. Use pandas.concat instead.\n",
      "  train_df = train_df.append(nan_df)\n",
      "C:\\Users\\Max\\AppData\\Local\\Temp\\ipykernel_11440\\2216344822.py:15: FutureWarning: The frame.append method is deprecated and will be removed from pandas in a future version. Use pandas.concat instead.\n",
      "  known_data = known_data.append(last_row)\n",
      "C:\\Users\\Max\\AppData\\Local\\Temp\\ipykernel_11440\\2216344822.py:7: FutureWarning: The frame.append method is deprecated and will be removed from pandas in a future version. Use pandas.concat instead.\n",
      "  train_df = train_df.append(nan_df)\n",
      "C:\\Users\\Max\\AppData\\Local\\Temp\\ipykernel_11440\\2216344822.py:15: FutureWarning: The frame.append method is deprecated and will be removed from pandas in a future version. Use pandas.concat instead.\n",
      "  known_data = known_data.append(last_row)\n",
      "C:\\Users\\Max\\AppData\\Local\\Temp\\ipykernel_11440\\2216344822.py:7: FutureWarning: The frame.append method is deprecated and will be removed from pandas in a future version. Use pandas.concat instead.\n",
      "  train_df = train_df.append(nan_df)\n",
      "C:\\Users\\Max\\AppData\\Local\\Temp\\ipykernel_11440\\2216344822.py:15: FutureWarning: The frame.append method is deprecated and will be removed from pandas in a future version. Use pandas.concat instead.\n",
      "  known_data = known_data.append(last_row)\n",
      "C:\\Users\\Max\\AppData\\Local\\Temp\\ipykernel_11440\\2216344822.py:7: FutureWarning: The frame.append method is deprecated and will be removed from pandas in a future version. Use pandas.concat instead.\n",
      "  train_df = train_df.append(nan_df)\n",
      "C:\\Users\\Max\\AppData\\Local\\Temp\\ipykernel_11440\\2216344822.py:15: FutureWarning: The frame.append method is deprecated and will be removed from pandas in a future version. Use pandas.concat instead.\n",
      "  known_data = known_data.append(last_row)\n",
      "C:\\Users\\Max\\AppData\\Local\\Temp\\ipykernel_11440\\2216344822.py:7: FutureWarning: The frame.append method is deprecated and will be removed from pandas in a future version. Use pandas.concat instead.\n",
      "  train_df = train_df.append(nan_df)\n",
      "C:\\Users\\Max\\AppData\\Local\\Temp\\ipykernel_11440\\2216344822.py:15: FutureWarning: The frame.append method is deprecated and will be removed from pandas in a future version. Use pandas.concat instead.\n",
      "  known_data = known_data.append(last_row)\n",
      "C:\\Users\\Max\\AppData\\Local\\Temp\\ipykernel_11440\\2216344822.py:7: FutureWarning: The frame.append method is deprecated and will be removed from pandas in a future version. Use pandas.concat instead.\n",
      "  train_df = train_df.append(nan_df)\n",
      "C:\\Users\\Max\\AppData\\Local\\Temp\\ipykernel_11440\\2216344822.py:15: FutureWarning: The frame.append method is deprecated and will be removed from pandas in a future version. Use pandas.concat instead.\n",
      "  known_data = known_data.append(last_row)\n",
      "C:\\Users\\Max\\AppData\\Local\\Temp\\ipykernel_11440\\2216344822.py:7: FutureWarning: The frame.append method is deprecated and will be removed from pandas in a future version. Use pandas.concat instead.\n",
      "  train_df = train_df.append(nan_df)\n",
      "C:\\Users\\Max\\AppData\\Local\\Temp\\ipykernel_11440\\2216344822.py:15: FutureWarning: The frame.append method is deprecated and will be removed from pandas in a future version. Use pandas.concat instead.\n",
      "  known_data = known_data.append(last_row)\n",
      "C:\\Users\\Max\\AppData\\Local\\Temp\\ipykernel_11440\\2216344822.py:7: FutureWarning: The frame.append method is deprecated and will be removed from pandas in a future version. Use pandas.concat instead.\n",
      "  train_df = train_df.append(nan_df)\n",
      "C:\\Users\\Max\\AppData\\Local\\Temp\\ipykernel_11440\\2216344822.py:15: FutureWarning: The frame.append method is deprecated and will be removed from pandas in a future version. Use pandas.concat instead.\n",
      "  known_data = known_data.append(last_row)\n",
      "C:\\Users\\Max\\AppData\\Local\\Temp\\ipykernel_11440\\2216344822.py:7: FutureWarning: The frame.append method is deprecated and will be removed from pandas in a future version. Use pandas.concat instead.\n",
      "  train_df = train_df.append(nan_df)\n",
      "C:\\Users\\Max\\AppData\\Local\\Temp\\ipykernel_11440\\2216344822.py:15: FutureWarning: The frame.append method is deprecated and will be removed from pandas in a future version. Use pandas.concat instead.\n",
      "  known_data = known_data.append(last_row)\n",
      "C:\\Users\\Max\\AppData\\Local\\Temp\\ipykernel_11440\\2216344822.py:7: FutureWarning: The frame.append method is deprecated and will be removed from pandas in a future version. Use pandas.concat instead.\n",
      "  train_df = train_df.append(nan_df)\n",
      "C:\\Users\\Max\\AppData\\Local\\Temp\\ipykernel_11440\\2216344822.py:15: FutureWarning: The frame.append method is deprecated and will be removed from pandas in a future version. Use pandas.concat instead.\n",
      "  known_data = known_data.append(last_row)\n",
      "C:\\Users\\Max\\AppData\\Local\\Temp\\ipykernel_11440\\2216344822.py:7: FutureWarning: The frame.append method is deprecated and will be removed from pandas in a future version. Use pandas.concat instead.\n",
      "  train_df = train_df.append(nan_df)\n",
      "C:\\Users\\Max\\AppData\\Local\\Temp\\ipykernel_11440\\2216344822.py:15: FutureWarning: The frame.append method is deprecated and will be removed from pandas in a future version. Use pandas.concat instead.\n",
      "  known_data = known_data.append(last_row)\n",
      "C:\\Users\\Max\\AppData\\Local\\Temp\\ipykernel_11440\\2216344822.py:7: FutureWarning: The frame.append method is deprecated and will be removed from pandas in a future version. Use pandas.concat instead.\n",
      "  train_df = train_df.append(nan_df)\n",
      "C:\\Users\\Max\\AppData\\Local\\Temp\\ipykernel_11440\\2216344822.py:15: FutureWarning: The frame.append method is deprecated and will be removed from pandas in a future version. Use pandas.concat instead.\n",
      "  known_data = known_data.append(last_row)\n",
      "C:\\Users\\Max\\AppData\\Local\\Temp\\ipykernel_11440\\2216344822.py:7: FutureWarning: The frame.append method is deprecated and will be removed from pandas in a future version. Use pandas.concat instead.\n",
      "  train_df = train_df.append(nan_df)\n",
      "C:\\Users\\Max\\AppData\\Local\\Temp\\ipykernel_11440\\2216344822.py:15: FutureWarning: The frame.append method is deprecated and will be removed from pandas in a future version. Use pandas.concat instead.\n",
      "  known_data = known_data.append(last_row)\n",
      "C:\\Users\\Max\\AppData\\Local\\Temp\\ipykernel_11440\\2216344822.py:7: FutureWarning: The frame.append method is deprecated and will be removed from pandas in a future version. Use pandas.concat instead.\n",
      "  train_df = train_df.append(nan_df)\n",
      "C:\\Users\\Max\\AppData\\Local\\Temp\\ipykernel_11440\\2216344822.py:15: FutureWarning: The frame.append method is deprecated and will be removed from pandas in a future version. Use pandas.concat instead.\n",
      "  known_data = known_data.append(last_row)\n",
      "C:\\Users\\Max\\AppData\\Local\\Temp\\ipykernel_11440\\2216344822.py:7: FutureWarning: The frame.append method is deprecated and will be removed from pandas in a future version. Use pandas.concat instead.\n",
      "  train_df = train_df.append(nan_df)\n",
      "C:\\Users\\Max\\AppData\\Local\\Temp\\ipykernel_11440\\2216344822.py:15: FutureWarning: The frame.append method is deprecated and will be removed from pandas in a future version. Use pandas.concat instead.\n",
      "  known_data = known_data.append(last_row)\n",
      "C:\\Users\\Max\\AppData\\Local\\Temp\\ipykernel_11440\\2216344822.py:7: FutureWarning: The frame.append method is deprecated and will be removed from pandas in a future version. Use pandas.concat instead.\n",
      "  train_df = train_df.append(nan_df)\n",
      "C:\\Users\\Max\\AppData\\Local\\Temp\\ipykernel_11440\\2216344822.py:15: FutureWarning: The frame.append method is deprecated and will be removed from pandas in a future version. Use pandas.concat instead.\n",
      "  known_data = known_data.append(last_row)\n",
      "C:\\Users\\Max\\AppData\\Local\\Temp\\ipykernel_11440\\2216344822.py:7: FutureWarning: The frame.append method is deprecated and will be removed from pandas in a future version. Use pandas.concat instead.\n",
      "  train_df = train_df.append(nan_df)\n",
      "C:\\Users\\Max\\AppData\\Local\\Temp\\ipykernel_11440\\2216344822.py:15: FutureWarning: The frame.append method is deprecated and will be removed from pandas in a future version. Use pandas.concat instead.\n",
      "  known_data = known_data.append(last_row)\n",
      "C:\\Users\\Max\\AppData\\Local\\Temp\\ipykernel_11440\\2216344822.py:7: FutureWarning: The frame.append method is deprecated and will be removed from pandas in a future version. Use pandas.concat instead.\n",
      "  train_df = train_df.append(nan_df)\n",
      "C:\\Users\\Max\\AppData\\Local\\Temp\\ipykernel_11440\\2216344822.py:15: FutureWarning: The frame.append method is deprecated and will be removed from pandas in a future version. Use pandas.concat instead.\n",
      "  known_data = known_data.append(last_row)\n",
      "C:\\Users\\Max\\AppData\\Local\\Temp\\ipykernel_11440\\2216344822.py:7: FutureWarning: The frame.append method is deprecated and will be removed from pandas in a future version. Use pandas.concat instead.\n",
      "  train_df = train_df.append(nan_df)\n",
      "C:\\Users\\Max\\AppData\\Local\\Temp\\ipykernel_11440\\2216344822.py:15: FutureWarning: The frame.append method is deprecated and will be removed from pandas in a future version. Use pandas.concat instead.\n",
      "  known_data = known_data.append(last_row)\n",
      "C:\\Users\\Max\\AppData\\Local\\Temp\\ipykernel_11440\\2216344822.py:7: FutureWarning: The frame.append method is deprecated and will be removed from pandas in a future version. Use pandas.concat instead.\n",
      "  train_df = train_df.append(nan_df)\n",
      "C:\\Users\\Max\\AppData\\Local\\Temp\\ipykernel_11440\\2216344822.py:15: FutureWarning: The frame.append method is deprecated and will be removed from pandas in a future version. Use pandas.concat instead.\n",
      "  known_data = known_data.append(last_row)\n",
      "C:\\Users\\Max\\AppData\\Local\\Temp\\ipykernel_11440\\2216344822.py:7: FutureWarning: The frame.append method is deprecated and will be removed from pandas in a future version. Use pandas.concat instead.\n",
      "  train_df = train_df.append(nan_df)\n",
      "C:\\Users\\Max\\AppData\\Local\\Temp\\ipykernel_11440\\2216344822.py:15: FutureWarning: The frame.append method is deprecated and will be removed from pandas in a future version. Use pandas.concat instead.\n",
      "  known_data = known_data.append(last_row)\n",
      "C:\\Users\\Max\\AppData\\Local\\Temp\\ipykernel_11440\\2216344822.py:7: FutureWarning: The frame.append method is deprecated and will be removed from pandas in a future version. Use pandas.concat instead.\n",
      "  train_df = train_df.append(nan_df)\n",
      "C:\\Users\\Max\\AppData\\Local\\Temp\\ipykernel_11440\\2216344822.py:15: FutureWarning: The frame.append method is deprecated and will be removed from pandas in a future version. Use pandas.concat instead.\n",
      "  known_data = known_data.append(last_row)\n",
      "C:\\Users\\Max\\AppData\\Local\\Temp\\ipykernel_11440\\2216344822.py:7: FutureWarning: The frame.append method is deprecated and will be removed from pandas in a future version. Use pandas.concat instead.\n",
      "  train_df = train_df.append(nan_df)\n",
      "C:\\Users\\Max\\AppData\\Local\\Temp\\ipykernel_11440\\2216344822.py:15: FutureWarning: The frame.append method is deprecated and will be removed from pandas in a future version. Use pandas.concat instead.\n",
      "  known_data = known_data.append(last_row)\n",
      "C:\\Users\\Max\\AppData\\Local\\Temp\\ipykernel_11440\\2216344822.py:7: FutureWarning: The frame.append method is deprecated and will be removed from pandas in a future version. Use pandas.concat instead.\n",
      "  train_df = train_df.append(nan_df)\n",
      "C:\\Users\\Max\\AppData\\Local\\Temp\\ipykernel_11440\\2216344822.py:15: FutureWarning: The frame.append method is deprecated and will be removed from pandas in a future version. Use pandas.concat instead.\n",
      "  known_data = known_data.append(last_row)\n",
      "C:\\Users\\Max\\AppData\\Local\\Temp\\ipykernel_11440\\2216344822.py:7: FutureWarning: The frame.append method is deprecated and will be removed from pandas in a future version. Use pandas.concat instead.\n",
      "  train_df = train_df.append(nan_df)\n",
      "C:\\Users\\Max\\AppData\\Local\\Temp\\ipykernel_11440\\2216344822.py:15: FutureWarning: The frame.append method is deprecated and will be removed from pandas in a future version. Use pandas.concat instead.\n",
      "  known_data = known_data.append(last_row)\n",
      "C:\\Users\\Max\\AppData\\Local\\Temp\\ipykernel_11440\\2216344822.py:7: FutureWarning: The frame.append method is deprecated and will be removed from pandas in a future version. Use pandas.concat instead.\n",
      "  train_df = train_df.append(nan_df)\n",
      "C:\\Users\\Max\\AppData\\Local\\Temp\\ipykernel_11440\\2216344822.py:15: FutureWarning: The frame.append method is deprecated and will be removed from pandas in a future version. Use pandas.concat instead.\n",
      "  known_data = known_data.append(last_row)\n",
      "C:\\Users\\Max\\AppData\\Local\\Temp\\ipykernel_11440\\2216344822.py:7: FutureWarning: The frame.append method is deprecated and will be removed from pandas in a future version. Use pandas.concat instead.\n",
      "  train_df = train_df.append(nan_df)\n",
      "C:\\Users\\Max\\AppData\\Local\\Temp\\ipykernel_11440\\2216344822.py:15: FutureWarning: The frame.append method is deprecated and will be removed from pandas in a future version. Use pandas.concat instead.\n",
      "  known_data = known_data.append(last_row)\n",
      "C:\\Users\\Max\\AppData\\Local\\Temp\\ipykernel_11440\\2216344822.py:7: FutureWarning: The frame.append method is deprecated and will be removed from pandas in a future version. Use pandas.concat instead.\n",
      "  train_df = train_df.append(nan_df)\n",
      "C:\\Users\\Max\\AppData\\Local\\Temp\\ipykernel_11440\\2216344822.py:15: FutureWarning: The frame.append method is deprecated and will be removed from pandas in a future version. Use pandas.concat instead.\n",
      "  known_data = known_data.append(last_row)\n",
      "C:\\Users\\Max\\AppData\\Local\\Temp\\ipykernel_11440\\2216344822.py:7: FutureWarning: The frame.append method is deprecated and will be removed from pandas in a future version. Use pandas.concat instead.\n",
      "  train_df = train_df.append(nan_df)\n",
      "C:\\Users\\Max\\AppData\\Local\\Temp\\ipykernel_11440\\2216344822.py:15: FutureWarning: The frame.append method is deprecated and will be removed from pandas in a future version. Use pandas.concat instead.\n",
      "  known_data = known_data.append(last_row)\n",
      "C:\\Users\\Max\\AppData\\Local\\Temp\\ipykernel_11440\\2216344822.py:7: FutureWarning: The frame.append method is deprecated and will be removed from pandas in a future version. Use pandas.concat instead.\n",
      "  train_df = train_df.append(nan_df)\n",
      "C:\\Users\\Max\\AppData\\Local\\Temp\\ipykernel_11440\\2216344822.py:15: FutureWarning: The frame.append method is deprecated and will be removed from pandas in a future version. Use pandas.concat instead.\n",
      "  known_data = known_data.append(last_row)\n",
      "C:\\Users\\Max\\AppData\\Local\\Temp\\ipykernel_11440\\2216344822.py:7: FutureWarning: The frame.append method is deprecated and will be removed from pandas in a future version. Use pandas.concat instead.\n",
      "  train_df = train_df.append(nan_df)\n",
      "C:\\Users\\Max\\AppData\\Local\\Temp\\ipykernel_11440\\2216344822.py:15: FutureWarning: The frame.append method is deprecated and will be removed from pandas in a future version. Use pandas.concat instead.\n",
      "  known_data = known_data.append(last_row)\n",
      "C:\\Users\\Max\\AppData\\Local\\Temp\\ipykernel_11440\\2216344822.py:7: FutureWarning: The frame.append method is deprecated and will be removed from pandas in a future version. Use pandas.concat instead.\n",
      "  train_df = train_df.append(nan_df)\n",
      "C:\\Users\\Max\\AppData\\Local\\Temp\\ipykernel_11440\\2216344822.py:15: FutureWarning: The frame.append method is deprecated and will be removed from pandas in a future version. Use pandas.concat instead.\n",
      "  known_data = known_data.append(last_row)\n",
      "C:\\Users\\Max\\AppData\\Local\\Temp\\ipykernel_11440\\2216344822.py:7: FutureWarning: The frame.append method is deprecated and will be removed from pandas in a future version. Use pandas.concat instead.\n",
      "  train_df = train_df.append(nan_df)\n",
      "C:\\Users\\Max\\AppData\\Local\\Temp\\ipykernel_11440\\2216344822.py:15: FutureWarning: The frame.append method is deprecated and will be removed from pandas in a future version. Use pandas.concat instead.\n",
      "  known_data = known_data.append(last_row)\n",
      "C:\\Users\\Max\\AppData\\Local\\Temp\\ipykernel_11440\\2216344822.py:7: FutureWarning: The frame.append method is deprecated and will be removed from pandas in a future version. Use pandas.concat instead.\n",
      "  train_df = train_df.append(nan_df)\n",
      "C:\\Users\\Max\\AppData\\Local\\Temp\\ipykernel_11440\\2216344822.py:15: FutureWarning: The frame.append method is deprecated and will be removed from pandas in a future version. Use pandas.concat instead.\n",
      "  known_data = known_data.append(last_row)\n",
      "C:\\Users\\Max\\AppData\\Local\\Temp\\ipykernel_11440\\2216344822.py:7: FutureWarning: The frame.append method is deprecated and will be removed from pandas in a future version. Use pandas.concat instead.\n",
      "  train_df = train_df.append(nan_df)\n",
      "C:\\Users\\Max\\AppData\\Local\\Temp\\ipykernel_11440\\2216344822.py:15: FutureWarning: The frame.append method is deprecated and will be removed from pandas in a future version. Use pandas.concat instead.\n",
      "  known_data = known_data.append(last_row)\n",
      "C:\\Users\\Max\\AppData\\Local\\Temp\\ipykernel_11440\\2216344822.py:7: FutureWarning: The frame.append method is deprecated and will be removed from pandas in a future version. Use pandas.concat instead.\n",
      "  train_df = train_df.append(nan_df)\n",
      "C:\\Users\\Max\\AppData\\Local\\Temp\\ipykernel_11440\\2216344822.py:15: FutureWarning: The frame.append method is deprecated and will be removed from pandas in a future version. Use pandas.concat instead.\n",
      "  known_data = known_data.append(last_row)\n",
      "C:\\Users\\Max\\AppData\\Local\\Temp\\ipykernel_11440\\2216344822.py:7: FutureWarning: The frame.append method is deprecated and will be removed from pandas in a future version. Use pandas.concat instead.\n",
      "  train_df = train_df.append(nan_df)\n",
      "C:\\Users\\Max\\AppData\\Local\\Temp\\ipykernel_11440\\2216344822.py:15: FutureWarning: The frame.append method is deprecated and will be removed from pandas in a future version. Use pandas.concat instead.\n",
      "  known_data = known_data.append(last_row)\n"
     ]
    }
   ],
   "source": [
    "k = 199\n",
    "imputer = KNNImputer(n_neighbors=k)\n",
    "\n",
    "for i in range(1,len(missing_data)+1):\n",
    "    nan_df = missing_data.iloc[i-1:i, :]\n",
    "    #train_df = pd.concat([train_df,nan_df], ignore_index=True)\n",
    "    train_df = train_df.append(nan_df)\n",
    "    \n",
    "    imputed = imputer.fit_transform(train_df)\n",
    "    # 進行KNN補值\n",
    "    df_imputed = pd.DataFrame(imputed, columns=train_df.columns)\n",
    "    # 提取最後一列資料成為新的 Series 物件\n",
    "    last_row = df_imputed.iloc[-1,:]\n",
    "    #known_data = pd.concat([known_data,last_row], ignore_index=True)\n",
    "    known_data = known_data.append(last_row)\n",
    "    # 刪除 DataFrame 的最後一列資料\n",
    "    train_df = train_df.drop(train_df.index[-1])\n",
    "known_data.to_csv(\"./data/post_early/HCC OP 20230511 test_early_input.csv\",index=False)"
   ]
  },
  {
   "attachments": {},
   "cell_type": "markdown",
   "metadata": {},
   "source": [
    "增加衍生特徵"
   ]
  },
  {
   "cell_type": "code",
   "execution_count": 32,
   "metadata": {},
   "outputs": [],
   "source": [
    "df = pd.read_csv('./data/post_early/HCC OP 20230511 train_early_input.csv')\n",
    "column = 'PLAT'\n",
    "new_column_name = 'class_' + column\n",
    "df[new_column_name] = np.where(df[column] < 120000, 0, np.where(df[column] < 150000, 1, 2))\n",
    "column = 'PTINR'\n",
    "new_column_name = 'class_' + column\n",
    "df[new_column_name] = np.where(df[column] > 1.1, 1, 0)\n",
    "column = 'ALB'\n",
    "new_column_name = 'class_' + column\n",
    "df[new_column_name] = np.where(df[column] < 3.5, 0, np.where(df[column] < 3.8, 1, 2))\n",
    "column = 'CR'\n",
    "new_column_name = 'class_' + column\n",
    "df[new_column_name] = np.where(df[column] > 1.2, 1, 0)\n",
    "column = 'BILI'\n",
    "new_column_name = 'class_' + column\n",
    "df[new_column_name] = np.where(df[column] < 1.2, 0, np.where(df[column] < 2, 1, 2))\n",
    "column = 'ALT'\n",
    "new_column_name = 'class_' + column\n",
    "df[new_column_name] = np.where(df[column] < 40, 0, np.where(df[column] < 80, 1, 2))\n",
    "column = 'AST'\n",
    "new_column_name = 'class_' + column\n",
    "df[new_column_name] = np.where(df[column] < 40, 0, np.where(df[column] < 80, 1, 2))\n",
    "column = 'AFP'\n",
    "new_column_name = 'class_' + column\n",
    "df[new_column_name] = np.where(df[column] < 7, 0,\n",
    "                               np.where(df[column] < 10, 1,\n",
    "                                        np.where(df[column] < 20, 2,\n",
    "                                                 np.where(df[column] < 200, 3, \n",
    "                                                          np.where(df[column] < 400, 4,5)))))\n",
    "column = 'Age'\n",
    "new_column_name = 'class_' + column\n",
    "df[new_column_name] = np.where(df[column] < 50, 0,\n",
    "                               np.where(df[column] < 60, 1,\n",
    "                                        np.where(df[column] < 65, 2, 3, \n",
    "                                                          )))\n",
    "column = 'BMI'\n",
    "new_column_name = 'class_' + column\n",
    "df[new_column_name] = np.where(df[column] < 23, 0,\n",
    "                               np.where(df[column] < 25, 1,\n",
    "                                        np.where(df[column] < 27, 2,\n",
    "                                                 np.where(df[column] < 27.5, 3, \n",
    "                                                          np.where(df[column] < 30, 4,5)))))\n",
    "column = 'Tumor size'\n",
    "new_column_name = 'class_' + column\n",
    "df[new_column_name] = np.where(df[column] < 2, 0,\n",
    "                               np.where(df[column] < 3, 1,\n",
    "                                        np.where(df[column] < 4, 2,\n",
    "                                                 np.where(df[column] < 5, 3, \n",
    "                                                          np.where(df[column] < 10, 4,5)))))\n",
    "column = 'Tumor number'\n",
    "new_column_name = 'class_' + column\n",
    "df[new_column_name] = np.where(df[column] > 1, 1, 0)\n",
    "column = 'NLR'\n",
    "new_column_name = 'class_' + column\n",
    "df[new_column_name] = np.where(df[column] < 2.5, 0,\n",
    "                               np.where(df[column] < 3, 1,\n",
    "                                        np.where(df[column] < 4, 2,\n",
    "                                                 np.where(df[column] < 5, 3,4))))\n",
    "column = 'FIB4'\n",
    "new_column_name = 'class_' + column\n",
    "df[new_column_name] = np.where(df[column] > 3.25, 1, 0)\n",
    "column = 'Histologic grade'\n",
    "new_column_name = 'class_' + column\n",
    "df[new_column_name] = np.where(df[column] < 2, 0,\n",
    "                               np.where(df[column] < 2.5, 1,\n",
    "                                        np.where(df[column] < 3, 2,3\n",
    "                                                 )))\n",
    "column = 'Steatosis grade'\n",
    "new_column_name = 'class_' + column\n",
    "df[new_column_name] = np.where(df[column] > 0, 1, 0)\n",
    "\n",
    "df.to_csv('./data/post_early/HCC OP 20230511 train_early_input_derived features.csv',index=False)"
   ]
  },
  {
   "cell_type": "code",
   "execution_count": 33,
   "metadata": {},
   "outputs": [],
   "source": [
    "df = pd.read_csv('./data/post_early/HCC OP 20230511 train_early_input_derived features.csv')\n",
    "columns_to_ln = ['PLAT', 'BUN', 'CR','ALT','AST','AFP','GGT','CHOL','ALK-P', 'LDH','GLU','Histologic grade']\n",
    "\n",
    "# 對指定欄位進行 ln 轉換並存儲為新欄位\n",
    "for column in columns_to_ln:\n",
    "    new_column_name = 'ln' + column\n",
    "    df[new_column_name] = np.log(df[column])\n",
    "\n",
    "df.to_csv('./data/post_early/HCC OP 20230511 train_early_input_derived features.csv',index=False)"
   ]
  },
  {
   "cell_type": "code",
   "execution_count": 34,
   "metadata": {},
   "outputs": [],
   "source": [
    "df = pd.read_csv('./data/post_early/HCC OP 20230511 test_early_input.csv')\n",
    "column = 'PLAT'\n",
    "new_column_name = 'class_' + column\n",
    "df[new_column_name] = np.where(df[column] < 120000, 0, np.where(df[column] < 150000, 1, 2))\n",
    "column = 'PTINR'\n",
    "new_column_name = 'class_' + column\n",
    "df[new_column_name] = np.where(df[column] > 1.1, 1, 0)\n",
    "column = 'ALB'\n",
    "new_column_name = 'class_' + column\n",
    "df[new_column_name] = np.where(df[column] < 3.5, 0, np.where(df[column] < 3.8, 1, 2))\n",
    "column = 'CR'\n",
    "new_column_name = 'class_' + column\n",
    "df[new_column_name] = np.where(df[column] > 1.2, 1, 0)\n",
    "column = 'BILI'\n",
    "new_column_name = 'class_' + column\n",
    "df[new_column_name] = np.where(df[column] < 1.2, 0, np.where(df[column] < 2, 1, 2))\n",
    "column = 'ALT'\n",
    "new_column_name = 'class_' + column\n",
    "df[new_column_name] = np.where(df[column] < 40, 0, np.where(df[column] < 80, 1, 2))\n",
    "column = 'AST'\n",
    "new_column_name = 'class_' + column\n",
    "df[new_column_name] = np.where(df[column] < 40, 0, np.where(df[column] < 80, 1, 2))\n",
    "column = 'AFP'\n",
    "new_column_name = 'class_' + column\n",
    "df[new_column_name] = np.where(df[column] < 7, 0,\n",
    "                               np.where(df[column] < 10, 1,\n",
    "                                        np.where(df[column] < 20, 2,\n",
    "                                                 np.where(df[column] < 200, 3, \n",
    "                                                          np.where(df[column] < 400, 4,5)))))\n",
    "column = 'Age'\n",
    "new_column_name = 'class_' + column\n",
    "df[new_column_name] = np.where(df[column] < 50, 0,\n",
    "                               np.where(df[column] < 60, 1,\n",
    "                                        np.where(df[column] < 65, 2, 3, \n",
    "                                                          )))\n",
    "column = 'BMI'\n",
    "new_column_name = 'class_' + column\n",
    "df[new_column_name] = np.where(df[column] < 23, 0,\n",
    "                               np.where(df[column] < 25, 1,\n",
    "                                        np.where(df[column] < 27, 2,\n",
    "                                                 np.where(df[column] < 27.5, 3, \n",
    "                                                          np.where(df[column] < 30, 4,5)))))\n",
    "column = 'Tumor size'\n",
    "new_column_name = 'class_' + column\n",
    "df[new_column_name] = np.where(df[column] < 2, 0,\n",
    "                               np.where(df[column] < 3, 1,\n",
    "                                        np.where(df[column] < 4, 2,\n",
    "                                                 np.where(df[column] < 5, 3, \n",
    "                                                          np.where(df[column] < 10, 4,5)))))\n",
    "column = 'Tumor number'\n",
    "new_column_name = 'class_' + column\n",
    "df[new_column_name] = np.where(df[column] > 1, 1, 0)\n",
    "column = 'NLR'\n",
    "new_column_name = 'class_' + column\n",
    "df[new_column_name] = np.where(df[column] < 2.5, 0,\n",
    "                               np.where(df[column] < 3, 1,\n",
    "                                        np.where(df[column] < 4, 2,\n",
    "                                                 np.where(df[column] < 5, 3,4))))\n",
    "column = 'FIB4'\n",
    "new_column_name = 'class_' + column\n",
    "df[new_column_name] = np.where(df[column] > 3.25, 1, 0)\n",
    "column = 'Histologic grade'\n",
    "new_column_name = 'class_' + column\n",
    "df[new_column_name] = np.where(df[column] < 2, 0,\n",
    "                               np.where(df[column] < 2.5, 1,\n",
    "                                        np.where(df[column] < 3, 2,3\n",
    "                                                 )))\n",
    "column = 'Steatosis grade'\n",
    "new_column_name = 'class_' + column\n",
    "df[new_column_name] = np.where(df[column] > 0, 1, 0)\n",
    "\n",
    "df.to_csv('./data/post_early/HCC OP 20230511 test_early_input_derived features.csv',index=False)"
   ]
  },
  {
   "cell_type": "code",
   "execution_count": 35,
   "metadata": {},
   "outputs": [],
   "source": [
    "df = pd.read_csv('./data/post_early/HCC OP 20230511 test_early_input_derived features.csv')\n",
    "columns_to_ln = ['PLAT', 'BUN', 'CR','ALT','AST','AFP','GGT','CHOL','ALK-P', 'LDH','GLU','Histologic grade']\n",
    "\n",
    "# 對指定欄位進行 ln 轉換並存儲為新欄位\n",
    "for column in columns_to_ln:\n",
    "    new_column_name = 'ln' + column\n",
    "    df[new_column_name] = np.log(df[column])\n",
    "\n",
    "df.to_csv('./data/post_early/HCC OP 20230511 test_early_input_derived features.csv',index=False)"
   ]
  },
  {
   "cell_type": "code",
   "execution_count": 36,
   "metadata": {},
   "outputs": [],
   "source": [
    "train = pd.read_csv('./data/post_early/HCC OP 20230511 train_early_input_derived features.csv')\n",
    "test = pd.read_csv('./data/post_early/HCC OP 20230511 test_early_input_derived features.csv')\n",
    "p_values = []\n",
    "for column in train.columns:\n",
    "    # 執行 t 檢定\n",
    "    _, p_value = ttest_ind(train[column], test[column])\n",
    "    p_values.append(p_value)\n",
    "\n",
    "# 打印 p-value\n",
    "for column, p_value in zip(train.columns, p_values):\n",
    "    #print(f\"{column}: p-value = {p_value}\")\n",
    "    if p_value < 0.05:\n",
    "        print(column)"
   ]
  },
  {
   "attachments": {},
   "cell_type": "markdown",
   "metadata": {},
   "source": [
    "正規化"
   ]
  },
  {
   "cell_type": "code",
   "execution_count": 37,
   "metadata": {},
   "outputs": [
    {
     "data": {
      "text/html": [
       "<div>\n",
       "<style scoped>\n",
       "    .dataframe tbody tr th:only-of-type {\n",
       "        vertical-align: middle;\n",
       "    }\n",
       "\n",
       "    .dataframe tbody tr th {\n",
       "        vertical-align: top;\n",
       "    }\n",
       "\n",
       "    .dataframe thead th {\n",
       "        text-align: right;\n",
       "    }\n",
       "</style>\n",
       "<table border=\"1\" class=\"dataframe\">\n",
       "  <thead>\n",
       "    <tr style=\"text-align: right;\">\n",
       "      <th></th>\n",
       "      <th>Milan_out</th>\n",
       "      <th>Age</th>\n",
       "      <th>Sex</th>\n",
       "      <th>Image_Vasulcar_invasion(Portal vein,Hepatic vein)</th>\n",
       "      <th>BCLC</th>\n",
       "      <th>Child_Class</th>\n",
       "      <th>Weight</th>\n",
       "      <th>Height</th>\n",
       "      <th>BMI</th>\n",
       "      <th>WBC</th>\n",
       "      <th>...</th>\n",
       "      <th>lnCR</th>\n",
       "      <th>lnALT</th>\n",
       "      <th>lnAST</th>\n",
       "      <th>lnAFP</th>\n",
       "      <th>lnGGT</th>\n",
       "      <th>lnCHOL</th>\n",
       "      <th>lnALK-P</th>\n",
       "      <th>lnLDH</th>\n",
       "      <th>lnGLU</th>\n",
       "      <th>lnHistologic grade</th>\n",
       "    </tr>\n",
       "  </thead>\n",
       "  <tbody>\n",
       "    <tr>\n",
       "      <th>0</th>\n",
       "      <td>0.0</td>\n",
       "      <td>72.84</td>\n",
       "      <td>1.0</td>\n",
       "      <td>0.0</td>\n",
       "      <td>1.0</td>\n",
       "      <td>1.0</td>\n",
       "      <td>56.9</td>\n",
       "      <td>168.0</td>\n",
       "      <td>20.160147</td>\n",
       "      <td>4700.0</td>\n",
       "      <td>...</td>\n",
       "      <td>-0.223144</td>\n",
       "      <td>4.343805</td>\n",
       "      <td>4.248495</td>\n",
       "      <td>3.095578</td>\n",
       "      <td>3.663562</td>\n",
       "      <td>4.663439</td>\n",
       "      <td>4.276666</td>\n",
       "      <td>5.164786</td>\n",
       "      <td>5.099866</td>\n",
       "      <td>0.405465</td>\n",
       "    </tr>\n",
       "    <tr>\n",
       "      <th>1</th>\n",
       "      <td>0.0</td>\n",
       "      <td>76.96</td>\n",
       "      <td>1.0</td>\n",
       "      <td>0.0</td>\n",
       "      <td>1.0</td>\n",
       "      <td>1.0</td>\n",
       "      <td>58.2</td>\n",
       "      <td>160.6</td>\n",
       "      <td>22.564822</td>\n",
       "      <td>3400.0</td>\n",
       "      <td>...</td>\n",
       "      <td>-0.083382</td>\n",
       "      <td>3.496508</td>\n",
       "      <td>3.465736</td>\n",
       "      <td>1.607436</td>\n",
       "      <td>2.944439</td>\n",
       "      <td>5.087937</td>\n",
       "      <td>4.499810</td>\n",
       "      <td>5.669881</td>\n",
       "      <td>4.695259</td>\n",
       "      <td>0.000000</td>\n",
       "    </tr>\n",
       "    <tr>\n",
       "      <th>2</th>\n",
       "      <td>1.0</td>\n",
       "      <td>72.58</td>\n",
       "      <td>1.0</td>\n",
       "      <td>0.0</td>\n",
       "      <td>2.0</td>\n",
       "      <td>1.0</td>\n",
       "      <td>62.7</td>\n",
       "      <td>162.0</td>\n",
       "      <td>23.891175</td>\n",
       "      <td>6200.0</td>\n",
       "      <td>...</td>\n",
       "      <td>0.239017</td>\n",
       "      <td>3.465736</td>\n",
       "      <td>3.891820</td>\n",
       "      <td>2.516082</td>\n",
       "      <td>2.890372</td>\n",
       "      <td>4.927254</td>\n",
       "      <td>4.110874</td>\n",
       "      <td>5.370638</td>\n",
       "      <td>4.488636</td>\n",
       "      <td>1.098612</td>\n",
       "    </tr>\n",
       "    <tr>\n",
       "      <th>3</th>\n",
       "      <td>1.0</td>\n",
       "      <td>34.38</td>\n",
       "      <td>2.0</td>\n",
       "      <td>0.0</td>\n",
       "      <td>2.0</td>\n",
       "      <td>1.0</td>\n",
       "      <td>50.7</td>\n",
       "      <td>160.5</td>\n",
       "      <td>19.681486</td>\n",
       "      <td>5300.0</td>\n",
       "      <td>...</td>\n",
       "      <td>-0.385662</td>\n",
       "      <td>3.218876</td>\n",
       "      <td>3.465736</td>\n",
       "      <td>2.570320</td>\n",
       "      <td>3.367296</td>\n",
       "      <td>5.303305</td>\n",
       "      <td>4.430817</td>\n",
       "      <td>5.641907</td>\n",
       "      <td>4.418841</td>\n",
       "      <td>0.916291</td>\n",
       "    </tr>\n",
       "    <tr>\n",
       "      <th>4</th>\n",
       "      <td>1.0</td>\n",
       "      <td>57.87</td>\n",
       "      <td>1.0</td>\n",
       "      <td>0.0</td>\n",
       "      <td>1.0</td>\n",
       "      <td>1.0</td>\n",
       "      <td>68.0</td>\n",
       "      <td>165.5</td>\n",
       "      <td>24.826352</td>\n",
       "      <td>6100.0</td>\n",
       "      <td>...</td>\n",
       "      <td>-0.139262</td>\n",
       "      <td>3.526361</td>\n",
       "      <td>3.465736</td>\n",
       "      <td>2.564949</td>\n",
       "      <td>4.077537</td>\n",
       "      <td>5.117994</td>\n",
       "      <td>3.912023</td>\n",
       "      <td>5.231109</td>\n",
       "      <td>4.510860</td>\n",
       "      <td>0.405465</td>\n",
       "    </tr>\n",
       "  </tbody>\n",
       "</table>\n",
       "<p>5 rows × 72 columns</p>\n",
       "</div>"
      ],
      "text/plain": [
       "   Milan_out    Age  Sex  Image_Vasulcar_invasion(Portal vein,Hepatic vein)  \\\n",
       "0        0.0  72.84  1.0                                                0.0   \n",
       "1        0.0  76.96  1.0                                                0.0   \n",
       "2        1.0  72.58  1.0                                                0.0   \n",
       "3        1.0  34.38  2.0                                                0.0   \n",
       "4        1.0  57.87  1.0                                                0.0   \n",
       "\n",
       "   BCLC  Child_Class  Weight  Height        BMI     WBC  ...      lnCR  \\\n",
       "0   1.0          1.0    56.9   168.0  20.160147  4700.0  ... -0.223144   \n",
       "1   1.0          1.0    58.2   160.6  22.564822  3400.0  ... -0.083382   \n",
       "2   2.0          1.0    62.7   162.0  23.891175  6200.0  ...  0.239017   \n",
       "3   2.0          1.0    50.7   160.5  19.681486  5300.0  ... -0.385662   \n",
       "4   1.0          1.0    68.0   165.5  24.826352  6100.0  ... -0.139262   \n",
       "\n",
       "      lnALT     lnAST     lnAFP     lnGGT    lnCHOL   lnALK-P     lnLDH  \\\n",
       "0  4.343805  4.248495  3.095578  3.663562  4.663439  4.276666  5.164786   \n",
       "1  3.496508  3.465736  1.607436  2.944439  5.087937  4.499810  5.669881   \n",
       "2  3.465736  3.891820  2.516082  2.890372  4.927254  4.110874  5.370638   \n",
       "3  3.218876  3.465736  2.570320  3.367296  5.303305  4.430817  5.641907   \n",
       "4  3.526361  3.465736  2.564949  4.077537  5.117994  3.912023  5.231109   \n",
       "\n",
       "      lnGLU  lnHistologic grade  \n",
       "0  5.099866            0.405465  \n",
       "1  4.695259            0.000000  \n",
       "2  4.488636            1.098612  \n",
       "3  4.418841            0.916291  \n",
       "4  4.510860            0.405465  \n",
       "\n",
       "[5 rows x 72 columns]"
      ]
     },
     "metadata": {},
     "output_type": "display_data"
    }
   ],
   "source": [
    "raw_df = pd.read_csv('./data/post_early/HCC OP 20230511 train_early_input_derived features.csv')\n",
    "raw_df_test = pd.read_csv('./data/post_early/HCC OP 20230511 test_early_input_derived features.csv')\n",
    "display(raw_df.head())"
   ]
  },
  {
   "cell_type": "code",
   "execution_count": 38,
   "metadata": {},
   "outputs": [],
   "source": [
    "X_train = raw_df.drop(columns=['Early recur','Early RFS'])\n",
    "y_train = raw_df[['Early recur','Early RFS']]\n",
    "X_test = raw_df_test.drop(columns=['Early recur','Early RFS'])\n",
    "y_test = raw_df_test[['Early recur','Early RFS']]"
   ]
  },
  {
   "cell_type": "code",
   "execution_count": 39,
   "metadata": {},
   "outputs": [
    {
     "data": {
      "text/html": [
       "<div>\n",
       "<style scoped>\n",
       "    .dataframe tbody tr th:only-of-type {\n",
       "        vertical-align: middle;\n",
       "    }\n",
       "\n",
       "    .dataframe tbody tr th {\n",
       "        vertical-align: top;\n",
       "    }\n",
       "\n",
       "    .dataframe thead th {\n",
       "        text-align: right;\n",
       "    }\n",
       "</style>\n",
       "<table border=\"1\" class=\"dataframe\">\n",
       "  <thead>\n",
       "    <tr style=\"text-align: right;\">\n",
       "      <th></th>\n",
       "      <th>Milan_out</th>\n",
       "      <th>Age</th>\n",
       "      <th>Sex</th>\n",
       "      <th>Image_Vasulcar_invasion(Portal vein,Hepatic vein)</th>\n",
       "      <th>BCLC</th>\n",
       "      <th>Child_Class</th>\n",
       "      <th>Weight</th>\n",
       "      <th>Height</th>\n",
       "      <th>BMI</th>\n",
       "      <th>WBC</th>\n",
       "      <th>...</th>\n",
       "      <th>lnCR</th>\n",
       "      <th>lnALT</th>\n",
       "      <th>lnAST</th>\n",
       "      <th>lnAFP</th>\n",
       "      <th>lnGGT</th>\n",
       "      <th>lnCHOL</th>\n",
       "      <th>lnALK-P</th>\n",
       "      <th>lnLDH</th>\n",
       "      <th>lnGLU</th>\n",
       "      <th>lnHistologic grade</th>\n",
       "    </tr>\n",
       "  </thead>\n",
       "  <tbody>\n",
       "    <tr>\n",
       "      <th>1028</th>\n",
       "      <td>-0.836070</td>\n",
       "      <td>0.339456</td>\n",
       "      <td>1.832662</td>\n",
       "      <td>-0.241664</td>\n",
       "      <td>-0.140541</td>\n",
       "      <td>-0.121387</td>\n",
       "      <td>-0.344536</td>\n",
       "      <td>-0.574696</td>\n",
       "      <td>-0.014418</td>\n",
       "      <td>-1.169705</td>\n",
       "      <td>...</td>\n",
       "      <td>-0.558941</td>\n",
       "      <td>0.409708</td>\n",
       "      <td>-0.315602</td>\n",
       "      <td>-0.911166</td>\n",
       "      <td>-0.458136</td>\n",
       "      <td>-0.448469</td>\n",
       "      <td>-0.015330</td>\n",
       "      <td>-0.237984</td>\n",
       "      <td>2.014054</td>\n",
       "      <td>-0.292994</td>\n",
       "    </tr>\n",
       "    <tr>\n",
       "      <th>1029</th>\n",
       "      <td>-0.836070</td>\n",
       "      <td>-0.035722</td>\n",
       "      <td>-0.545654</td>\n",
       "      <td>-0.241664</td>\n",
       "      <td>-1.621956</td>\n",
       "      <td>-0.121387</td>\n",
       "      <td>-0.682452</td>\n",
       "      <td>-0.611841</td>\n",
       "      <td>-0.416643</td>\n",
       "      <td>-0.223306</td>\n",
       "      <td>...</td>\n",
       "      <td>-0.792839</td>\n",
       "      <td>-0.210989</td>\n",
       "      <td>-0.606052</td>\n",
       "      <td>0.940320</td>\n",
       "      <td>-0.874348</td>\n",
       "      <td>1.682219</td>\n",
       "      <td>0.321817</td>\n",
       "      <td>-0.122799</td>\n",
       "      <td>-0.497740</td>\n",
       "      <td>0.625984</td>\n",
       "    </tr>\n",
       "    <tr>\n",
       "      <th>1030</th>\n",
       "      <td>1.196072</td>\n",
       "      <td>1.669254</td>\n",
       "      <td>-0.545654</td>\n",
       "      <td>-0.241664</td>\n",
       "      <td>-0.140541</td>\n",
       "      <td>-0.121387</td>\n",
       "      <td>0.894490</td>\n",
       "      <td>0.452966</td>\n",
       "      <td>0.739379</td>\n",
       "      <td>1.243612</td>\n",
       "      <td>...</td>\n",
       "      <td>1.032693</td>\n",
       "      <td>-1.116435</td>\n",
       "      <td>-0.369878</td>\n",
       "      <td>0.074244</td>\n",
       "      <td>-0.625801</td>\n",
       "      <td>1.185794</td>\n",
       "      <td>-0.283477</td>\n",
       "      <td>-0.224937</td>\n",
       "      <td>0.021737</td>\n",
       "      <td>-0.292994</td>\n",
       "    </tr>\n",
       "    <tr>\n",
       "      <th>1031</th>\n",
       "      <td>1.196072</td>\n",
       "      <td>0.600413</td>\n",
       "      <td>-0.545654</td>\n",
       "      <td>-0.241664</td>\n",
       "      <td>-0.140541</td>\n",
       "      <td>-0.121387</td>\n",
       "      <td>-1.678870</td>\n",
       "      <td>-0.970903</td>\n",
       "      <td>-1.485803</td>\n",
       "      <td>10.991523</td>\n",
       "      <td>...</td>\n",
       "      <td>-0.015551</td>\n",
       "      <td>-1.035670</td>\n",
       "      <td>-0.425933</td>\n",
       "      <td>-0.874284</td>\n",
       "      <td>0.661718</td>\n",
       "      <td>-1.571117</td>\n",
       "      <td>1.764499</td>\n",
       "      <td>0.346659</td>\n",
       "      <td>-1.597542</td>\n",
       "      <td>2.561613</td>\n",
       "    </tr>\n",
       "    <tr>\n",
       "      <th>1032</th>\n",
       "      <td>-0.836070</td>\n",
       "      <td>0.250247</td>\n",
       "      <td>1.832662</td>\n",
       "      <td>-0.241664</td>\n",
       "      <td>-1.621956</td>\n",
       "      <td>-0.121387</td>\n",
       "      <td>0.192664</td>\n",
       "      <td>-1.255677</td>\n",
       "      <td>1.208992</td>\n",
       "      <td>-1.358985</td>\n",
       "      <td>...</td>\n",
       "      <td>-0.596613</td>\n",
       "      <td>-0.567128</td>\n",
       "      <td>-0.369878</td>\n",
       "      <td>-1.297019</td>\n",
       "      <td>0.215432</td>\n",
       "      <td>-0.386614</td>\n",
       "      <td>0.506105</td>\n",
       "      <td>0.388311</td>\n",
       "      <td>1.243244</td>\n",
       "      <td>-0.292994</td>\n",
       "    </tr>\n",
       "  </tbody>\n",
       "</table>\n",
       "<p>5 rows × 70 columns</p>\n",
       "</div>"
      ],
      "text/plain": [
       "      Milan_out       Age       Sex  \\\n",
       "1028  -0.836070  0.339456  1.832662   \n",
       "1029  -0.836070 -0.035722 -0.545654   \n",
       "1030   1.196072  1.669254 -0.545654   \n",
       "1031   1.196072  0.600413 -0.545654   \n",
       "1032  -0.836070  0.250247  1.832662   \n",
       "\n",
       "      Image_Vasulcar_invasion(Portal vein,Hepatic vein)      BCLC  \\\n",
       "1028                                          -0.241664 -0.140541   \n",
       "1029                                          -0.241664 -1.621956   \n",
       "1030                                          -0.241664 -0.140541   \n",
       "1031                                          -0.241664 -0.140541   \n",
       "1032                                          -0.241664 -1.621956   \n",
       "\n",
       "      Child_Class    Weight    Height       BMI        WBC  ...      lnCR  \\\n",
       "1028    -0.121387 -0.344536 -0.574696 -0.014418  -1.169705  ... -0.558941   \n",
       "1029    -0.121387 -0.682452 -0.611841 -0.416643  -0.223306  ... -0.792839   \n",
       "1030    -0.121387  0.894490  0.452966  0.739379   1.243612  ...  1.032693   \n",
       "1031    -0.121387 -1.678870 -0.970903 -1.485803  10.991523  ... -0.015551   \n",
       "1032    -0.121387  0.192664 -1.255677  1.208992  -1.358985  ... -0.596613   \n",
       "\n",
       "         lnALT     lnAST     lnAFP     lnGGT    lnCHOL   lnALK-P     lnLDH  \\\n",
       "1028  0.409708 -0.315602 -0.911166 -0.458136 -0.448469 -0.015330 -0.237984   \n",
       "1029 -0.210989 -0.606052  0.940320 -0.874348  1.682219  0.321817 -0.122799   \n",
       "1030 -1.116435 -0.369878  0.074244 -0.625801  1.185794 -0.283477 -0.224937   \n",
       "1031 -1.035670 -0.425933 -0.874284  0.661718 -1.571117  1.764499  0.346659   \n",
       "1032 -0.567128 -0.369878 -1.297019  0.215432 -0.386614  0.506105  0.388311   \n",
       "\n",
       "         lnGLU  lnHistologic grade  \n",
       "1028  2.014054           -0.292994  \n",
       "1029 -0.497740            0.625984  \n",
       "1030  0.021737           -0.292994  \n",
       "1031 -1.597542            2.561613  \n",
       "1032  1.243244           -0.292994  \n",
       "\n",
       "[5 rows x 70 columns]"
      ]
     },
     "metadata": {},
     "output_type": "display_data"
    },
    {
     "data": {
      "text/html": [
       "<div>\n",
       "<style scoped>\n",
       "    .dataframe tbody tr th:only-of-type {\n",
       "        vertical-align: middle;\n",
       "    }\n",
       "\n",
       "    .dataframe tbody tr th {\n",
       "        vertical-align: top;\n",
       "    }\n",
       "\n",
       "    .dataframe thead th {\n",
       "        text-align: right;\n",
       "    }\n",
       "</style>\n",
       "<table border=\"1\" class=\"dataframe\">\n",
       "  <thead>\n",
       "    <tr style=\"text-align: right;\">\n",
       "      <th></th>\n",
       "      <th>Early recur</th>\n",
       "      <th>Early RFS</th>\n",
       "    </tr>\n",
       "  </thead>\n",
       "  <tbody>\n",
       "    <tr>\n",
       "      <th>1028</th>\n",
       "      <td>0.0</td>\n",
       "      <td>24.00</td>\n",
       "    </tr>\n",
       "    <tr>\n",
       "      <th>1029</th>\n",
       "      <td>0.0</td>\n",
       "      <td>24.00</td>\n",
       "    </tr>\n",
       "    <tr>\n",
       "      <th>1030</th>\n",
       "      <td>0.0</td>\n",
       "      <td>24.00</td>\n",
       "    </tr>\n",
       "    <tr>\n",
       "      <th>1031</th>\n",
       "      <td>1.0</td>\n",
       "      <td>8.77</td>\n",
       "    </tr>\n",
       "    <tr>\n",
       "      <th>1032</th>\n",
       "      <td>0.0</td>\n",
       "      <td>24.00</td>\n",
       "    </tr>\n",
       "  </tbody>\n",
       "</table>\n",
       "</div>"
      ],
      "text/plain": [
       "      Early recur  Early RFS\n",
       "1028          0.0      24.00\n",
       "1029          0.0      24.00\n",
       "1030          0.0      24.00\n",
       "1031          1.0       8.77\n",
       "1032          0.0      24.00"
      ]
     },
     "metadata": {},
     "output_type": "display_data"
    }
   ],
   "source": [
    "scaler = StandardScaler()\n",
    "scaler.fit(X_train)\n",
    "scaled_X_train = pd.DataFrame(scaler.transform(X_train), columns=X_train.columns)\n",
    "scaled_X_test = pd.DataFrame(scaler.transform(X_test), columns=X_test.columns)\n",
    "display(scaled_X_train.tail())\n",
    "display(y_train.tail())"
   ]
  },
  {
   "cell_type": "code",
   "execution_count": 40,
   "metadata": {},
   "outputs": [
    {
     "data": {
      "text/plain": [
       "['./data/post_early/HCC OP 20230511 train_early_input_derived features_scaler.bin']"
      ]
     },
     "execution_count": 40,
     "metadata": {},
     "output_type": "execute_result"
    }
   ],
   "source": [
    "scaled_data = pd.concat([scaled_X_train, y_train], axis=1)\n",
    "scaled_data_test = pd.concat([scaled_X_test, y_test], axis=1)\n",
    "scaled_data.to_csv('./data/post_early/HCC OP 20230511 train_early_input_derived features_std.csv',index=False)\n",
    "scaled_data_test.to_csv('./data/post_early/HCC OP 20230511 test_early_input_derived features_std.csv',index=False)\n",
    "joblib.dump(scaler, './data/post_early/HCC OP 20230511 train_early_input_derived features_scaler.bin')"
   ]
  },
  {
   "attachments": {},
   "cell_type": "markdown",
   "metadata": {},
   "source": [
    "確認分布"
   ]
  },
  {
   "cell_type": "code",
   "execution_count": 41,
   "metadata": {},
   "outputs": [
    {
     "data": {
      "image/png": "[encoded data removed]",
      "text/plain": [
       "<Figure size 640x480 with 1 Axes>"
      ]
     },
     "metadata": {},
     "output_type": "display_data"
    },
    {
     "data": {
      "image/png": "[encoded data removed]",
      "text/plain": [
       "<Figure size 1000x600 with 1 Axes>"
      ]
     },
     "metadata": {},
     "output_type": "display_data"
    }
   ],
   "source": [
    "import seaborn as sns\n",
    "import matplotlib.pyplot as plt\n",
    "test = pd.read_csv('./data/post_early/HCC OP 20230511 train_early_input_derived features_std.csv')\n",
    "# 绘制train['recur']的圆饼图\n",
    "counts = test['Early recur'].value_counts().to_dict()\n",
    "counts_keys = list(counts.keys())\n",
    "counts_keys.sort()\n",
    "counts = {k: counts[k] for k in counts_keys}\n",
    "fig, ax = plt.subplots()\n",
    "colors = sns.color_palette(\"Set2\")[:len(counts.keys())]\n",
    "ax.set_title('Early recur', fontdict={'size': 20})\n",
    "ax.pie(counts.values(), labels=counts.keys(), colors=colors, autopct='%1.1f%%', textprops={'fontsize': 14})\n",
    "plt.show()\n",
    "\n",
    "# 绘制train['Early recurrence free survival']和train['Early recur']的箱线图\n",
    "plt.figure(figsize=(10, 6))  # 设置图形的大小（可选）\n",
    "sns.boxplot(x=test[\"Early recur\"], y=test[\"Early RFS\"], palette=sns.color_palette(\"Set2\"))\n",
    "plt.xlabel('Early recur', fontsize=14)  # 设置x轴标签\n",
    "plt.ylabel('Recurrence free survival', fontsize=14)  # 设置y轴标签\n",
    "plt.title('Boxplot of Recurrence free survival by recur', fontsize=16)  # 设置图形标题\n",
    "plt.show()"
   ]
  },
  {
   "cell_type": "code",
   "execution_count": 42,
   "metadata": {},
   "outputs": [
    {
     "data": {
      "image/png": "[encoded data removed]",
      "text/plain": [
       "<Figure size 640x480 with 1 Axes>"
      ]
     },
     "metadata": {},
     "output_type": "display_data"
    },
    {
     "data": {
      "image/png": "[encoded data removed]",
      "text/plain": [
       "<Figure size 1000x600 with 1 Axes>"
      ]
     },
     "metadata": {},
     "output_type": "display_data"
    }
   ],
   "source": [
    "import seaborn as sns\n",
    "import matplotlib.pyplot as plt\n",
    "test = pd.read_csv('./data/post_early/HCC OP 20230511 test_early_input_derived features_std.csv')\n",
    "# 绘制train['recur']的圆饼图\n",
    "counts = test['Early recur'].value_counts().to_dict()\n",
    "counts_keys = list(counts.keys())\n",
    "counts_keys.sort()\n",
    "counts = {k: counts[k] for k in counts_keys}\n",
    "fig, ax = plt.subplots()\n",
    "colors = sns.color_palette(\"Set2\")[:len(counts.keys())]\n",
    "ax.set_title('Early recur', fontdict={'size': 20})\n",
    "ax.pie(counts.values(), labels=counts.keys(), colors=colors, autopct='%1.1f%%', textprops={'fontsize': 14})\n",
    "plt.show()\n",
    "\n",
    "# 绘制train['Early recurrence free survival']和train['Early recur']的箱线图\n",
    "plt.figure(figsize=(10, 6))  # 设置图形的大小（可选）\n",
    "sns.boxplot(x=test[\"Early recur\"], y=test[\"Early RFS\"], palette=sns.color_palette(\"Set2\"))\n",
    "plt.xlabel('Early recur', fontsize=14)  # 设置x轴标签\n",
    "plt.ylabel('Recurrence free survival', fontsize=14)  # 设置y轴标签\n",
    "plt.title('Boxplot of Recurrence free survival by recur', fontsize=16)  # 设置图形标题\n",
    "plt.show()"
   ]
  },
  {
   "cell_type": "code",
   "execution_count": 15,
   "metadata": {},
   "outputs": [
    {
     "data": {
      "image/png": "[encoded data removed]",
      "text/plain": [
       "<Figure size 640x480 with 1 Axes>"
      ]
     },
     "metadata": {},
     "output_type": "display_data"
    }
   ],
   "source": [
    "import pandas as pd\n",
    "import matplotlib.pyplot as plt\n",
    "test = pd.read_csv('./data/early/HCC OP 20230511 train_early_input_derived features_std.csv')\n",
    "filtered_data = test[test['Early recur'] == 0]\n",
    "\n",
    "# 提取 'time' 欄位數值\n",
    "time_values = filtered_data['Early RFS']\n",
    "\n",
    "# 繪製直方圖\n",
    "plt.hist(time_values, bins=10, edgecolor='black')\n",
    "\n",
    "# 設定圖表標籤和標題\n",
    "plt.xlabel('Time')\n",
    "plt.ylabel('people')\n",
    "plt.title(\"Histogram of 'time' for 'early_recur' = 0\")\n",
    "\n",
    "# 顯示圖表\n",
    "plt.show()\n"
   ]
  }
 ],
 "metadata": {
  "kernelspec": {
   "display_name": "OP_RFA",
   "language": "python",
   "name": "python3"
  },
  "language_info": {
   "codemirror_mode": {
    "name": "ipython",
    "version": 3
   },
   "file_extension": ".py",
   "mimetype": "text/x-python",
   "name": "python",
   "nbconvert_exporter": "python",
   "pygments_lexer": "ipython3",
   "version": "3.10.9"
  },
  "orig_nbformat": 4
 },
 "nbformat": 4,
 "nbformat_minor": 2
}
