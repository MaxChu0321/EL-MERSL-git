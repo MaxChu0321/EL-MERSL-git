{
 "cells": [
  {
   "cell_type": "code",
   "execution_count": 1,
   "metadata": {},
   "outputs": [],
   "source": [
    "import pandas as pd\n",
    "import numpy as np\n",
    "import random\n",
    "from sklearn.impute import KNNImputer\n",
    "from sklearn.model_selection import StratifiedShuffleSplit\n",
    "import seaborn as sns\n",
    "import matplotlib.pyplot as plt\n",
    "from scipy.stats import ttest_ind\n",
    "from sklearn.preprocessing import StandardScaler\n",
    "import joblib"
   ]
  },
  {
   "cell_type": "code",
   "execution_count": 3,
   "metadata": {},
   "outputs": [
    {
     "data": {
      "text/plain": [
       "2261"
      ]
     },
     "execution_count": 3,
     "metadata": {},
     "output_type": "execute_result"
    }
   ],
   "source": [
    "df = pd.read_csv('./data/HCC OP+RFA 20230511 n=2261 去名化.csv')\n",
    "df.head()\n",
    "len(df)"
   ]
  },
  {
   "cell_type": "code",
   "execution_count": 59,
   "metadata": {},
   "outputs": [
    {
     "name": "stderr",
     "output_type": "stream",
     "text": [
      "c:\\Users\\User\\anaconda3\\envs\\OP_RFA\\lib\\site-packages\\pandas\\core\\internals\\blocks.py:2323: RuntimeWarning: invalid value encountered in cast\n",
      "  values = values.astype(str)\n"
     ]
    },
    {
     "data": {
      "text/plain": [
       "1480"
      ]
     },
     "execution_count": 59,
     "metadata": {},
     "output_type": "execute_result"
    }
   ],
   "source": [
    "df = df.drop(df[df['Treatment'] == 2].index)\n",
    "df.to_csv('./data/HCC OP 20230511 n=2261 去名化.csv',index=False)\n",
    "len(df)"
   ]
  },
  {
   "cell_type": "code",
   "execution_count": 4,
   "metadata": {},
   "outputs": [],
   "source": [
    "selected_features = [\n",
    "    'OP&RFA Data ID','ISD number','20230511 OP_NAP','Milan_out', 'Age', 'Sex', 'Image_Vasulcar_invasion(Portal vein,Hepatic vein)', 'BCLC', 'Child_Class'\n",
    "    , 'Weight', 'Height', 'BMI', 'WBC', 'HB', 'PLAT', 'PTINR', 'ALB', 'Na', 'K', 'CHOL','BUN', 'CR', 'BILI','ALK-P','LDH'\n",
    "    , 'ALT', 'AST', 'APRI','FIB4', 'NLR','GLU','GGT', 'AFP', 'HBsAg', 'HCV'\n",
    "    , 'alcoholism', 'Tumor size', 'Tumor number', 'ALBIscore', 'ALBIgrade'\n",
    "]\n",
    "\n",
    "selected_labels = ['Recur', 'Recurrence free survival','Early recur','Early RFS','Late recur','Late RFS']"
   ]
  },
  {
   "cell_type": "code",
   "execution_count": 5,
   "metadata": {},
   "outputs": [
    {
     "name": "stdout",
     "output_type": "stream",
     "text": [
      "1480\n"
     ]
    },
    {
     "name": "stderr",
     "output_type": "stream",
     "text": [
      "c:\\Users\\User\\anaconda3\\envs\\OP_RFA\\lib\\site-packages\\pandas\\core\\internals\\blocks.py:2323: RuntimeWarning: invalid value encountered in cast\n",
      "  values = values.astype(str)\n"
     ]
    }
   ],
   "source": [
    "df = pd.read_csv('./data/HCC OP 20230511 n=2261 去名化.csv')\n",
    "df_op = df[ selected_features+selected_labels ]\n",
    "df_op.to_csv('./data/HCC OP survival data.csv',index=False)\n",
    "print(len(df_op))"
   ]
  },
  {
   "attachments": {},
   "cell_type": "markdown",
   "metadata": {},
   "source": [
    "統計每個欄位的缺值\n",
    "- ISD number 缺 758\n",
    "- Late recur,Late RFS 缺 652\n",
    "- 其他都缺不多，最多的為CHOL:147筆"
   ]
  },
  {
   "cell_type": "code",
   "execution_count": 11,
   "metadata": {},
   "outputs": [
    {
     "name": "stdout",
     "output_type": "stream",
     "text": [
      "                                               Column  NaN_Count\n",
      "0                                      OP&RFA Data ID          0\n",
      "1                                          ISD number        758\n",
      "2                                           Milan_out          0\n",
      "3                                                 Age          0\n",
      "4                                                 Sex          0\n",
      "5   Image_Vasulcar_invasion(Portal vein,Hepatic vein)          0\n",
      "6                                                BCLC          0\n",
      "7                                         Child_Class          0\n",
      "8                                              Weight         21\n",
      "9                                              Height         25\n",
      "10                                                BMI         25\n",
      "11                                                WBC          0\n",
      "12                                                 HB          0\n",
      "13                                               PLAT          0\n",
      "14                                              PTINR          0\n",
      "15                                                ALB          0\n",
      "16                                                 Na          0\n",
      "17                                                  K          0\n",
      "18                                               CHOL        147\n",
      "19                                                BUN          0\n",
      "20                                                 CR          0\n",
      "21                                               BILI          0\n",
      "22                                              ALK-P         13\n",
      "23                                                LDH        124\n",
      "24                                                ALT          0\n",
      "25                                                AST          3\n",
      "26                                               APRI          3\n",
      "27                                               FIB4          3\n",
      "28                                                NLR          6\n",
      "29                                                GLU         57\n",
      "30                                                GGT         14\n",
      "31                                                AFP          1\n",
      "32                                              HBsAg          0\n",
      "33                                                HCV          0\n",
      "34                                         alcoholism         19\n",
      "35                                         Tumor size          0\n",
      "36                                       Tumor number          0\n",
      "37                                          ALBIscore          0\n",
      "38                                          ALBIgrade          0\n",
      "39                                              Recur          0\n",
      "40                           Recurrence free survival          0\n",
      "41                                        Early recur          0\n",
      "42                                          Early RFS          0\n",
      "43                                         Late recur        652\n",
      "44                                           Late RFS        652\n"
     ]
    }
   ],
   "source": [
    "df_op = pd.read_csv('./data/HCC OP survival data.csv')\n",
    "nan_counts = df_op.isnull().sum()\n",
    "result_df = pd.DataFrame({'Column': nan_counts.index, 'NaN_Count': nan_counts.values})\n",
    "print(result_df)"
   ]
  },
  {
   "cell_type": "code",
   "execution_count": 63,
   "metadata": {},
   "outputs": [
    {
     "name": "stdout",
     "output_type": "stream",
     "text": [
      "                                               Column  NaN_Count\n",
      "0                                      OP&RFA Data ID          0\n",
      "1                                          ISD number        758\n",
      "2                                     20230511 OP_NAP        876\n",
      "3                                           Milan_out          0\n",
      "4                                                 Age          0\n",
      "5                                                 Sex          0\n",
      "6   Image_Vasulcar_invasion(Portal vein,Hepatic vein)          0\n",
      "7                                                BCLC          0\n",
      "8                                         Child_Class          0\n",
      "9                                              Weight         21\n",
      "10                                             Height         25\n",
      "11                                                BMI         25\n",
      "12                                                WBC          0\n",
      "13                                                 HB          0\n",
      "14                                               PLAT          0\n",
      "15                                              PTINR          0\n",
      "16                                                ALB          0\n",
      "17                                                 Na          0\n",
      "18                                                  K          0\n",
      "19                                               CHOL        147\n",
      "20                                                BUN          0\n",
      "21                                                 CR          0\n",
      "22                                               BILI          0\n",
      "23                                              ALK-P         13\n",
      "24                                                LDH        124\n",
      "25                                                ALT          0\n",
      "26                                                AST          3\n",
      "27                                               APRI          3\n",
      "28                                               FIB4          3\n",
      "29                                                NLR          6\n",
      "30                                                GLU         57\n",
      "31                                                GGT         14\n",
      "32                                                AFP          1\n",
      "33                                              HBsAg          0\n",
      "34                                                HCV          0\n",
      "35                                         alcoholism         19\n",
      "36                                         Tumor size          0\n",
      "37                                       Tumor number          0\n",
      "38                                          ALBIscore          0\n",
      "39                                          ALBIgrade          0\n",
      "40                                              Recur          0\n",
      "41                           Recurrence free survival          0\n",
      "42                                        Early recur          0\n",
      "43                                          Early RFS          0\n",
      "44                                         Late recur        652\n",
      "45                                           Late RFS        652\n",
      "46                                   Histologic grade          4\n",
      "47                                                MVI         66\n",
      "48                                       Inflammation         30\n",
      "49                                              Ishak          5\n",
      "50                                    Steatosis grade        153\n"
     ]
    }
   ],
   "source": [
    "df_op_post = pd.read_csv('./data/HCC OP survival data post.csv')\n",
    "nan_counts = df_op_post.isnull().sum()\n",
    "result_df = pd.DataFrame({'Column': nan_counts.index, 'NaN_Count': nan_counts.values})\n",
    "print(result_df)"
   ]
  },
  {
   "attachments": {},
   "cell_type": "markdown",
   "metadata": {},
   "source": [
    "分成三相位齊全跟不齊全的資料集"
   ]
  },
  {
   "cell_type": "code",
   "execution_count": 8,
   "metadata": {},
   "outputs": [
    {
     "name": "stdout",
     "output_type": "stream",
     "text": [
      "604 604\n"
     ]
    },
    {
     "name": "stderr",
     "output_type": "stream",
     "text": [
      "c:\\Users\\User\\anaconda3\\envs\\OP_RFA\\lib\\site-packages\\pandas\\core\\internals\\blocks.py:2323: RuntimeWarning: invalid value encountered in cast\n",
      "  values = values.astype(str)\n"
     ]
    }
   ],
   "source": [
    "df = pd.read_csv('./data/HCC OP survival data.csv')\n",
    "matched_cases = df[df['20230511 OP_NAP'] == 1]['ISD number']\n",
    "\n",
    "matched_cases_data = df[df['ISD number'].isin(matched_cases)]\n",
    "matched_cases_data.to_csv('./data/HCC OP 20230511 allNAP.csv',index=False)\n",
    "print(len(matched_cases),len(matched_cases_data))"
   ]
  },
  {
   "cell_type": "code",
   "execution_count": 9,
   "metadata": {},
   "outputs": [
    {
     "data": {
      "text/plain": [
       "876"
      ]
     },
     "execution_count": 9,
     "metadata": {},
     "output_type": "execute_result"
    }
   ],
   "source": [
    "for case in matched_cases:\n",
    "    df = df.drop(df[df['ISD number'] == case].index)\n",
    "df.to_csv('./data/HCC OP 20230511 incompleteNAP.csv',index=False)\n",
    "len(df)"
   ]
  },
  {
   "attachments": {},
   "cell_type": "markdown",
   "metadata": {},
   "source": [
    "統計個案缺值數量\n",
    "- HCC OP 20230511 allNAP_v1 是刪除了[ 'Late recur','Late RFS','ISD number','20230511 OP_NAP']\n",
    "- HCC OP 20230511 incompleteNAP_v1 是刪除了[ 'Late recur','Late RFS','ISD number','20230511 OP_NAP']"
   ]
  },
  {
   "cell_type": "code",
   "execution_count": 25,
   "metadata": {},
   "outputs": [
    {
     "name": "stderr",
     "output_type": "stream",
     "text": [
      "c:\\Users\\User\\anaconda3\\envs\\OP_RFA\\lib\\site-packages\\pandas\\core\\internals\\blocks.py:2323: RuntimeWarning: invalid value encountered in cast\n",
      "  values = values.astype(str)\n"
     ]
    }
   ],
   "source": [
    "df_NAP = pd.read_csv('./data/HCC OP 20230511 allNAP.csv')\n",
    "df_NAP = df_NAP.drop(columns=[ 'Late recur','Late RFS','ISD number','20230511 OP_NAP'])\n",
    "num = df_NAP.isna().T.sum()\n",
    "df_NAP['Eachcase Nan count'] = num\n",
    "df_NAP.to_csv('./data/HCC OP 20230511 allNAP_v1.csv',index=False)\n"
   ]
  },
  {
   "cell_type": "code",
   "execution_count": 26,
   "metadata": {},
   "outputs": [
    {
     "name": "stdout",
     "output_type": "stream",
     "text": [
      "   Eachcase Nan count  Percentage\n",
      "0                 494   81.788079\n",
      "1                  42    6.953642\n",
      "2                  39    6.456954\n",
      "3                  17    2.814570\n",
      "4                   8    1.324503\n",
      "5                   4    0.662252\n"
     ]
    }
   ],
   "source": [
    "column_name = 'Eachcase Nan count'\n",
    "value_counts = df_NAP[column_name].value_counts()\n",
    "# 計算總資料數\n",
    "total_count = value_counts.sum()\n",
    "# 計算各數值佔總資料的百分比\n",
    "percentages = value_counts / total_count * 100\n",
    "# 將數值數量和百分比合併為一個DataFrame\n",
    "result = pd.concat([value_counts, percentages], axis=1, keys=['Eachcase Nan count', 'Percentage'])\n",
    "# 輸出結果\n",
    "print(result)"
   ]
  },
  {
   "cell_type": "code",
   "execution_count": 27,
   "metadata": {},
   "outputs": [
    {
     "name": "stderr",
     "output_type": "stream",
     "text": [
      "c:\\Users\\User\\anaconda3\\envs\\OP_RFA\\lib\\site-packages\\pandas\\core\\internals\\blocks.py:2323: RuntimeWarning: invalid value encountered in cast\n",
      "  values = values.astype(str)\n"
     ]
    }
   ],
   "source": [
    "df_incomplete = pd.read_csv('./data/HCC OP 20230511 incompleteNAP.csv')\n",
    "df_incomplete = df_incomplete.drop(columns=[ 'Late recur','Late RFS','ISD number','20230511 OP_NAP'])\n",
    "num = df_incomplete.isna().T.sum()\n",
    "df_incomplete['Eachcase Nan count'] = num\n",
    "df_incomplete.to_csv('./data/HCC OP 20230511 incompleteNAP_v1.csv',index=False)"
   ]
  },
  {
   "cell_type": "code",
   "execution_count": 28,
   "metadata": {},
   "outputs": [
    {
     "name": "stdout",
     "output_type": "stream",
     "text": [
      "   Eachcase Nan count  Percentage\n",
      "0                 760   86.757991\n",
      "1                  41    4.680365\n",
      "2                  38    4.337900\n",
      "3                  30    3.424658\n",
      "4                   4    0.456621\n",
      "5                   3    0.342466\n"
     ]
    }
   ],
   "source": [
    "column_name = 'Eachcase Nan count'\n",
    "value_counts = df_incomplete[column_name].value_counts()\n",
    "# 計算總資料數\n",
    "total_count = value_counts.sum()\n",
    "# 計算各數值佔總資料的百分比\n",
    "percentages = value_counts / total_count * 100\n",
    "# 將數值數量和百分比合併為一個DataFrame\n",
    "result = pd.concat([value_counts, percentages], axis=1, keys=['Eachcase Nan count', 'Percentage'])\n",
    "# 輸出結果\n",
    "print(result)"
   ]
  },
  {
   "attachments": {},
   "cell_type": "markdown",
   "metadata": {},
   "source": [
    "切資料集"
   ]
  },
  {
   "cell_type": "code",
   "execution_count": 29,
   "metadata": {},
   "outputs": [],
   "source": [
    "df_NAP = pd.read_csv('./data/HCC OP 20230511 allNAP_v1.csv')\n",
    "df_incomplete = pd.read_csv('./data/HCC OP 20230511 incompleteNAP_v1.csv')"
   ]
  },
  {
   "cell_type": "code",
   "execution_count": 30,
   "metadata": {},
   "outputs": [
    {
     "name": "stdout",
     "output_type": "stream",
     "text": [
      "604 876\n"
     ]
    }
   ],
   "source": [
    "print(len(df_NAP),len(df_incomplete))"
   ]
  },
  {
   "cell_type": "code",
   "execution_count": 31,
   "metadata": {},
   "outputs": [],
   "source": [
    "random_num=20200822\n",
    "X = df_NAP.drop(columns=['Recur', 'Recurrence free survival','Early recur','Early RFS'])\n",
    "y_death = df_NAP['Early recur']  # 是否死亡\n",
    "X_miss = df_incomplete.drop(columns=['Recur', 'Recurrence free survival','Early recur','Early RFS'])\n",
    "y_death_miss = df_incomplete['Early recur']  # 是否死亡"
   ]
  },
  {
   "cell_type": "code",
   "execution_count": 32,
   "metadata": {},
   "outputs": [],
   "source": [
    "sss = StratifiedShuffleSplit(n_splits=1, test_size=0.3, random_state=random_num)\n",
    "results = sss.split(X, y_death)\n",
    "train_index, test_index = results.__next__()\n",
    "results_miss = sss.split(X_miss, y_death_miss)\n",
    "train_index_miss, test_index_miss = results_miss.__next__()"
   ]
  },
  {
   "cell_type": "code",
   "execution_count": 33,
   "metadata": {},
   "outputs": [
    {
     "name": "stdout",
     "output_type": "stream",
     "text": [
      "Train: 422\n"
     ]
    },
    {
     "data": {
      "text/plain": [
       "1    255\n",
       "0    167\n",
       "Name: Recur, dtype: int64"
      ]
     },
     "metadata": {},
     "output_type": "display_data"
    },
    {
     "name": "stdout",
     "output_type": "stream",
     "text": [
      "Test: 182\n"
     ]
    },
    {
     "data": {
      "text/plain": [
       "1    112\n",
       "0     70\n",
       "Name: Recur, dtype: int64"
      ]
     },
     "metadata": {},
     "output_type": "display_data"
    },
    {
     "name": "stdout",
     "output_type": "stream",
     "text": [
      "Train_miss: 613\n"
     ]
    },
    {
     "data": {
      "text/plain": [
       "1    319\n",
       "0    294\n",
       "Name: Recur, dtype: int64"
      ]
     },
     "metadata": {},
     "output_type": "display_data"
    },
    {
     "name": "stdout",
     "output_type": "stream",
     "text": [
      "Test_miss: 263\n"
     ]
    },
    {
     "data": {
      "text/plain": [
       "1    142\n",
       "0    121\n",
       "Name: Recur, dtype: int64"
      ]
     },
     "metadata": {},
     "output_type": "display_data"
    }
   ],
   "source": [
    "print(f\"Train: {len(train_index)}\")\n",
    "display(df_NAP.iloc[train_index].Recur.value_counts())\n",
    "print(f\"Test: {len(test_index)}\")\n",
    "display(df_NAP.iloc[test_index].Recur.value_counts())\n",
    "print(f\"Train_miss: {len(train_index_miss)}\")\n",
    "display(df_incomplete.iloc[train_index_miss].Recur.value_counts())\n",
    "print(f\"Test_miss: {len(test_index_miss)}\")\n",
    "display(df_incomplete.iloc[test_index_miss].Recur.value_counts())"
   ]
  },
  {
   "cell_type": "code",
   "execution_count": 34,
   "metadata": {},
   "outputs": [],
   "source": [
    "train_df = df_NAP.iloc[train_index]\n",
    "test_df = df_NAP.iloc[test_index]\n",
    "train_df_miss = df_incomplete.iloc[train_index_miss]\n",
    "test_df_miss = df_incomplete.iloc[test_index_miss]"
   ]
  },
  {
   "cell_type": "code",
   "execution_count": 35,
   "metadata": {},
   "outputs": [],
   "source": [
    "train_df = train_df.sample(frac=1, random_state=random_num).sample(frac=1, random_state=random_num).reset_index(drop=True)\n",
    "test_df = test_df.sample(frac=1, random_state=random_num).sample(frac=1, random_state=random_num).reset_index(drop=True)\n",
    "train_df_miss = train_df_miss.sample(frac=1, random_state=random_num).sample(frac=1, random_state=random_num).reset_index(drop=True)\n",
    "test_df_miss = test_df_miss.sample(frac=1, random_state=random_num).sample(frac=1, random_state=random_num).reset_index(drop=True)"
   ]
  },
  {
   "cell_type": "code",
   "execution_count": 36,
   "metadata": {},
   "outputs": [
    {
     "name": "stderr",
     "output_type": "stream",
     "text": [
      "c:\\Users\\User\\anaconda3\\envs\\OP_RFA\\lib\\site-packages\\pandas\\core\\internals\\blocks.py:2323: RuntimeWarning: invalid value encountered in cast\n",
      "  values = values.astype(str)\n"
     ]
    }
   ],
   "source": [
    "train_df.to_csv(\"./data/HCC OP 20230511 allNAP_v1_train.csv\", index=False)\n",
    "test_df.to_csv(\"./data/HCC OP 20230511 allNAP_v1_test.csv\", index=False)\n",
    "train_df_miss.to_csv(\"./data/HCC OP 20230511 incompleteNAP_v1_train.csv\", index=False)\n",
    "test_df_miss.to_csv(\"./data/HCC OP 20230511 incompleteNAP_v1_test.csv\", index=False)"
   ]
  },
  {
   "cell_type": "code",
   "execution_count": 37,
   "metadata": {},
   "outputs": [
    {
     "name": "stdout",
     "output_type": "stream",
     "text": [
      "422 182 613 263\n"
     ]
    }
   ],
   "source": [
    "print(len(train_df),len(test_df),len(train_df_miss),len(test_df_miss))"
   ]
  },
  {
   "attachments": {},
   "cell_type": "markdown",
   "metadata": {},
   "source": [
    "HCC OP 20230511 train.csv ,HCC OP 20230511 test.csv是包含recur 跟 early recur兩種"
   ]
  },
  {
   "cell_type": "code",
   "execution_count": 39,
   "metadata": {},
   "outputs": [
    {
     "name": "stdout",
     "output_type": "stream",
     "text": [
      "1035 445\n"
     ]
    }
   ],
   "source": [
    "combined_train = pd.concat([train_df, train_df_miss], axis=0)\n",
    "combined_test = pd.concat([test_df, test_df_miss], axis=0)\n",
    "combined_train.to_csv('./data/HCC OP 20230511 train.csv',index=False)\n",
    "combined_test.to_csv('./data/HCC OP 20230511 test.csv',index=False)\n",
    "print(len(combined_train),len(combined_test))"
   ]
  },
  {
   "cell_type": "code",
   "execution_count": null,
   "metadata": {},
   "outputs": [],
   "source": [
    "combined_train = combined_train.drop(columns=['Recur', 'Recurrence free survival'])\n",
    "combined_test = combined_test.drop(columns=['Recur', 'Recurrence free survival'])\n",
    "combined_train.to_csv('./data/HCC OP 20230511 train_early.csv',index=False)\n",
    "combined_test.to_csv('./data/HCC OP 20230511 test_early.csv',index=False)"
   ]
  },
  {
   "cell_type": "code",
   "execution_count": 48,
   "metadata": {},
   "outputs": [
    {
     "name": "stdout",
     "output_type": "stream",
     "text": [
      "1035 445\n"
     ]
    }
   ],
   "source": [
    "print(len(combined_train),len(combined_test))"
   ]
  },
  {
   "attachments": {},
   "cell_type": "markdown",
   "metadata": {},
   "source": [
    "看資料分布"
   ]
  },
  {
   "cell_type": "code",
   "execution_count": 49,
   "metadata": {},
   "outputs": [
    {
     "data": {
      "image/png": "[encoded data removed]",
      "text/plain": [
       "<Figure size 640x480 with 1 Axes>"
      ]
     },
     "metadata": {},
     "output_type": "display_data"
    }
   ],
   "source": [
    "test = pd.read_csv('./data/HCC OP 20230511 train_early.csv')\n",
    "# 绘制train['recur']的圆饼图\n",
    "counts = test['Early recur'].value_counts().to_dict()\n",
    "counts_keys = list(counts.keys())\n",
    "counts_keys.sort()\n",
    "counts = {k: counts[k] for k in counts_keys}\n",
    "fig, ax = plt.subplots()\n",
    "colors = sns.color_palette(\"Set2\")[:len(counts.keys())]\n",
    "ax.set_title('Training_Recur', fontdict={'size': 20})\n",
    "ax.pie(counts.values(), labels=counts.keys(), colors=colors, autopct='%1.1f%%', textprops={'fontsize': 14})\n",
    "#plt.savefig('./data_cluster/統計圖表/train分佈.png')\n",
    "plt.show()"
   ]
  },
  {
   "cell_type": "code",
   "execution_count": 3,
   "metadata": {},
   "outputs": [
    {
     "data": {
      "image/png": "[encoded data removed]",
      "text/plain": [
       "<Figure size 640x480 with 1 Axes>"
      ]
     },
     "metadata": {},
     "output_type": "display_data"
    }
   ],
   "source": [
    "test = pd.read_csv('./data/early/HCC OP 20230511 test_early.csv')\n",
    "# 绘制train['recur']的圆饼图\n",
    "counts = test['Early recur'].value_counts().to_dict()\n",
    "counts_keys = list(counts.keys())\n",
    "counts_keys.sort()\n",
    "counts = {k: counts[k] for k in counts_keys}\n",
    "fig, ax = plt.subplots()\n",
    "colors = sns.color_palette(\"Set2\")[:len(counts.keys())]\n",
    "ax.set_title('Test_Recur', fontdict={'size': 20})\n",
    "ax.pie(counts.values(), labels=counts.keys(), colors=colors, autopct='%1.1f%%', textprops={'fontsize': 14})\n",
    "# plt.savefig('./result/統計圖表/OP_pre test分佈.png')\n",
    "plt.show()"
   ]
  },
  {
   "attachments": {},
   "cell_type": "markdown",
   "metadata": {},
   "source": [
    "查看資料集是否有顯著差異"
   ]
  },
  {
   "cell_type": "code",
   "execution_count": 51,
   "metadata": {},
   "outputs": [],
   "source": [
    "from scipy.stats import ttest_ind\n",
    "# 計算各欄位的 p-value\n",
    "p_values = []\n",
    "for column in combined_train.columns:\n",
    "    # 執行 t 檢定\n",
    "    _, p_value = ttest_ind(combined_train[column], combined_test[column])\n",
    "    p_values.append(p_value)\n",
    "\n",
    "# 打印 p-value\n",
    "for column, p_value in zip(combined_train.columns, p_values):\n",
    "    #print(f\"{column}: p-value = {p_value}\")\n",
    "    if p_value < 0.05:\n",
    "        print(column)"
   ]
  },
  {
   "attachments": {},
   "cell_type": "markdown",
   "metadata": {},
   "source": [
    "補值"
   ]
  },
  {
   "cell_type": "code",
   "execution_count": 54,
   "metadata": {},
   "outputs": [
    {
     "name": "stdout",
     "output_type": "stream",
     "text": [
      "1035\n"
     ]
    }
   ],
   "source": [
    "df = pd.read_csv('./data/HCC OP 20230511 train_early.csv')\n",
    "df = df.drop(['OP&RFA Data ID','Eachcase Nan count'], axis=1)\n",
    "\n",
    "# 初始化 KNNImputer 物件\n",
    "imputer = KNNImputer(n_neighbors=200)\n",
    "\n",
    "# 執行 KNN 補值\n",
    "df_imputed = imputer.fit_transform(df)\n",
    "\n",
    "# 將補值後的結果轉換為 DataFrame\n",
    "df_imputed = pd.DataFrame(df_imputed, columns=df.columns)\n",
    "\n",
    "# 將補值後的結果加入原始資料集中\n",
    "df = df_imputed\n",
    "df.to_csv('./data/HCC OP 20230511 train_early_input.csv',index=False)\n",
    "print(len(df))"
   ]
  },
  {
   "cell_type": "code",
   "execution_count": 55,
   "metadata": {},
   "outputs": [
    {
     "data": {
      "text/html": [
       "<div>\n",
       "<style scoped>\n",
       "    .dataframe tbody tr th:only-of-type {\n",
       "        vertical-align: middle;\n",
       "    }\n",
       "\n",
       "    .dataframe tbody tr th {\n",
       "        vertical-align: top;\n",
       "    }\n",
       "\n",
       "    .dataframe thead th {\n",
       "        text-align: right;\n",
       "    }\n",
       "</style>\n",
       "<table border=\"1\" class=\"dataframe\">\n",
       "  <thead>\n",
       "    <tr style=\"text-align: right;\">\n",
       "      <th></th>\n",
       "      <th>Milan_out</th>\n",
       "      <th>Age</th>\n",
       "      <th>Sex</th>\n",
       "      <th>Image_Vasulcar_invasion(Portal vein,Hepatic vein)</th>\n",
       "      <th>BCLC</th>\n",
       "      <th>Child_Class</th>\n",
       "      <th>Weight</th>\n",
       "      <th>Height</th>\n",
       "      <th>BMI</th>\n",
       "      <th>WBC</th>\n",
       "      <th>...</th>\n",
       "      <th>AFP</th>\n",
       "      <th>HBsAg</th>\n",
       "      <th>HCV</th>\n",
       "      <th>alcoholism</th>\n",
       "      <th>Tumor size</th>\n",
       "      <th>Tumor number</th>\n",
       "      <th>ALBIscore</th>\n",
       "      <th>ALBIgrade</th>\n",
       "      <th>Early recur</th>\n",
       "      <th>Early RFS</th>\n",
       "    </tr>\n",
       "  </thead>\n",
       "  <tbody>\n",
       "    <tr>\n",
       "      <th>5</th>\n",
       "      <td>1</td>\n",
       "      <td>63.12</td>\n",
       "      <td>1</td>\n",
       "      <td>0</td>\n",
       "      <td>1</td>\n",
       "      <td>1</td>\n",
       "      <td>60.4</td>\n",
       "      <td>169.3</td>\n",
       "      <td>21.072838</td>\n",
       "      <td>10800</td>\n",
       "      <td>...</td>\n",
       "      <td>17.88</td>\n",
       "      <td>1</td>\n",
       "      <td>0</td>\n",
       "      <td>0.0</td>\n",
       "      <td>14.0</td>\n",
       "      <td>1</td>\n",
       "      <td>-3.356</td>\n",
       "      <td>1.0</td>\n",
       "      <td>1</td>\n",
       "      <td>4.83</td>\n",
       "    </tr>\n",
       "    <tr>\n",
       "      <th>7</th>\n",
       "      <td>1</td>\n",
       "      <td>77.10</td>\n",
       "      <td>1</td>\n",
       "      <td>0</td>\n",
       "      <td>2</td>\n",
       "      <td>1</td>\n",
       "      <td>80.7</td>\n",
       "      <td>168.5</td>\n",
       "      <td>28.423249</td>\n",
       "      <td>10500</td>\n",
       "      <td>...</td>\n",
       "      <td>5.84</td>\n",
       "      <td>0</td>\n",
       "      <td>0</td>\n",
       "      <td>0.0</td>\n",
       "      <td>9.0</td>\n",
       "      <td>2</td>\n",
       "      <td>-2.522</td>\n",
       "      <td>2.0</td>\n",
       "      <td>1</td>\n",
       "      <td>14.43</td>\n",
       "    </tr>\n",
       "    <tr>\n",
       "      <th>10</th>\n",
       "      <td>0</td>\n",
       "      <td>86.73</td>\n",
       "      <td>1</td>\n",
       "      <td>0</td>\n",
       "      <td>1</td>\n",
       "      <td>1</td>\n",
       "      <td>63.7</td>\n",
       "      <td>159.5</td>\n",
       "      <td>25.039062</td>\n",
       "      <td>2100</td>\n",
       "      <td>...</td>\n",
       "      <td>80.86</td>\n",
       "      <td>1</td>\n",
       "      <td>0</td>\n",
       "      <td>0.0</td>\n",
       "      <td>3.3</td>\n",
       "      <td>1</td>\n",
       "      <td>-2.956</td>\n",
       "      <td>1.0</td>\n",
       "      <td>0</td>\n",
       "      <td>24.00</td>\n",
       "    </tr>\n",
       "    <tr>\n",
       "      <th>30</th>\n",
       "      <td>0</td>\n",
       "      <td>41.25</td>\n",
       "      <td>1</td>\n",
       "      <td>0</td>\n",
       "      <td>1</td>\n",
       "      <td>1</td>\n",
       "      <td>78.3</td>\n",
       "      <td>177.6</td>\n",
       "      <td>24.824233</td>\n",
       "      <td>7600</td>\n",
       "      <td>...</td>\n",
       "      <td>11.68</td>\n",
       "      <td>1</td>\n",
       "      <td>0</td>\n",
       "      <td>0.0</td>\n",
       "      <td>3.1</td>\n",
       "      <td>1</td>\n",
       "      <td>-2.978</td>\n",
       "      <td>1.0</td>\n",
       "      <td>1</td>\n",
       "      <td>13.20</td>\n",
       "    </tr>\n",
       "    <tr>\n",
       "      <th>38</th>\n",
       "      <td>1</td>\n",
       "      <td>62.76</td>\n",
       "      <td>1</td>\n",
       "      <td>0</td>\n",
       "      <td>1</td>\n",
       "      <td>1</td>\n",
       "      <td>55.9</td>\n",
       "      <td>160.1</td>\n",
       "      <td>21.808668</td>\n",
       "      <td>6100</td>\n",
       "      <td>...</td>\n",
       "      <td>426.00</td>\n",
       "      <td>1</td>\n",
       "      <td>0</td>\n",
       "      <td>0.0</td>\n",
       "      <td>8.0</td>\n",
       "      <td>1</td>\n",
       "      <td>-2.616</td>\n",
       "      <td>1.0</td>\n",
       "      <td>1</td>\n",
       "      <td>22.03</td>\n",
       "    </tr>\n",
       "  </tbody>\n",
       "</table>\n",
       "<p>5 rows × 39 columns</p>\n",
       "</div>"
      ],
      "text/plain": [
       "    Milan_out    Age  Sex  Image_Vasulcar_invasion(Portal vein,Hepatic vein)  \\\n",
       "5           1  63.12    1                                                  0   \n",
       "7           1  77.10    1                                                  0   \n",
       "10          0  86.73    1                                                  0   \n",
       "30          0  41.25    1                                                  0   \n",
       "38          1  62.76    1                                                  0   \n",
       "\n",
       "    BCLC  Child_Class  Weight  Height        BMI    WBC  ...     AFP  HBsAg  \\\n",
       "5      1            1    60.4   169.3  21.072838  10800  ...   17.88      1   \n",
       "7      2            1    80.7   168.5  28.423249  10500  ...    5.84      0   \n",
       "10     1            1    63.7   159.5  25.039062   2100  ...   80.86      1   \n",
       "30     1            1    78.3   177.6  24.824233   7600  ...   11.68      1   \n",
       "38     1            1    55.9   160.1  21.808668   6100  ...  426.00      1   \n",
       "\n",
       "    HCV  alcoholism  Tumor size  Tumor number  ALBIscore  ALBIgrade  \\\n",
       "5     0         0.0        14.0             1     -3.356        1.0   \n",
       "7     0         0.0         9.0             2     -2.522        2.0   \n",
       "10    0         0.0         3.3             1     -2.956        1.0   \n",
       "30    0         0.0         3.1             1     -2.978        1.0   \n",
       "38    0         0.0         8.0             1     -2.616        1.0   \n",
       "\n",
       "    Early recur  Early RFS  \n",
       "5             1       4.83  \n",
       "7             1      14.43  \n",
       "10            0      24.00  \n",
       "30            1      13.20  \n",
       "38            1      22.03  \n",
       "\n",
       "[5 rows x 39 columns]"
      ]
     },
     "execution_count": 55,
     "metadata": {},
     "output_type": "execute_result"
    }
   ],
   "source": [
    "train_df = pd.read_csv(\"./data/HCC OP 20230511 train_early_input.csv\")\n",
    "test_df = pd.read_csv(\"./data/HCC OP 20230511 test_early.csv\")\n",
    "test_df = test_df.drop(['OP&RFA Data ID','Eachcase Nan count'], axis=1)\n",
    "#先將test資料切分出有缺值跟無缺值\n",
    "known_data = test_df.dropna()\n",
    "missing_data = test_df[test_df.isna().any(axis=1)]\n",
    "\n",
    "# 將空字串替換成 NaN 值\n",
    "#missing_data.replace(' ', np.nan, inplace=True)\n",
    "missing_data.head()"
   ]
  },
  {
   "cell_type": "code",
   "execution_count": 56,
   "metadata": {},
   "outputs": [
    {
     "name": "stderr",
     "output_type": "stream",
     "text": [
      "C:\\Users\\User\\AppData\\Local\\Temp\\ipykernel_5948\\177309802.py:7: FutureWarning: The frame.append method is deprecated and will be removed from pandas in a future version. Use pandas.concat instead.\n",
      "  train_df = train_df.append(nan_df)\n",
      "C:\\Users\\User\\AppData\\Local\\Temp\\ipykernel_5948\\177309802.py:15: FutureWarning: The frame.append method is deprecated and will be removed from pandas in a future version. Use pandas.concat instead.\n",
      "  known_data = known_data.append(last_row)\n",
      "C:\\Users\\User\\AppData\\Local\\Temp\\ipykernel_5948\\177309802.py:7: FutureWarning: The frame.append method is deprecated and will be removed from pandas in a future version. Use pandas.concat instead.\n",
      "  train_df = train_df.append(nan_df)\n",
      "C:\\Users\\User\\AppData\\Local\\Temp\\ipykernel_5948\\177309802.py:15: FutureWarning: The frame.append method is deprecated and will be removed from pandas in a future version. Use pandas.concat instead.\n",
      "  known_data = known_data.append(last_row)\n",
      "C:\\Users\\User\\AppData\\Local\\Temp\\ipykernel_5948\\177309802.py:7: FutureWarning: The frame.append method is deprecated and will be removed from pandas in a future version. Use pandas.concat instead.\n",
      "  train_df = train_df.append(nan_df)\n",
      "C:\\Users\\User\\AppData\\Local\\Temp\\ipykernel_5948\\177309802.py:15: FutureWarning: The frame.append method is deprecated and will be removed from pandas in a future version. Use pandas.concat instead.\n",
      "  known_data = known_data.append(last_row)\n",
      "C:\\Users\\User\\AppData\\Local\\Temp\\ipykernel_5948\\177309802.py:7: FutureWarning: The frame.append method is deprecated and will be removed from pandas in a future version. Use pandas.concat instead.\n",
      "  train_df = train_df.append(nan_df)\n",
      "C:\\Users\\User\\AppData\\Local\\Temp\\ipykernel_5948\\177309802.py:15: FutureWarning: The frame.append method is deprecated and will be removed from pandas in a future version. Use pandas.concat instead.\n",
      "  known_data = known_data.append(last_row)\n",
      "C:\\Users\\User\\AppData\\Local\\Temp\\ipykernel_5948\\177309802.py:7: FutureWarning: The frame.append method is deprecated and will be removed from pandas in a future version. Use pandas.concat instead.\n",
      "  train_df = train_df.append(nan_df)\n",
      "C:\\Users\\User\\AppData\\Local\\Temp\\ipykernel_5948\\177309802.py:15: FutureWarning: The frame.append method is deprecated and will be removed from pandas in a future version. Use pandas.concat instead.\n",
      "  known_data = known_data.append(last_row)\n",
      "C:\\Users\\User\\AppData\\Local\\Temp\\ipykernel_5948\\177309802.py:7: FutureWarning: The frame.append method is deprecated and will be removed from pandas in a future version. Use pandas.concat instead.\n",
      "  train_df = train_df.append(nan_df)\n",
      "C:\\Users\\User\\AppData\\Local\\Temp\\ipykernel_5948\\177309802.py:15: FutureWarning: The frame.append method is deprecated and will be removed from pandas in a future version. Use pandas.concat instead.\n",
      "  known_data = known_data.append(last_row)\n",
      "C:\\Users\\User\\AppData\\Local\\Temp\\ipykernel_5948\\177309802.py:7: FutureWarning: The frame.append method is deprecated and will be removed from pandas in a future version. Use pandas.concat instead.\n",
      "  train_df = train_df.append(nan_df)\n",
      "C:\\Users\\User\\AppData\\Local\\Temp\\ipykernel_5948\\177309802.py:15: FutureWarning: The frame.append method is deprecated and will be removed from pandas in a future version. Use pandas.concat instead.\n",
      "  known_data = known_data.append(last_row)\n",
      "C:\\Users\\User\\AppData\\Local\\Temp\\ipykernel_5948\\177309802.py:7: FutureWarning: The frame.append method is deprecated and will be removed from pandas in a future version. Use pandas.concat instead.\n",
      "  train_df = train_df.append(nan_df)\n",
      "C:\\Users\\User\\AppData\\Local\\Temp\\ipykernel_5948\\177309802.py:15: FutureWarning: The frame.append method is deprecated and will be removed from pandas in a future version. Use pandas.concat instead.\n",
      "  known_data = known_data.append(last_row)\n",
      "C:\\Users\\User\\AppData\\Local\\Temp\\ipykernel_5948\\177309802.py:7: FutureWarning: The frame.append method is deprecated and will be removed from pandas in a future version. Use pandas.concat instead.\n",
      "  train_df = train_df.append(nan_df)\n",
      "C:\\Users\\User\\AppData\\Local\\Temp\\ipykernel_5948\\177309802.py:15: FutureWarning: The frame.append method is deprecated and will be removed from pandas in a future version. Use pandas.concat instead.\n",
      "  known_data = known_data.append(last_row)\n",
      "C:\\Users\\User\\AppData\\Local\\Temp\\ipykernel_5948\\177309802.py:7: FutureWarning: The frame.append method is deprecated and will be removed from pandas in a future version. Use pandas.concat instead.\n",
      "  train_df = train_df.append(nan_df)\n",
      "C:\\Users\\User\\AppData\\Local\\Temp\\ipykernel_5948\\177309802.py:15: FutureWarning: The frame.append method is deprecated and will be removed from pandas in a future version. Use pandas.concat instead.\n",
      "  known_data = known_data.append(last_row)\n",
      "C:\\Users\\User\\AppData\\Local\\Temp\\ipykernel_5948\\177309802.py:7: FutureWarning: The frame.append method is deprecated and will be removed from pandas in a future version. Use pandas.concat instead.\n",
      "  train_df = train_df.append(nan_df)\n",
      "C:\\Users\\User\\AppData\\Local\\Temp\\ipykernel_5948\\177309802.py:15: FutureWarning: The frame.append method is deprecated and will be removed from pandas in a future version. Use pandas.concat instead.\n",
      "  known_data = known_data.append(last_row)\n",
      "C:\\Users\\User\\AppData\\Local\\Temp\\ipykernel_5948\\177309802.py:7: FutureWarning: The frame.append method is deprecated and will be removed from pandas in a future version. Use pandas.concat instead.\n",
      "  train_df = train_df.append(nan_df)\n",
      "C:\\Users\\User\\AppData\\Local\\Temp\\ipykernel_5948\\177309802.py:15: FutureWarning: The frame.append method is deprecated and will be removed from pandas in a future version. Use pandas.concat instead.\n",
      "  known_data = known_data.append(last_row)\n",
      "C:\\Users\\User\\AppData\\Local\\Temp\\ipykernel_5948\\177309802.py:7: FutureWarning: The frame.append method is deprecated and will be removed from pandas in a future version. Use pandas.concat instead.\n",
      "  train_df = train_df.append(nan_df)\n",
      "C:\\Users\\User\\AppData\\Local\\Temp\\ipykernel_5948\\177309802.py:15: FutureWarning: The frame.append method is deprecated and will be removed from pandas in a future version. Use pandas.concat instead.\n",
      "  known_data = known_data.append(last_row)\n",
      "C:\\Users\\User\\AppData\\Local\\Temp\\ipykernel_5948\\177309802.py:7: FutureWarning: The frame.append method is deprecated and will be removed from pandas in a future version. Use pandas.concat instead.\n",
      "  train_df = train_df.append(nan_df)\n",
      "C:\\Users\\User\\AppData\\Local\\Temp\\ipykernel_5948\\177309802.py:15: FutureWarning: The frame.append method is deprecated and will be removed from pandas in a future version. Use pandas.concat instead.\n",
      "  known_data = known_data.append(last_row)\n",
      "C:\\Users\\User\\AppData\\Local\\Temp\\ipykernel_5948\\177309802.py:7: FutureWarning: The frame.append method is deprecated and will be removed from pandas in a future version. Use pandas.concat instead.\n",
      "  train_df = train_df.append(nan_df)\n",
      "C:\\Users\\User\\AppData\\Local\\Temp\\ipykernel_5948\\177309802.py:15: FutureWarning: The frame.append method is deprecated and will be removed from pandas in a future version. Use pandas.concat instead.\n",
      "  known_data = known_data.append(last_row)\n",
      "C:\\Users\\User\\AppData\\Local\\Temp\\ipykernel_5948\\177309802.py:7: FutureWarning: The frame.append method is deprecated and will be removed from pandas in a future version. Use pandas.concat instead.\n",
      "  train_df = train_df.append(nan_df)\n",
      "C:\\Users\\User\\AppData\\Local\\Temp\\ipykernel_5948\\177309802.py:15: FutureWarning: The frame.append method is deprecated and will be removed from pandas in a future version. Use pandas.concat instead.\n",
      "  known_data = known_data.append(last_row)\n",
      "C:\\Users\\User\\AppData\\Local\\Temp\\ipykernel_5948\\177309802.py:7: FutureWarning: The frame.append method is deprecated and will be removed from pandas in a future version. Use pandas.concat instead.\n",
      "  train_df = train_df.append(nan_df)\n",
      "C:\\Users\\User\\AppData\\Local\\Temp\\ipykernel_5948\\177309802.py:15: FutureWarning: The frame.append method is deprecated and will be removed from pandas in a future version. Use pandas.concat instead.\n",
      "  known_data = known_data.append(last_row)\n",
      "C:\\Users\\User\\AppData\\Local\\Temp\\ipykernel_5948\\177309802.py:7: FutureWarning: The frame.append method is deprecated and will be removed from pandas in a future version. Use pandas.concat instead.\n",
      "  train_df = train_df.append(nan_df)\n",
      "C:\\Users\\User\\AppData\\Local\\Temp\\ipykernel_5948\\177309802.py:15: FutureWarning: The frame.append method is deprecated and will be removed from pandas in a future version. Use pandas.concat instead.\n",
      "  known_data = known_data.append(last_row)\n",
      "C:\\Users\\User\\AppData\\Local\\Temp\\ipykernel_5948\\177309802.py:7: FutureWarning: The frame.append method is deprecated and will be removed from pandas in a future version. Use pandas.concat instead.\n",
      "  train_df = train_df.append(nan_df)\n",
      "C:\\Users\\User\\AppData\\Local\\Temp\\ipykernel_5948\\177309802.py:15: FutureWarning: The frame.append method is deprecated and will be removed from pandas in a future version. Use pandas.concat instead.\n",
      "  known_data = known_data.append(last_row)\n",
      "C:\\Users\\User\\AppData\\Local\\Temp\\ipykernel_5948\\177309802.py:7: FutureWarning: The frame.append method is deprecated and will be removed from pandas in a future version. Use pandas.concat instead.\n",
      "  train_df = train_df.append(nan_df)\n",
      "C:\\Users\\User\\AppData\\Local\\Temp\\ipykernel_5948\\177309802.py:15: FutureWarning: The frame.append method is deprecated and will be removed from pandas in a future version. Use pandas.concat instead.\n",
      "  known_data = known_data.append(last_row)\n",
      "C:\\Users\\User\\AppData\\Local\\Temp\\ipykernel_5948\\177309802.py:7: FutureWarning: The frame.append method is deprecated and will be removed from pandas in a future version. Use pandas.concat instead.\n",
      "  train_df = train_df.append(nan_df)\n",
      "C:\\Users\\User\\AppData\\Local\\Temp\\ipykernel_5948\\177309802.py:15: FutureWarning: The frame.append method is deprecated and will be removed from pandas in a future version. Use pandas.concat instead.\n",
      "  known_data = known_data.append(last_row)\n",
      "C:\\Users\\User\\AppData\\Local\\Temp\\ipykernel_5948\\177309802.py:7: FutureWarning: The frame.append method is deprecated and will be removed from pandas in a future version. Use pandas.concat instead.\n",
      "  train_df = train_df.append(nan_df)\n",
      "C:\\Users\\User\\AppData\\Local\\Temp\\ipykernel_5948\\177309802.py:15: FutureWarning: The frame.append method is deprecated and will be removed from pandas in a future version. Use pandas.concat instead.\n",
      "  known_data = known_data.append(last_row)\n",
      "C:\\Users\\User\\AppData\\Local\\Temp\\ipykernel_5948\\177309802.py:7: FutureWarning: The frame.append method is deprecated and will be removed from pandas in a future version. Use pandas.concat instead.\n",
      "  train_df = train_df.append(nan_df)\n",
      "C:\\Users\\User\\AppData\\Local\\Temp\\ipykernel_5948\\177309802.py:15: FutureWarning: The frame.append method is deprecated and will be removed from pandas in a future version. Use pandas.concat instead.\n",
      "  known_data = known_data.append(last_row)\n",
      "C:\\Users\\User\\AppData\\Local\\Temp\\ipykernel_5948\\177309802.py:7: FutureWarning: The frame.append method is deprecated and will be removed from pandas in a future version. Use pandas.concat instead.\n",
      "  train_df = train_df.append(nan_df)\n",
      "C:\\Users\\User\\AppData\\Local\\Temp\\ipykernel_5948\\177309802.py:15: FutureWarning: The frame.append method is deprecated and will be removed from pandas in a future version. Use pandas.concat instead.\n",
      "  known_data = known_data.append(last_row)\n",
      "C:\\Users\\User\\AppData\\Local\\Temp\\ipykernel_5948\\177309802.py:7: FutureWarning: The frame.append method is deprecated and will be removed from pandas in a future version. Use pandas.concat instead.\n",
      "  train_df = train_df.append(nan_df)\n",
      "C:\\Users\\User\\AppData\\Local\\Temp\\ipykernel_5948\\177309802.py:15: FutureWarning: The frame.append method is deprecated and will be removed from pandas in a future version. Use pandas.concat instead.\n",
      "  known_data = known_data.append(last_row)\n",
      "C:\\Users\\User\\AppData\\Local\\Temp\\ipykernel_5948\\177309802.py:7: FutureWarning: The frame.append method is deprecated and will be removed from pandas in a future version. Use pandas.concat instead.\n",
      "  train_df = train_df.append(nan_df)\n",
      "C:\\Users\\User\\AppData\\Local\\Temp\\ipykernel_5948\\177309802.py:15: FutureWarning: The frame.append method is deprecated and will be removed from pandas in a future version. Use pandas.concat instead.\n",
      "  known_data = known_data.append(last_row)\n",
      "C:\\Users\\User\\AppData\\Local\\Temp\\ipykernel_5948\\177309802.py:7: FutureWarning: The frame.append method is deprecated and will be removed from pandas in a future version. Use pandas.concat instead.\n",
      "  train_df = train_df.append(nan_df)\n",
      "C:\\Users\\User\\AppData\\Local\\Temp\\ipykernel_5948\\177309802.py:15: FutureWarning: The frame.append method is deprecated and will be removed from pandas in a future version. Use pandas.concat instead.\n",
      "  known_data = known_data.append(last_row)\n",
      "C:\\Users\\User\\AppData\\Local\\Temp\\ipykernel_5948\\177309802.py:7: FutureWarning: The frame.append method is deprecated and will be removed from pandas in a future version. Use pandas.concat instead.\n",
      "  train_df = train_df.append(nan_df)\n",
      "C:\\Users\\User\\AppData\\Local\\Temp\\ipykernel_5948\\177309802.py:15: FutureWarning: The frame.append method is deprecated and will be removed from pandas in a future version. Use pandas.concat instead.\n",
      "  known_data = known_data.append(last_row)\n",
      "C:\\Users\\User\\AppData\\Local\\Temp\\ipykernel_5948\\177309802.py:7: FutureWarning: The frame.append method is deprecated and will be removed from pandas in a future version. Use pandas.concat instead.\n",
      "  train_df = train_df.append(nan_df)\n",
      "C:\\Users\\User\\AppData\\Local\\Temp\\ipykernel_5948\\177309802.py:15: FutureWarning: The frame.append method is deprecated and will be removed from pandas in a future version. Use pandas.concat instead.\n",
      "  known_data = known_data.append(last_row)\n",
      "C:\\Users\\User\\AppData\\Local\\Temp\\ipykernel_5948\\177309802.py:7: FutureWarning: The frame.append method is deprecated and will be removed from pandas in a future version. Use pandas.concat instead.\n",
      "  train_df = train_df.append(nan_df)\n",
      "C:\\Users\\User\\AppData\\Local\\Temp\\ipykernel_5948\\177309802.py:15: FutureWarning: The frame.append method is deprecated and will be removed from pandas in a future version. Use pandas.concat instead.\n",
      "  known_data = known_data.append(last_row)\n",
      "C:\\Users\\User\\AppData\\Local\\Temp\\ipykernel_5948\\177309802.py:7: FutureWarning: The frame.append method is deprecated and will be removed from pandas in a future version. Use pandas.concat instead.\n",
      "  train_df = train_df.append(nan_df)\n",
      "C:\\Users\\User\\AppData\\Local\\Temp\\ipykernel_5948\\177309802.py:15: FutureWarning: The frame.append method is deprecated and will be removed from pandas in a future version. Use pandas.concat instead.\n",
      "  known_data = known_data.append(last_row)\n",
      "C:\\Users\\User\\AppData\\Local\\Temp\\ipykernel_5948\\177309802.py:7: FutureWarning: The frame.append method is deprecated and will be removed from pandas in a future version. Use pandas.concat instead.\n",
      "  train_df = train_df.append(nan_df)\n",
      "C:\\Users\\User\\AppData\\Local\\Temp\\ipykernel_5948\\177309802.py:15: FutureWarning: The frame.append method is deprecated and will be removed from pandas in a future version. Use pandas.concat instead.\n",
      "  known_data = known_data.append(last_row)\n",
      "C:\\Users\\User\\AppData\\Local\\Temp\\ipykernel_5948\\177309802.py:7: FutureWarning: The frame.append method is deprecated and will be removed from pandas in a future version. Use pandas.concat instead.\n",
      "  train_df = train_df.append(nan_df)\n",
      "C:\\Users\\User\\AppData\\Local\\Temp\\ipykernel_5948\\177309802.py:15: FutureWarning: The frame.append method is deprecated and will be removed from pandas in a future version. Use pandas.concat instead.\n",
      "  known_data = known_data.append(last_row)\n",
      "C:\\Users\\User\\AppData\\Local\\Temp\\ipykernel_5948\\177309802.py:7: FutureWarning: The frame.append method is deprecated and will be removed from pandas in a future version. Use pandas.concat instead.\n",
      "  train_df = train_df.append(nan_df)\n",
      "C:\\Users\\User\\AppData\\Local\\Temp\\ipykernel_5948\\177309802.py:15: FutureWarning: The frame.append method is deprecated and will be removed from pandas in a future version. Use pandas.concat instead.\n",
      "  known_data = known_data.append(last_row)\n",
      "C:\\Users\\User\\AppData\\Local\\Temp\\ipykernel_5948\\177309802.py:7: FutureWarning: The frame.append method is deprecated and will be removed from pandas in a future version. Use pandas.concat instead.\n",
      "  train_df = train_df.append(nan_df)\n",
      "C:\\Users\\User\\AppData\\Local\\Temp\\ipykernel_5948\\177309802.py:15: FutureWarning: The frame.append method is deprecated and will be removed from pandas in a future version. Use pandas.concat instead.\n",
      "  known_data = known_data.append(last_row)\n",
      "C:\\Users\\User\\AppData\\Local\\Temp\\ipykernel_5948\\177309802.py:7: FutureWarning: The frame.append method is deprecated and will be removed from pandas in a future version. Use pandas.concat instead.\n",
      "  train_df = train_df.append(nan_df)\n",
      "C:\\Users\\User\\AppData\\Local\\Temp\\ipykernel_5948\\177309802.py:15: FutureWarning: The frame.append method is deprecated and will be removed from pandas in a future version. Use pandas.concat instead.\n",
      "  known_data = known_data.append(last_row)\n",
      "C:\\Users\\User\\AppData\\Local\\Temp\\ipykernel_5948\\177309802.py:7: FutureWarning: The frame.append method is deprecated and will be removed from pandas in a future version. Use pandas.concat instead.\n",
      "  train_df = train_df.append(nan_df)\n",
      "C:\\Users\\User\\AppData\\Local\\Temp\\ipykernel_5948\\177309802.py:15: FutureWarning: The frame.append method is deprecated and will be removed from pandas in a future version. Use pandas.concat instead.\n",
      "  known_data = known_data.append(last_row)\n",
      "C:\\Users\\User\\AppData\\Local\\Temp\\ipykernel_5948\\177309802.py:7: FutureWarning: The frame.append method is deprecated and will be removed from pandas in a future version. Use pandas.concat instead.\n",
      "  train_df = train_df.append(nan_df)\n",
      "C:\\Users\\User\\AppData\\Local\\Temp\\ipykernel_5948\\177309802.py:15: FutureWarning: The frame.append method is deprecated and will be removed from pandas in a future version. Use pandas.concat instead.\n",
      "  known_data = known_data.append(last_row)\n",
      "C:\\Users\\User\\AppData\\Local\\Temp\\ipykernel_5948\\177309802.py:7: FutureWarning: The frame.append method is deprecated and will be removed from pandas in a future version. Use pandas.concat instead.\n",
      "  train_df = train_df.append(nan_df)\n",
      "C:\\Users\\User\\AppData\\Local\\Temp\\ipykernel_5948\\177309802.py:15: FutureWarning: The frame.append method is deprecated and will be removed from pandas in a future version. Use pandas.concat instead.\n",
      "  known_data = known_data.append(last_row)\n",
      "C:\\Users\\User\\AppData\\Local\\Temp\\ipykernel_5948\\177309802.py:7: FutureWarning: The frame.append method is deprecated and will be removed from pandas in a future version. Use pandas.concat instead.\n",
      "  train_df = train_df.append(nan_df)\n",
      "C:\\Users\\User\\AppData\\Local\\Temp\\ipykernel_5948\\177309802.py:15: FutureWarning: The frame.append method is deprecated and will be removed from pandas in a future version. Use pandas.concat instead.\n",
      "  known_data = known_data.append(last_row)\n",
      "C:\\Users\\User\\AppData\\Local\\Temp\\ipykernel_5948\\177309802.py:7: FutureWarning: The frame.append method is deprecated and will be removed from pandas in a future version. Use pandas.concat instead.\n",
      "  train_df = train_df.append(nan_df)\n",
      "C:\\Users\\User\\AppData\\Local\\Temp\\ipykernel_5948\\177309802.py:15: FutureWarning: The frame.append method is deprecated and will be removed from pandas in a future version. Use pandas.concat instead.\n",
      "  known_data = known_data.append(last_row)\n",
      "C:\\Users\\User\\AppData\\Local\\Temp\\ipykernel_5948\\177309802.py:7: FutureWarning: The frame.append method is deprecated and will be removed from pandas in a future version. Use pandas.concat instead.\n",
      "  train_df = train_df.append(nan_df)\n",
      "C:\\Users\\User\\AppData\\Local\\Temp\\ipykernel_5948\\177309802.py:15: FutureWarning: The frame.append method is deprecated and will be removed from pandas in a future version. Use pandas.concat instead.\n",
      "  known_data = known_data.append(last_row)\n",
      "C:\\Users\\User\\AppData\\Local\\Temp\\ipykernel_5948\\177309802.py:7: FutureWarning: The frame.append method is deprecated and will be removed from pandas in a future version. Use pandas.concat instead.\n",
      "  train_df = train_df.append(nan_df)\n",
      "C:\\Users\\User\\AppData\\Local\\Temp\\ipykernel_5948\\177309802.py:15: FutureWarning: The frame.append method is deprecated and will be removed from pandas in a future version. Use pandas.concat instead.\n",
      "  known_data = known_data.append(last_row)\n",
      "C:\\Users\\User\\AppData\\Local\\Temp\\ipykernel_5948\\177309802.py:7: FutureWarning: The frame.append method is deprecated and will be removed from pandas in a future version. Use pandas.concat instead.\n",
      "  train_df = train_df.append(nan_df)\n",
      "C:\\Users\\User\\AppData\\Local\\Temp\\ipykernel_5948\\177309802.py:15: FutureWarning: The frame.append method is deprecated and will be removed from pandas in a future version. Use pandas.concat instead.\n",
      "  known_data = known_data.append(last_row)\n",
      "C:\\Users\\User\\AppData\\Local\\Temp\\ipykernel_5948\\177309802.py:7: FutureWarning: The frame.append method is deprecated and will be removed from pandas in a future version. Use pandas.concat instead.\n",
      "  train_df = train_df.append(nan_df)\n",
      "C:\\Users\\User\\AppData\\Local\\Temp\\ipykernel_5948\\177309802.py:15: FutureWarning: The frame.append method is deprecated and will be removed from pandas in a future version. Use pandas.concat instead.\n",
      "  known_data = known_data.append(last_row)\n",
      "C:\\Users\\User\\AppData\\Local\\Temp\\ipykernel_5948\\177309802.py:7: FutureWarning: The frame.append method is deprecated and will be removed from pandas in a future version. Use pandas.concat instead.\n",
      "  train_df = train_df.append(nan_df)\n",
      "C:\\Users\\User\\AppData\\Local\\Temp\\ipykernel_5948\\177309802.py:15: FutureWarning: The frame.append method is deprecated and will be removed from pandas in a future version. Use pandas.concat instead.\n",
      "  known_data = known_data.append(last_row)\n",
      "C:\\Users\\User\\AppData\\Local\\Temp\\ipykernel_5948\\177309802.py:7: FutureWarning: The frame.append method is deprecated and will be removed from pandas in a future version. Use pandas.concat instead.\n",
      "  train_df = train_df.append(nan_df)\n",
      "C:\\Users\\User\\AppData\\Local\\Temp\\ipykernel_5948\\177309802.py:15: FutureWarning: The frame.append method is deprecated and will be removed from pandas in a future version. Use pandas.concat instead.\n",
      "  known_data = known_data.append(last_row)\n",
      "C:\\Users\\User\\AppData\\Local\\Temp\\ipykernel_5948\\177309802.py:7: FutureWarning: The frame.append method is deprecated and will be removed from pandas in a future version. Use pandas.concat instead.\n",
      "  train_df = train_df.append(nan_df)\n",
      "C:\\Users\\User\\AppData\\Local\\Temp\\ipykernel_5948\\177309802.py:15: FutureWarning: The frame.append method is deprecated and will be removed from pandas in a future version. Use pandas.concat instead.\n",
      "  known_data = known_data.append(last_row)\n",
      "C:\\Users\\User\\AppData\\Local\\Temp\\ipykernel_5948\\177309802.py:7: FutureWarning: The frame.append method is deprecated and will be removed from pandas in a future version. Use pandas.concat instead.\n",
      "  train_df = train_df.append(nan_df)\n",
      "C:\\Users\\User\\AppData\\Local\\Temp\\ipykernel_5948\\177309802.py:15: FutureWarning: The frame.append method is deprecated and will be removed from pandas in a future version. Use pandas.concat instead.\n",
      "  known_data = known_data.append(last_row)\n",
      "C:\\Users\\User\\AppData\\Local\\Temp\\ipykernel_5948\\177309802.py:7: FutureWarning: The frame.append method is deprecated and will be removed from pandas in a future version. Use pandas.concat instead.\n",
      "  train_df = train_df.append(nan_df)\n",
      "C:\\Users\\User\\AppData\\Local\\Temp\\ipykernel_5948\\177309802.py:15: FutureWarning: The frame.append method is deprecated and will be removed from pandas in a future version. Use pandas.concat instead.\n",
      "  known_data = known_data.append(last_row)\n",
      "C:\\Users\\User\\AppData\\Local\\Temp\\ipykernel_5948\\177309802.py:7: FutureWarning: The frame.append method is deprecated and will be removed from pandas in a future version. Use pandas.concat instead.\n",
      "  train_df = train_df.append(nan_df)\n",
      "C:\\Users\\User\\AppData\\Local\\Temp\\ipykernel_5948\\177309802.py:15: FutureWarning: The frame.append method is deprecated and will be removed from pandas in a future version. Use pandas.concat instead.\n",
      "  known_data = known_data.append(last_row)\n",
      "C:\\Users\\User\\AppData\\Local\\Temp\\ipykernel_5948\\177309802.py:7: FutureWarning: The frame.append method is deprecated and will be removed from pandas in a future version. Use pandas.concat instead.\n",
      "  train_df = train_df.append(nan_df)\n",
      "C:\\Users\\User\\AppData\\Local\\Temp\\ipykernel_5948\\177309802.py:15: FutureWarning: The frame.append method is deprecated and will be removed from pandas in a future version. Use pandas.concat instead.\n",
      "  known_data = known_data.append(last_row)\n",
      "C:\\Users\\User\\AppData\\Local\\Temp\\ipykernel_5948\\177309802.py:7: FutureWarning: The frame.append method is deprecated and will be removed from pandas in a future version. Use pandas.concat instead.\n",
      "  train_df = train_df.append(nan_df)\n",
      "C:\\Users\\User\\AppData\\Local\\Temp\\ipykernel_5948\\177309802.py:15: FutureWarning: The frame.append method is deprecated and will be removed from pandas in a future version. Use pandas.concat instead.\n",
      "  known_data = known_data.append(last_row)\n",
      "C:\\Users\\User\\AppData\\Local\\Temp\\ipykernel_5948\\177309802.py:7: FutureWarning: The frame.append method is deprecated and will be removed from pandas in a future version. Use pandas.concat instead.\n",
      "  train_df = train_df.append(nan_df)\n",
      "C:\\Users\\User\\AppData\\Local\\Temp\\ipykernel_5948\\177309802.py:15: FutureWarning: The frame.append method is deprecated and will be removed from pandas in a future version. Use pandas.concat instead.\n",
      "  known_data = known_data.append(last_row)\n",
      "C:\\Users\\User\\AppData\\Local\\Temp\\ipykernel_5948\\177309802.py:7: FutureWarning: The frame.append method is deprecated and will be removed from pandas in a future version. Use pandas.concat instead.\n",
      "  train_df = train_df.append(nan_df)\n",
      "C:\\Users\\User\\AppData\\Local\\Temp\\ipykernel_5948\\177309802.py:15: FutureWarning: The frame.append method is deprecated and will be removed from pandas in a future version. Use pandas.concat instead.\n",
      "  known_data = known_data.append(last_row)\n",
      "C:\\Users\\User\\AppData\\Local\\Temp\\ipykernel_5948\\177309802.py:7: FutureWarning: The frame.append method is deprecated and will be removed from pandas in a future version. Use pandas.concat instead.\n",
      "  train_df = train_df.append(nan_df)\n",
      "C:\\Users\\User\\AppData\\Local\\Temp\\ipykernel_5948\\177309802.py:15: FutureWarning: The frame.append method is deprecated and will be removed from pandas in a future version. Use pandas.concat instead.\n",
      "  known_data = known_data.append(last_row)\n",
      "C:\\Users\\User\\AppData\\Local\\Temp\\ipykernel_5948\\177309802.py:7: FutureWarning: The frame.append method is deprecated and will be removed from pandas in a future version. Use pandas.concat instead.\n",
      "  train_df = train_df.append(nan_df)\n",
      "C:\\Users\\User\\AppData\\Local\\Temp\\ipykernel_5948\\177309802.py:15: FutureWarning: The frame.append method is deprecated and will be removed from pandas in a future version. Use pandas.concat instead.\n",
      "  known_data = known_data.append(last_row)\n",
      "C:\\Users\\User\\AppData\\Local\\Temp\\ipykernel_5948\\177309802.py:7: FutureWarning: The frame.append method is deprecated and will be removed from pandas in a future version. Use pandas.concat instead.\n",
      "  train_df = train_df.append(nan_df)\n",
      "C:\\Users\\User\\AppData\\Local\\Temp\\ipykernel_5948\\177309802.py:15: FutureWarning: The frame.append method is deprecated and will be removed from pandas in a future version. Use pandas.concat instead.\n",
      "  known_data = known_data.append(last_row)\n",
      "C:\\Users\\User\\AppData\\Local\\Temp\\ipykernel_5948\\177309802.py:7: FutureWarning: The frame.append method is deprecated and will be removed from pandas in a future version. Use pandas.concat instead.\n",
      "  train_df = train_df.append(nan_df)\n",
      "C:\\Users\\User\\AppData\\Local\\Temp\\ipykernel_5948\\177309802.py:15: FutureWarning: The frame.append method is deprecated and will be removed from pandas in a future version. Use pandas.concat instead.\n",
      "  known_data = known_data.append(last_row)\n",
      "C:\\Users\\User\\AppData\\Local\\Temp\\ipykernel_5948\\177309802.py:7: FutureWarning: The frame.append method is deprecated and will be removed from pandas in a future version. Use pandas.concat instead.\n",
      "  train_df = train_df.append(nan_df)\n",
      "C:\\Users\\User\\AppData\\Local\\Temp\\ipykernel_5948\\177309802.py:15: FutureWarning: The frame.append method is deprecated and will be removed from pandas in a future version. Use pandas.concat instead.\n",
      "  known_data = known_data.append(last_row)\n",
      "C:\\Users\\User\\AppData\\Local\\Temp\\ipykernel_5948\\177309802.py:7: FutureWarning: The frame.append method is deprecated and will be removed from pandas in a future version. Use pandas.concat instead.\n",
      "  train_df = train_df.append(nan_df)\n",
      "C:\\Users\\User\\AppData\\Local\\Temp\\ipykernel_5948\\177309802.py:15: FutureWarning: The frame.append method is deprecated and will be removed from pandas in a future version. Use pandas.concat instead.\n",
      "  known_data = known_data.append(last_row)\n",
      "C:\\Users\\User\\AppData\\Local\\Temp\\ipykernel_5948\\177309802.py:7: FutureWarning: The frame.append method is deprecated and will be removed from pandas in a future version. Use pandas.concat instead.\n",
      "  train_df = train_df.append(nan_df)\n",
      "C:\\Users\\User\\AppData\\Local\\Temp\\ipykernel_5948\\177309802.py:15: FutureWarning: The frame.append method is deprecated and will be removed from pandas in a future version. Use pandas.concat instead.\n",
      "  known_data = known_data.append(last_row)\n",
      "C:\\Users\\User\\AppData\\Local\\Temp\\ipykernel_5948\\177309802.py:7: FutureWarning: The frame.append method is deprecated and will be removed from pandas in a future version. Use pandas.concat instead.\n",
      "  train_df = train_df.append(nan_df)\n",
      "C:\\Users\\User\\AppData\\Local\\Temp\\ipykernel_5948\\177309802.py:15: FutureWarning: The frame.append method is deprecated and will be removed from pandas in a future version. Use pandas.concat instead.\n",
      "  known_data = known_data.append(last_row)\n",
      "C:\\Users\\User\\AppData\\Local\\Temp\\ipykernel_5948\\177309802.py:7: FutureWarning: The frame.append method is deprecated and will be removed from pandas in a future version. Use pandas.concat instead.\n",
      "  train_df = train_df.append(nan_df)\n",
      "C:\\Users\\User\\AppData\\Local\\Temp\\ipykernel_5948\\177309802.py:15: FutureWarning: The frame.append method is deprecated and will be removed from pandas in a future version. Use pandas.concat instead.\n",
      "  known_data = known_data.append(last_row)\n",
      "C:\\Users\\User\\AppData\\Local\\Temp\\ipykernel_5948\\177309802.py:7: FutureWarning: The frame.append method is deprecated and will be removed from pandas in a future version. Use pandas.concat instead.\n",
      "  train_df = train_df.append(nan_df)\n",
      "C:\\Users\\User\\AppData\\Local\\Temp\\ipykernel_5948\\177309802.py:15: FutureWarning: The frame.append method is deprecated and will be removed from pandas in a future version. Use pandas.concat instead.\n",
      "  known_data = known_data.append(last_row)\n",
      "C:\\Users\\User\\AppData\\Local\\Temp\\ipykernel_5948\\177309802.py:7: FutureWarning: The frame.append method is deprecated and will be removed from pandas in a future version. Use pandas.concat instead.\n",
      "  train_df = train_df.append(nan_df)\n",
      "C:\\Users\\User\\AppData\\Local\\Temp\\ipykernel_5948\\177309802.py:15: FutureWarning: The frame.append method is deprecated and will be removed from pandas in a future version. Use pandas.concat instead.\n",
      "  known_data = known_data.append(last_row)\n"
     ]
    }
   ],
   "source": [
    "k = 200\n",
    "imputer = KNNImputer(n_neighbors=k)\n",
    "\n",
    "for i in range(1,len(missing_data)+1):\n",
    "    nan_df = missing_data.iloc[i-1:i, :]\n",
    "    #train_df = pd.concat([train_df,nan_df], ignore_index=True)\n",
    "    train_df = train_df.append(nan_df)\n",
    "    \n",
    "    imputed = imputer.fit_transform(train_df)\n",
    "    # 進行KNN補值\n",
    "    df_imputed = pd.DataFrame(imputed, columns=train_df.columns)\n",
    "    # 提取最後一列資料成為新的 Series 物件\n",
    "    last_row = df_imputed.iloc[-1,:]\n",
    "    #known_data = pd.concat([known_data,last_row], ignore_index=True)\n",
    "    known_data = known_data.append(last_row)\n",
    "    # 刪除 DataFrame 的最後一列資料\n",
    "    train_df = train_df.drop(train_df.index[-1])\n",
    "known_data.to_csv(\"./data/HCC OP 20230511 test_early_input.csv\",index=False)"
   ]
  },
  {
   "attachments": {},
   "cell_type": "markdown",
   "metadata": {},
   "source": [
    "增加衍生特徵"
   ]
  },
  {
   "cell_type": "code",
   "execution_count": 12,
   "metadata": {},
   "outputs": [],
   "source": [
    "df = pd.read_csv('./data/early/HCC OP 20230511 test_early_input.csv')\n",
    "column = 'PLAT'\n",
    "new_column_name = 'class_' + column\n",
    "df[new_column_name] = np.where(df[column] < 120000, 0, np.where(df[column] < 150000, 1, 2))\n",
    "column = 'PTINR'\n",
    "new_column_name = 'class_' + column\n",
    "df[new_column_name] = np.where(df[column] > 1.1, 1, 0)\n",
    "column = 'ALB'\n",
    "new_column_name = 'class_' + column\n",
    "df[new_column_name] = np.where(df[column] < 3.5, 0, np.where(df[column] < 3.8, 1, 2))\n",
    "column = 'CR'\n",
    "new_column_name = 'class_' + column\n",
    "df[new_column_name] = np.where(df[column] > 1.2, 1, 0)\n",
    "column = 'BILI'\n",
    "new_column_name = 'class_' + column\n",
    "df[new_column_name] = np.where(df[column] < 1.2, 0, np.where(df[column] < 2, 1, 2))\n",
    "column = 'ALT'\n",
    "new_column_name = 'class_' + column\n",
    "df[new_column_name] = np.where(df[column] < 40, 0, np.where(df[column] < 80, 1, 2))\n",
    "column = 'AST'\n",
    "new_column_name = 'class_' + column\n",
    "df[new_column_name] = np.where(df[column] < 40, 0, np.where(df[column] < 80, 1, 2))\n",
    "column = 'AFP'\n",
    "new_column_name = 'class_' + column\n",
    "df[new_column_name] = np.where(df[column] < 7, 0,\n",
    "                               np.where(df[column] < 10, 1,\n",
    "                                        np.where(df[column] < 20, 2,\n",
    "                                                 np.where(df[column] < 200, 3, \n",
    "                                                          np.where(df[column] < 400, 4,5)))))\n",
    "column = 'Age'\n",
    "new_column_name = 'class_' + column\n",
    "df[new_column_name] = np.where(df[column] < 50, 0,\n",
    "                               np.where(df[column] < 60, 1,\n",
    "                                        np.where(df[column] < 65, 2, 3, \n",
    "                                                          )))\n",
    "column = 'BMI'\n",
    "new_column_name = 'class_' + column\n",
    "df[new_column_name] = np.where(df[column] < 23, 0,\n",
    "                               np.where(df[column] < 25, 1,\n",
    "                                        np.where(df[column] < 27, 2,\n",
    "                                                 np.where(df[column] < 27.5, 3, \n",
    "                                                          np.where(df[column] < 30, 4,5)))))\n",
    "column = 'Tumor size'\n",
    "new_column_name = 'class_' + column\n",
    "df[new_column_name] = np.where(df[column] < 2, 0,\n",
    "                               np.where(df[column] < 3, 1,\n",
    "                                        np.where(df[column] < 4, 2,\n",
    "                                                 np.where(df[column] < 5, 3, \n",
    "                                                          np.where(df[column] < 10, 4,5)))))\n",
    "column = 'Tumor number'\n",
    "new_column_name = 'class_' + column\n",
    "df[new_column_name] = np.where(df[column] > 1, 1, 0)\n",
    "column = 'NLR'\n",
    "new_column_name = 'class_' + column\n",
    "df[new_column_name] = np.where(df[column] < 2.5, 0,\n",
    "                               np.where(df[column] < 3, 1,\n",
    "                                        np.where(df[column] < 4, 2,\n",
    "                                                 np.where(df[column] < 5, 3,4))))\n",
    "column = 'FIB4'\n",
    "new_column_name = 'class_' + column\n",
    "df[new_column_name] = np.where(df[column] > 3.25, 1, 0)\n",
    "\n",
    "\n",
    "df.to_csv('./data/early/HCC OP 20230511 test_early_input_derived features.csv',index=False)"
   ]
  },
  {
   "cell_type": "code",
   "execution_count": 13,
   "metadata": {},
   "outputs": [],
   "source": [
    "df = pd.read_csv('./data/early/HCC OP 20230511 test_early_input_derived features.csv')\n",
    "columns_to_ln = ['PLAT', 'BUN', 'CR','ALT','AST','AFP','GGT','CHOL','ALK-P', 'LDH','GLU']\n",
    "\n",
    "# 對指定欄位進行 ln 轉換並存儲為新欄位\n",
    "for column in columns_to_ln:\n",
    "    new_column_name = 'ln' + column\n",
    "    df[new_column_name] = np.log(df[column])\n",
    "\n",
    "df.to_csv('./data/early/HCC OP 20230511 test_early_input_derived features.csv',index=False)"
   ]
  },
  {
   "cell_type": "code",
   "execution_count": 16,
   "metadata": {},
   "outputs": [],
   "source": [
    "train = pd.read_csv('./data/early/HCC OP 20230511 train_early_input_derived features.csv')\n",
    "test = pd.read_csv('./data/early/HCC OP 20230511 test_early_input_derived features.csv')\n",
    "p_values = []\n",
    "for column in train.columns:\n",
    "    # 執行 t 檢定\n",
    "    _, p_value = ttest_ind(train[column], test[column])\n",
    "    p_values.append(p_value)\n",
    "\n",
    "# 打印 p-value\n",
    "for column, p_value in zip(train.columns, p_values):\n",
    "    #print(f\"{column}: p-value = {p_value}\")\n",
    "    if p_value < 0.05:\n",
    "        print(column)"
   ]
  },
  {
   "attachments": {},
   "cell_type": "markdown",
   "metadata": {},
   "source": [
    "正規化"
   ]
  },
  {
   "cell_type": "code",
   "execution_count": 18,
   "metadata": {},
   "outputs": [
    {
     "data": {
      "text/html": [
       "<div>\n",
       "<style scoped>\n",
       "    .dataframe tbody tr th:only-of-type {\n",
       "        vertical-align: middle;\n",
       "    }\n",
       "\n",
       "    .dataframe tbody tr th {\n",
       "        vertical-align: top;\n",
       "    }\n",
       "\n",
       "    .dataframe thead th {\n",
       "        text-align: right;\n",
       "    }\n",
       "</style>\n",
       "<table border=\"1\" class=\"dataframe\">\n",
       "  <thead>\n",
       "    <tr style=\"text-align: right;\">\n",
       "      <th></th>\n",
       "      <th>Milan_out</th>\n",
       "      <th>Age</th>\n",
       "      <th>Sex</th>\n",
       "      <th>Image_Vasulcar_invasion(Portal vein,Hepatic vein)</th>\n",
       "      <th>BCLC</th>\n",
       "      <th>Child_Class</th>\n",
       "      <th>Weight</th>\n",
       "      <th>Height</th>\n",
       "      <th>BMI</th>\n",
       "      <th>WBC</th>\n",
       "      <th>...</th>\n",
       "      <th>lnBUN</th>\n",
       "      <th>lnCR</th>\n",
       "      <th>lnALT</th>\n",
       "      <th>lnAST</th>\n",
       "      <th>lnAFP</th>\n",
       "      <th>lnGGT</th>\n",
       "      <th>lnCHOL</th>\n",
       "      <th>lnALK-P</th>\n",
       "      <th>lnLDH</th>\n",
       "      <th>lnGLU</th>\n",
       "    </tr>\n",
       "  </thead>\n",
       "  <tbody>\n",
       "    <tr>\n",
       "      <th>0</th>\n",
       "      <td>0.0</td>\n",
       "      <td>55.95</td>\n",
       "      <td>1.0</td>\n",
       "      <td>0.0</td>\n",
       "      <td>1.0</td>\n",
       "      <td>1.0</td>\n",
       "      <td>70.4</td>\n",
       "      <td>166.5</td>\n",
       "      <td>25.394764</td>\n",
       "      <td>4400.0</td>\n",
       "      <td>...</td>\n",
       "      <td>2.708050</td>\n",
       "      <td>0.307485</td>\n",
       "      <td>3.891820</td>\n",
       "      <td>3.555348</td>\n",
       "      <td>1.766442</td>\n",
       "      <td>4.465908</td>\n",
       "      <td>5.093750</td>\n",
       "      <td>4.248495</td>\n",
       "      <td>5.752573</td>\n",
       "      <td>4.948760</td>\n",
       "    </tr>\n",
       "    <tr>\n",
       "      <th>1</th>\n",
       "      <td>1.0</td>\n",
       "      <td>64.11</td>\n",
       "      <td>1.0</td>\n",
       "      <td>1.0</td>\n",
       "      <td>3.0</td>\n",
       "      <td>1.0</td>\n",
       "      <td>47.9</td>\n",
       "      <td>173.4</td>\n",
       "      <td>15.930791</td>\n",
       "      <td>5100.0</td>\n",
       "      <td>...</td>\n",
       "      <td>2.302585</td>\n",
       "      <td>-0.301105</td>\n",
       "      <td>3.135494</td>\n",
       "      <td>3.526361</td>\n",
       "      <td>5.780744</td>\n",
       "      <td>4.521789</td>\n",
       "      <td>5.147494</td>\n",
       "      <td>4.382027</td>\n",
       "      <td>5.501258</td>\n",
       "      <td>4.454347</td>\n",
       "    </tr>\n",
       "    <tr>\n",
       "      <th>2</th>\n",
       "      <td>1.0</td>\n",
       "      <td>48.93</td>\n",
       "      <td>1.0</td>\n",
       "      <td>0.0</td>\n",
       "      <td>1.0</td>\n",
       "      <td>1.0</td>\n",
       "      <td>85.5</td>\n",
       "      <td>170.4</td>\n",
       "      <td>29.446042</td>\n",
       "      <td>8900.0</td>\n",
       "      <td>...</td>\n",
       "      <td>2.944439</td>\n",
       "      <td>-0.051293</td>\n",
       "      <td>3.258097</td>\n",
       "      <td>3.465736</td>\n",
       "      <td>4.520375</td>\n",
       "      <td>3.610918</td>\n",
       "      <td>5.365976</td>\n",
       "      <td>4.369448</td>\n",
       "      <td>5.456645</td>\n",
       "      <td>4.574711</td>\n",
       "    </tr>\n",
       "    <tr>\n",
       "      <th>3</th>\n",
       "      <td>0.0</td>\n",
       "      <td>66.67</td>\n",
       "      <td>2.0</td>\n",
       "      <td>0.0</td>\n",
       "      <td>1.0</td>\n",
       "      <td>1.0</td>\n",
       "      <td>43.6</td>\n",
       "      <td>146.7</td>\n",
       "      <td>20.259385</td>\n",
       "      <td>4700.0</td>\n",
       "      <td>...</td>\n",
       "      <td>2.639057</td>\n",
       "      <td>-0.385662</td>\n",
       "      <td>3.258097</td>\n",
       "      <td>3.433987</td>\n",
       "      <td>1.383791</td>\n",
       "      <td>3.258097</td>\n",
       "      <td>5.293305</td>\n",
       "      <td>4.317488</td>\n",
       "      <td>5.351858</td>\n",
       "      <td>4.736198</td>\n",
       "    </tr>\n",
       "    <tr>\n",
       "      <th>4</th>\n",
       "      <td>0.0</td>\n",
       "      <td>47.24</td>\n",
       "      <td>2.0</td>\n",
       "      <td>0.0</td>\n",
       "      <td>1.0</td>\n",
       "      <td>1.0</td>\n",
       "      <td>44.9</td>\n",
       "      <td>157.0</td>\n",
       "      <td>18.215749</td>\n",
       "      <td>4900.0</td>\n",
       "      <td>...</td>\n",
       "      <td>4.219508</td>\n",
       "      <td>2.184927</td>\n",
       "      <td>3.218876</td>\n",
       "      <td>3.828641</td>\n",
       "      <td>4.770685</td>\n",
       "      <td>3.496508</td>\n",
       "      <td>5.278115</td>\n",
       "      <td>4.499810</td>\n",
       "      <td>5.929589</td>\n",
       "      <td>4.204693</td>\n",
       "    </tr>\n",
       "  </tbody>\n",
       "</table>\n",
       "<p>5 rows × 64 columns</p>\n",
       "</div>"
      ],
      "text/plain": [
       "   Milan_out    Age  Sex  Image_Vasulcar_invasion(Portal vein,Hepatic vein)  \\\n",
       "0        0.0  55.95  1.0                                                0.0   \n",
       "1        1.0  64.11  1.0                                                1.0   \n",
       "2        1.0  48.93  1.0                                                0.0   \n",
       "3        0.0  66.67  2.0                                                0.0   \n",
       "4        0.0  47.24  2.0                                                0.0   \n",
       "\n",
       "   BCLC  Child_Class  Weight  Height        BMI     WBC  ...     lnBUN  \\\n",
       "0   1.0          1.0    70.4   166.5  25.394764  4400.0  ...  2.708050   \n",
       "1   3.0          1.0    47.9   173.4  15.930791  5100.0  ...  2.302585   \n",
       "2   1.0          1.0    85.5   170.4  29.446042  8900.0  ...  2.944439   \n",
       "3   1.0          1.0    43.6   146.7  20.259385  4700.0  ...  2.639057   \n",
       "4   1.0          1.0    44.9   157.0  18.215749  4900.0  ...  4.219508   \n",
       "\n",
       "       lnCR     lnALT     lnAST     lnAFP     lnGGT    lnCHOL   lnALK-P  \\\n",
       "0  0.307485  3.891820  3.555348  1.766442  4.465908  5.093750  4.248495   \n",
       "1 -0.301105  3.135494  3.526361  5.780744  4.521789  5.147494  4.382027   \n",
       "2 -0.051293  3.258097  3.465736  4.520375  3.610918  5.365976  4.369448   \n",
       "3 -0.385662  3.258097  3.433987  1.383791  3.258097  5.293305  4.317488   \n",
       "4  2.184927  3.218876  3.828641  4.770685  3.496508  5.278115  4.499810   \n",
       "\n",
       "      lnLDH     lnGLU  \n",
       "0  5.752573  4.948760  \n",
       "1  5.501258  4.454347  \n",
       "2  5.456645  4.574711  \n",
       "3  5.351858  4.736198  \n",
       "4  5.929589  4.204693  \n",
       "\n",
       "[5 rows x 64 columns]"
      ]
     },
     "metadata": {},
     "output_type": "display_data"
    }
   ],
   "source": [
    "raw_df = pd.read_csv('./data/early/HCC OP 20230511 train_early_input_derived features.csv')\n",
    "raw_df_test = pd.read_csv('./data/early/HCC OP 20230511 test_early_input_derived features.csv')\n",
    "display(raw_df.head())"
   ]
  },
  {
   "cell_type": "code",
   "execution_count": 19,
   "metadata": {},
   "outputs": [],
   "source": [
    "X_train = raw_df.drop(columns=['Early recur','Early RFS'])\n",
    "y_train = raw_df[['Early recur','Early RFS']]\n",
    "X_test = raw_df_test.drop(columns=['Early recur','Early RFS'])\n",
    "y_test = raw_df_test[['Early recur','Early RFS']]"
   ]
  },
  {
   "cell_type": "code",
   "execution_count": 20,
   "metadata": {},
   "outputs": [
    {
     "data": {
      "text/html": [
       "<div>\n",
       "<style scoped>\n",
       "    .dataframe tbody tr th:only-of-type {\n",
       "        vertical-align: middle;\n",
       "    }\n",
       "\n",
       "    .dataframe tbody tr th {\n",
       "        vertical-align: top;\n",
       "    }\n",
       "\n",
       "    .dataframe thead th {\n",
       "        text-align: right;\n",
       "    }\n",
       "</style>\n",
       "<table border=\"1\" class=\"dataframe\">\n",
       "  <thead>\n",
       "    <tr style=\"text-align: right;\">\n",
       "      <th></th>\n",
       "      <th>Milan_out</th>\n",
       "      <th>Age</th>\n",
       "      <th>Sex</th>\n",
       "      <th>Image_Vasulcar_invasion(Portal vein,Hepatic vein)</th>\n",
       "      <th>BCLC</th>\n",
       "      <th>Child_Class</th>\n",
       "      <th>Weight</th>\n",
       "      <th>Height</th>\n",
       "      <th>BMI</th>\n",
       "      <th>WBC</th>\n",
       "      <th>...</th>\n",
       "      <th>lnBUN</th>\n",
       "      <th>lnCR</th>\n",
       "      <th>lnALT</th>\n",
       "      <th>lnAST</th>\n",
       "      <th>lnAFP</th>\n",
       "      <th>lnGGT</th>\n",
       "      <th>lnCHOL</th>\n",
       "      <th>lnALK-P</th>\n",
       "      <th>lnLDH</th>\n",
       "      <th>lnGLU</th>\n",
       "    </tr>\n",
       "  </thead>\n",
       "  <tbody>\n",
       "    <tr>\n",
       "      <th>1030</th>\n",
       "      <td>-0.839707</td>\n",
       "      <td>0.672319</td>\n",
       "      <td>-0.541987</td>\n",
       "      <td>-0.234619</td>\n",
       "      <td>-1.637194</td>\n",
       "      <td>-0.112784</td>\n",
       "      <td>-0.324485</td>\n",
       "      <td>-0.761871</td>\n",
       "      <td>0.130029</td>\n",
       "      <td>0.717070</td>\n",
       "      <td>...</td>\n",
       "      <td>-0.882297</td>\n",
       "      <td>0.591712</td>\n",
       "      <td>-0.765823</td>\n",
       "      <td>-1.197137</td>\n",
       "      <td>-0.778680</td>\n",
       "      <td>-1.348168</td>\n",
       "      <td>0.050245</td>\n",
       "      <td>-0.832577</td>\n",
       "      <td>0.696133</td>\n",
       "      <td>0.228922</td>\n",
       "    </tr>\n",
       "    <tr>\n",
       "      <th>1031</th>\n",
       "      <td>-0.839707</td>\n",
       "      <td>-0.871032</td>\n",
       "      <td>1.845062</td>\n",
       "      <td>-0.234619</td>\n",
       "      <td>-0.141611</td>\n",
       "      <td>-0.112784</td>\n",
       "      <td>-0.973151</td>\n",
       "      <td>-0.811753</td>\n",
       "      <td>-0.679637</td>\n",
       "      <td>-0.282153</td>\n",
       "      <td>...</td>\n",
       "      <td>-0.409391</td>\n",
       "      <td>-0.770694</td>\n",
       "      <td>0.277531</td>\n",
       "      <td>0.020281</td>\n",
       "      <td>0.737326</td>\n",
       "      <td>-0.184003</td>\n",
       "      <td>-0.571374</td>\n",
       "      <td>0.373724</td>\n",
       "      <td>2.344974</td>\n",
       "      <td>0.077270</td>\n",
       "    </tr>\n",
       "    <tr>\n",
       "      <th>1032</th>\n",
       "      <td>-0.839707</td>\n",
       "      <td>0.937964</td>\n",
       "      <td>1.845062</td>\n",
       "      <td>-0.234619</td>\n",
       "      <td>-0.141611</td>\n",
       "      <td>-0.112784</td>\n",
       "      <td>-1.246273</td>\n",
       "      <td>-0.300465</td>\n",
       "      <td>-1.322623</td>\n",
       "      <td>-1.231414</td>\n",
       "      <td>...</td>\n",
       "      <td>-0.409391</td>\n",
       "      <td>-0.851671</td>\n",
       "      <td>0.309903</td>\n",
       "      <td>0.224494</td>\n",
       "      <td>-0.890320</td>\n",
       "      <td>1.079346</td>\n",
       "      <td>-1.478030</td>\n",
       "      <td>-1.498519</td>\n",
       "      <td>-0.871508</td>\n",
       "      <td>0.231026</td>\n",
       "    </tr>\n",
       "    <tr>\n",
       "      <th>1033</th>\n",
       "      <td>1.190892</td>\n",
       "      <td>0.456380</td>\n",
       "      <td>-0.541987</td>\n",
       "      <td>-0.234619</td>\n",
       "      <td>-0.141611</td>\n",
       "      <td>-0.112784</td>\n",
       "      <td>0.255900</td>\n",
       "      <td>0.634817</td>\n",
       "      <td>-0.098657</td>\n",
       "      <td>1.216682</td>\n",
       "      <td>...</td>\n",
       "      <td>0.178406</td>\n",
       "      <td>0.225682</td>\n",
       "      <td>-0.765823</td>\n",
       "      <td>-1.385433</td>\n",
       "      <td>-1.049337</td>\n",
       "      <td>-0.775531</td>\n",
       "      <td>-1.635049</td>\n",
       "      <td>-1.188382</td>\n",
       "      <td>-1.293822</td>\n",
       "      <td>0.319989</td>\n",
       "    </tr>\n",
       "    <tr>\n",
       "      <th>1034</th>\n",
       "      <td>-0.839707</td>\n",
       "      <td>-0.698281</td>\n",
       "      <td>-0.541987</td>\n",
       "      <td>-0.234619</td>\n",
       "      <td>-0.141611</td>\n",
       "      <td>-0.112784</td>\n",
       "      <td>0.102269</td>\n",
       "      <td>-0.662108</td>\n",
       "      <td>0.607965</td>\n",
       "      <td>0.067575</td>\n",
       "      <td>...</td>\n",
       "      <td>-0.635980</td>\n",
       "      <td>-0.294832</td>\n",
       "      <td>0.930863</td>\n",
       "      <td>0.104944</td>\n",
       "      <td>-0.877596</td>\n",
       "      <td>1.011008</td>\n",
       "      <td>-0.120202</td>\n",
       "      <td>0.121290</td>\n",
       "      <td>-0.155773</td>\n",
       "      <td>0.435032</td>\n",
       "    </tr>\n",
       "  </tbody>\n",
       "</table>\n",
       "<p>5 rows × 62 columns</p>\n",
       "</div>"
      ],
      "text/plain": [
       "      Milan_out       Age       Sex  \\\n",
       "1030  -0.839707  0.672319 -0.541987   \n",
       "1031  -0.839707 -0.871032  1.845062   \n",
       "1032  -0.839707  0.937964  1.845062   \n",
       "1033   1.190892  0.456380 -0.541987   \n",
       "1034  -0.839707 -0.698281 -0.541987   \n",
       "\n",
       "      Image_Vasulcar_invasion(Portal vein,Hepatic vein)      BCLC  \\\n",
       "1030                                          -0.234619 -1.637194   \n",
       "1031                                          -0.234619 -0.141611   \n",
       "1032                                          -0.234619 -0.141611   \n",
       "1033                                          -0.234619 -0.141611   \n",
       "1034                                          -0.234619 -0.141611   \n",
       "\n",
       "      Child_Class    Weight    Height       BMI       WBC  ...     lnBUN  \\\n",
       "1030    -0.112784 -0.324485 -0.761871  0.130029  0.717070  ... -0.882297   \n",
       "1031    -0.112784 -0.973151 -0.811753 -0.679637 -0.282153  ... -0.409391   \n",
       "1032    -0.112784 -1.246273 -0.300465 -1.322623 -1.231414  ... -0.409391   \n",
       "1033    -0.112784  0.255900  0.634817 -0.098657  1.216682  ...  0.178406   \n",
       "1034    -0.112784  0.102269 -0.662108  0.607965  0.067575  ... -0.635980   \n",
       "\n",
       "          lnCR     lnALT     lnAST     lnAFP     lnGGT    lnCHOL   lnALK-P  \\\n",
       "1030  0.591712 -0.765823 -1.197137 -0.778680 -1.348168  0.050245 -0.832577   \n",
       "1031 -0.770694  0.277531  0.020281  0.737326 -0.184003 -0.571374  0.373724   \n",
       "1032 -0.851671  0.309903  0.224494 -0.890320  1.079346 -1.478030 -1.498519   \n",
       "1033  0.225682 -0.765823 -1.385433 -1.049337 -0.775531 -1.635049 -1.188382   \n",
       "1034 -0.294832  0.930863  0.104944 -0.877596  1.011008 -0.120202  0.121290   \n",
       "\n",
       "         lnLDH     lnGLU  \n",
       "1030  0.696133  0.228922  \n",
       "1031  2.344974  0.077270  \n",
       "1032 -0.871508  0.231026  \n",
       "1033 -1.293822  0.319989  \n",
       "1034 -0.155773  0.435032  \n",
       "\n",
       "[5 rows x 62 columns]"
      ]
     },
     "metadata": {},
     "output_type": "display_data"
    },
    {
     "data": {
      "text/html": [
       "<div>\n",
       "<style scoped>\n",
       "    .dataframe tbody tr th:only-of-type {\n",
       "        vertical-align: middle;\n",
       "    }\n",
       "\n",
       "    .dataframe tbody tr th {\n",
       "        vertical-align: top;\n",
       "    }\n",
       "\n",
       "    .dataframe thead th {\n",
       "        text-align: right;\n",
       "    }\n",
       "</style>\n",
       "<table border=\"1\" class=\"dataframe\">\n",
       "  <thead>\n",
       "    <tr style=\"text-align: right;\">\n",
       "      <th></th>\n",
       "      <th>Early recur</th>\n",
       "      <th>Early RFS</th>\n",
       "    </tr>\n",
       "  </thead>\n",
       "  <tbody>\n",
       "    <tr>\n",
       "      <th>1030</th>\n",
       "      <td>0.0</td>\n",
       "      <td>24.0</td>\n",
       "    </tr>\n",
       "    <tr>\n",
       "      <th>1031</th>\n",
       "      <td>0.0</td>\n",
       "      <td>24.0</td>\n",
       "    </tr>\n",
       "    <tr>\n",
       "      <th>1032</th>\n",
       "      <td>0.0</td>\n",
       "      <td>24.0</td>\n",
       "    </tr>\n",
       "    <tr>\n",
       "      <th>1033</th>\n",
       "      <td>0.0</td>\n",
       "      <td>24.0</td>\n",
       "    </tr>\n",
       "    <tr>\n",
       "      <th>1034</th>\n",
       "      <td>0.0</td>\n",
       "      <td>24.0</td>\n",
       "    </tr>\n",
       "  </tbody>\n",
       "</table>\n",
       "</div>"
      ],
      "text/plain": [
       "      Early recur  Early RFS\n",
       "1030          0.0       24.0\n",
       "1031          0.0       24.0\n",
       "1032          0.0       24.0\n",
       "1033          0.0       24.0\n",
       "1034          0.0       24.0"
      ]
     },
     "metadata": {},
     "output_type": "display_data"
    }
   ],
   "source": [
    "scaler = StandardScaler()\n",
    "scaler.fit(X_train)\n",
    "scaled_X_train = pd.DataFrame(scaler.transform(X_train), columns=X_train.columns)\n",
    "scaled_X_test = pd.DataFrame(scaler.transform(X_test), columns=X_test.columns)\n",
    "display(scaled_X_train.tail())\n",
    "display(y_train.tail())"
   ]
  },
  {
   "cell_type": "code",
   "execution_count": 21,
   "metadata": {},
   "outputs": [
    {
     "data": {
      "text/plain": [
       "['./data/early/HCC OP 20230511 train_early_input_derived features_scaler.bin']"
      ]
     },
     "execution_count": 21,
     "metadata": {},
     "output_type": "execute_result"
    }
   ],
   "source": [
    "scaled_data = pd.concat([scaled_X_train, y_train], axis=1)\n",
    "scaled_data_test = pd.concat([scaled_X_test, y_test], axis=1)\n",
    "scaled_data.to_csv('./data/early/HCC OP 20230511 train_early_input_derived features_std.csv',index=False)\n",
    "scaled_data_test.to_csv('./data/early/HCC OP 20230511 test_early_input_derived features_std.csv',index=False)\n",
    "joblib.dump(scaler, './data/early/HCC OP 20230511 train_early_input_derived features_scaler.bin')"
   ]
  },
  {
   "attachments": {},
   "cell_type": "markdown",
   "metadata": {},
   "source": [
    "確認分布"
   ]
  },
  {
   "cell_type": "code",
   "execution_count": 3,
   "metadata": {},
   "outputs": [
    {
     "data": {
      "image/png": "[encoded data removed]",
      "text/plain": [
       "<Figure size 640x480 with 1 Axes>"
      ]
     },
     "metadata": {},
     "output_type": "display_data"
    },
    {
     "data": {
      "image/png": "[encoded data removed]",
      "text/plain": [
       "<Figure size 1000x600 with 1 Axes>"
      ]
     },
     "metadata": {},
     "output_type": "display_data"
    }
   ],
   "source": [
    "import seaborn as sns\n",
    "import matplotlib.pyplot as plt\n",
    "test = pd.read_csv('./data/early/HCC OP 20230511 train_early_input_derived features_std.csv')\n",
    "# 绘制train['recur']的圆饼图\n",
    "counts = test['Early recur'].value_counts().to_dict()\n",
    "counts_keys = list(counts.keys())\n",
    "counts_keys.sort()\n",
    "counts = {k: counts[k] for k in counts_keys}\n",
    "fig, ax = plt.subplots()\n",
    "colors = sns.color_palette(\"Set2\")[:len(counts.keys())]\n",
    "ax.set_title('Early recur', fontdict={'size': 20})\n",
    "ax.pie(counts.values(), labels=counts.keys(), colors=colors, autopct='%1.1f%%', textprops={'fontsize': 14})\n",
    "plt.show()\n",
    "\n",
    "# 绘制train['Early recurrence free survival']和train['Early recur']的箱线图\n",
    "plt.figure(figsize=(10, 6))  # 设置图形的大小（可选）\n",
    "sns.boxplot(x=test[\"Early recur\"], y=test[\"Early RFS\"], palette=sns.color_palette(\"Set2\"))\n",
    "plt.xlabel('Early recur', fontsize=14)  # 设置x轴标签\n",
    "plt.ylabel('Recurrence free survival', fontsize=14)  # 设置y轴标签\n",
    "plt.title('Boxplot of Recurrence free survival by recur', fontsize=16)  # 设置图形标题\n",
    "plt.show()"
   ]
  },
  {
   "cell_type": "code",
   "execution_count": 4,
   "metadata": {},
   "outputs": [
    {
     "data": {
      "image/png": "[encoded data removed]",
      "text/plain": [
       "<Figure size 640x480 with 1 Axes>"
      ]
     },
     "metadata": {},
     "output_type": "display_data"
    },
    {
     "data": {
      "image/png": "[encoded data removed]",
      "text/plain": [
       "<Figure size 1000x600 with 1 Axes>"
      ]
     },
     "metadata": {},
     "output_type": "display_data"
    }
   ],
   "source": [
    "import seaborn as sns\n",
    "import matplotlib.pyplot as plt\n",
    "test = pd.read_csv('./data/early/HCC OP 20230511 test_early_input_derived features_std.csv')\n",
    "# 绘制train['recur']的圆饼图\n",
    "counts = test['Early recur'].value_counts().to_dict()\n",
    "counts_keys = list(counts.keys())\n",
    "counts_keys.sort()\n",
    "counts = {k: counts[k] for k in counts_keys}\n",
    "fig, ax = plt.subplots()\n",
    "colors = sns.color_palette(\"Set2\")[:len(counts.keys())]\n",
    "ax.set_title('Early recur', fontdict={'size': 20})\n",
    "ax.pie(counts.values(), labels=counts.keys(), colors=colors, autopct='%1.1f%%', textprops={'fontsize': 14})\n",
    "plt.show()\n",
    "\n",
    "# 绘制train['Early recurrence free survival']和train['Early recur']的箱线图\n",
    "plt.figure(figsize=(10, 6))  # 设置图形的大小（可选）\n",
    "sns.boxplot(x=test[\"Early recur\"], y=test[\"Early RFS\"], palette=sns.color_palette(\"Set2\"))\n",
    "plt.xlabel('Early recur', fontsize=14)  # 设置x轴标签\n",
    "plt.ylabel('Recurrence free survival', fontsize=14)  # 设置y轴标签\n",
    "plt.title('Boxplot of Recurrence free survival by recur', fontsize=16)  # 设置图形标题\n",
    "plt.show()"
   ]
  },
  {
   "cell_type": "code",
   "execution_count": 15,
   "metadata": {},
   "outputs": [
    {
     "data": {
      "image/png": "[encoded data removed]",
      "text/plain": [
       "<Figure size 640x480 with 1 Axes>"
      ]
     },
     "metadata": {},
     "output_type": "display_data"
    }
   ],
   "source": [
    "import pandas as pd\n",
    "import matplotlib.pyplot as plt\n",
    "test = pd.read_csv('./data/early/HCC OP 20230511 train_early_input_derived features_std.csv')\n",
    "filtered_data = test[test['Early recur'] == 0]\n",
    "\n",
    "# 提取 'time' 欄位數值\n",
    "time_values = filtered_data['Early RFS']\n",
    "\n",
    "# 繪製直方圖\n",
    "plt.hist(time_values, bins=10, edgecolor='black')\n",
    "\n",
    "# 設定圖表標籤和標題\n",
    "plt.xlabel('Time')\n",
    "plt.ylabel('people')\n",
    "plt.title(\"Histogram of 'time' for 'early_recur' = 0\")\n",
    "\n",
    "# 顯示圖表\n",
    "plt.show()\n"
   ]
  }
 ],
 "metadata": {
  "kernelspec": {
   "display_name": "OP_RFA",
   "language": "python",
   "name": "python3"
  },
  "language_info": {
   "codemirror_mode": {
    "name": "ipython",
    "version": 3
   },
   "file_extension": ".py",
   "mimetype": "text/x-python",
   "name": "python",
   "nbconvert_exporter": "python",
   "pygments_lexer": "ipython3",
   "version": "3.10.9"
  },
  "orig_nbformat": 4
 },
 "nbformat": 4,
 "nbformat_minor": 2
}
