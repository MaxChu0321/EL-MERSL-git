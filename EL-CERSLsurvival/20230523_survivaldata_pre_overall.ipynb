{
 "cells": [
  {
   "cell_type": "code",
   "execution_count": 109,
   "metadata": {},
   "outputs": [],
   "source": [
    "import pandas as pd\n",
    "import numpy as np\n",
    "import random\n",
    "from sklearn.impute import KNNImputer\n",
    "from sklearn.model_selection import StratifiedShuffleSplit\n",
    "import seaborn as sns\n",
    "import matplotlib.pyplot as plt\n",
    "from scipy.stats import ttest_ind\n",
    "from sklearn.preprocessing import StandardScaler\n",
    "import joblib"
   ]
  },
  {
   "cell_type": "code",
   "execution_count": 110,
   "metadata": {},
   "outputs": [
    {
     "data": {
      "text/plain": [
       "2261"
      ]
     },
     "execution_count": 110,
     "metadata": {},
     "output_type": "execute_result"
    }
   ],
   "source": [
    "df = pd.read_csv('./data/HCC OP+RFA 20230511 n=2261 去名化.csv')\n",
    "df.head()\n",
    "len(df)"
   ]
  },
  {
   "cell_type": "code",
   "execution_count": 111,
   "metadata": {},
   "outputs": [
    {
     "name": "stderr",
     "output_type": "stream",
     "text": [
      "c:\\Users\\Max\\anaconda3\\envs\\OP_RFA\\lib\\site-packages\\pandas\\core\\internals\\blocks.py:2323: RuntimeWarning: invalid value encountered in cast\n",
      "  values = values.astype(str)\n"
     ]
    },
    {
     "data": {
      "text/plain": [
       "1480"
      ]
     },
     "execution_count": 111,
     "metadata": {},
     "output_type": "execute_result"
    }
   ],
   "source": [
    "df = df.drop(df[df['Treatment'] == 2].index)\n",
    "df.to_csv('./data/HCC OP 20230511 n=2261 去名化.csv',index=False)\n",
    "len(df)"
   ]
  },
  {
   "cell_type": "code",
   "execution_count": 112,
   "metadata": {},
   "outputs": [],
   "source": [
    "selected_features = [\n",
    "    'OP&RFA Data ID','ISD number','20230511 OP_NAP','Milan_out', 'Age', 'Sex', 'Image_Vasulcar_invasion(Portal vein,Hepatic vein)', 'BCLC', 'Child_Class'\n",
    "    , 'Weight', 'Height', 'BMI', 'WBC', 'HB', 'PLAT', 'PTINR', 'ALB', 'Na', 'K', 'CHOL','BUN', 'CR', 'BILI','ALK-P','LDH'\n",
    "    , 'ALT', 'AST', 'APRI','FIB4', 'NLR','GLU','GGT', 'AFP', 'HBsAg', 'HCV'\n",
    "    , 'alcoholism', 'Tumor size', 'Tumor number', 'ALBIscore', 'ALBIgrade'\n",
    "]\n",
    "selected_features_post = ['Histologic grade', 'MVI', 'Inflammation', 'Ishak', 'Steatosis grade']\n",
    "selected_labels = ['Recur', 'Recurrence free survival','Early recur','Early RFS','Late recur','Late RFS']"
   ]
  },
  {
   "cell_type": "code",
   "execution_count": 113,
   "metadata": {},
   "outputs": [
    {
     "name": "stderr",
     "output_type": "stream",
     "text": [
      "c:\\Users\\Max\\anaconda3\\envs\\OP_RFA\\lib\\site-packages\\pandas\\core\\internals\\blocks.py:2323: RuntimeWarning: invalid value encountered in cast\n",
      "  values = values.astype(str)\n"
     ]
    },
    {
     "name": "stdout",
     "output_type": "stream",
     "text": [
      "1480\n"
     ]
    }
   ],
   "source": [
    "df = pd.read_csv('./data/HCC OP 20230511 n=2261 去名化.csv')\n",
    "df_op = df[ selected_features+selected_labels]\n",
    "df_op.to_csv('./data/pre_overall/HCC OP survival data.csv',index=False)\n",
    "print(len(df_op))"
   ]
  },
  {
   "attachments": {},
   "cell_type": "markdown",
   "metadata": {},
   "source": [
    "統計每個欄位的缺值\n",
    "- ISD number 缺 758\n",
    "- Late recur,Late RFS 缺 652\n",
    "- 其他都缺不多，最多的為CHOL:147筆 ,Steatosis grade : 153筆"
   ]
  },
  {
   "cell_type": "code",
   "execution_count": 114,
   "metadata": {},
   "outputs": [
    {
     "name": "stdout",
     "output_type": "stream",
     "text": [
      "                                               Column  NaN_Count\n",
      "0                                      OP&RFA Data ID          0\n",
      "1                                          ISD number        758\n",
      "2                                     20230511 OP_NAP        876\n",
      "3                                           Milan_out          0\n",
      "4                                                 Age          0\n",
      "5                                                 Sex          0\n",
      "6   Image_Vasulcar_invasion(Portal vein,Hepatic vein)          0\n",
      "7                                                BCLC          0\n",
      "8                                         Child_Class          0\n",
      "9                                              Weight         21\n",
      "10                                             Height         25\n",
      "11                                                BMI         25\n",
      "12                                                WBC          0\n",
      "13                                                 HB          0\n",
      "14                                               PLAT          0\n",
      "15                                              PTINR          0\n",
      "16                                                ALB          0\n",
      "17                                                 Na          0\n",
      "18                                                  K          0\n",
      "19                                               CHOL        147\n",
      "20                                                BUN          0\n",
      "21                                                 CR          0\n",
      "22                                               BILI          0\n",
      "23                                              ALK-P         13\n",
      "24                                                LDH        124\n",
      "25                                                ALT          0\n",
      "26                                                AST          3\n",
      "27                                               APRI          3\n",
      "28                                               FIB4          3\n",
      "29                                                NLR          6\n",
      "30                                                GLU         57\n",
      "31                                                GGT         14\n",
      "32                                                AFP          1\n",
      "33                                              HBsAg          0\n",
      "34                                                HCV          0\n",
      "35                                         alcoholism         19\n",
      "36                                         Tumor size          0\n",
      "37                                       Tumor number          0\n",
      "38                                          ALBIscore          0\n",
      "39                                          ALBIgrade          0\n",
      "40                                              Recur          0\n",
      "41                           Recurrence free survival          0\n",
      "42                                        Early recur          0\n",
      "43                                          Early RFS          0\n",
      "44                                         Late recur        652\n",
      "45                                           Late RFS        652\n"
     ]
    }
   ],
   "source": [
    "df_op = pd.read_csv('./data/pre_overall/HCC OP survival data.csv')\n",
    "nan_counts = df_op.isnull().sum()\n",
    "result_df = pd.DataFrame({'Column': nan_counts.index, 'NaN_Count': nan_counts.values})\n",
    "print(result_df)"
   ]
  },
  {
   "attachments": {},
   "cell_type": "markdown",
   "metadata": {},
   "source": [
    "分成三相位齊全跟不齊全的資料集"
   ]
  },
  {
   "cell_type": "code",
   "execution_count": 115,
   "metadata": {},
   "outputs": [
    {
     "name": "stdout",
     "output_type": "stream",
     "text": [
      "604 604\n"
     ]
    },
    {
     "name": "stderr",
     "output_type": "stream",
     "text": [
      "c:\\Users\\Max\\anaconda3\\envs\\OP_RFA\\lib\\site-packages\\pandas\\core\\internals\\blocks.py:2323: RuntimeWarning: invalid value encountered in cast\n",
      "  values = values.astype(str)\n"
     ]
    }
   ],
   "source": [
    "df = pd.read_csv('./data/pre_overall/HCC OP survival data.csv')\n",
    "matched_cases = df[df['20230511 OP_NAP'] == 1]['ISD number']\n",
    "\n",
    "matched_cases_data = df[df['ISD number'].isin(matched_cases)]\n",
    "matched_cases_data.to_csv('./data/pre_overall/HCC OP 20230511 allNAP.csv',index=False)\n",
    "print(len(matched_cases),len(matched_cases_data))"
   ]
  },
  {
   "cell_type": "code",
   "execution_count": 116,
   "metadata": {},
   "outputs": [
    {
     "data": {
      "text/plain": [
       "876"
      ]
     },
     "execution_count": 116,
     "metadata": {},
     "output_type": "execute_result"
    }
   ],
   "source": [
    "for case in matched_cases:\n",
    "    df = df.drop(df[df['ISD number'] == case].index)\n",
    "df.to_csv('./data/pre_overall/HCC OP 20230511 incompleteNAP.csv',index=False)\n",
    "len(df)"
   ]
  },
  {
   "attachments": {},
   "cell_type": "markdown",
   "metadata": {},
   "source": [
    "統計個案缺值數量\n",
    "- HCC OP 20230511 allNAP_v1 是刪除了[ 'Late recur','Late RFS','ISD number','20230511 OP_NAP']\n",
    "- HCC OP 20230511 incompleteNAP_v1 是刪除了[ 'Late recur','Late RFS','ISD number','20230511 OP_NAP']"
   ]
  },
  {
   "cell_type": "code",
   "execution_count": 117,
   "metadata": {},
   "outputs": [
    {
     "name": "stderr",
     "output_type": "stream",
     "text": [
      "c:\\Users\\Max\\anaconda3\\envs\\OP_RFA\\lib\\site-packages\\pandas\\core\\internals\\blocks.py:2323: RuntimeWarning: invalid value encountered in cast\n",
      "  values = values.astype(str)\n"
     ]
    }
   ],
   "source": [
    "df_NAP = pd.read_csv('./data/pre_overall/HCC OP 20230511 allNAP.csv')\n",
    "df_NAP = df_NAP.drop(columns=[ 'Late recur','Late RFS','ISD number','20230511 OP_NAP'])\n",
    "num = df_NAP.isna().T.sum()\n",
    "df_NAP['Eachcase Nan count'] = num\n",
    "df_NAP.to_csv('./data/pre_overall/HCC OP 20230511 allNAP_v1.csv',index=False)\n"
   ]
  },
  {
   "cell_type": "code",
   "execution_count": 118,
   "metadata": {},
   "outputs": [
    {
     "name": "stdout",
     "output_type": "stream",
     "text": [
      "   Eachcase Nan count  Percentage\n",
      "0                 494   81.788079\n",
      "1                  42    6.953642\n",
      "2                  39    6.456954\n",
      "3                  17    2.814570\n",
      "4                   8    1.324503\n",
      "5                   4    0.662252\n"
     ]
    }
   ],
   "source": [
    "column_name = 'Eachcase Nan count'\n",
    "value_counts = df_NAP[column_name].value_counts()\n",
    "# 計算總資料數\n",
    "total_count = value_counts.sum()\n",
    "# 計算各數值佔總資料的百分比\n",
    "percentages = value_counts / total_count * 100\n",
    "# 將數值數量和百分比合併為一個DataFrame\n",
    "result = pd.concat([value_counts, percentages], axis=1, keys=['Eachcase Nan count', 'Percentage'])\n",
    "# 輸出結果\n",
    "print(result)"
   ]
  },
  {
   "cell_type": "code",
   "execution_count": 119,
   "metadata": {},
   "outputs": [
    {
     "name": "stdout",
     "output_type": "stream",
     "text": [
      "604\n"
     ]
    },
    {
     "name": "stderr",
     "output_type": "stream",
     "text": [
      "c:\\Users\\Max\\anaconda3\\envs\\OP_RFA\\lib\\site-packages\\pandas\\core\\internals\\blocks.py:2323: RuntimeWarning: invalid value encountered in cast\n",
      "  values = values.astype(str)\n"
     ]
    }
   ],
   "source": [
    "df = pd.read_csv('./data/pre_overall/HCC OP 20230511 allNAP_v1.csv')\n",
    "\n",
    "# 丟掉 num 欄位數值大於 5 的案例\n",
    "df_filtered = df[df['Eachcase Nan count'] < 6]\n",
    "print(len(df_filtered))\n",
    "df_filtered.to_csv('./data/pre_overall/HCC OP 20230511 allNAP_v1.csv',index=False)"
   ]
  },
  {
   "cell_type": "code",
   "execution_count": 120,
   "metadata": {},
   "outputs": [
    {
     "name": "stderr",
     "output_type": "stream",
     "text": [
      "c:\\Users\\Max\\anaconda3\\envs\\OP_RFA\\lib\\site-packages\\pandas\\core\\internals\\blocks.py:2323: RuntimeWarning: invalid value encountered in cast\n",
      "  values = values.astype(str)\n"
     ]
    }
   ],
   "source": [
    "df_incomplete = pd.read_csv('./data/pre_overall/HCC OP 20230511 incompleteNAP.csv')\n",
    "df_incomplete = df_incomplete.drop(columns=[ 'Late recur','Late RFS','ISD number','20230511 OP_NAP'])\n",
    "num = df_incomplete.isna().T.sum()\n",
    "df_incomplete['Eachcase Nan count'] = num\n",
    "df_incomplete.to_csv('./data/pre_overall/HCC OP 20230511 incompleteNAP_v1.csv',index=False)"
   ]
  },
  {
   "cell_type": "code",
   "execution_count": 121,
   "metadata": {},
   "outputs": [
    {
     "name": "stdout",
     "output_type": "stream",
     "text": [
      "   Eachcase Nan count  Percentage\n",
      "0                 760   86.757991\n",
      "1                  41    4.680365\n",
      "2                  38    4.337900\n",
      "3                  30    3.424658\n",
      "4                   4    0.456621\n",
      "5                   3    0.342466\n"
     ]
    }
   ],
   "source": [
    "column_name = 'Eachcase Nan count'\n",
    "value_counts = df_incomplete[column_name].value_counts()\n",
    "# 計算總資料數\n",
    "total_count = value_counts.sum()\n",
    "# 計算各數值佔總資料的百分比\n",
    "percentages = value_counts / total_count * 100\n",
    "# 將數值數量和百分比合併為一個DataFrame\n",
    "result = pd.concat([value_counts, percentages], axis=1, keys=['Eachcase Nan count', 'Percentage'])\n",
    "# 輸出結果\n",
    "print(result)"
   ]
  },
  {
   "attachments": {},
   "cell_type": "markdown",
   "metadata": {},
   "source": [
    "切資料集"
   ]
  },
  {
   "cell_type": "code",
   "execution_count": 122,
   "metadata": {},
   "outputs": [],
   "source": [
    "df_NAP = pd.read_csv('./data/pre_overall/HCC OP 20230511 allNAP_v1.csv')\n",
    "df_incomplete = pd.read_csv('./data/pre_overall/HCC OP 20230511 incompleteNAP_v1.csv')"
   ]
  },
  {
   "cell_type": "code",
   "execution_count": 123,
   "metadata": {},
   "outputs": [
    {
     "name": "stdout",
     "output_type": "stream",
     "text": [
      "604 876\n"
     ]
    }
   ],
   "source": [
    "print(len(df_NAP),len(df_incomplete))"
   ]
  },
  {
   "cell_type": "code",
   "execution_count": 124,
   "metadata": {},
   "outputs": [],
   "source": [
    "random_num= 321\n",
    "X = df_NAP.drop(columns=['Recur', 'Recurrence free survival','Early recur','Early RFS'])\n",
    "y_death = df_NAP['Recur']  # 是否死亡\n",
    "X_miss = df_incomplete.drop(columns=['Recur', 'Recurrence free survival','Early recur','Early RFS'])\n",
    "y_death_miss = df_incomplete['Recur']  # 是否死亡"
   ]
  },
  {
   "cell_type": "code",
   "execution_count": 125,
   "metadata": {},
   "outputs": [],
   "source": [
    "sss = StratifiedShuffleSplit(n_splits=1, test_size=0.3, random_state=random_num)\n",
    "results = sss.split(X, y_death)\n",
    "train_index, test_index = results.__next__()\n",
    "results_miss = sss.split(X_miss, y_death_miss)\n",
    "train_index_miss, test_index_miss = results_miss.__next__()"
   ]
  },
  {
   "cell_type": "code",
   "execution_count": 126,
   "metadata": {},
   "outputs": [
    {
     "name": "stdout",
     "output_type": "stream",
     "text": [
      "Train: 422\n"
     ]
    },
    {
     "data": {
      "text/plain": [
       "1    256\n",
       "0    166\n",
       "Name: Recur, dtype: int64"
      ]
     },
     "metadata": {},
     "output_type": "display_data"
    },
    {
     "name": "stdout",
     "output_type": "stream",
     "text": [
      "Test: 182\n"
     ]
    },
    {
     "data": {
      "text/plain": [
       "1    111\n",
       "0     71\n",
       "Name: Recur, dtype: int64"
      ]
     },
     "metadata": {},
     "output_type": "display_data"
    },
    {
     "name": "stdout",
     "output_type": "stream",
     "text": [
      "Train_miss: 613\n"
     ]
    },
    {
     "data": {
      "text/plain": [
       "1    323\n",
       "0    290\n",
       "Name: Recur, dtype: int64"
      ]
     },
     "metadata": {},
     "output_type": "display_data"
    },
    {
     "name": "stdout",
     "output_type": "stream",
     "text": [
      "Test_miss: 263\n"
     ]
    },
    {
     "data": {
      "text/plain": [
       "1    138\n",
       "0    125\n",
       "Name: Recur, dtype: int64"
      ]
     },
     "metadata": {},
     "output_type": "display_data"
    }
   ],
   "source": [
    "print(f\"Train: {len(train_index)}\")\n",
    "display(df_NAP.iloc[train_index].Recur.value_counts())\n",
    "print(f\"Test: {len(test_index)}\")\n",
    "display(df_NAP.iloc[test_index].Recur.value_counts())\n",
    "print(f\"Train_miss: {len(train_index_miss)}\")\n",
    "display(df_incomplete.iloc[train_index_miss].Recur.value_counts())\n",
    "print(f\"Test_miss: {len(test_index_miss)}\")\n",
    "display(df_incomplete.iloc[test_index_miss].Recur.value_counts())"
   ]
  },
  {
   "cell_type": "code",
   "execution_count": 127,
   "metadata": {},
   "outputs": [],
   "source": [
    "train_df = df_NAP.iloc[train_index]\n",
    "test_df = df_NAP.iloc[test_index]\n",
    "train_df_miss = df_incomplete.iloc[train_index_miss]\n",
    "test_df_miss = df_incomplete.iloc[test_index_miss]"
   ]
  },
  {
   "cell_type": "code",
   "execution_count": 128,
   "metadata": {},
   "outputs": [],
   "source": [
    "train_df = train_df.sample(frac=1, random_state=random_num).sample(frac=1, random_state=random_num).reset_index(drop=True)\n",
    "test_df = test_df.sample(frac=1, random_state=random_num).sample(frac=1, random_state=random_num).reset_index(drop=True)\n",
    "train_df_miss = train_df_miss.sample(frac=1, random_state=random_num).sample(frac=1, random_state=random_num).reset_index(drop=True)\n",
    "test_df_miss = test_df_miss.sample(frac=1, random_state=random_num).sample(frac=1, random_state=random_num).reset_index(drop=True)"
   ]
  },
  {
   "cell_type": "code",
   "execution_count": 129,
   "metadata": {},
   "outputs": [
    {
     "name": "stderr",
     "output_type": "stream",
     "text": [
      "c:\\Users\\Max\\anaconda3\\envs\\OP_RFA\\lib\\site-packages\\pandas\\core\\internals\\blocks.py:2323: RuntimeWarning: invalid value encountered in cast\n",
      "  values = values.astype(str)\n"
     ]
    }
   ],
   "source": [
    "train_df.to_csv(\"./data/pre_overall/HCC OP 20230511 allNAP_v1_train.csv\", index=False)\n",
    "test_df.to_csv(\"./data/pre_overall/HCC OP 20230511 allNAP_v1_test.csv\", index=False)\n",
    "train_df_miss.to_csv(\"./data/pre_overall/HCC OP 20230511 incompleteNAP_v1_train.csv\", index=False)\n",
    "test_df_miss.to_csv(\"./data/pre_overall/HCC OP 20230511 incompleteNAP_v1_test.csv\", index=False)"
   ]
  },
  {
   "cell_type": "code",
   "execution_count": 130,
   "metadata": {},
   "outputs": [
    {
     "name": "stdout",
     "output_type": "stream",
     "text": [
      "422 182 613 263\n"
     ]
    }
   ],
   "source": [
    "print(len(train_df),len(test_df),len(train_df_miss),len(test_df_miss))"
   ]
  },
  {
   "attachments": {},
   "cell_type": "markdown",
   "metadata": {},
   "source": [
    "HCC OP 20230511 train.csv ,HCC OP 20230511 test.csv是包含recur 跟 early recur兩種"
   ]
  },
  {
   "cell_type": "code",
   "execution_count": 131,
   "metadata": {},
   "outputs": [
    {
     "name": "stdout",
     "output_type": "stream",
     "text": [
      "1035 445\n"
     ]
    }
   ],
   "source": [
    "combined_train = pd.concat([train_df, train_df_miss], axis=0)\n",
    "combined_test = pd.concat([test_df, test_df_miss], axis=0)\n",
    "combined_train.to_csv('./data/pre_overall/HCC OP 20230511 train.csv',index=False)\n",
    "combined_test.to_csv('./data/pre_overall/HCC OP 20230511 test.csv',index=False)\n",
    "print(len(combined_train),len(combined_test))"
   ]
  },
  {
   "cell_type": "code",
   "execution_count": 132,
   "metadata": {},
   "outputs": [
    {
     "name": "stderr",
     "output_type": "stream",
     "text": [
      "c:\\Users\\Max\\anaconda3\\envs\\OP_RFA\\lib\\site-packages\\pandas\\core\\internals\\blocks.py:2323: RuntimeWarning: invalid value encountered in cast\n",
      "  values = values.astype(str)\n"
     ]
    }
   ],
   "source": [
    "combined_train = combined_train.drop(columns=['Early recur', 'Early RFS'])\n",
    "combined_test = combined_test.drop(columns=['Early recur', 'Early RFS'])\n",
    "combined_train.to_csv('./data/pre_overall/HCC OP 20230511 train_pre_overall.csv',index=False)\n",
    "combined_test.to_csv('./data/pre_overall/HCC OP 20230511 test_pre_overall.csv',index=False)"
   ]
  },
  {
   "cell_type": "code",
   "execution_count": 133,
   "metadata": {},
   "outputs": [
    {
     "name": "stdout",
     "output_type": "stream",
     "text": [
      "1035 445\n"
     ]
    }
   ],
   "source": [
    "print(len(combined_train),len(combined_test))"
   ]
  },
  {
   "attachments": {},
   "cell_type": "markdown",
   "metadata": {},
   "source": [
    "看資料分布"
   ]
  },
  {
   "cell_type": "code",
   "execution_count": 134,
   "metadata": {},
   "outputs": [
    {
     "data": {
      "image/png": "[encoded data removed]",
      "text/plain": [
       "<Figure size 640x480 with 1 Axes>"
      ]
     },
     "metadata": {},
     "output_type": "display_data"
    }
   ],
   "source": [
    "test = pd.read_csv('./data/pre_overall/HCC OP 20230511 train_pre_overall.csv')\n",
    "# 绘制train['recur']的圆饼图\n",
    "counts = test['Recur'].value_counts().to_dict()\n",
    "counts_keys = list(counts.keys())\n",
    "counts_keys.sort()\n",
    "counts = {k: counts[k] for k in counts_keys}\n",
    "fig, ax = plt.subplots()\n",
    "colors = sns.color_palette(\"Set2\")[:len(counts.keys())]\n",
    "ax.set_title('Training_Recur', fontdict={'size': 20})\n",
    "ax.pie(counts.values(), labels=counts.keys(), colors=colors, autopct='%1.1f%%', textprops={'fontsize': 14})\n",
    "#plt.savefig('./data_cluster/統計圖表/train分佈.png')\n",
    "plt.show()"
   ]
  },
  {
   "cell_type": "code",
   "execution_count": 135,
   "metadata": {},
   "outputs": [
    {
     "data": {
      "image/png": "[encoded data removed]",
      "text/plain": [
       "<Figure size 640x480 with 1 Axes>"
      ]
     },
     "metadata": {},
     "output_type": "display_data"
    }
   ],
   "source": [
    "test = pd.read_csv('./data/pre_overall/HCC OP 20230511 test_pre_overall.csv')\n",
    "# 绘制train['recur']的圆饼图\n",
    "counts = test['Recur'].value_counts().to_dict()\n",
    "counts_keys = list(counts.keys())\n",
    "counts_keys.sort()\n",
    "counts = {k: counts[k] for k in counts_keys}\n",
    "fig, ax = plt.subplots()\n",
    "colors = sns.color_palette(\"Set2\")[:len(counts.keys())]\n",
    "ax.set_title('Test_Recur', fontdict={'size': 20})\n",
    "ax.pie(counts.values(), labels=counts.keys(), colors=colors, autopct='%1.1f%%', textprops={'fontsize': 14})\n",
    "# plt.savefig('./result/統計圖表/OP_pre test分佈.png')\n",
    "plt.show()"
   ]
  },
  {
   "attachments": {},
   "cell_type": "markdown",
   "metadata": {},
   "source": [
    "查看資料集是否有顯著差異"
   ]
  },
  {
   "cell_type": "code",
   "execution_count": 136,
   "metadata": {},
   "outputs": [],
   "source": [
    "from scipy.stats import ttest_ind\n",
    "# 計算各欄位的 p-value\n",
    "p_values = []\n",
    "for column in combined_train.columns:\n",
    "    # 執行 t 檢定\n",
    "    _, p_value = ttest_ind(combined_train[column], combined_test[column])\n",
    "    p_values.append(p_value)\n",
    "\n",
    "# 打印 p-value\n",
    "for column, p_value in zip(combined_train.columns, p_values):\n",
    "    #print(f\"{column}: p-value = {p_value}\")\n",
    "    if p_value < 0.05:\n",
    "        print(column)"
   ]
  },
  {
   "attachments": {},
   "cell_type": "markdown",
   "metadata": {},
   "source": [
    "補值"
   ]
  },
  {
   "cell_type": "code",
   "execution_count": 137,
   "metadata": {},
   "outputs": [
    {
     "name": "stdout",
     "output_type": "stream",
     "text": [
      "1035\n"
     ]
    }
   ],
   "source": [
    "df = pd.read_csv('./data/pre_overall/HCC OP 20230511 train_pre_overall.csv')\n",
    "df = df.drop(['OP&RFA Data ID','Eachcase Nan count'], axis=1)\n",
    "\n",
    "# 初始化 KNNImputer 物件\n",
    "imputer = KNNImputer(n_neighbors=200)\n",
    "\n",
    "# 執行 KNN 補值\n",
    "df_imputed = imputer.fit_transform(df)\n",
    "\n",
    "# 將補值後的結果轉換為 DataFrame\n",
    "df_imputed = pd.DataFrame(df_imputed, columns=df.columns)\n",
    "\n",
    "# 將補值後的結果加入原始資料集中\n",
    "df = df_imputed\n",
    "df.to_csv('./data/pre_overall/HCC OP 20230511 train_pre_overall_input.csv',index=False)\n",
    "print(len(df))"
   ]
  },
  {
   "cell_type": "code",
   "execution_count": 138,
   "metadata": {},
   "outputs": [
    {
     "data": {
      "text/html": [
       "<div>\n",
       "<style scoped>\n",
       "    .dataframe tbody tr th:only-of-type {\n",
       "        vertical-align: middle;\n",
       "    }\n",
       "\n",
       "    .dataframe tbody tr th {\n",
       "        vertical-align: top;\n",
       "    }\n",
       "\n",
       "    .dataframe thead th {\n",
       "        text-align: right;\n",
       "    }\n",
       "</style>\n",
       "<table border=\"1\" class=\"dataframe\">\n",
       "  <thead>\n",
       "    <tr style=\"text-align: right;\">\n",
       "      <th></th>\n",
       "      <th>Milan_out</th>\n",
       "      <th>Age</th>\n",
       "      <th>Sex</th>\n",
       "      <th>Image_Vasulcar_invasion(Portal vein,Hepatic vein)</th>\n",
       "      <th>BCLC</th>\n",
       "      <th>Child_Class</th>\n",
       "      <th>Weight</th>\n",
       "      <th>Height</th>\n",
       "      <th>BMI</th>\n",
       "      <th>WBC</th>\n",
       "      <th>...</th>\n",
       "      <th>AFP</th>\n",
       "      <th>HBsAg</th>\n",
       "      <th>HCV</th>\n",
       "      <th>alcoholism</th>\n",
       "      <th>Tumor size</th>\n",
       "      <th>Tumor number</th>\n",
       "      <th>ALBIscore</th>\n",
       "      <th>ALBIgrade</th>\n",
       "      <th>Recur</th>\n",
       "      <th>Recurrence free survival</th>\n",
       "    </tr>\n",
       "  </thead>\n",
       "  <tbody>\n",
       "    <tr>\n",
       "      <th>2</th>\n",
       "      <td>1</td>\n",
       "      <td>38.97</td>\n",
       "      <td>1</td>\n",
       "      <td>1</td>\n",
       "      <td>3</td>\n",
       "      <td>1</td>\n",
       "      <td>71.8</td>\n",
       "      <td>168.6</td>\n",
       "      <td>25.258602</td>\n",
       "      <td>6500</td>\n",
       "      <td>...</td>\n",
       "      <td>17661.31</td>\n",
       "      <td>1</td>\n",
       "      <td>0</td>\n",
       "      <td>0.0</td>\n",
       "      <td>4.5</td>\n",
       "      <td>1</td>\n",
       "      <td>-3.045</td>\n",
       "      <td>1.0</td>\n",
       "      <td>1</td>\n",
       "      <td>13.07</td>\n",
       "    </tr>\n",
       "    <tr>\n",
       "      <th>6</th>\n",
       "      <td>1</td>\n",
       "      <td>67.03</td>\n",
       "      <td>1</td>\n",
       "      <td>0</td>\n",
       "      <td>1</td>\n",
       "      <td>1</td>\n",
       "      <td>75.4</td>\n",
       "      <td>160.6</td>\n",
       "      <td>29.233463</td>\n",
       "      <td>10500</td>\n",
       "      <td>...</td>\n",
       "      <td>1.04</td>\n",
       "      <td>0</td>\n",
       "      <td>0</td>\n",
       "      <td>0.0</td>\n",
       "      <td>9.5</td>\n",
       "      <td>1</td>\n",
       "      <td>-2.268</td>\n",
       "      <td>2.0</td>\n",
       "      <td>1</td>\n",
       "      <td>12.27</td>\n",
       "    </tr>\n",
       "    <tr>\n",
       "      <th>12</th>\n",
       "      <td>1</td>\n",
       "      <td>65.11</td>\n",
       "      <td>2</td>\n",
       "      <td>0</td>\n",
       "      <td>1</td>\n",
       "      <td>1</td>\n",
       "      <td>60.2</td>\n",
       "      <td>165.2</td>\n",
       "      <td>22.058522</td>\n",
       "      <td>7600</td>\n",
       "      <td>...</td>\n",
       "      <td>4853.74</td>\n",
       "      <td>0</td>\n",
       "      <td>0</td>\n",
       "      <td>0.0</td>\n",
       "      <td>11.0</td>\n",
       "      <td>1</td>\n",
       "      <td>-2.135</td>\n",
       "      <td>2.0</td>\n",
       "      <td>1</td>\n",
       "      <td>2.20</td>\n",
       "    </tr>\n",
       "    <tr>\n",
       "      <th>16</th>\n",
       "      <td>0</td>\n",
       "      <td>59.00</td>\n",
       "      <td>2</td>\n",
       "      <td>0</td>\n",
       "      <td>1</td>\n",
       "      <td>1</td>\n",
       "      <td>NaN</td>\n",
       "      <td>NaN</td>\n",
       "      <td>NaN</td>\n",
       "      <td>3000</td>\n",
       "      <td>...</td>\n",
       "      <td>20.60</td>\n",
       "      <td>1</td>\n",
       "      <td>0</td>\n",
       "      <td>0.0</td>\n",
       "      <td>4.0</td>\n",
       "      <td>1</td>\n",
       "      <td>-2.820</td>\n",
       "      <td>1.0</td>\n",
       "      <td>1</td>\n",
       "      <td>23.17</td>\n",
       "    </tr>\n",
       "    <tr>\n",
       "      <th>26</th>\n",
       "      <td>0</td>\n",
       "      <td>70.95</td>\n",
       "      <td>1</td>\n",
       "      <td>0</td>\n",
       "      <td>1</td>\n",
       "      <td>1</td>\n",
       "      <td>52.4</td>\n",
       "      <td>161.0</td>\n",
       "      <td>20.215269</td>\n",
       "      <td>6500</td>\n",
       "      <td>...</td>\n",
       "      <td>4.72</td>\n",
       "      <td>1</td>\n",
       "      <td>0</td>\n",
       "      <td>1.0</td>\n",
       "      <td>2.2</td>\n",
       "      <td>1</td>\n",
       "      <td>-3.135</td>\n",
       "      <td>1.0</td>\n",
       "      <td>0</td>\n",
       "      <td>66.97</td>\n",
       "    </tr>\n",
       "  </tbody>\n",
       "</table>\n",
       "<p>5 rows × 39 columns</p>\n",
       "</div>"
      ],
      "text/plain": [
       "    Milan_out    Age  Sex  Image_Vasulcar_invasion(Portal vein,Hepatic vein)  \\\n",
       "2           1  38.97    1                                                  1   \n",
       "6           1  67.03    1                                                  0   \n",
       "12          1  65.11    2                                                  0   \n",
       "16          0  59.00    2                                                  0   \n",
       "26          0  70.95    1                                                  0   \n",
       "\n",
       "    BCLC  Child_Class  Weight  Height        BMI    WBC  ...       AFP  HBsAg  \\\n",
       "2      3            1    71.8   168.6  25.258602   6500  ...  17661.31      1   \n",
       "6      1            1    75.4   160.6  29.233463  10500  ...      1.04      0   \n",
       "12     1            1    60.2   165.2  22.058522   7600  ...   4853.74      0   \n",
       "16     1            1     NaN     NaN        NaN   3000  ...     20.60      1   \n",
       "26     1            1    52.4   161.0  20.215269   6500  ...      4.72      1   \n",
       "\n",
       "    HCV  alcoholism  Tumor size  Tumor number  ALBIscore  ALBIgrade  Recur  \\\n",
       "2     0         0.0         4.5             1     -3.045        1.0      1   \n",
       "6     0         0.0         9.5             1     -2.268        2.0      1   \n",
       "12    0         0.0        11.0             1     -2.135        2.0      1   \n",
       "16    0         0.0         4.0             1     -2.820        1.0      1   \n",
       "26    0         1.0         2.2             1     -3.135        1.0      0   \n",
       "\n",
       "    Recurrence free survival  \n",
       "2                      13.07  \n",
       "6                      12.27  \n",
       "12                      2.20  \n",
       "16                     23.17  \n",
       "26                     66.97  \n",
       "\n",
       "[5 rows x 39 columns]"
      ]
     },
     "execution_count": 138,
     "metadata": {},
     "output_type": "execute_result"
    }
   ],
   "source": [
    "train_df = pd.read_csv(\"./data/pre_overall/HCC OP 20230511 train_pre_overall_input.csv\")\n",
    "test_df = pd.read_csv(\"./data/pre_overall/HCC OP 20230511 test_pre_overall.csv\")\n",
    "test_df = test_df.drop(['OP&RFA Data ID','Eachcase Nan count'], axis=1)\n",
    "#先將test資料切分出有缺值跟無缺值\n",
    "known_data = test_df.dropna()\n",
    "missing_data = test_df[test_df.isna().any(axis=1)]\n",
    "\n",
    "# 將空字串替換成 NaN 值\n",
    "#missing_data.replace(' ', np.nan, inplace=True)\n",
    "missing_data.head()"
   ]
  },
  {
   "cell_type": "code",
   "execution_count": 139,
   "metadata": {},
   "outputs": [
    {
     "name": "stderr",
     "output_type": "stream",
     "text": [
      "C:\\Users\\Max\\AppData\\Local\\Temp\\ipykernel_7348\\4184410560.py:7: FutureWarning: The frame.append method is deprecated and will be removed from pandas in a future version. Use pandas.concat instead.\n",
      "  train_df = train_df.append(nan_df)\n",
      "C:\\Users\\Max\\AppData\\Local\\Temp\\ipykernel_7348\\4184410560.py:15: FutureWarning: The frame.append method is deprecated and will be removed from pandas in a future version. Use pandas.concat instead.\n",
      "  known_data = known_data.append(last_row)\n",
      "C:\\Users\\Max\\AppData\\Local\\Temp\\ipykernel_7348\\4184410560.py:7: FutureWarning: The frame.append method is deprecated and will be removed from pandas in a future version. Use pandas.concat instead.\n",
      "  train_df = train_df.append(nan_df)\n",
      "C:\\Users\\Max\\AppData\\Local\\Temp\\ipykernel_7348\\4184410560.py:15: FutureWarning: The frame.append method is deprecated and will be removed from pandas in a future version. Use pandas.concat instead.\n",
      "  known_data = known_data.append(last_row)\n",
      "C:\\Users\\Max\\AppData\\Local\\Temp\\ipykernel_7348\\4184410560.py:7: FutureWarning: The frame.append method is deprecated and will be removed from pandas in a future version. Use pandas.concat instead.\n",
      "  train_df = train_df.append(nan_df)\n",
      "C:\\Users\\Max\\AppData\\Local\\Temp\\ipykernel_7348\\4184410560.py:15: FutureWarning: The frame.append method is deprecated and will be removed from pandas in a future version. Use pandas.concat instead.\n",
      "  known_data = known_data.append(last_row)\n",
      "C:\\Users\\Max\\AppData\\Local\\Temp\\ipykernel_7348\\4184410560.py:7: FutureWarning: The frame.append method is deprecated and will be removed from pandas in a future version. Use pandas.concat instead.\n",
      "  train_df = train_df.append(nan_df)\n",
      "C:\\Users\\Max\\AppData\\Local\\Temp\\ipykernel_7348\\4184410560.py:15: FutureWarning: The frame.append method is deprecated and will be removed from pandas in a future version. Use pandas.concat instead.\n",
      "  known_data = known_data.append(last_row)\n",
      "C:\\Users\\Max\\AppData\\Local\\Temp\\ipykernel_7348\\4184410560.py:7: FutureWarning: The frame.append method is deprecated and will be removed from pandas in a future version. Use pandas.concat instead.\n",
      "  train_df = train_df.append(nan_df)\n",
      "C:\\Users\\Max\\AppData\\Local\\Temp\\ipykernel_7348\\4184410560.py:15: FutureWarning: The frame.append method is deprecated and will be removed from pandas in a future version. Use pandas.concat instead.\n",
      "  known_data = known_data.append(last_row)\n",
      "C:\\Users\\Max\\AppData\\Local\\Temp\\ipykernel_7348\\4184410560.py:7: FutureWarning: The frame.append method is deprecated and will be removed from pandas in a future version. Use pandas.concat instead.\n",
      "  train_df = train_df.append(nan_df)\n",
      "C:\\Users\\Max\\AppData\\Local\\Temp\\ipykernel_7348\\4184410560.py:15: FutureWarning: The frame.append method is deprecated and will be removed from pandas in a future version. Use pandas.concat instead.\n",
      "  known_data = known_data.append(last_row)\n",
      "C:\\Users\\Max\\AppData\\Local\\Temp\\ipykernel_7348\\4184410560.py:7: FutureWarning: The frame.append method is deprecated and will be removed from pandas in a future version. Use pandas.concat instead.\n",
      "  train_df = train_df.append(nan_df)\n",
      "C:\\Users\\Max\\AppData\\Local\\Temp\\ipykernel_7348\\4184410560.py:15: FutureWarning: The frame.append method is deprecated and will be removed from pandas in a future version. Use pandas.concat instead.\n",
      "  known_data = known_data.append(last_row)\n",
      "C:\\Users\\Max\\AppData\\Local\\Temp\\ipykernel_7348\\4184410560.py:7: FutureWarning: The frame.append method is deprecated and will be removed from pandas in a future version. Use pandas.concat instead.\n",
      "  train_df = train_df.append(nan_df)\n",
      "C:\\Users\\Max\\AppData\\Local\\Temp\\ipykernel_7348\\4184410560.py:15: FutureWarning: The frame.append method is deprecated and will be removed from pandas in a future version. Use pandas.concat instead.\n",
      "  known_data = known_data.append(last_row)\n",
      "C:\\Users\\Max\\AppData\\Local\\Temp\\ipykernel_7348\\4184410560.py:7: FutureWarning: The frame.append method is deprecated and will be removed from pandas in a future version. Use pandas.concat instead.\n",
      "  train_df = train_df.append(nan_df)\n",
      "C:\\Users\\Max\\AppData\\Local\\Temp\\ipykernel_7348\\4184410560.py:15: FutureWarning: The frame.append method is deprecated and will be removed from pandas in a future version. Use pandas.concat instead.\n",
      "  known_data = known_data.append(last_row)\n",
      "C:\\Users\\Max\\AppData\\Local\\Temp\\ipykernel_7348\\4184410560.py:7: FutureWarning: The frame.append method is deprecated and will be removed from pandas in a future version. Use pandas.concat instead.\n",
      "  train_df = train_df.append(nan_df)\n",
      "C:\\Users\\Max\\AppData\\Local\\Temp\\ipykernel_7348\\4184410560.py:15: FutureWarning: The frame.append method is deprecated and will be removed from pandas in a future version. Use pandas.concat instead.\n",
      "  known_data = known_data.append(last_row)\n",
      "C:\\Users\\Max\\AppData\\Local\\Temp\\ipykernel_7348\\4184410560.py:7: FutureWarning: The frame.append method is deprecated and will be removed from pandas in a future version. Use pandas.concat instead.\n",
      "  train_df = train_df.append(nan_df)\n",
      "C:\\Users\\Max\\AppData\\Local\\Temp\\ipykernel_7348\\4184410560.py:15: FutureWarning: The frame.append method is deprecated and will be removed from pandas in a future version. Use pandas.concat instead.\n",
      "  known_data = known_data.append(last_row)\n",
      "C:\\Users\\Max\\AppData\\Local\\Temp\\ipykernel_7348\\4184410560.py:7: FutureWarning: The frame.append method is deprecated and will be removed from pandas in a future version. Use pandas.concat instead.\n",
      "  train_df = train_df.append(nan_df)\n",
      "C:\\Users\\Max\\AppData\\Local\\Temp\\ipykernel_7348\\4184410560.py:15: FutureWarning: The frame.append method is deprecated and will be removed from pandas in a future version. Use pandas.concat instead.\n",
      "  known_data = known_data.append(last_row)\n",
      "C:\\Users\\Max\\AppData\\Local\\Temp\\ipykernel_7348\\4184410560.py:7: FutureWarning: The frame.append method is deprecated and will be removed from pandas in a future version. Use pandas.concat instead.\n",
      "  train_df = train_df.append(nan_df)\n",
      "C:\\Users\\Max\\AppData\\Local\\Temp\\ipykernel_7348\\4184410560.py:15: FutureWarning: The frame.append method is deprecated and will be removed from pandas in a future version. Use pandas.concat instead.\n",
      "  known_data = known_data.append(last_row)\n",
      "C:\\Users\\Max\\AppData\\Local\\Temp\\ipykernel_7348\\4184410560.py:7: FutureWarning: The frame.append method is deprecated and will be removed from pandas in a future version. Use pandas.concat instead.\n",
      "  train_df = train_df.append(nan_df)\n",
      "C:\\Users\\Max\\AppData\\Local\\Temp\\ipykernel_7348\\4184410560.py:15: FutureWarning: The frame.append method is deprecated and will be removed from pandas in a future version. Use pandas.concat instead.\n",
      "  known_data = known_data.append(last_row)\n",
      "C:\\Users\\Max\\AppData\\Local\\Temp\\ipykernel_7348\\4184410560.py:7: FutureWarning: The frame.append method is deprecated and will be removed from pandas in a future version. Use pandas.concat instead.\n",
      "  train_df = train_df.append(nan_df)\n",
      "C:\\Users\\Max\\AppData\\Local\\Temp\\ipykernel_7348\\4184410560.py:15: FutureWarning: The frame.append method is deprecated and will be removed from pandas in a future version. Use pandas.concat instead.\n",
      "  known_data = known_data.append(last_row)\n",
      "C:\\Users\\Max\\AppData\\Local\\Temp\\ipykernel_7348\\4184410560.py:7: FutureWarning: The frame.append method is deprecated and will be removed from pandas in a future version. Use pandas.concat instead.\n",
      "  train_df = train_df.append(nan_df)\n",
      "C:\\Users\\Max\\AppData\\Local\\Temp\\ipykernel_7348\\4184410560.py:15: FutureWarning: The frame.append method is deprecated and will be removed from pandas in a future version. Use pandas.concat instead.\n",
      "  known_data = known_data.append(last_row)\n",
      "C:\\Users\\Max\\AppData\\Local\\Temp\\ipykernel_7348\\4184410560.py:7: FutureWarning: The frame.append method is deprecated and will be removed from pandas in a future version. Use pandas.concat instead.\n",
      "  train_df = train_df.append(nan_df)\n",
      "C:\\Users\\Max\\AppData\\Local\\Temp\\ipykernel_7348\\4184410560.py:15: FutureWarning: The frame.append method is deprecated and will be removed from pandas in a future version. Use pandas.concat instead.\n",
      "  known_data = known_data.append(last_row)\n",
      "C:\\Users\\Max\\AppData\\Local\\Temp\\ipykernel_7348\\4184410560.py:7: FutureWarning: The frame.append method is deprecated and will be removed from pandas in a future version. Use pandas.concat instead.\n",
      "  train_df = train_df.append(nan_df)\n",
      "C:\\Users\\Max\\AppData\\Local\\Temp\\ipykernel_7348\\4184410560.py:15: FutureWarning: The frame.append method is deprecated and will be removed from pandas in a future version. Use pandas.concat instead.\n",
      "  known_data = known_data.append(last_row)\n",
      "C:\\Users\\Max\\AppData\\Local\\Temp\\ipykernel_7348\\4184410560.py:7: FutureWarning: The frame.append method is deprecated and will be removed from pandas in a future version. Use pandas.concat instead.\n",
      "  train_df = train_df.append(nan_df)\n",
      "C:\\Users\\Max\\AppData\\Local\\Temp\\ipykernel_7348\\4184410560.py:15: FutureWarning: The frame.append method is deprecated and will be removed from pandas in a future version. Use pandas.concat instead.\n",
      "  known_data = known_data.append(last_row)\n",
      "C:\\Users\\Max\\AppData\\Local\\Temp\\ipykernel_7348\\4184410560.py:7: FutureWarning: The frame.append method is deprecated and will be removed from pandas in a future version. Use pandas.concat instead.\n",
      "  train_df = train_df.append(nan_df)\n",
      "C:\\Users\\Max\\AppData\\Local\\Temp\\ipykernel_7348\\4184410560.py:15: FutureWarning: The frame.append method is deprecated and will be removed from pandas in a future version. Use pandas.concat instead.\n",
      "  known_data = known_data.append(last_row)\n",
      "C:\\Users\\Max\\AppData\\Local\\Temp\\ipykernel_7348\\4184410560.py:7: FutureWarning: The frame.append method is deprecated and will be removed from pandas in a future version. Use pandas.concat instead.\n",
      "  train_df = train_df.append(nan_df)\n",
      "C:\\Users\\Max\\AppData\\Local\\Temp\\ipykernel_7348\\4184410560.py:15: FutureWarning: The frame.append method is deprecated and will be removed from pandas in a future version. Use pandas.concat instead.\n",
      "  known_data = known_data.append(last_row)\n",
      "C:\\Users\\Max\\AppData\\Local\\Temp\\ipykernel_7348\\4184410560.py:7: FutureWarning: The frame.append method is deprecated and will be removed from pandas in a future version. Use pandas.concat instead.\n",
      "  train_df = train_df.append(nan_df)\n",
      "C:\\Users\\Max\\AppData\\Local\\Temp\\ipykernel_7348\\4184410560.py:15: FutureWarning: The frame.append method is deprecated and will be removed from pandas in a future version. Use pandas.concat instead.\n",
      "  known_data = known_data.append(last_row)\n",
      "C:\\Users\\Max\\AppData\\Local\\Temp\\ipykernel_7348\\4184410560.py:7: FutureWarning: The frame.append method is deprecated and will be removed from pandas in a future version. Use pandas.concat instead.\n",
      "  train_df = train_df.append(nan_df)\n",
      "C:\\Users\\Max\\AppData\\Local\\Temp\\ipykernel_7348\\4184410560.py:15: FutureWarning: The frame.append method is deprecated and will be removed from pandas in a future version. Use pandas.concat instead.\n",
      "  known_data = known_data.append(last_row)\n",
      "C:\\Users\\Max\\AppData\\Local\\Temp\\ipykernel_7348\\4184410560.py:7: FutureWarning: The frame.append method is deprecated and will be removed from pandas in a future version. Use pandas.concat instead.\n",
      "  train_df = train_df.append(nan_df)\n",
      "C:\\Users\\Max\\AppData\\Local\\Temp\\ipykernel_7348\\4184410560.py:15: FutureWarning: The frame.append method is deprecated and will be removed from pandas in a future version. Use pandas.concat instead.\n",
      "  known_data = known_data.append(last_row)\n",
      "C:\\Users\\Max\\AppData\\Local\\Temp\\ipykernel_7348\\4184410560.py:7: FutureWarning: The frame.append method is deprecated and will be removed from pandas in a future version. Use pandas.concat instead.\n",
      "  train_df = train_df.append(nan_df)\n",
      "C:\\Users\\Max\\AppData\\Local\\Temp\\ipykernel_7348\\4184410560.py:15: FutureWarning: The frame.append method is deprecated and will be removed from pandas in a future version. Use pandas.concat instead.\n",
      "  known_data = known_data.append(last_row)\n",
      "C:\\Users\\Max\\AppData\\Local\\Temp\\ipykernel_7348\\4184410560.py:7: FutureWarning: The frame.append method is deprecated and will be removed from pandas in a future version. Use pandas.concat instead.\n",
      "  train_df = train_df.append(nan_df)\n",
      "C:\\Users\\Max\\AppData\\Local\\Temp\\ipykernel_7348\\4184410560.py:15: FutureWarning: The frame.append method is deprecated and will be removed from pandas in a future version. Use pandas.concat instead.\n",
      "  known_data = known_data.append(last_row)\n",
      "C:\\Users\\Max\\AppData\\Local\\Temp\\ipykernel_7348\\4184410560.py:7: FutureWarning: The frame.append method is deprecated and will be removed from pandas in a future version. Use pandas.concat instead.\n",
      "  train_df = train_df.append(nan_df)\n",
      "C:\\Users\\Max\\AppData\\Local\\Temp\\ipykernel_7348\\4184410560.py:15: FutureWarning: The frame.append method is deprecated and will be removed from pandas in a future version. Use pandas.concat instead.\n",
      "  known_data = known_data.append(last_row)\n",
      "C:\\Users\\Max\\AppData\\Local\\Temp\\ipykernel_7348\\4184410560.py:7: FutureWarning: The frame.append method is deprecated and will be removed from pandas in a future version. Use pandas.concat instead.\n",
      "  train_df = train_df.append(nan_df)\n",
      "C:\\Users\\Max\\AppData\\Local\\Temp\\ipykernel_7348\\4184410560.py:15: FutureWarning: The frame.append method is deprecated and will be removed from pandas in a future version. Use pandas.concat instead.\n",
      "  known_data = known_data.append(last_row)\n",
      "C:\\Users\\Max\\AppData\\Local\\Temp\\ipykernel_7348\\4184410560.py:7: FutureWarning: The frame.append method is deprecated and will be removed from pandas in a future version. Use pandas.concat instead.\n",
      "  train_df = train_df.append(nan_df)\n",
      "C:\\Users\\Max\\AppData\\Local\\Temp\\ipykernel_7348\\4184410560.py:15: FutureWarning: The frame.append method is deprecated and will be removed from pandas in a future version. Use pandas.concat instead.\n",
      "  known_data = known_data.append(last_row)\n",
      "C:\\Users\\Max\\AppData\\Local\\Temp\\ipykernel_7348\\4184410560.py:7: FutureWarning: The frame.append method is deprecated and will be removed from pandas in a future version. Use pandas.concat instead.\n",
      "  train_df = train_df.append(nan_df)\n",
      "C:\\Users\\Max\\AppData\\Local\\Temp\\ipykernel_7348\\4184410560.py:15: FutureWarning: The frame.append method is deprecated and will be removed from pandas in a future version. Use pandas.concat instead.\n",
      "  known_data = known_data.append(last_row)\n",
      "C:\\Users\\Max\\AppData\\Local\\Temp\\ipykernel_7348\\4184410560.py:7: FutureWarning: The frame.append method is deprecated and will be removed from pandas in a future version. Use pandas.concat instead.\n",
      "  train_df = train_df.append(nan_df)\n",
      "C:\\Users\\Max\\AppData\\Local\\Temp\\ipykernel_7348\\4184410560.py:15: FutureWarning: The frame.append method is deprecated and will be removed from pandas in a future version. Use pandas.concat instead.\n",
      "  known_data = known_data.append(last_row)\n",
      "C:\\Users\\Max\\AppData\\Local\\Temp\\ipykernel_7348\\4184410560.py:7: FutureWarning: The frame.append method is deprecated and will be removed from pandas in a future version. Use pandas.concat instead.\n",
      "  train_df = train_df.append(nan_df)\n",
      "C:\\Users\\Max\\AppData\\Local\\Temp\\ipykernel_7348\\4184410560.py:15: FutureWarning: The frame.append method is deprecated and will be removed from pandas in a future version. Use pandas.concat instead.\n",
      "  known_data = known_data.append(last_row)\n",
      "C:\\Users\\Max\\AppData\\Local\\Temp\\ipykernel_7348\\4184410560.py:7: FutureWarning: The frame.append method is deprecated and will be removed from pandas in a future version. Use pandas.concat instead.\n",
      "  train_df = train_df.append(nan_df)\n",
      "C:\\Users\\Max\\AppData\\Local\\Temp\\ipykernel_7348\\4184410560.py:15: FutureWarning: The frame.append method is deprecated and will be removed from pandas in a future version. Use pandas.concat instead.\n",
      "  known_data = known_data.append(last_row)\n",
      "C:\\Users\\Max\\AppData\\Local\\Temp\\ipykernel_7348\\4184410560.py:7: FutureWarning: The frame.append method is deprecated and will be removed from pandas in a future version. Use pandas.concat instead.\n",
      "  train_df = train_df.append(nan_df)\n",
      "C:\\Users\\Max\\AppData\\Local\\Temp\\ipykernel_7348\\4184410560.py:15: FutureWarning: The frame.append method is deprecated and will be removed from pandas in a future version. Use pandas.concat instead.\n",
      "  known_data = known_data.append(last_row)\n",
      "C:\\Users\\Max\\AppData\\Local\\Temp\\ipykernel_7348\\4184410560.py:7: FutureWarning: The frame.append method is deprecated and will be removed from pandas in a future version. Use pandas.concat instead.\n",
      "  train_df = train_df.append(nan_df)\n",
      "C:\\Users\\Max\\AppData\\Local\\Temp\\ipykernel_7348\\4184410560.py:15: FutureWarning: The frame.append method is deprecated and will be removed from pandas in a future version. Use pandas.concat instead.\n",
      "  known_data = known_data.append(last_row)\n",
      "C:\\Users\\Max\\AppData\\Local\\Temp\\ipykernel_7348\\4184410560.py:7: FutureWarning: The frame.append method is deprecated and will be removed from pandas in a future version. Use pandas.concat instead.\n",
      "  train_df = train_df.append(nan_df)\n",
      "C:\\Users\\Max\\AppData\\Local\\Temp\\ipykernel_7348\\4184410560.py:15: FutureWarning: The frame.append method is deprecated and will be removed from pandas in a future version. Use pandas.concat instead.\n",
      "  known_data = known_data.append(last_row)\n",
      "C:\\Users\\Max\\AppData\\Local\\Temp\\ipykernel_7348\\4184410560.py:7: FutureWarning: The frame.append method is deprecated and will be removed from pandas in a future version. Use pandas.concat instead.\n",
      "  train_df = train_df.append(nan_df)\n",
      "C:\\Users\\Max\\AppData\\Local\\Temp\\ipykernel_7348\\4184410560.py:15: FutureWarning: The frame.append method is deprecated and will be removed from pandas in a future version. Use pandas.concat instead.\n",
      "  known_data = known_data.append(last_row)\n",
      "C:\\Users\\Max\\AppData\\Local\\Temp\\ipykernel_7348\\4184410560.py:7: FutureWarning: The frame.append method is deprecated and will be removed from pandas in a future version. Use pandas.concat instead.\n",
      "  train_df = train_df.append(nan_df)\n",
      "C:\\Users\\Max\\AppData\\Local\\Temp\\ipykernel_7348\\4184410560.py:15: FutureWarning: The frame.append method is deprecated and will be removed from pandas in a future version. Use pandas.concat instead.\n",
      "  known_data = known_data.append(last_row)\n",
      "C:\\Users\\Max\\AppData\\Local\\Temp\\ipykernel_7348\\4184410560.py:7: FutureWarning: The frame.append method is deprecated and will be removed from pandas in a future version. Use pandas.concat instead.\n",
      "  train_df = train_df.append(nan_df)\n",
      "C:\\Users\\Max\\AppData\\Local\\Temp\\ipykernel_7348\\4184410560.py:15: FutureWarning: The frame.append method is deprecated and will be removed from pandas in a future version. Use pandas.concat instead.\n",
      "  known_data = known_data.append(last_row)\n",
      "C:\\Users\\Max\\AppData\\Local\\Temp\\ipykernel_7348\\4184410560.py:7: FutureWarning: The frame.append method is deprecated and will be removed from pandas in a future version. Use pandas.concat instead.\n",
      "  train_df = train_df.append(nan_df)\n",
      "C:\\Users\\Max\\AppData\\Local\\Temp\\ipykernel_7348\\4184410560.py:15: FutureWarning: The frame.append method is deprecated and will be removed from pandas in a future version. Use pandas.concat instead.\n",
      "  known_data = known_data.append(last_row)\n",
      "C:\\Users\\Max\\AppData\\Local\\Temp\\ipykernel_7348\\4184410560.py:7: FutureWarning: The frame.append method is deprecated and will be removed from pandas in a future version. Use pandas.concat instead.\n",
      "  train_df = train_df.append(nan_df)\n",
      "C:\\Users\\Max\\AppData\\Local\\Temp\\ipykernel_7348\\4184410560.py:15: FutureWarning: The frame.append method is deprecated and will be removed from pandas in a future version. Use pandas.concat instead.\n",
      "  known_data = known_data.append(last_row)\n",
      "C:\\Users\\Max\\AppData\\Local\\Temp\\ipykernel_7348\\4184410560.py:7: FutureWarning: The frame.append method is deprecated and will be removed from pandas in a future version. Use pandas.concat instead.\n",
      "  train_df = train_df.append(nan_df)\n",
      "C:\\Users\\Max\\AppData\\Local\\Temp\\ipykernel_7348\\4184410560.py:15: FutureWarning: The frame.append method is deprecated and will be removed from pandas in a future version. Use pandas.concat instead.\n",
      "  known_data = known_data.append(last_row)\n",
      "C:\\Users\\Max\\AppData\\Local\\Temp\\ipykernel_7348\\4184410560.py:7: FutureWarning: The frame.append method is deprecated and will be removed from pandas in a future version. Use pandas.concat instead.\n",
      "  train_df = train_df.append(nan_df)\n",
      "C:\\Users\\Max\\AppData\\Local\\Temp\\ipykernel_7348\\4184410560.py:15: FutureWarning: The frame.append method is deprecated and will be removed from pandas in a future version. Use pandas.concat instead.\n",
      "  known_data = known_data.append(last_row)\n",
      "C:\\Users\\Max\\AppData\\Local\\Temp\\ipykernel_7348\\4184410560.py:7: FutureWarning: The frame.append method is deprecated and will be removed from pandas in a future version. Use pandas.concat instead.\n",
      "  train_df = train_df.append(nan_df)\n",
      "C:\\Users\\Max\\AppData\\Local\\Temp\\ipykernel_7348\\4184410560.py:15: FutureWarning: The frame.append method is deprecated and will be removed from pandas in a future version. Use pandas.concat instead.\n",
      "  known_data = known_data.append(last_row)\n",
      "C:\\Users\\Max\\AppData\\Local\\Temp\\ipykernel_7348\\4184410560.py:7: FutureWarning: The frame.append method is deprecated and will be removed from pandas in a future version. Use pandas.concat instead.\n",
      "  train_df = train_df.append(nan_df)\n",
      "C:\\Users\\Max\\AppData\\Local\\Temp\\ipykernel_7348\\4184410560.py:15: FutureWarning: The frame.append method is deprecated and will be removed from pandas in a future version. Use pandas.concat instead.\n",
      "  known_data = known_data.append(last_row)\n",
      "C:\\Users\\Max\\AppData\\Local\\Temp\\ipykernel_7348\\4184410560.py:7: FutureWarning: The frame.append method is deprecated and will be removed from pandas in a future version. Use pandas.concat instead.\n",
      "  train_df = train_df.append(nan_df)\n",
      "C:\\Users\\Max\\AppData\\Local\\Temp\\ipykernel_7348\\4184410560.py:15: FutureWarning: The frame.append method is deprecated and will be removed from pandas in a future version. Use pandas.concat instead.\n",
      "  known_data = known_data.append(last_row)\n",
      "C:\\Users\\Max\\AppData\\Local\\Temp\\ipykernel_7348\\4184410560.py:7: FutureWarning: The frame.append method is deprecated and will be removed from pandas in a future version. Use pandas.concat instead.\n",
      "  train_df = train_df.append(nan_df)\n",
      "C:\\Users\\Max\\AppData\\Local\\Temp\\ipykernel_7348\\4184410560.py:15: FutureWarning: The frame.append method is deprecated and will be removed from pandas in a future version. Use pandas.concat instead.\n",
      "  known_data = known_data.append(last_row)\n",
      "C:\\Users\\Max\\AppData\\Local\\Temp\\ipykernel_7348\\4184410560.py:7: FutureWarning: The frame.append method is deprecated and will be removed from pandas in a future version. Use pandas.concat instead.\n",
      "  train_df = train_df.append(nan_df)\n",
      "C:\\Users\\Max\\AppData\\Local\\Temp\\ipykernel_7348\\4184410560.py:15: FutureWarning: The frame.append method is deprecated and will be removed from pandas in a future version. Use pandas.concat instead.\n",
      "  known_data = known_data.append(last_row)\n",
      "C:\\Users\\Max\\AppData\\Local\\Temp\\ipykernel_7348\\4184410560.py:7: FutureWarning: The frame.append method is deprecated and will be removed from pandas in a future version. Use pandas.concat instead.\n",
      "  train_df = train_df.append(nan_df)\n",
      "C:\\Users\\Max\\AppData\\Local\\Temp\\ipykernel_7348\\4184410560.py:15: FutureWarning: The frame.append method is deprecated and will be removed from pandas in a future version. Use pandas.concat instead.\n",
      "  known_data = known_data.append(last_row)\n",
      "C:\\Users\\Max\\AppData\\Local\\Temp\\ipykernel_7348\\4184410560.py:7: FutureWarning: The frame.append method is deprecated and will be removed from pandas in a future version. Use pandas.concat instead.\n",
      "  train_df = train_df.append(nan_df)\n",
      "C:\\Users\\Max\\AppData\\Local\\Temp\\ipykernel_7348\\4184410560.py:15: FutureWarning: The frame.append method is deprecated and will be removed from pandas in a future version. Use pandas.concat instead.\n",
      "  known_data = known_data.append(last_row)\n",
      "C:\\Users\\Max\\AppData\\Local\\Temp\\ipykernel_7348\\4184410560.py:7: FutureWarning: The frame.append method is deprecated and will be removed from pandas in a future version. Use pandas.concat instead.\n",
      "  train_df = train_df.append(nan_df)\n",
      "C:\\Users\\Max\\AppData\\Local\\Temp\\ipykernel_7348\\4184410560.py:15: FutureWarning: The frame.append method is deprecated and will be removed from pandas in a future version. Use pandas.concat instead.\n",
      "  known_data = known_data.append(last_row)\n",
      "C:\\Users\\Max\\AppData\\Local\\Temp\\ipykernel_7348\\4184410560.py:7: FutureWarning: The frame.append method is deprecated and will be removed from pandas in a future version. Use pandas.concat instead.\n",
      "  train_df = train_df.append(nan_df)\n",
      "C:\\Users\\Max\\AppData\\Local\\Temp\\ipykernel_7348\\4184410560.py:15: FutureWarning: The frame.append method is deprecated and will be removed from pandas in a future version. Use pandas.concat instead.\n",
      "  known_data = known_data.append(last_row)\n",
      "C:\\Users\\Max\\AppData\\Local\\Temp\\ipykernel_7348\\4184410560.py:7: FutureWarning: The frame.append method is deprecated and will be removed from pandas in a future version. Use pandas.concat instead.\n",
      "  train_df = train_df.append(nan_df)\n",
      "C:\\Users\\Max\\AppData\\Local\\Temp\\ipykernel_7348\\4184410560.py:15: FutureWarning: The frame.append method is deprecated and will be removed from pandas in a future version. Use pandas.concat instead.\n",
      "  known_data = known_data.append(last_row)\n",
      "C:\\Users\\Max\\AppData\\Local\\Temp\\ipykernel_7348\\4184410560.py:7: FutureWarning: The frame.append method is deprecated and will be removed from pandas in a future version. Use pandas.concat instead.\n",
      "  train_df = train_df.append(nan_df)\n",
      "C:\\Users\\Max\\AppData\\Local\\Temp\\ipykernel_7348\\4184410560.py:15: FutureWarning: The frame.append method is deprecated and will be removed from pandas in a future version. Use pandas.concat instead.\n",
      "  known_data = known_data.append(last_row)\n",
      "C:\\Users\\Max\\AppData\\Local\\Temp\\ipykernel_7348\\4184410560.py:7: FutureWarning: The frame.append method is deprecated and will be removed from pandas in a future version. Use pandas.concat instead.\n",
      "  train_df = train_df.append(nan_df)\n",
      "C:\\Users\\Max\\AppData\\Local\\Temp\\ipykernel_7348\\4184410560.py:15: FutureWarning: The frame.append method is deprecated and will be removed from pandas in a future version. Use pandas.concat instead.\n",
      "  known_data = known_data.append(last_row)\n",
      "C:\\Users\\Max\\AppData\\Local\\Temp\\ipykernel_7348\\4184410560.py:7: FutureWarning: The frame.append method is deprecated and will be removed from pandas in a future version. Use pandas.concat instead.\n",
      "  train_df = train_df.append(nan_df)\n",
      "C:\\Users\\Max\\AppData\\Local\\Temp\\ipykernel_7348\\4184410560.py:15: FutureWarning: The frame.append method is deprecated and will be removed from pandas in a future version. Use pandas.concat instead.\n",
      "  known_data = known_data.append(last_row)\n",
      "C:\\Users\\Max\\AppData\\Local\\Temp\\ipykernel_7348\\4184410560.py:7: FutureWarning: The frame.append method is deprecated and will be removed from pandas in a future version. Use pandas.concat instead.\n",
      "  train_df = train_df.append(nan_df)\n",
      "C:\\Users\\Max\\AppData\\Local\\Temp\\ipykernel_7348\\4184410560.py:15: FutureWarning: The frame.append method is deprecated and will be removed from pandas in a future version. Use pandas.concat instead.\n",
      "  known_data = known_data.append(last_row)\n",
      "C:\\Users\\Max\\AppData\\Local\\Temp\\ipykernel_7348\\4184410560.py:7: FutureWarning: The frame.append method is deprecated and will be removed from pandas in a future version. Use pandas.concat instead.\n",
      "  train_df = train_df.append(nan_df)\n",
      "C:\\Users\\Max\\AppData\\Local\\Temp\\ipykernel_7348\\4184410560.py:15: FutureWarning: The frame.append method is deprecated and will be removed from pandas in a future version. Use pandas.concat instead.\n",
      "  known_data = known_data.append(last_row)\n",
      "C:\\Users\\Max\\AppData\\Local\\Temp\\ipykernel_7348\\4184410560.py:7: FutureWarning: The frame.append method is deprecated and will be removed from pandas in a future version. Use pandas.concat instead.\n",
      "  train_df = train_df.append(nan_df)\n",
      "C:\\Users\\Max\\AppData\\Local\\Temp\\ipykernel_7348\\4184410560.py:15: FutureWarning: The frame.append method is deprecated and will be removed from pandas in a future version. Use pandas.concat instead.\n",
      "  known_data = known_data.append(last_row)\n",
      "C:\\Users\\Max\\AppData\\Local\\Temp\\ipykernel_7348\\4184410560.py:7: FutureWarning: The frame.append method is deprecated and will be removed from pandas in a future version. Use pandas.concat instead.\n",
      "  train_df = train_df.append(nan_df)\n",
      "C:\\Users\\Max\\AppData\\Local\\Temp\\ipykernel_7348\\4184410560.py:15: FutureWarning: The frame.append method is deprecated and will be removed from pandas in a future version. Use pandas.concat instead.\n",
      "  known_data = known_data.append(last_row)\n",
      "C:\\Users\\Max\\AppData\\Local\\Temp\\ipykernel_7348\\4184410560.py:7: FutureWarning: The frame.append method is deprecated and will be removed from pandas in a future version. Use pandas.concat instead.\n",
      "  train_df = train_df.append(nan_df)\n",
      "C:\\Users\\Max\\AppData\\Local\\Temp\\ipykernel_7348\\4184410560.py:15: FutureWarning: The frame.append method is deprecated and will be removed from pandas in a future version. Use pandas.concat instead.\n",
      "  known_data = known_data.append(last_row)\n",
      "C:\\Users\\Max\\AppData\\Local\\Temp\\ipykernel_7348\\4184410560.py:7: FutureWarning: The frame.append method is deprecated and will be removed from pandas in a future version. Use pandas.concat instead.\n",
      "  train_df = train_df.append(nan_df)\n",
      "C:\\Users\\Max\\AppData\\Local\\Temp\\ipykernel_7348\\4184410560.py:15: FutureWarning: The frame.append method is deprecated and will be removed from pandas in a future version. Use pandas.concat instead.\n",
      "  known_data = known_data.append(last_row)\n",
      "C:\\Users\\Max\\AppData\\Local\\Temp\\ipykernel_7348\\4184410560.py:7: FutureWarning: The frame.append method is deprecated and will be removed from pandas in a future version. Use pandas.concat instead.\n",
      "  train_df = train_df.append(nan_df)\n",
      "C:\\Users\\Max\\AppData\\Local\\Temp\\ipykernel_7348\\4184410560.py:15: FutureWarning: The frame.append method is deprecated and will be removed from pandas in a future version. Use pandas.concat instead.\n",
      "  known_data = known_data.append(last_row)\n",
      "C:\\Users\\Max\\AppData\\Local\\Temp\\ipykernel_7348\\4184410560.py:7: FutureWarning: The frame.append method is deprecated and will be removed from pandas in a future version. Use pandas.concat instead.\n",
      "  train_df = train_df.append(nan_df)\n",
      "C:\\Users\\Max\\AppData\\Local\\Temp\\ipykernel_7348\\4184410560.py:15: FutureWarning: The frame.append method is deprecated and will be removed from pandas in a future version. Use pandas.concat instead.\n",
      "  known_data = known_data.append(last_row)\n",
      "C:\\Users\\Max\\AppData\\Local\\Temp\\ipykernel_7348\\4184410560.py:7: FutureWarning: The frame.append method is deprecated and will be removed from pandas in a future version. Use pandas.concat instead.\n",
      "  train_df = train_df.append(nan_df)\n",
      "C:\\Users\\Max\\AppData\\Local\\Temp\\ipykernel_7348\\4184410560.py:15: FutureWarning: The frame.append method is deprecated and will be removed from pandas in a future version. Use pandas.concat instead.\n",
      "  known_data = known_data.append(last_row)\n",
      "C:\\Users\\Max\\AppData\\Local\\Temp\\ipykernel_7348\\4184410560.py:7: FutureWarning: The frame.append method is deprecated and will be removed from pandas in a future version. Use pandas.concat instead.\n",
      "  train_df = train_df.append(nan_df)\n",
      "C:\\Users\\Max\\AppData\\Local\\Temp\\ipykernel_7348\\4184410560.py:15: FutureWarning: The frame.append method is deprecated and will be removed from pandas in a future version. Use pandas.concat instead.\n",
      "  known_data = known_data.append(last_row)\n",
      "C:\\Users\\Max\\AppData\\Local\\Temp\\ipykernel_7348\\4184410560.py:7: FutureWarning: The frame.append method is deprecated and will be removed from pandas in a future version. Use pandas.concat instead.\n",
      "  train_df = train_df.append(nan_df)\n",
      "C:\\Users\\Max\\AppData\\Local\\Temp\\ipykernel_7348\\4184410560.py:15: FutureWarning: The frame.append method is deprecated and will be removed from pandas in a future version. Use pandas.concat instead.\n",
      "  known_data = known_data.append(last_row)\n",
      "C:\\Users\\Max\\AppData\\Local\\Temp\\ipykernel_7348\\4184410560.py:7: FutureWarning: The frame.append method is deprecated and will be removed from pandas in a future version. Use pandas.concat instead.\n",
      "  train_df = train_df.append(nan_df)\n",
      "C:\\Users\\Max\\AppData\\Local\\Temp\\ipykernel_7348\\4184410560.py:15: FutureWarning: The frame.append method is deprecated and will be removed from pandas in a future version. Use pandas.concat instead.\n",
      "  known_data = known_data.append(last_row)\n",
      "C:\\Users\\Max\\AppData\\Local\\Temp\\ipykernel_7348\\4184410560.py:7: FutureWarning: The frame.append method is deprecated and will be removed from pandas in a future version. Use pandas.concat instead.\n",
      "  train_df = train_df.append(nan_df)\n",
      "C:\\Users\\Max\\AppData\\Local\\Temp\\ipykernel_7348\\4184410560.py:15: FutureWarning: The frame.append method is deprecated and will be removed from pandas in a future version. Use pandas.concat instead.\n",
      "  known_data = known_data.append(last_row)\n",
      "C:\\Users\\Max\\AppData\\Local\\Temp\\ipykernel_7348\\4184410560.py:7: FutureWarning: The frame.append method is deprecated and will be removed from pandas in a future version. Use pandas.concat instead.\n",
      "  train_df = train_df.append(nan_df)\n",
      "C:\\Users\\Max\\AppData\\Local\\Temp\\ipykernel_7348\\4184410560.py:15: FutureWarning: The frame.append method is deprecated and will be removed from pandas in a future version. Use pandas.concat instead.\n",
      "  known_data = known_data.append(last_row)\n",
      "C:\\Users\\Max\\AppData\\Local\\Temp\\ipykernel_7348\\4184410560.py:7: FutureWarning: The frame.append method is deprecated and will be removed from pandas in a future version. Use pandas.concat instead.\n",
      "  train_df = train_df.append(nan_df)\n",
      "C:\\Users\\Max\\AppData\\Local\\Temp\\ipykernel_7348\\4184410560.py:15: FutureWarning: The frame.append method is deprecated and will be removed from pandas in a future version. Use pandas.concat instead.\n",
      "  known_data = known_data.append(last_row)\n",
      "C:\\Users\\Max\\AppData\\Local\\Temp\\ipykernel_7348\\4184410560.py:7: FutureWarning: The frame.append method is deprecated and will be removed from pandas in a future version. Use pandas.concat instead.\n",
      "  train_df = train_df.append(nan_df)\n",
      "C:\\Users\\Max\\AppData\\Local\\Temp\\ipykernel_7348\\4184410560.py:15: FutureWarning: The frame.append method is deprecated and will be removed from pandas in a future version. Use pandas.concat instead.\n",
      "  known_data = known_data.append(last_row)\n",
      "C:\\Users\\Max\\AppData\\Local\\Temp\\ipykernel_7348\\4184410560.py:7: FutureWarning: The frame.append method is deprecated and will be removed from pandas in a future version. Use pandas.concat instead.\n",
      "  train_df = train_df.append(nan_df)\n",
      "C:\\Users\\Max\\AppData\\Local\\Temp\\ipykernel_7348\\4184410560.py:15: FutureWarning: The frame.append method is deprecated and will be removed from pandas in a future version. Use pandas.concat instead.\n",
      "  known_data = known_data.append(last_row)\n",
      "C:\\Users\\Max\\AppData\\Local\\Temp\\ipykernel_7348\\4184410560.py:7: FutureWarning: The frame.append method is deprecated and will be removed from pandas in a future version. Use pandas.concat instead.\n",
      "  train_df = train_df.append(nan_df)\n",
      "C:\\Users\\Max\\AppData\\Local\\Temp\\ipykernel_7348\\4184410560.py:15: FutureWarning: The frame.append method is deprecated and will be removed from pandas in a future version. Use pandas.concat instead.\n",
      "  known_data = known_data.append(last_row)\n"
     ]
    }
   ],
   "source": [
    "k = 200\n",
    "imputer = KNNImputer(n_neighbors=k)\n",
    "\n",
    "for i in range(1,len(missing_data)+1):\n",
    "    nan_df = missing_data.iloc[i-1:i, :]\n",
    "    #train_df = pd.concat([train_df,nan_df], ignore_index=True)\n",
    "    train_df = train_df.append(nan_df)\n",
    "    \n",
    "    imputed = imputer.fit_transform(train_df)\n",
    "    # 進行KNN補值\n",
    "    df_imputed = pd.DataFrame(imputed, columns=train_df.columns)\n",
    "    # 提取最後一列資料成為新的 Series 物件\n",
    "    last_row = df_imputed.iloc[-1,:]\n",
    "    #known_data = pd.concat([known_data,last_row], ignore_index=True)\n",
    "    known_data = known_data.append(last_row)\n",
    "    # 刪除 DataFrame 的最後一列資料\n",
    "    train_df = train_df.drop(train_df.index[-1])\n",
    "known_data.to_csv(\"./data/pre_overall/HCC OP 20230511 test_pre_overall_input.csv\",index=False)"
   ]
  },
  {
   "attachments": {},
   "cell_type": "markdown",
   "metadata": {},
   "source": [
    "增加衍生特徵"
   ]
  },
  {
   "cell_type": "code",
   "execution_count": 140,
   "metadata": {},
   "outputs": [],
   "source": [
    "df = pd.read_csv('./data/pre_overall/HCC OP 20230511 train_pre_overall_input.csv')\n",
    "column = 'PLAT'\n",
    "new_column_name = 'class_' + column\n",
    "df[new_column_name] = np.where(df[column] < 120000, 0, np.where(df[column] < 150000, 1, 2))\n",
    "column = 'PTINR'\n",
    "new_column_name = 'class_' + column\n",
    "df[new_column_name] = np.where(df[column] > 1.1, 1, 0)\n",
    "column = 'ALB'\n",
    "new_column_name = 'class_' + column\n",
    "df[new_column_name] = np.where(df[column] < 3.5, 0, np.where(df[column] < 3.8, 1, 2))\n",
    "column = 'CR'\n",
    "new_column_name = 'class_' + column\n",
    "df[new_column_name] = np.where(df[column] > 1.2, 1, 0)\n",
    "column = 'BILI'\n",
    "new_column_name = 'class_' + column\n",
    "df[new_column_name] = np.where(df[column] < 1.2, 0, np.where(df[column] < 2, 1, 2))\n",
    "column = 'ALT'\n",
    "new_column_name = 'class_' + column\n",
    "df[new_column_name] = np.where(df[column] < 40, 0, np.where(df[column] < 80, 1, 2))\n",
    "column = 'AST'\n",
    "new_column_name = 'class_' + column\n",
    "df[new_column_name] = np.where(df[column] < 40, 0, np.where(df[column] < 80, 1, 2))\n",
    "column = 'AFP'\n",
    "new_column_name = 'class_' + column\n",
    "df[new_column_name] = np.where(df[column] < 7, 0,\n",
    "                               np.where(df[column] < 10, 1,\n",
    "                                        np.where(df[column] < 20, 2,\n",
    "                                                 np.where(df[column] < 200, 3, \n",
    "                                                          np.where(df[column] < 400, 4,5)))))\n",
    "column = 'Age'\n",
    "new_column_name = 'class_' + column\n",
    "df[new_column_name] = np.where(df[column] < 50, 0,\n",
    "                               np.where(df[column] < 60, 1,\n",
    "                                        np.where(df[column] < 65, 2, 3, \n",
    "                                                          )))\n",
    "column = 'BMI'\n",
    "new_column_name = 'class_' + column\n",
    "df[new_column_name] = np.where(df[column] < 23, 0,\n",
    "                               np.where(df[column] < 25, 1,\n",
    "                                        np.where(df[column] < 27, 2,\n",
    "                                                 np.where(df[column] < 27.5, 3, \n",
    "                                                          np.where(df[column] < 30, 4,5)))))\n",
    "column = 'Tumor size'\n",
    "new_column_name = 'class_' + column\n",
    "df[new_column_name] = np.where(df[column] < 2, 0,\n",
    "                               np.where(df[column] < 3, 1,\n",
    "                                        np.where(df[column] < 4, 2,\n",
    "                                                 np.where(df[column] < 5, 3, \n",
    "                                                          np.where(df[column] < 10, 4,5)))))\n",
    "column = 'Tumor number'\n",
    "new_column_name = 'class_' + column\n",
    "df[new_column_name] = np.where(df[column] > 1, 1, 0)\n",
    "column = 'NLR'\n",
    "new_column_name = 'class_' + column\n",
    "df[new_column_name] = np.where(df[column] < 2.5, 0,\n",
    "                               np.where(df[column] < 3, 1,\n",
    "                                        np.where(df[column] < 4, 2,\n",
    "                                                 np.where(df[column] < 5, 3,4))))\n",
    "column = 'FIB4'\n",
    "new_column_name = 'class_' + column\n",
    "df[new_column_name] = np.where(df[column] > 3.25, 1, 0)\n",
    "\n",
    "\n",
    "df.to_csv('./data/pre_overall/HCC OP 20230511 train_pre_overall_input_derived features.csv',index=False)"
   ]
  },
  {
   "cell_type": "code",
   "execution_count": 141,
   "metadata": {},
   "outputs": [],
   "source": [
    "df = pd.read_csv('./data/pre_overall/HCC OP 20230511 train_pre_overall_input_derived features.csv')\n",
    "columns_to_ln = ['PLAT', 'BUN', 'CR','ALT','AST','AFP','GGT','CHOL','ALK-P', 'LDH','GLU']\n",
    "\n",
    "# 對指定欄位進行 ln 轉換並存儲為新欄位\n",
    "for column in columns_to_ln:\n",
    "    new_column_name = 'ln' + column\n",
    "    df[new_column_name] = np.log(df[column])\n",
    "\n",
    "df.to_csv('./data/pre_overall/HCC OP 20230511 train_pre_overall_input_derived features.csv',index=False)"
   ]
  },
  {
   "cell_type": "code",
   "execution_count": 142,
   "metadata": {},
   "outputs": [],
   "source": [
    "df = pd.read_csv('./data/pre_overall/HCC OP 20230511 test_pre_overall_input.csv')\n",
    "column = 'PLAT'\n",
    "new_column_name = 'class_' + column\n",
    "df[new_column_name] = np.where(df[column] < 120000, 0, np.where(df[column] < 150000, 1, 2))\n",
    "column = 'PTINR'\n",
    "new_column_name = 'class_' + column\n",
    "df[new_column_name] = np.where(df[column] > 1.1, 1, 0)\n",
    "column = 'ALB'\n",
    "new_column_name = 'class_' + column\n",
    "df[new_column_name] = np.where(df[column] < 3.5, 0, np.where(df[column] < 3.8, 1, 2))\n",
    "column = 'CR'\n",
    "new_column_name = 'class_' + column\n",
    "df[new_column_name] = np.where(df[column] > 1.2, 1, 0)\n",
    "column = 'BILI'\n",
    "new_column_name = 'class_' + column\n",
    "df[new_column_name] = np.where(df[column] < 1.2, 0, np.where(df[column] < 2, 1, 2))\n",
    "column = 'ALT'\n",
    "new_column_name = 'class_' + column\n",
    "df[new_column_name] = np.where(df[column] < 40, 0, np.where(df[column] < 80, 1, 2))\n",
    "column = 'AST'\n",
    "new_column_name = 'class_' + column\n",
    "df[new_column_name] = np.where(df[column] < 40, 0, np.where(df[column] < 80, 1, 2))\n",
    "column = 'AFP'\n",
    "new_column_name = 'class_' + column\n",
    "df[new_column_name] = np.where(df[column] < 7, 0,\n",
    "                               np.where(df[column] < 10, 1,\n",
    "                                        np.where(df[column] < 20, 2,\n",
    "                                                 np.where(df[column] < 200, 3, \n",
    "                                                          np.where(df[column] < 400, 4,5)))))\n",
    "column = 'Age'\n",
    "new_column_name = 'class_' + column\n",
    "df[new_column_name] = np.where(df[column] < 50, 0,\n",
    "                               np.where(df[column] < 60, 1,\n",
    "                                        np.where(df[column] < 65, 2, 3, \n",
    "                                                          )))\n",
    "column = 'BMI'\n",
    "new_column_name = 'class_' + column\n",
    "df[new_column_name] = np.where(df[column] < 23, 0,\n",
    "                               np.where(df[column] < 25, 1,\n",
    "                                        np.where(df[column] < 27, 2,\n",
    "                                                 np.where(df[column] < 27.5, 3, \n",
    "                                                          np.where(df[column] < 30, 4,5)))))\n",
    "column = 'Tumor size'\n",
    "new_column_name = 'class_' + column\n",
    "df[new_column_name] = np.where(df[column] < 2, 0,\n",
    "                               np.where(df[column] < 3, 1,\n",
    "                                        np.where(df[column] < 4, 2,\n",
    "                                                 np.where(df[column] < 5, 3, \n",
    "                                                          np.where(df[column] < 10, 4,5)))))\n",
    "column = 'Tumor number'\n",
    "new_column_name = 'class_' + column\n",
    "df[new_column_name] = np.where(df[column] > 1, 1, 0)\n",
    "column = 'NLR'\n",
    "new_column_name = 'class_' + column\n",
    "df[new_column_name] = np.where(df[column] < 2.5, 0,\n",
    "                               np.where(df[column] < 3, 1,\n",
    "                                        np.where(df[column] < 4, 2,\n",
    "                                                 np.where(df[column] < 5, 3,4))))\n",
    "column = 'FIB4'\n",
    "new_column_name = 'class_' + column\n",
    "df[new_column_name] = np.where(df[column] > 3.25, 1, 0)\n",
    "\n",
    "\n",
    "df.to_csv('./data/pre_overall/HCC OP 20230511 test_pre_overall_input_derived features.csv',index=False)"
   ]
  },
  {
   "cell_type": "code",
   "execution_count": 143,
   "metadata": {},
   "outputs": [],
   "source": [
    "df = pd.read_csv('./data/pre_overall/HCC OP 20230511 test_pre_overall_input_derived features.csv')\n",
    "columns_to_ln = ['PLAT', 'BUN', 'CR','ALT','AST','AFP','GGT','CHOL','ALK-P', 'LDH','GLU']\n",
    "\n",
    "# 對指定欄位進行 ln 轉換並存儲為新欄位\n",
    "for column in columns_to_ln:\n",
    "    new_column_name = 'ln' + column\n",
    "    df[new_column_name] = np.log(df[column])\n",
    "\n",
    "df.to_csv('./data/pre_overall/HCC OP 20230511 test_pre_overall_input_derived features.csv',index=False)"
   ]
  },
  {
   "cell_type": "code",
   "execution_count": 144,
   "metadata": {},
   "outputs": [
    {
     "name": "stdout",
     "output_type": "stream",
     "text": [
      "alcoholism\n"
     ]
    }
   ],
   "source": [
    "train = pd.read_csv('./data/pre_overall/HCC OP 20230511 train_pre_overall_input_derived features.csv')\n",
    "test = pd.read_csv('./data/pre_overall/HCC OP 20230511 test_pre_overall_input_derived features.csv')\n",
    "p_values = []\n",
    "for column in train.columns:\n",
    "    # 執行 t 檢定 \n",
    "    _, p_value = ttest_ind(train[column], test[column])\n",
    "    p_values.append(p_value)\n",
    "\n",
    "# 打印 p-value\n",
    "for column, p_value in zip(train.columns, p_values):\n",
    "    #print(f\"{column}: p-value = {p_value}\")\n",
    "    if p_value < 0.05:\n",
    "        print(column)"
   ]
  },
  {
   "attachments": {},
   "cell_type": "markdown",
   "metadata": {},
   "source": [
    "正規化"
   ]
  },
  {
   "cell_type": "code",
   "execution_count": 145,
   "metadata": {},
   "outputs": [
    {
     "data": {
      "text/html": [
       "<div>\n",
       "<style scoped>\n",
       "    .dataframe tbody tr th:only-of-type {\n",
       "        vertical-align: middle;\n",
       "    }\n",
       "\n",
       "    .dataframe tbody tr th {\n",
       "        vertical-align: top;\n",
       "    }\n",
       "\n",
       "    .dataframe thead th {\n",
       "        text-align: right;\n",
       "    }\n",
       "</style>\n",
       "<table border=\"1\" class=\"dataframe\">\n",
       "  <thead>\n",
       "    <tr style=\"text-align: right;\">\n",
       "      <th></th>\n",
       "      <th>Milan_out</th>\n",
       "      <th>Age</th>\n",
       "      <th>Sex</th>\n",
       "      <th>Image_Vasulcar_invasion(Portal vein,Hepatic vein)</th>\n",
       "      <th>BCLC</th>\n",
       "      <th>Child_Class</th>\n",
       "      <th>Weight</th>\n",
       "      <th>Height</th>\n",
       "      <th>BMI</th>\n",
       "      <th>WBC</th>\n",
       "      <th>...</th>\n",
       "      <th>lnBUN</th>\n",
       "      <th>lnCR</th>\n",
       "      <th>lnALT</th>\n",
       "      <th>lnAST</th>\n",
       "      <th>lnAFP</th>\n",
       "      <th>lnGGT</th>\n",
       "      <th>lnCHOL</th>\n",
       "      <th>lnALK-P</th>\n",
       "      <th>lnLDH</th>\n",
       "      <th>lnGLU</th>\n",
       "    </tr>\n",
       "  </thead>\n",
       "  <tbody>\n",
       "    <tr>\n",
       "      <th>0</th>\n",
       "      <td>0.0</td>\n",
       "      <td>54.97</td>\n",
       "      <td>1.0</td>\n",
       "      <td>0.0</td>\n",
       "      <td>1.0</td>\n",
       "      <td>1.0</td>\n",
       "      <td>62.1</td>\n",
       "      <td>169.5</td>\n",
       "      <td>21.614848</td>\n",
       "      <td>5200.0</td>\n",
       "      <td>...</td>\n",
       "      <td>2.833213</td>\n",
       "      <td>-0.105361</td>\n",
       "      <td>4.442651</td>\n",
       "      <td>4.442651</td>\n",
       "      <td>0.270027</td>\n",
       "      <td>3.218876</td>\n",
       "      <td>5.278115</td>\n",
       "      <td>4.219508</td>\n",
       "      <td>5.236442</td>\n",
       "      <td>4.644391</td>\n",
       "    </tr>\n",
       "    <tr>\n",
       "      <th>1</th>\n",
       "      <td>0.0</td>\n",
       "      <td>38.81</td>\n",
       "      <td>1.0</td>\n",
       "      <td>0.0</td>\n",
       "      <td>1.0</td>\n",
       "      <td>1.0</td>\n",
       "      <td>71.0</td>\n",
       "      <td>174.0</td>\n",
       "      <td>23.450918</td>\n",
       "      <td>5600.0</td>\n",
       "      <td>...</td>\n",
       "      <td>2.944439</td>\n",
       "      <td>0.113329</td>\n",
       "      <td>3.806662</td>\n",
       "      <td>3.850148</td>\n",
       "      <td>3.754667</td>\n",
       "      <td>3.713572</td>\n",
       "      <td>5.090278</td>\n",
       "      <td>4.158883</td>\n",
       "      <td>5.447905</td>\n",
       "      <td>4.442651</td>\n",
       "    </tr>\n",
       "    <tr>\n",
       "      <th>2</th>\n",
       "      <td>1.0</td>\n",
       "      <td>73.04</td>\n",
       "      <td>1.0</td>\n",
       "      <td>1.0</td>\n",
       "      <td>3.0</td>\n",
       "      <td>1.0</td>\n",
       "      <td>45.9</td>\n",
       "      <td>157.8</td>\n",
       "      <td>18.433113</td>\n",
       "      <td>5700.0</td>\n",
       "      <td>...</td>\n",
       "      <td>2.564949</td>\n",
       "      <td>-0.371064</td>\n",
       "      <td>3.433987</td>\n",
       "      <td>4.043051</td>\n",
       "      <td>1.918392</td>\n",
       "      <td>4.912655</td>\n",
       "      <td>5.140991</td>\n",
       "      <td>4.844187</td>\n",
       "      <td>5.542890</td>\n",
       "      <td>4.677026</td>\n",
       "    </tr>\n",
       "    <tr>\n",
       "      <th>3</th>\n",
       "      <td>0.0</td>\n",
       "      <td>65.96</td>\n",
       "      <td>1.0</td>\n",
       "      <td>0.0</td>\n",
       "      <td>1.0</td>\n",
       "      <td>1.0</td>\n",
       "      <td>69.3</td>\n",
       "      <td>170.8</td>\n",
       "      <td>23.755135</td>\n",
       "      <td>5700.0</td>\n",
       "      <td>...</td>\n",
       "      <td>2.772589</td>\n",
       "      <td>0.048790</td>\n",
       "      <td>3.401197</td>\n",
       "      <td>3.367296</td>\n",
       "      <td>1.560248</td>\n",
       "      <td>3.433987</td>\n",
       "      <td>5.293305</td>\n",
       "      <td>4.454347</td>\n",
       "      <td>5.241747</td>\n",
       "      <td>4.521789</td>\n",
       "    </tr>\n",
       "    <tr>\n",
       "      <th>4</th>\n",
       "      <td>0.0</td>\n",
       "      <td>48.09</td>\n",
       "      <td>1.0</td>\n",
       "      <td>0.0</td>\n",
       "      <td>1.0</td>\n",
       "      <td>1.0</td>\n",
       "      <td>69.1</td>\n",
       "      <td>168.1</td>\n",
       "      <td>24.453590</td>\n",
       "      <td>4700.0</td>\n",
       "      <td>...</td>\n",
       "      <td>2.772589</td>\n",
       "      <td>0.000000</td>\n",
       "      <td>3.496508</td>\n",
       "      <td>3.465736</td>\n",
       "      <td>1.249902</td>\n",
       "      <td>3.218876</td>\n",
       "      <td>5.010635</td>\n",
       "      <td>4.499810</td>\n",
       "      <td>5.278115</td>\n",
       "      <td>4.406719</td>\n",
       "    </tr>\n",
       "  </tbody>\n",
       "</table>\n",
       "<p>5 rows × 64 columns</p>\n",
       "</div>"
      ],
      "text/plain": [
       "   Milan_out    Age  Sex  Image_Vasulcar_invasion(Portal vein,Hepatic vein)  \\\n",
       "0        0.0  54.97  1.0                                                0.0   \n",
       "1        0.0  38.81  1.0                                                0.0   \n",
       "2        1.0  73.04  1.0                                                1.0   \n",
       "3        0.0  65.96  1.0                                                0.0   \n",
       "4        0.0  48.09  1.0                                                0.0   \n",
       "\n",
       "   BCLC  Child_Class  Weight  Height        BMI     WBC  ...     lnBUN  \\\n",
       "0   1.0          1.0    62.1   169.5  21.614848  5200.0  ...  2.833213   \n",
       "1   1.0          1.0    71.0   174.0  23.450918  5600.0  ...  2.944439   \n",
       "2   3.0          1.0    45.9   157.8  18.433113  5700.0  ...  2.564949   \n",
       "3   1.0          1.0    69.3   170.8  23.755135  5700.0  ...  2.772589   \n",
       "4   1.0          1.0    69.1   168.1  24.453590  4700.0  ...  2.772589   \n",
       "\n",
       "       lnCR     lnALT     lnAST     lnAFP     lnGGT    lnCHOL   lnALK-P  \\\n",
       "0 -0.105361  4.442651  4.442651  0.270027  3.218876  5.278115  4.219508   \n",
       "1  0.113329  3.806662  3.850148  3.754667  3.713572  5.090278  4.158883   \n",
       "2 -0.371064  3.433987  4.043051  1.918392  4.912655  5.140991  4.844187   \n",
       "3  0.048790  3.401197  3.367296  1.560248  3.433987  5.293305  4.454347   \n",
       "4  0.000000  3.496508  3.465736  1.249902  3.218876  5.010635  4.499810   \n",
       "\n",
       "      lnLDH     lnGLU  \n",
       "0  5.236442  4.644391  \n",
       "1  5.447905  4.442651  \n",
       "2  5.542890  4.677026  \n",
       "3  5.241747  4.521789  \n",
       "4  5.278115  4.406719  \n",
       "\n",
       "[5 rows x 64 columns]"
      ]
     },
     "metadata": {},
     "output_type": "display_data"
    }
   ],
   "source": [
    "raw_df = pd.read_csv('./data/pre_overall/HCC OP 20230511 train_pre_overall_input_derived features.csv')\n",
    "raw_df_test = pd.read_csv('./data/pre_overall/HCC OP 20230511 test_pre_overall_input_derived features.csv')\n",
    "display(raw_df.head())"
   ]
  },
  {
   "cell_type": "code",
   "execution_count": 146,
   "metadata": {},
   "outputs": [],
   "source": [
    "X_train = raw_df.drop(columns=['Recur', 'Recurrence free survival'])\n",
    "y_train = raw_df[['Recur', 'Recurrence free survival']]\n",
    "X_test = raw_df_test.drop(columns=['Recur', 'Recurrence free survival'])\n",
    "y_test = raw_df_test[['Recur', 'Recurrence free survival']]"
   ]
  },
  {
   "cell_type": "code",
   "execution_count": 147,
   "metadata": {},
   "outputs": [
    {
     "data": {
      "text/html": [
       "<div>\n",
       "<style scoped>\n",
       "    .dataframe tbody tr th:only-of-type {\n",
       "        vertical-align: middle;\n",
       "    }\n",
       "\n",
       "    .dataframe tbody tr th {\n",
       "        vertical-align: top;\n",
       "    }\n",
       "\n",
       "    .dataframe thead th {\n",
       "        text-align: right;\n",
       "    }\n",
       "</style>\n",
       "<table border=\"1\" class=\"dataframe\">\n",
       "  <thead>\n",
       "    <tr style=\"text-align: right;\">\n",
       "      <th></th>\n",
       "      <th>Milan_out</th>\n",
       "      <th>Age</th>\n",
       "      <th>Sex</th>\n",
       "      <th>Image_Vasulcar_invasion(Portal vein,Hepatic vein)</th>\n",
       "      <th>BCLC</th>\n",
       "      <th>Child_Class</th>\n",
       "      <th>Weight</th>\n",
       "      <th>Height</th>\n",
       "      <th>BMI</th>\n",
       "      <th>WBC</th>\n",
       "      <th>...</th>\n",
       "      <th>lnBUN</th>\n",
       "      <th>lnCR</th>\n",
       "      <th>lnALT</th>\n",
       "      <th>lnAST</th>\n",
       "      <th>lnAFP</th>\n",
       "      <th>lnGGT</th>\n",
       "      <th>lnCHOL</th>\n",
       "      <th>lnALK-P</th>\n",
       "      <th>lnLDH</th>\n",
       "      <th>lnGLU</th>\n",
       "    </tr>\n",
       "  </thead>\n",
       "  <tbody>\n",
       "    <tr>\n",
       "      <th>1030</th>\n",
       "      <td>-0.848097</td>\n",
       "      <td>-1.160128</td>\n",
       "      <td>-0.54497</td>\n",
       "      <td>-0.229998</td>\n",
       "      <td>-0.124253</td>\n",
       "      <td>-0.108306</td>\n",
       "      <td>1.173034</td>\n",
       "      <td>0.054861</td>\n",
       "      <td>-0.027610</td>\n",
       "      <td>1.845698</td>\n",
       "      <td>...</td>\n",
       "      <td>0.644773</td>\n",
       "      <td>0.150597</td>\n",
       "      <td>0.638773</td>\n",
       "      <td>-0.017756</td>\n",
       "      <td>-0.773565</td>\n",
       "      <td>-0.355940</td>\n",
       "      <td>-1.503501</td>\n",
       "      <td>-1.345677</td>\n",
       "      <td>1.269302</td>\n",
       "      <td>0.713307</td>\n",
       "    </tr>\n",
       "    <tr>\n",
       "      <th>1031</th>\n",
       "      <td>1.179110</td>\n",
       "      <td>-1.099080</td>\n",
       "      <td>-0.54497</td>\n",
       "      <td>4.347855</td>\n",
       "      <td>2.866483</td>\n",
       "      <td>-0.108306</td>\n",
       "      <td>3.033962</td>\n",
       "      <td>1.723757</td>\n",
       "      <td>2.040688</td>\n",
       "      <td>-0.536658</td>\n",
       "      <td>...</td>\n",
       "      <td>-0.219820</td>\n",
       "      <td>-0.379410</td>\n",
       "      <td>-1.200753</td>\n",
       "      <td>-0.479758</td>\n",
       "      <td>-0.769768</td>\n",
       "      <td>1.481409</td>\n",
       "      <td>2.321818</td>\n",
       "      <td>1.899095</td>\n",
       "      <td>-1.099077</td>\n",
       "      <td>-0.472709</td>\n",
       "    </tr>\n",
       "    <tr>\n",
       "      <th>1032</th>\n",
       "      <td>1.179110</td>\n",
       "      <td>-0.010799</td>\n",
       "      <td>-0.54497</td>\n",
       "      <td>-0.229998</td>\n",
       "      <td>1.371115</td>\n",
       "      <td>-0.108306</td>\n",
       "      <td>0.135374</td>\n",
       "      <td>0.599633</td>\n",
       "      <td>-0.223329</td>\n",
       "      <td>-0.847400</td>\n",
       "      <td>...</td>\n",
       "      <td>-0.219820</td>\n",
       "      <td>-0.278238</td>\n",
       "      <td>2.982456</td>\n",
       "      <td>2.259397</td>\n",
       "      <td>-0.391056</td>\n",
       "      <td>0.924702</td>\n",
       "      <td>-1.387379</td>\n",
       "      <td>0.309133</td>\n",
       "      <td>-0.776772</td>\n",
       "      <td>-0.744757</td>\n",
       "    </tr>\n",
       "    <tr>\n",
       "      <th>1033</th>\n",
       "      <td>-0.848097</td>\n",
       "      <td>0.381536</td>\n",
       "      <td>-0.54497</td>\n",
       "      <td>-0.229998</td>\n",
       "      <td>-0.124253</td>\n",
       "      <td>-0.108306</td>\n",
       "      <td>-1.279617</td>\n",
       "      <td>-0.927709</td>\n",
       "      <td>-0.988041</td>\n",
       "      <td>-0.329497</td>\n",
       "      <td>...</td>\n",
       "      <td>1.742609</td>\n",
       "      <td>4.322179</td>\n",
       "      <td>1.455279</td>\n",
       "      <td>0.951589</td>\n",
       "      <td>0.535068</td>\n",
       "      <td>1.512935</td>\n",
       "      <td>-1.464463</td>\n",
       "      <td>-0.628470</td>\n",
       "      <td>0.141192</td>\n",
       "      <td>2.809173</td>\n",
       "    </tr>\n",
       "    <tr>\n",
       "      <th>1034</th>\n",
       "      <td>-0.848097</td>\n",
       "      <td>0.313162</td>\n",
       "      <td>-0.54497</td>\n",
       "      <td>-0.229998</td>\n",
       "      <td>-0.124253</td>\n",
       "      <td>-0.108306</td>\n",
       "      <td>-0.353441</td>\n",
       "      <td>0.562977</td>\n",
       "      <td>-0.749979</td>\n",
       "      <td>-0.536658</td>\n",
       "      <td>...</td>\n",
       "      <td>0.158232</td>\n",
       "      <td>0.122065</td>\n",
       "      <td>-0.252649</td>\n",
       "      <td>-0.365764</td>\n",
       "      <td>0.818951</td>\n",
       "      <td>0.317366</td>\n",
       "      <td>0.905118</td>\n",
       "      <td>-0.479230</td>\n",
       "      <td>-0.792775</td>\n",
       "      <td>0.817095</td>\n",
       "    </tr>\n",
       "  </tbody>\n",
       "</table>\n",
       "<p>5 rows × 62 columns</p>\n",
       "</div>"
      ],
      "text/plain": [
       "      Milan_out       Age      Sex  \\\n",
       "1030  -0.848097 -1.160128 -0.54497   \n",
       "1031   1.179110 -1.099080 -0.54497   \n",
       "1032   1.179110 -0.010799 -0.54497   \n",
       "1033  -0.848097  0.381536 -0.54497   \n",
       "1034  -0.848097  0.313162 -0.54497   \n",
       "\n",
       "      Image_Vasulcar_invasion(Portal vein,Hepatic vein)      BCLC  \\\n",
       "1030                                          -0.229998 -0.124253   \n",
       "1031                                           4.347855  2.866483   \n",
       "1032                                          -0.229998  1.371115   \n",
       "1033                                          -0.229998 -0.124253   \n",
       "1034                                          -0.229998 -0.124253   \n",
       "\n",
       "      Child_Class    Weight    Height       BMI       WBC  ...     lnBUN  \\\n",
       "1030    -0.108306  1.173034  0.054861 -0.027610  1.845698  ...  0.644773   \n",
       "1031    -0.108306  3.033962  1.723757  2.040688 -0.536658  ... -0.219820   \n",
       "1032    -0.108306  0.135374  0.599633 -0.223329 -0.847400  ... -0.219820   \n",
       "1033    -0.108306 -1.279617 -0.927709 -0.988041 -0.329497  ...  1.742609   \n",
       "1034    -0.108306 -0.353441  0.562977 -0.749979 -0.536658  ...  0.158232   \n",
       "\n",
       "          lnCR     lnALT     lnAST     lnAFP     lnGGT    lnCHOL   lnALK-P  \\\n",
       "1030  0.150597  0.638773 -0.017756 -0.773565 -0.355940 -1.503501 -1.345677   \n",
       "1031 -0.379410 -1.200753 -0.479758 -0.769768  1.481409  2.321818  1.899095   \n",
       "1032 -0.278238  2.982456  2.259397 -0.391056  0.924702 -1.387379  0.309133   \n",
       "1033  4.322179  1.455279  0.951589  0.535068  1.512935 -1.464463 -0.628470   \n",
       "1034  0.122065 -0.252649 -0.365764  0.818951  0.317366  0.905118 -0.479230   \n",
       "\n",
       "         lnLDH     lnGLU  \n",
       "1030  1.269302  0.713307  \n",
       "1031 -1.099077 -0.472709  \n",
       "1032 -0.776772 -0.744757  \n",
       "1033  0.141192  2.809173  \n",
       "1034 -0.792775  0.817095  \n",
       "\n",
       "[5 rows x 62 columns]"
      ]
     },
     "metadata": {},
     "output_type": "display_data"
    },
    {
     "data": {
      "text/html": [
       "<div>\n",
       "<style scoped>\n",
       "    .dataframe tbody tr th:only-of-type {\n",
       "        vertical-align: middle;\n",
       "    }\n",
       "\n",
       "    .dataframe tbody tr th {\n",
       "        vertical-align: top;\n",
       "    }\n",
       "\n",
       "    .dataframe thead th {\n",
       "        text-align: right;\n",
       "    }\n",
       "</style>\n",
       "<table border=\"1\" class=\"dataframe\">\n",
       "  <thead>\n",
       "    <tr style=\"text-align: right;\">\n",
       "      <th></th>\n",
       "      <th>Recur</th>\n",
       "      <th>Recurrence free survival</th>\n",
       "    </tr>\n",
       "  </thead>\n",
       "  <tbody>\n",
       "    <tr>\n",
       "      <th>1030</th>\n",
       "      <td>0.0</td>\n",
       "      <td>169.30</td>\n",
       "    </tr>\n",
       "    <tr>\n",
       "      <th>1031</th>\n",
       "      <td>0.0</td>\n",
       "      <td>60.70</td>\n",
       "    </tr>\n",
       "    <tr>\n",
       "      <th>1032</th>\n",
       "      <td>1.0</td>\n",
       "      <td>17.80</td>\n",
       "    </tr>\n",
       "    <tr>\n",
       "      <th>1033</th>\n",
       "      <td>1.0</td>\n",
       "      <td>4.10</td>\n",
       "    </tr>\n",
       "    <tr>\n",
       "      <th>1034</th>\n",
       "      <td>0.0</td>\n",
       "      <td>3.73</td>\n",
       "    </tr>\n",
       "  </tbody>\n",
       "</table>\n",
       "</div>"
      ],
      "text/plain": [
       "      Recur  Recurrence free survival\n",
       "1030    0.0                    169.30\n",
       "1031    0.0                     60.70\n",
       "1032    1.0                     17.80\n",
       "1033    1.0                      4.10\n",
       "1034    0.0                      3.73"
      ]
     },
     "metadata": {},
     "output_type": "display_data"
    }
   ],
   "source": [
    "scaler = StandardScaler()\n",
    "scaler.fit(X_train)\n",
    "scaled_X_train = pd.DataFrame(scaler.transform(X_train), columns=X_train.columns)\n",
    "scaled_X_test = pd.DataFrame(scaler.transform(X_test), columns=X_test.columns)\n",
    "display(scaled_X_train.tail())\n",
    "display(y_train.tail())"
   ]
  },
  {
   "cell_type": "code",
   "execution_count": 148,
   "metadata": {},
   "outputs": [
    {
     "data": {
      "text/plain": [
       "['./data/pre_overall/HCC OP 20230511 train_pre_overall_input_derived features_scaler.bin']"
      ]
     },
     "execution_count": 148,
     "metadata": {},
     "output_type": "execute_result"
    }
   ],
   "source": [
    "scaled_data = pd.concat([scaled_X_train, y_train], axis=1)\n",
    "scaled_data_test = pd.concat([scaled_X_test, y_test], axis=1)\n",
    "scaled_data.to_csv('./data/pre_overall/HCC OP 20230511 train_pre_overall_input_derived features_std.csv',index=False)\n",
    "scaled_data_test.to_csv('./data/pre_overall/HCC OP 20230511 test_pre_overall_input_derived features_std.csv',index=False)\n",
    "joblib.dump(scaler, './data/pre_overall/HCC OP 20230511 train_pre_overall_input_derived features_scaler.bin')"
   ]
  },
  {
   "attachments": {},
   "cell_type": "markdown",
   "metadata": {},
   "source": [
    "確認分布"
   ]
  },
  {
   "cell_type": "code",
   "execution_count": 149,
   "metadata": {},
   "outputs": [
    {
     "data": {
      "image/png": "[encoded data removed]",
      "text/plain": [
       "<Figure size 640x480 with 1 Axes>"
      ]
     },
     "metadata": {},
     "output_type": "display_data"
    },
    {
     "data": {
      "image/png": "[encoded data removed]",
      "text/plain": [
       "<Figure size 1000x600 with 1 Axes>"
      ]
     },
     "metadata": {},
     "output_type": "display_data"
    }
   ],
   "source": [
    "import seaborn as sns\n",
    "import matplotlib.pyplot as plt\n",
    "test = pd.read_csv('./data/pre_overall/HCC OP 20230511 train_pre_overall_input_derived features_std.csv')\n",
    "# 绘制train['recur']的圆饼图\n",
    "counts = test['Recur'].value_counts().to_dict()\n",
    "counts_keys = list(counts.keys())\n",
    "counts_keys.sort()\n",
    "counts = {k: counts[k] for k in counts_keys}\n",
    "fig, ax = plt.subplots()\n",
    "colors = sns.color_palette(\"Set2\")[:len(counts.keys())]\n",
    "ax.set_title('Recur', fontdict={'size': 20})\n",
    "ax.pie(counts.values(), labels=counts.keys(), colors=colors, autopct='%1.1f%%', textprops={'fontsize': 14})\n",
    "plt.show()\n",
    "\n",
    "# 绘制train['Recurrence free survival']和train['Recur']的箱线图\n",
    "plt.figure(figsize=(10, 6))  # 设置图形的大小（可选）\n",
    "sns.boxplot(x=test[\"Recur\"], y=test[\"Recurrence free survival\"], palette=sns.color_palette(\"Set2\"))\n",
    "plt.xlabel('Recur', fontsize=14)  # 设置x轴标签\n",
    "plt.ylabel('Recurrence free survival', fontsize=14)  # 设置y轴标签\n",
    "plt.title('Boxplot of Recurrence free survival by recur', fontsize=16)  # 设置图形标题\n",
    "plt.show()"
   ]
  },
  {
   "cell_type": "code",
   "execution_count": 150,
   "metadata": {},
   "outputs": [
    {
     "data": {
      "image/png": "[encoded data removed]",
      "text/plain": [
       "<Figure size 640x480 with 1 Axes>"
      ]
     },
     "metadata": {},
     "output_type": "display_data"
    },
    {
     "data": {
      "image/png": "[encoded data removed]",
      "text/plain": [
       "<Figure size 1000x600 with 1 Axes>"
      ]
     },
     "metadata": {},
     "output_type": "display_data"
    }
   ],
   "source": [
    "import seaborn as sns\n",
    "import matplotlib.pyplot as plt\n",
    "test = pd.read_csv('./data/pre_overall/HCC OP 20230511 test_pre_overall_input_derived features_std.csv')\n",
    "# 绘制train['recur']的圆饼图\n",
    "counts = test['Recur'].value_counts().to_dict()\n",
    "counts_keys = list(counts.keys())\n",
    "counts_keys.sort()\n",
    "counts = {k: counts[k] for k in counts_keys}\n",
    "fig, ax = plt.subplots()\n",
    "colors = sns.color_palette(\"Set2\")[:len(counts.keys())]\n",
    "ax.set_title('Recur', fontdict={'size': 20})\n",
    "ax.pie(counts.values(), labels=counts.keys(), colors=colors, autopct='%1.1f%%', textprops={'fontsize': 14})\n",
    "plt.show()\n",
    "\n",
    "# 绘制train['Recurrence free survival']和train['Recur']的箱线图\n",
    "plt.figure(figsize=(10, 6))  # 设置图形的大小（可选）\n",
    "sns.boxplot(x=test[\"Recur\"], y=test[\"Recurrence free survival\"], palette=sns.color_palette(\"Set2\"))\n",
    "plt.xlabel('Recur', fontsize=14)  # 设置x轴标签\n",
    "plt.ylabel('Recurrence free survival', fontsize=14)  # 设置y轴标签\n",
    "plt.title('Boxplot of Recurrence free survival by recur', fontsize=16)  # 设置图形标题\n",
    "plt.show()"
   ]
  }
 ],
 "metadata": {
  "kernelspec": {
   "display_name": "OP_RFA",
   "language": "python",
   "name": "python3"
  },
  "language_info": {
   "codemirror_mode": {
    "name": "ipython",
    "version": 3
   },
   "file_extension": ".py",
   "mimetype": "text/x-python",
   "name": "python",
   "nbconvert_exporter": "python",
   "pygments_lexer": "ipython3",
   "version": "3.10.9"
  },
  "orig_nbformat": 4
 },
 "nbformat": 4,
 "nbformat_minor": 2
}
