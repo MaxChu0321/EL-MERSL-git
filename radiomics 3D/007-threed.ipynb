{
 "cells": [
  {
   "cell_type": "code",
   "execution_count": 1,
   "metadata": {},
   "outputs": [
    {
     "name": "stdout",
     "output_type": "stream",
     "text": [
      "Jupyter environment detected. Enabling Open3D WebVisualizer.\n",
      "[Open3D INFO] WebRTC GUI backend enabled.\n",
      "[Open3D INFO] WebRTCWindowSystem: HTTP handshake server disabled.\n"
     ]
    }
   ],
   "source": [
    "from pathlib import Path\n",
    "import sys\n",
    "path_root = Path().absolute().parent\n",
    "sys.path.append(str(path_root))\n",
    "\n",
    "import numpy as np\n",
    "import pandas as pd\n",
    "import pickle\n",
    "import cv2\n",
    "from pathlib import Path\n",
    "import matplotlib.pyplot as plt\n",
    "from joblib import Parallel, delayed\n",
    "\n",
    "from radiomicsutil.voi import find_contours, getMask, calc_vol, calc_mesh, smooth_mesh, plot_mesh, plot_mesh3d\n",
    "from radiomicsutil.threed import ThreedMorphologyFeaturesExtractor"
   ]
  },
  {
   "cell_type": "code",
   "execution_count": 6,
   "metadata": {},
   "outputs": [],
   "source": [
    "with open(\"./data/p_slice_locations.pkl\", \"rb\") as f:\n",
    "    case_slice_locations = pickle.load(f)\n",
    "\n",
    "with open(\"./data/p_pixel_spacings.pkl\", \"rb\") as f:\n",
    "    case_pixel_spacings = pickle.load(f)\n",
    "\n",
    "\n",
    "def caseExtractFeatures(isd_number, image_shape=(512,512)):\n",
    "    print(isd_number)\n",
    "    case = Path(f\"/home/azetry/datasets/TACE/{isd_number}_result\")\n",
    "    \n",
    "    pixel_spacing_xy = case_pixel_spacings[isd_number][0]\n",
    "\n",
    "    # Convert slice locations to float and sort along with masks\n",
    "    slice_locations = case_slice_locations[isd_number]\n",
    "    sorted_indices = np.argsort(slice_locations)\n",
    "    slice_locations.sort()\n",
    "\n",
    "\n",
    "    with open(case/\"liver_preds.pickle\", \"rb\") as f:\n",
    "        liver_preds = pickle.load(f)\n",
    "\n",
    "    tumor_preds = dict()\n",
    "    for png in case.glob(\"./*.png\"):\n",
    "        idx = int(png.name.replace(\".png\",\"\"))\n",
    "        img = cv2.imread(str(png))\n",
    "        tumor_preds[idx] = find_contours(img)\n",
    "\n",
    "    liver_masks = [ getMask(ctr,image_shape) for ctr in liver_preds ]\n",
    "    liver_masks = [liver_masks[i] for i in sorted_indices]\n",
    "\n",
    "    tumor_masks = [ getMask(tumor_preds[idx],image_shape) for idx in range(len(tumor_preds)) ] # 因為排序不一定照排序\n",
    "    tumor_masks = [tumor_masks[i] for i in sorted_indices]\n",
    "\n",
    "    # Default rescale to 1 mm\n",
    "    liver_vol = calc_vol(liver_masks, slice_locations, pixel_spacing_xy)\n",
    "    tumor_vol = calc_vol(tumor_masks, slice_locations, pixel_spacing_xy)\n",
    "\n",
    "    # print(\"Building Liver Model...\")\n",
    "    # liver_extractor = ThreedMorphologyFeaturesExtractor(liver_vol)\n",
    "    # print(\"Done.\")\n",
    "    # print(\"Building Tumor Model...\")\n",
    "    tumor_extractor = ThreedMorphologyFeaturesExtractor(tumor_vol)\n",
    "\n",
    "    threed_morphology_p = tumor_extractor.all('p')\n",
    "    \n",
    "    # 用 triangle mesh 計算volume所花成本和時間太大，直接用 voxels 計算近似值 (因為我們已經rescale 到 1 mm 所以不用擔心)\n",
    "    liver_voxels = np.sum(liver_vol)\n",
    "    tumor_voxels = np.sum(tumor_extractor.voi_voxels)\n",
    "    print(liver_voxels, tumor_voxels)\n",
    "    # print(f\"Liver voxels:{liver_voxels}\")\n",
    "    threed_morphology_p['ｐ_tumor_liver_volume_ratio'] = pd.Series([tumor_voxels / liver_voxels])\n",
    "    threed_morphology_p['p_tumor_liver_diff'] = pd.Series([liver_voxels-tumor_voxels])\n",
    "    threed_morphology_p['p_tumor_liver_diff_ratio'] = threed_morphology_p['p_tumor_liver_diff'] / liver_voxels\n",
    "\n",
    "    threed_morphology_p = threed_morphology_p.set_index(pd.Index([f'{isd_number}']))\n",
    "    return threed_morphology_p\n",
    "    "
   ]
  },
  {
   "cell_type": "code",
   "execution_count": 7,
   "metadata": {},
   "outputs": [
    {
     "name": "stdout",
     "output_type": "stream",
     "text": [
      "cases with ct: 517\n"
     ]
    }
   ],
   "source": [
    "with open(\"../20230604-iclab-radiomics/data/001-max-contours.pickle\", \"rb\") as f:\n",
    "    contours = pickle.load(f)\n",
    "\n",
    "cases = [ case[0] for case in contours ]\n",
    "print(f\"cases with ct: {len(cases)}\")"
   ]
  },
  {
   "cell_type": "code",
   "execution_count": 8,
   "metadata": {},
   "outputs": [
    {
     "name": "stdout",
     "output_type": "stream",
     "text": [
      "TACE0104\n",
      "Use voxel to estimate volume...\n",
      "1686638 858448\n"
     ]
    }
   ],
   "source": [
    "r = caseExtractFeatures('TACE0104')"
   ]
  },
  {
   "cell_type": "code",
   "execution_count": 9,
   "metadata": {},
   "outputs": [
    {
     "data": {
      "text/html": [
       "<div>\n",
       "<style scoped>\n",
       "    .dataframe tbody tr th:only-of-type {\n",
       "        vertical-align: middle;\n",
       "    }\n",
       "\n",
       "    .dataframe tbody tr th {\n",
       "        vertical-align: top;\n",
       "    }\n",
       "\n",
       "    .dataframe thead th {\n",
       "        text-align: right;\n",
       "    }\n",
       "</style>\n",
       "<table border=\"1\" class=\"dataframe\">\n",
       "  <thead>\n",
       "    <tr style=\"text-align: right;\">\n",
       "      <th></th>\n",
       "      <th>p_counts</th>\n",
       "      <th>p_volume</th>\n",
       "      <th>p_surface_area</th>\n",
       "      <th>p_equivalent_diameter</th>\n",
       "      <th>p_extent</th>\n",
       "      <th>p_principal_axis_length_1</th>\n",
       "      <th>p_principal_axis_length_2</th>\n",
       "      <th>p_principal_axis_length_3</th>\n",
       "      <th>p_quaternion_w</th>\n",
       "      <th>p_quaternion_x</th>\n",
       "      <th>...</th>\n",
       "      <th>p_aspect_ratio_3</th>\n",
       "      <th>p_max_radius</th>\n",
       "      <th>p_abb_volume</th>\n",
       "      <th>p_sphericity_ellipticity</th>\n",
       "      <th>p_defect_ratio</th>\n",
       "      <th>p_gauss_curv_mean</th>\n",
       "      <th>p_mean_curv_mean</th>\n",
       "      <th>ｐ_tumor_liver_volume_ratio</th>\n",
       "      <th>p_tumor_liver_diff</th>\n",
       "      <th>p_tumor_liver_diff_ratio</th>\n",
       "    </tr>\n",
       "  </thead>\n",
       "  <tbody>\n",
       "    <tr>\n",
       "      <th>TACE0104</th>\n",
       "      <td>3</td>\n",
       "      <td>845222</td>\n",
       "      <td>48920.638786</td>\n",
       "      <td>117.307035</td>\n",
       "      <td>0.473361</td>\n",
       "      <td>42.844719</td>\n",
       "      <td>30.574794</td>\n",
       "      <td>29.980817</td>\n",
       "      <td>0.58091</td>\n",
       "      <td>-0.517403</td>\n",
       "      <td>...</td>\n",
       "      <td>0.980573</td>\n",
       "      <td>87.822584</td>\n",
       "      <td>1785576.0</td>\n",
       "      <td>0.058942</td>\n",
       "      <td>0.702105</td>\n",
       "      <td>0.009237</td>\n",
       "      <td>-0.026151</td>\n",
       "      <td>0.50897</td>\n",
       "      <td>828190</td>\n",
       "      <td>0.49103</td>\n",
       "    </tr>\n",
       "  </tbody>\n",
       "</table>\n",
       "<p>1 rows × 34 columns</p>\n",
       "</div>"
      ],
      "text/plain": [
       "          p_counts  p_volume  p_surface_area  p_equivalent_diameter  p_extent  \\\n",
       "TACE0104         3    845222    48920.638786             117.307035  0.473361   \n",
       "\n",
       "          p_principal_axis_length_1  p_principal_axis_length_2  \\\n",
       "TACE0104                  42.844719                  30.574794   \n",
       "\n",
       "          p_principal_axis_length_3  p_quaternion_w  p_quaternion_x  ...  \\\n",
       "TACE0104                  29.980817         0.58091       -0.517403  ...   \n",
       "\n",
       "          p_aspect_ratio_3  p_max_radius  p_abb_volume  \\\n",
       "TACE0104          0.980573     87.822584     1785576.0   \n",
       "\n",
       "          p_sphericity_ellipticity  p_defect_ratio  p_gauss_curv_mean  \\\n",
       "TACE0104                  0.058942        0.702105           0.009237   \n",
       "\n",
       "          p_mean_curv_mean  ｐ_tumor_liver_volume_ratio  p_tumor_liver_diff  \\\n",
       "TACE0104         -0.026151                     0.50897              828190   \n",
       "\n",
       "          p_tumor_liver_diff_ratio  \n",
       "TACE0104                   0.49103  \n",
       "\n",
       "[1 rows x 34 columns]"
      ]
     },
     "execution_count": 9,
     "metadata": {},
     "output_type": "execute_result"
    }
   ],
   "source": [
    "r"
   ]
  },
  {
   "cell_type": "code",
   "execution_count": 5,
   "metadata": {},
   "outputs": [
    {
     "name": "stdout",
     "output_type": "stream",
     "text": [
      "TACE0001\n",
      "TACE0002\n",
      "TACE0005\n"
     ]
    }
   ],
   "source": [
    "results = list()\n",
    "\n",
    "for idx, isd_number in enumerate(cases):\n",
    "    results.append(caseExtractFeatures(isd_number))\n",
    "\n",
    "    if (idx+1)%10 == 0:\n",
    "        pd.concat(results, axis=0).to_csv(\"./data/007-threed-morphology.csv\")\n",
    "\n",
    "pd.concat(results, axis=0).to_csv(\"./data/007-threed-morphology.csv\")\n",
    "\n",
    "print(\"Done.\")"
   ]
  },
  {
   "cell_type": "code",
   "execution_count": 14,
   "metadata": {},
   "outputs": [],
   "source": []
  }
 ],
 "metadata": {
  "kernelspec": {
   "display_name": "scikit_learn",
   "language": "python",
   "name": "python3"
  },
  "language_info": {
   "codemirror_mode": {
    "name": "ipython",
    "version": 3
   },
   "file_extension": ".py",
   "mimetype": "text/x-python",
   "name": "python",
   "nbconvert_exporter": "python",
   "pygments_lexer": "ipython3",
   "version": "3.10.8"
  },
  "orig_nbformat": 4
 },
 "nbformat": 4,
 "nbformat_minor": 2
}
