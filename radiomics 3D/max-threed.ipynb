{
 "cells": [
  {
   "cell_type": "code",
   "execution_count": 3,
   "metadata": {},
   "outputs": [],
   "source": [
    "from pathlib import Path\n",
    "import sys\n",
    "path_root = Path().absolute().parent\n",
    "sys.path.append(str(path_root))\n",
    "\n",
    "import numpy as np\n",
    "import pandas as pd\n",
    "import pickle\n",
    "import cv2\n",
    "from pathlib import Path\n",
    "import matplotlib.pyplot as plt\n",
    "from joblib import Parallel, delayed\n",
    "\n",
    "from radiomicsutil.voi import find_contours, getMask, calc_vol, calc_mesh, smooth_mesh, plot_mesh, plot_mesh3d\n",
    "from radiomicsutil.threed import ThreedMorphologyFeaturesExtractor"
   ]
  },
  {
   "cell_type": "code",
   "execution_count": 4,
   "metadata": {},
   "outputs": [],
   "source": [
    "with open(\"./ISD-0003_slicelocations.pkl\", \"rb\") as f:\n",
    "    case_slice_locations = pickle.load(f)\n",
    "\n",
    "with open(\"./ISD-0003_pixelspacing.pkl\", \"rb\") as f:\n",
    "    case_pixel_spacings = pickle.load(f)"
   ]
  },
  {
   "cell_type": "code",
   "execution_count": null,
   "metadata": {},
   "outputs": [],
   "source": [
    "def caseExtractFeatures(isd_number, image_shape=(800,800)):\n",
    "    print(isd_number)\n",
    "    # case = Path(f\"/home/azetry/datasets/TACE/{isd_number}_result\")\n",
    "    \n",
    "    pixel_spacing_xy = case_pixel_spacings[isd_number][0]\n",
    "\n",
    "    # Convert slice locations to float and sort along with masks\n",
    "    slice_locations = case_slice_locations[isd_number]\n",
    "    sorted_indices = np.argsort(slice_locations)\n",
    "    slice_locations.sort()\n",
    "\n",
    "\n",
    "    # with open(\"./ISD-0003/imgs.npy\", \"rb\") as f:\n",
    "    #     liver_preds = pickle.load(f)\n",
    "    npy_file_path = './ISD-0003/imgs.npy'\n",
    "    liver_preds = np.load(npy_file_path)\n",
    "\n",
    "    tumor_preds = dict()\n",
    "    for png in case.glob(\"./*.png\"):\n",
    "        idx = int(png.name.replace(\".png\",\"\"))\n",
    "        img = cv2.imread(str(png))\n",
    "        tumor_preds[idx] = find_contours(img)\n",
    "\n",
    "    # liver_masks = [ getMask(ctr,image_shape) for ctr in liver_preds ]\n",
    "    # liver_masks = [liver_masks[i] for i in sorted_indices]\n",
    "\n",
    "    tumor_masks = [ getMask(tumor_preds[idx],image_shape) for idx in range(len(tumor_preds)) ] # 因為排序不一定照排序\n",
    "    tumor_masks = [tumor_masks[i] for i in sorted_indices]\n",
    "\n",
    "    # Default rescale to 1 mm\n",
    "    # liver_vol = calc_vol(liver_masks, slice_locations, pixel_spacing_xy)\n",
    "    tumor_vol = calc_vol(tumor_masks, slice_locations, pixel_spacing_xy)\n",
    "\n",
    "    # print(\"Building Liver Model...\")\n",
    "    # liver_extractor = ThreedMorphologyFeaturesExtractor(liver_vol)\n",
    "    # print(\"Done.\")\n",
    "    # print(\"Building Tumor Model...\")\n",
    "    tumor_extractor = ThreedMorphologyFeaturesExtractor(tumor_vol)\n",
    "\n",
    "    threed_morphology_p = tumor_extractor.all('p')\n",
    "    \n",
    "    # 用 triangle mesh 計算volume所花成本和時間太大，直接用 voxels 計算近似值 (因為我們已經rescale 到 1 mm 所以不用擔心)\n",
    "    # liver_voxels = np.sum(liver_vol)\n",
    "    tumor_voxels = np.sum(tumor_extractor.voi_voxels)\n",
    "    # print(liver_voxels, tumor_voxels)\n",
    "    print(tumor_voxels)\n",
    "    # print(f\"Liver voxels:{liver_voxels}\")\n",
    "    # threed_morphology_p['ｐ_tumor_liver_volume_ratio'] = pd.Series([tumor_voxels / liver_voxels])\n",
    "    # threed_morphology_p['p_tumor_liver_diff'] = pd.Series([liver_voxels-tumor_voxels])\n",
    "    # threed_morphology_p['p_tumor_liver_diff_ratio'] = threed_morphology_p['p_tumor_liver_diff'] / liver_voxels\n",
    "\n",
    "    threed_morphology_p = threed_morphology_p.set_index(pd.Index([f'{isd_number}']))\n",
    "    return threed_morphology_p\n",
    "    "
   ]
  }
 ],
 "metadata": {
  "kernelspec": {
   "display_name": "OP_RFA",
   "language": "python",
   "name": "python3"
  },
  "language_info": {
   "codemirror_mode": {
    "name": "ipython",
    "version": 3
   },
   "file_extension": ".py",
   "mimetype": "text/x-python",
   "name": "python",
   "nbconvert_exporter": "python",
   "pygments_lexer": "ipython3",
   "version": "3.10.9"
  },
  "orig_nbformat": 4
 },
 "nbformat": 4,
 "nbformat_minor": 2
}
