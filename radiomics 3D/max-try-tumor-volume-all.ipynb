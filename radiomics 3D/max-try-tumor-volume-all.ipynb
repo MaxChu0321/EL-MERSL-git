{
 "cells": [
  {
   "cell_type": "code",
   "execution_count": 1,
   "metadata": {},
   "outputs": [
    {
     "name": "stdout",
     "output_type": "stream",
     "text": [
      "Jupyter environment detected. Enabling Open3D WebVisualizer.\n",
      "[Open3D INFO] WebRTC GUI backend enabled.\n",
      "[Open3D INFO] WebRTCWindowSystem: HTTP handshake server disabled.\n"
     ]
    }
   ],
   "source": [
    "import numpy as np\n",
    "import matplotlib.pyplot as plt\n",
    "import cv2\n",
    "import pickle\n",
    "import os\n",
    "from skimage import measure\n",
    "from scipy import interpolate\n",
    "from pathlib import Path\n",
    "import pandas as pd\n",
    "from radiomicsutil.voi import find_contours, getMask, calc_vol, calc_mesh, smooth_mesh, plot_mesh, plot_mesh3d\n",
    "from radiomicsutil.threed import ThreedMorphologyFeaturesExtractor\n",
    "# 指定.npy檔案的路徑\n"
   ]
  },
  {
   "cell_type": "code",
   "execution_count": 2,
   "metadata": {},
   "outputs": [],
   "source": [
    "def getLargestContour(img: np.array):\n",
    "    img = onlyContours(img)\n",
    "   # print(img)\n",
    "    #print(dff)\n",
    "    contours, hierarchy = cv2.findContours(img, cv2.RETR_TREE, cv2.CHAIN_APPROX_SIMPLE)\n",
    "    #width = 0\n",
    "    #high = 0\n",
    "    if not contours:\n",
    "        return None \n",
    "    \n",
    "    areas = [cv2.contourArea(cnt) for cnt in contours]\n",
    "    max_idx = np.argmax(areas)\n",
    "    largest_contour = contours[max_idx]\n",
    "    \n",
    "    \n",
    "    mask = np.zeros((800, 800), dtype=np.uint8)\n",
    "    #mask = cv2.drawContours(mask, [largest_contour], 0, 255, 10)\n",
    "    cv2.drawContours(mask, [largest_contour], 0, 255, thickness=cv2.FILLED)\n",
    "   \n",
    "    #img =  cv2.bitwise_or(img, (np.zeros((800, 800), dtype=np.uint8)))\n",
    "    return np.array(mask)\n",
    "def onlyContours(img: np.array):\n",
    "    rows, cols, els = img.shape\n",
    "    bin = np.zeros((rows, cols), dtype='uint8')\n",
    "    for i in range(rows):\n",
    "        for j in range(cols):\n",
    "            if (img[i,j,0] == img[i,j,1] == img[i,j,2] ):\n",
    "                bin[i,j] = 0\n",
    "            elif((img[i,j,2]-img[i,j,1]) > 50): \n",
    "                bin[i,j] = 255\n",
    "            else: bin[i,j] = 0\n",
    "\n",
    "    return bin"
   ]
  },
  {
   "cell_type": "markdown",
   "metadata": {},
   "source": [
    "計算單相位3d資料"
   ]
  },
  {
   "cell_type": "code",
   "execution_count": null,
   "metadata": {},
   "outputs": [],
   "source": [
    "# root_folder = 'C:/Users/Max/Desktop/肝癌手術電燒/radiomics 3D/HCCP'\n",
    "root_folder = 'D:/共用雲端硬碟/TVGH-Group/手術復發/TGcode/Output3/check_img/'\n",
    "results = []\n",
    "# 获取根文件夹下的所有子文件夹名称\n",
    "subfolder_names = [subfolder for subfolder in os.listdir(root_folder) if os.path.isdir(os.path.join(root_folder, subfolder))]\n",
    "\n",
    "# 遍历每个子文件夹\n",
    "for subfolder_name in subfolder_names:\n",
    "    try:\n",
    "        subfolder_path = os.path.join(root_folder, subfolder_name)\n",
    "    \n",
    "        npy_file_path = os.path.join(subfolder_path, 'imgs.npy')\n",
    "        image_data = np.load(npy_file_path)\n",
    "\n",
    "        # 使用os.path.basename获取文件名部分\n",
    "        file_name = os.path.basename(os.path.dirname(npy_file_path))\n",
    "        print(file_name)\n",
    "        # 使用字符串分割方法分割文件名\n",
    "        parts = file_name.split('-')\n",
    "\n",
    "        # 提取0003并存储到变量中\n",
    "        if len(parts) >= 2:\n",
    "            identifier = parts[1]\n",
    "\n",
    "        # print(identifier)  # 输出变量identifier\n",
    "        masks = list()\n",
    "        for idx in range(len(image_data)):\n",
    "            image = getLargestContour(image_data[idx])\n",
    "            masks.append(image)\n",
    "        slicefilename = f\"{file_name}_slicelocations.pkl\"\n",
    "        slicefilepath = os.path.join(subfolder_path, slicefilename)\n",
    "        # print(slicefilepath)\n",
    "        with open(slicefilepath, \"rb\") as f:\n",
    "            slice_locations = pickle.load(f)\n",
    "        slice_locations = slice_locations[:len(masks)]\n",
    "        sorted_indices = np.argsort(slice_locations)\n",
    "        print(sorted_indices)\n",
    "        slice_locations.sort()\n",
    "        print(slice_locations)\n",
    "        masks_sorted = [masks[i] for i in sorted_indices]\n",
    "\n",
    "        pixelfilename = f\"{file_name}_pixelspacing.pkl\"\n",
    "        pixelfilepath = os.path.join(subfolder_path, pixelfilename)\n",
    "        with open(pixelfilepath, \"rb\") as f:\n",
    "            case_pixel_spacings = pickle.load(f)\n",
    "        px_spacing = case_pixel_spacings[0]\n",
    "        # print(px_spacing)\n",
    "        slice_thickness = 5.0\n",
    "        # Create 3D grid for interpolation\n",
    "        z = np.array(slice_locations)\n",
    "        y = np.arange(0, masks[0].shape[0] * px_spacing, px_spacing)\n",
    "        x = np.arange(0, masks[0].shape[1] * px_spacing, px_spacing)\n",
    "        # Convert sorted masks to binary and stack along the z-axis\n",
    "        masks_bin = np.array([(mask > 0).astype(int) for mask in masks_sorted])\n",
    "        # Create 3D grid for the masks\n",
    "        z_mask = np.arange(z.min(), z.max() + slice_thickness, slice_thickness)\n",
    "        x_mask, y_mask, z_mask = np.meshgrid(x, y, z_mask, indexing='ij')\n",
    "        # Create the interpolator function\n",
    "        interpolator = interpolate.RegularGridInterpolator((x, y, z), np.moveaxis(masks_bin, 0, -1), method='nearest', bounds_error=False, fill_value=0)\n",
    "\n",
    "        # Interpolate to fill missing slices\n",
    "        vol = interpolator((x_mask, y_mask, z_mask))\n",
    "        verts, faces, _, _ = measure.marching_cubes(vol, level=0.5)\n",
    "\n",
    "        # Create a 3D plot\n",
    "        # fig = plt.figure(figsize=(10, 10))\n",
    "        # ax = fig.add_subplot(111, projection='3d')\n",
    "        # # Fancy indexing: `verts[faces]` to generate a collection of triangles\n",
    "        # ax.plot_trisurf(verts[:, 0], verts[:, 1], faces, verts[:, 2],\n",
    "        #                 linewidth=0.2, antialiased=True, color='red', alpha=0.5)\n",
    "\n",
    "        # plt.show()\n",
    "        # Calculate the volume in cubic millimeters\n",
    "        pixel_volume = px_spacing ** 2 * slice_thickness\n",
    "        total_volume = np.sum(vol) * pixel_volume\n",
    "\n",
    "        tumor_extractor = ThreedMorphologyFeaturesExtractor(vol)\n",
    "        threed_morphology_p = tumor_extractor.all('p')\n",
    "        threed_morphology_p['ISDnumber'] = pd.Series([identifier])\n",
    "        results.append(threed_morphology_p)\n",
    "    except Exception as e:\n",
    "        print(f'处理文件{file_name}时发生错误：{str(e)}')\n",
    "        continue  # 跳过当前文件的处理，继续处理下一个文件\n",
    "final_results = pd.concat(results, ignore_index=True)\n",
    "finalcsvpath = os.path.join(root_folder, 'p_phasevalue.csv')\n",
    "final_results.to_csv(finalcsvpath,index=False)"
   ]
  },
  {
   "cell_type": "markdown",
   "metadata": {},
   "source": [
    "批量計算多相位的3d資料"
   ]
  },
  {
   "cell_type": "code",
   "execution_count": 3,
   "metadata": {},
   "outputs": [
    {
     "name": "stdout",
     "output_type": "stream",
     "text": [
      "subfolder_path: D:/共用雲端硬碟/TVGH-Group/手術復發/TGcode/Output4/check_img/HCCA\n",
      "datafile_path: D:/共用雲端硬碟/TVGH-Group/手術復發/TGcode/Output4/check_img/HCCA\\ISD-0348\n",
      "ISD-0348\n"
     ]
    },
    {
     "name": "stderr",
     "output_type": "stream",
     "text": [
      "C:\\Users\\Max\\AppData\\Local\\Temp\\ipykernel_12056\\2204506995.py:29: RuntimeWarning: overflow encountered in scalar subtract\n",
      "  elif((img[i,j,2]-img[i,j,1]) > 50):\n"
     ]
    },
    {
     "name": "stdout",
     "output_type": "stream",
     "text": [
      "Use voxel to estimate volume...\n",
      "D:/共用雲端硬碟/TVGH-Group/手術復發/TGcode/Output4/check_img/HCCA\\HCCA_phasevalue_補充.csv\n",
      "datafile_path: D:/共用雲端硬碟/TVGH-Group/手術復發/TGcode/Output4/check_img/HCCA\\ISD-0658\n",
      "ISD-0658\n"
     ]
    },
    {
     "name": "stderr",
     "output_type": "stream",
     "text": [
      "C:\\Users\\Max\\AppData\\Local\\Temp\\ipykernel_12056\\2204506995.py:29: RuntimeWarning: overflow encountered in scalar subtract\n",
      "  elif((img[i,j,2]-img[i,j,1]) > 50):\n"
     ]
    },
    {
     "name": "stdout",
     "output_type": "stream",
     "text": [
      "Use voxel to estimate volume...\n",
      "D:/共用雲端硬碟/TVGH-Group/手術復發/TGcode/Output4/check_img/HCCA\\HCCA_phasevalue_補充.csv\n",
      "datafile_path: D:/共用雲端硬碟/TVGH-Group/手術復發/TGcode/Output4/check_img/HCCA\\ISD-1011\n",
      "ISD-1011\n"
     ]
    },
    {
     "name": "stderr",
     "output_type": "stream",
     "text": [
      "C:\\Users\\Max\\AppData\\Local\\Temp\\ipykernel_12056\\2204506995.py:29: RuntimeWarning: overflow encountered in scalar subtract\n",
      "  elif((img[i,j,2]-img[i,j,1]) > 50):\n"
     ]
    },
    {
     "name": "stdout",
     "output_type": "stream",
     "text": [
      "Use voxel to estimate volume...\n",
      "D:/共用雲端硬碟/TVGH-Group/手術復發/TGcode/Output4/check_img/HCCA\\HCCA_phasevalue_補充.csv\n",
      "datafile_path: D:/共用雲端硬碟/TVGH-Group/手術復發/TGcode/Output4/check_img/HCCA\\ISD-1108\n",
      "ISD-1108\n"
     ]
    },
    {
     "name": "stderr",
     "output_type": "stream",
     "text": [
      "C:\\Users\\Max\\AppData\\Local\\Temp\\ipykernel_12056\\2204506995.py:29: RuntimeWarning: overflow encountered in scalar subtract\n",
      "  elif((img[i,j,2]-img[i,j,1]) > 50):\n"
     ]
    },
    {
     "name": "stdout",
     "output_type": "stream",
     "text": [
      "Use voxel to estimate volume...\n",
      "D:/共用雲端硬碟/TVGH-Group/手術復發/TGcode/Output4/check_img/HCCA\\HCCA_phasevalue_補充.csv\n",
      "datafile_path: D:/共用雲端硬碟/TVGH-Group/手術復發/TGcode/Output4/check_img/HCCA\\ISD-1133\n",
      "ISD-1133\n"
     ]
    },
    {
     "name": "stderr",
     "output_type": "stream",
     "text": [
      "C:\\Users\\Max\\AppData\\Local\\Temp\\ipykernel_12056\\2204506995.py:29: RuntimeWarning: overflow encountered in scalar subtract\n",
      "  elif((img[i,j,2]-img[i,j,1]) > 50):\n"
     ]
    },
    {
     "name": "stdout",
     "output_type": "stream",
     "text": [
      "Use voxel to estimate volume...\n",
      "D:/共用雲端硬碟/TVGH-Group/手術復發/TGcode/Output4/check_img/HCCA\\HCCA_phasevalue_補充.csv\n",
      "datafile_path: D:/共用雲端硬碟/TVGH-Group/手術復發/TGcode/Output4/check_img/HCCA\\ISD-1112\n",
      "ISD-1112\n"
     ]
    },
    {
     "name": "stderr",
     "output_type": "stream",
     "text": [
      "C:\\Users\\Max\\AppData\\Local\\Temp\\ipykernel_12056\\2204506995.py:29: RuntimeWarning: overflow encountered in scalar subtract\n",
      "  elif((img[i,j,2]-img[i,j,1]) > 50):\n"
     ]
    },
    {
     "name": "stdout",
     "output_type": "stream",
     "text": [
      "Use voxel to estimate volume...\n",
      "D:/共用雲端硬碟/TVGH-Group/手術復發/TGcode/Output4/check_img/HCCA\\HCCA_phasevalue_補充.csv\n",
      "datafile_path: D:/共用雲端硬碟/TVGH-Group/手術復發/TGcode/Output4/check_img/HCCA\\ISD-1136\n",
      "ISD-1136\n"
     ]
    },
    {
     "name": "stderr",
     "output_type": "stream",
     "text": [
      "C:\\Users\\Max\\AppData\\Local\\Temp\\ipykernel_12056\\2204506995.py:29: RuntimeWarning: overflow encountered in scalar subtract\n",
      "  elif((img[i,j,2]-img[i,j,1]) > 50):\n"
     ]
    },
    {
     "name": "stdout",
     "output_type": "stream",
     "text": [
      "Use voxel to estimate volume...\n",
      "D:/共用雲端硬碟/TVGH-Group/手術復發/TGcode/Output4/check_img/HCCA\\HCCA_phasevalue_補充.csv\n",
      "datafile_path: D:/共用雲端硬碟/TVGH-Group/手術復發/TGcode/Output4/check_img/HCCA\\ISD-0075\n",
      "ISD-0075\n"
     ]
    },
    {
     "name": "stderr",
     "output_type": "stream",
     "text": [
      "C:\\Users\\Max\\AppData\\Local\\Temp\\ipykernel_12056\\2204506995.py:29: RuntimeWarning: overflow encountered in scalar subtract\n",
      "  elif((img[i,j,2]-img[i,j,1]) > 50):\n"
     ]
    },
    {
     "name": "stdout",
     "output_type": "stream",
     "text": [
      "Use voxel to estimate volume...\n",
      "D:/共用雲端硬碟/TVGH-Group/手術復發/TGcode/Output4/check_img/HCCA\\HCCA_phasevalue_補充.csv\n",
      "datafile_path: D:/共用雲端硬碟/TVGH-Group/手術復發/TGcode/Output4/check_img/HCCA\\ISD-0006\n",
      "ISD-0006\n"
     ]
    },
    {
     "name": "stderr",
     "output_type": "stream",
     "text": [
      "C:\\Users\\Max\\AppData\\Local\\Temp\\ipykernel_12056\\2204506995.py:29: RuntimeWarning: overflow encountered in scalar subtract\n",
      "  elif((img[i,j,2]-img[i,j,1]) > 50):\n"
     ]
    },
    {
     "name": "stdout",
     "output_type": "stream",
     "text": [
      "Use voxel to estimate volume...\n",
      "D:/共用雲端硬碟/TVGH-Group/手術復發/TGcode/Output4/check_img/HCCA\\HCCA_phasevalue_補充.csv\n",
      "datafile_path: D:/共用雲端硬碟/TVGH-Group/手術復發/TGcode/Output4/check_img/HCCA\\ISD-0078\n",
      "ISD-0078\n"
     ]
    },
    {
     "name": "stderr",
     "output_type": "stream",
     "text": [
      "C:\\Users\\Max\\AppData\\Local\\Temp\\ipykernel_12056\\2204506995.py:29: RuntimeWarning: overflow encountered in scalar subtract\n",
      "  elif((img[i,j,2]-img[i,j,1]) > 50):\n"
     ]
    },
    {
     "name": "stdout",
     "output_type": "stream",
     "text": [
      "Use voxel to estimate volume...\n",
      "D:/共用雲端硬碟/TVGH-Group/手術復發/TGcode/Output4/check_img/HCCA\\HCCA_phasevalue_補充.csv\n",
      "datafile_path: D:/共用雲端硬碟/TVGH-Group/手術復發/TGcode/Output4/check_img/HCCA\\ISD-0079\n",
      "ISD-0079\n"
     ]
    },
    {
     "name": "stderr",
     "output_type": "stream",
     "text": [
      "C:\\Users\\Max\\AppData\\Local\\Temp\\ipykernel_12056\\2204506995.py:29: RuntimeWarning: overflow encountered in scalar subtract\n",
      "  elif((img[i,j,2]-img[i,j,1]) > 50):\n"
     ]
    },
    {
     "name": "stdout",
     "output_type": "stream",
     "text": [
      "Use voxel to estimate volume...\n",
      "D:/共用雲端硬碟/TVGH-Group/手術復發/TGcode/Output4/check_img/HCCA\\HCCA_phasevalue_補充.csv\n",
      "datafile_path: D:/共用雲端硬碟/TVGH-Group/手術復發/TGcode/Output4/check_img/HCCA\\ISD-0081\n",
      "ISD-0081\n"
     ]
    },
    {
     "name": "stderr",
     "output_type": "stream",
     "text": [
      "C:\\Users\\Max\\AppData\\Local\\Temp\\ipykernel_12056\\2204506995.py:29: RuntimeWarning: overflow encountered in scalar subtract\n",
      "  elif((img[i,j,2]-img[i,j,1]) > 50):\n"
     ]
    },
    {
     "name": "stdout",
     "output_type": "stream",
     "text": [
      "Use voxel to estimate volume...\n",
      "D:/共用雲端硬碟/TVGH-Group/手術復發/TGcode/Output4/check_img/HCCA\\HCCA_phasevalue_補充.csv\n",
      "datafile_path: D:/共用雲端硬碟/TVGH-Group/手術復發/TGcode/Output4/check_img/HCCA\\ISD-0082\n",
      "ISD-0082\n"
     ]
    },
    {
     "name": "stderr",
     "output_type": "stream",
     "text": [
      "C:\\Users\\Max\\AppData\\Local\\Temp\\ipykernel_12056\\2204506995.py:29: RuntimeWarning: overflow encountered in scalar subtract\n",
      "  elif((img[i,j,2]-img[i,j,1]) > 50):\n"
     ]
    },
    {
     "name": "stdout",
     "output_type": "stream",
     "text": [
      "Use voxel to estimate volume...\n",
      "D:/共用雲端硬碟/TVGH-Group/手術復發/TGcode/Output4/check_img/HCCA\\HCCA_phasevalue_補充.csv\n",
      "datafile_path: D:/共用雲端硬碟/TVGH-Group/手術復發/TGcode/Output4/check_img/HCCA\\ISD-0084\n",
      "ISD-0084\n"
     ]
    },
    {
     "name": "stderr",
     "output_type": "stream",
     "text": [
      "C:\\Users\\Max\\AppData\\Local\\Temp\\ipykernel_12056\\2204506995.py:29: RuntimeWarning: overflow encountered in scalar subtract\n",
      "  elif((img[i,j,2]-img[i,j,1]) > 50):\n"
     ]
    },
    {
     "name": "stdout",
     "output_type": "stream",
     "text": [
      "Use voxel to estimate volume...\n",
      "D:/共用雲端硬碟/TVGH-Group/手術復發/TGcode/Output4/check_img/HCCA\\HCCA_phasevalue_補充.csv\n",
      "datafile_path: D:/共用雲端硬碟/TVGH-Group/手術復發/TGcode/Output4/check_img/HCCA\\ISD-0086\n",
      "ISD-0086\n"
     ]
    },
    {
     "name": "stderr",
     "output_type": "stream",
     "text": [
      "C:\\Users\\Max\\AppData\\Local\\Temp\\ipykernel_12056\\2204506995.py:29: RuntimeWarning: overflow encountered in scalar subtract\n",
      "  elif((img[i,j,2]-img[i,j,1]) > 50):\n"
     ]
    },
    {
     "name": "stdout",
     "output_type": "stream",
     "text": [
      "Use voxel to estimate volume...\n",
      "D:/共用雲端硬碟/TVGH-Group/手術復發/TGcode/Output4/check_img/HCCA\\HCCA_phasevalue_補充.csv\n",
      "datafile_path: D:/共用雲端硬碟/TVGH-Group/手術復發/TGcode/Output4/check_img/HCCA\\ISD-0085\n",
      "ISD-0085\n"
     ]
    },
    {
     "name": "stderr",
     "output_type": "stream",
     "text": [
      "C:\\Users\\Max\\AppData\\Local\\Temp\\ipykernel_12056\\2204506995.py:29: RuntimeWarning: overflow encountered in scalar subtract\n",
      "  elif((img[i,j,2]-img[i,j,1]) > 50):\n"
     ]
    },
    {
     "name": "stdout",
     "output_type": "stream",
     "text": [
      "Use voxel to estimate volume...\n",
      "D:/共用雲端硬碟/TVGH-Group/手術復發/TGcode/Output4/check_img/HCCA\\HCCA_phasevalue_補充.csv\n",
      "datafile_path: D:/共用雲端硬碟/TVGH-Group/手術復發/TGcode/Output4/check_img/HCCA\\ISD-0087\n",
      "ISD-0087\n"
     ]
    },
    {
     "name": "stderr",
     "output_type": "stream",
     "text": [
      "C:\\Users\\Max\\AppData\\Local\\Temp\\ipykernel_12056\\2204506995.py:29: RuntimeWarning: overflow encountered in scalar subtract\n",
      "  elif((img[i,j,2]-img[i,j,1]) > 50):\n"
     ]
    },
    {
     "name": "stdout",
     "output_type": "stream",
     "text": [
      "Use voxel to estimate volume...\n",
      "D:/共用雲端硬碟/TVGH-Group/手術復發/TGcode/Output4/check_img/HCCA\\HCCA_phasevalue_補充.csv\n",
      "datafile_path: D:/共用雲端硬碟/TVGH-Group/手術復發/TGcode/Output4/check_img/HCCA\\ISD-0090\n",
      "ISD-0090\n"
     ]
    },
    {
     "name": "stderr",
     "output_type": "stream",
     "text": [
      "C:\\Users\\Max\\AppData\\Local\\Temp\\ipykernel_12056\\2204506995.py:29: RuntimeWarning: overflow encountered in scalar subtract\n",
      "  elif((img[i,j,2]-img[i,j,1]) > 50):\n"
     ]
    },
    {
     "name": "stdout",
     "output_type": "stream",
     "text": [
      "Use voxel to estimate volume...\n",
      "D:/共用雲端硬碟/TVGH-Group/手術復發/TGcode/Output4/check_img/HCCA\\HCCA_phasevalue_補充.csv\n",
      "datafile_path: D:/共用雲端硬碟/TVGH-Group/手術復發/TGcode/Output4/check_img/HCCA\\ISD-0105\n",
      "ISD-0105\n"
     ]
    },
    {
     "name": "stderr",
     "output_type": "stream",
     "text": [
      "C:\\Users\\Max\\AppData\\Local\\Temp\\ipykernel_12056\\2204506995.py:29: RuntimeWarning: overflow encountered in scalar subtract\n",
      "  elif((img[i,j,2]-img[i,j,1]) > 50):\n"
     ]
    },
    {
     "name": "stdout",
     "output_type": "stream",
     "text": [
      "Use voxel to estimate volume...\n",
      "D:/共用雲端硬碟/TVGH-Group/手術復發/TGcode/Output4/check_img/HCCA\\HCCA_phasevalue_補充.csv\n",
      "datafile_path: D:/共用雲端硬碟/TVGH-Group/手術復發/TGcode/Output4/check_img/HCCA\\ISD-0110\n",
      "ISD-0110\n"
     ]
    },
    {
     "name": "stderr",
     "output_type": "stream",
     "text": [
      "C:\\Users\\Max\\AppData\\Local\\Temp\\ipykernel_12056\\2204506995.py:29: RuntimeWarning: overflow encountered in scalar subtract\n",
      "  elif((img[i,j,2]-img[i,j,1]) > 50):\n"
     ]
    },
    {
     "name": "stdout",
     "output_type": "stream",
     "text": [
      "Use voxel to estimate volume...\n",
      "D:/共用雲端硬碟/TVGH-Group/手術復發/TGcode/Output4/check_img/HCCA\\HCCA_phasevalue_補充.csv\n",
      "datafile_path: D:/共用雲端硬碟/TVGH-Group/手術復發/TGcode/Output4/check_img/HCCA\\ISD-0115\n",
      "ISD-0115\n"
     ]
    },
    {
     "name": "stderr",
     "output_type": "stream",
     "text": [
      "C:\\Users\\Max\\AppData\\Local\\Temp\\ipykernel_12056\\2204506995.py:29: RuntimeWarning: overflow encountered in scalar subtract\n",
      "  elif((img[i,j,2]-img[i,j,1]) > 50):\n"
     ]
    },
    {
     "name": "stdout",
     "output_type": "stream",
     "text": [
      "Use voxel to estimate volume...\n",
      "D:/共用雲端硬碟/TVGH-Group/手術復發/TGcode/Output4/check_img/HCCA\\HCCA_phasevalue_補充.csv\n",
      "datafile_path: D:/共用雲端硬碟/TVGH-Group/手術復發/TGcode/Output4/check_img/HCCA\\ISD-0116\n",
      "ISD-0116\n"
     ]
    },
    {
     "name": "stderr",
     "output_type": "stream",
     "text": [
      "C:\\Users\\Max\\AppData\\Local\\Temp\\ipykernel_12056\\2204506995.py:29: RuntimeWarning: overflow encountered in scalar subtract\n",
      "  elif((img[i,j,2]-img[i,j,1]) > 50):\n"
     ]
    },
    {
     "name": "stdout",
     "output_type": "stream",
     "text": [
      "Use voxel to estimate volume...\n",
      "D:/共用雲端硬碟/TVGH-Group/手術復發/TGcode/Output4/check_img/HCCA\\HCCA_phasevalue_補充.csv\n",
      "datafile_path: D:/共用雲端硬碟/TVGH-Group/手術復發/TGcode/Output4/check_img/HCCA\\ISD-0118\n",
      "ISD-0118\n"
     ]
    },
    {
     "name": "stderr",
     "output_type": "stream",
     "text": [
      "C:\\Users\\Max\\AppData\\Local\\Temp\\ipykernel_12056\\2204506995.py:29: RuntimeWarning: overflow encountered in scalar subtract\n",
      "  elif((img[i,j,2]-img[i,j,1]) > 50):\n"
     ]
    },
    {
     "name": "stdout",
     "output_type": "stream",
     "text": [
      "Use voxel to estimate volume...\n",
      "D:/共用雲端硬碟/TVGH-Group/手術復發/TGcode/Output4/check_img/HCCA\\HCCA_phasevalue_補充.csv\n",
      "datafile_path: D:/共用雲端硬碟/TVGH-Group/手術復發/TGcode/Output4/check_img/HCCA\\ISD-0119\n",
      "ISD-0119\n"
     ]
    },
    {
     "name": "stderr",
     "output_type": "stream",
     "text": [
      "C:\\Users\\Max\\AppData\\Local\\Temp\\ipykernel_12056\\2204506995.py:29: RuntimeWarning: overflow encountered in scalar subtract\n",
      "  elif((img[i,j,2]-img[i,j,1]) > 50):\n"
     ]
    },
    {
     "name": "stdout",
     "output_type": "stream",
     "text": [
      "Use voxel to estimate volume...\n",
      "D:/共用雲端硬碟/TVGH-Group/手術復發/TGcode/Output4/check_img/HCCA\\HCCA_phasevalue_補充.csv\n",
      "datafile_path: D:/共用雲端硬碟/TVGH-Group/手術復發/TGcode/Output4/check_img/HCCA\\ISD-0126\n",
      "ISD-0126\n"
     ]
    },
    {
     "name": "stderr",
     "output_type": "stream",
     "text": [
      "C:\\Users\\Max\\AppData\\Local\\Temp\\ipykernel_12056\\2204506995.py:29: RuntimeWarning: overflow encountered in scalar subtract\n",
      "  elif((img[i,j,2]-img[i,j,1]) > 50):\n"
     ]
    },
    {
     "name": "stdout",
     "output_type": "stream",
     "text": [
      "Use voxel to estimate volume...\n",
      "D:/共用雲端硬碟/TVGH-Group/手術復發/TGcode/Output4/check_img/HCCA\\HCCA_phasevalue_補充.csv\n",
      "datafile_path: D:/共用雲端硬碟/TVGH-Group/手術復發/TGcode/Output4/check_img/HCCA\\ISD-0120\n",
      "ISD-0120\n"
     ]
    },
    {
     "name": "stderr",
     "output_type": "stream",
     "text": [
      "C:\\Users\\Max\\AppData\\Local\\Temp\\ipykernel_12056\\2204506995.py:29: RuntimeWarning: overflow encountered in scalar subtract\n",
      "  elif((img[i,j,2]-img[i,j,1]) > 50):\n"
     ]
    },
    {
     "name": "stdout",
     "output_type": "stream",
     "text": [
      "Use voxel to estimate volume...\n",
      "D:/共用雲端硬碟/TVGH-Group/手術復發/TGcode/Output4/check_img/HCCA\\HCCA_phasevalue_補充.csv\n",
      "datafile_path: D:/共用雲端硬碟/TVGH-Group/手術復發/TGcode/Output4/check_img/HCCA\\ISD-0128\n",
      "ISD-0128\n"
     ]
    },
    {
     "name": "stderr",
     "output_type": "stream",
     "text": [
      "C:\\Users\\Max\\AppData\\Local\\Temp\\ipykernel_12056\\2204506995.py:29: RuntimeWarning: overflow encountered in scalar subtract\n",
      "  elif((img[i,j,2]-img[i,j,1]) > 50):\n"
     ]
    },
    {
     "name": "stdout",
     "output_type": "stream",
     "text": [
      "Use voxel to estimate volume...\n",
      "D:/共用雲端硬碟/TVGH-Group/手術復發/TGcode/Output4/check_img/HCCA\\HCCA_phasevalue_補充.csv\n",
      "datafile_path: D:/共用雲端硬碟/TVGH-Group/手術復發/TGcode/Output4/check_img/HCCA\\ISD-0130\n",
      "ISD-0130\n"
     ]
    },
    {
     "name": "stderr",
     "output_type": "stream",
     "text": [
      "C:\\Users\\Max\\AppData\\Local\\Temp\\ipykernel_12056\\2204506995.py:29: RuntimeWarning: overflow encountered in scalar subtract\n",
      "  elif((img[i,j,2]-img[i,j,1]) > 50):\n"
     ]
    },
    {
     "name": "stdout",
     "output_type": "stream",
     "text": [
      "Use voxel to estimate volume...\n",
      "D:/共用雲端硬碟/TVGH-Group/手術復發/TGcode/Output4/check_img/HCCA\\HCCA_phasevalue_補充.csv\n",
      "datafile_path: D:/共用雲端硬碟/TVGH-Group/手術復發/TGcode/Output4/check_img/HCCA\\ISD-0136\n",
      "ISD-0136\n"
     ]
    },
    {
     "name": "stderr",
     "output_type": "stream",
     "text": [
      "C:\\Users\\Max\\AppData\\Local\\Temp\\ipykernel_12056\\2204506995.py:29: RuntimeWarning: overflow encountered in scalar subtract\n",
      "  elif((img[i,j,2]-img[i,j,1]) > 50):\n"
     ]
    },
    {
     "name": "stdout",
     "output_type": "stream",
     "text": [
      "Use voxel to estimate volume...\n",
      "D:/共用雲端硬碟/TVGH-Group/手術復發/TGcode/Output4/check_img/HCCA\\HCCA_phasevalue_補充.csv\n",
      "datafile_path: D:/共用雲端硬碟/TVGH-Group/手術復發/TGcode/Output4/check_img/HCCA\\ISD-0138\n",
      "ISD-0138\n"
     ]
    },
    {
     "name": "stderr",
     "output_type": "stream",
     "text": [
      "C:\\Users\\Max\\AppData\\Local\\Temp\\ipykernel_12056\\2204506995.py:29: RuntimeWarning: overflow encountered in scalar subtract\n",
      "  elif((img[i,j,2]-img[i,j,1]) > 50):\n"
     ]
    },
    {
     "name": "stdout",
     "output_type": "stream",
     "text": [
      "Use voxel to estimate volume...\n",
      "D:/共用雲端硬碟/TVGH-Group/手術復發/TGcode/Output4/check_img/HCCA\\HCCA_phasevalue_補充.csv\n",
      "datafile_path: D:/共用雲端硬碟/TVGH-Group/手術復發/TGcode/Output4/check_img/HCCA\\ISD-0142\n",
      "ISD-0142\n"
     ]
    },
    {
     "name": "stderr",
     "output_type": "stream",
     "text": [
      "C:\\Users\\Max\\AppData\\Local\\Temp\\ipykernel_12056\\2204506995.py:29: RuntimeWarning: overflow encountered in scalar subtract\n",
      "  elif((img[i,j,2]-img[i,j,1]) > 50):\n"
     ]
    },
    {
     "name": "stdout",
     "output_type": "stream",
     "text": [
      "Use voxel to estimate volume...\n",
      "D:/共用雲端硬碟/TVGH-Group/手術復發/TGcode/Output4/check_img/HCCA\\HCCA_phasevalue_補充.csv\n",
      "datafile_path: D:/共用雲端硬碟/TVGH-Group/手術復發/TGcode/Output4/check_img/HCCA\\ISD-0143\n",
      "ISD-0143\n"
     ]
    },
    {
     "name": "stderr",
     "output_type": "stream",
     "text": [
      "C:\\Users\\Max\\AppData\\Local\\Temp\\ipykernel_12056\\2204506995.py:29: RuntimeWarning: overflow encountered in scalar subtract\n",
      "  elif((img[i,j,2]-img[i,j,1]) > 50):\n"
     ]
    },
    {
     "name": "stdout",
     "output_type": "stream",
     "text": [
      "Use voxel to estimate volume...\n",
      "D:/共用雲端硬碟/TVGH-Group/手術復發/TGcode/Output4/check_img/HCCA\\HCCA_phasevalue_補充.csv\n",
      "datafile_path: D:/共用雲端硬碟/TVGH-Group/手術復發/TGcode/Output4/check_img/HCCA\\ISD-0145\n",
      "ISD-0145\n"
     ]
    },
    {
     "name": "stderr",
     "output_type": "stream",
     "text": [
      "C:\\Users\\Max\\AppData\\Local\\Temp\\ipykernel_12056\\2204506995.py:29: RuntimeWarning: overflow encountered in scalar subtract\n",
      "  elif((img[i,j,2]-img[i,j,1]) > 50):\n"
     ]
    },
    {
     "name": "stdout",
     "output_type": "stream",
     "text": [
      "Use voxel to estimate volume...\n",
      "D:/共用雲端硬碟/TVGH-Group/手術復發/TGcode/Output4/check_img/HCCA\\HCCA_phasevalue_補充.csv\n",
      "datafile_path: D:/共用雲端硬碟/TVGH-Group/手術復發/TGcode/Output4/check_img/HCCA\\ISD-0150\n",
      "ISD-0150\n"
     ]
    },
    {
     "name": "stderr",
     "output_type": "stream",
     "text": [
      "C:\\Users\\Max\\AppData\\Local\\Temp\\ipykernel_12056\\2204506995.py:29: RuntimeWarning: overflow encountered in scalar subtract\n",
      "  elif((img[i,j,2]-img[i,j,1]) > 50):\n"
     ]
    },
    {
     "name": "stdout",
     "output_type": "stream",
     "text": [
      "Use voxel to estimate volume...\n",
      "D:/共用雲端硬碟/TVGH-Group/手術復發/TGcode/Output4/check_img/HCCA\\HCCA_phasevalue_補充.csv\n",
      "datafile_path: D:/共用雲端硬碟/TVGH-Group/手術復發/TGcode/Output4/check_img/HCCA\\ISD-0154\n",
      "ISD-0154\n"
     ]
    },
    {
     "name": "stderr",
     "output_type": "stream",
     "text": [
      "C:\\Users\\Max\\AppData\\Local\\Temp\\ipykernel_12056\\2204506995.py:29: RuntimeWarning: overflow encountered in scalar subtract\n",
      "  elif((img[i,j,2]-img[i,j,1]) > 50):\n"
     ]
    },
    {
     "name": "stdout",
     "output_type": "stream",
     "text": [
      "Use voxel to estimate volume...\n",
      "D:/共用雲端硬碟/TVGH-Group/手術復發/TGcode/Output4/check_img/HCCA\\HCCA_phasevalue_補充.csv\n",
      "datafile_path: D:/共用雲端硬碟/TVGH-Group/手術復發/TGcode/Output4/check_img/HCCA\\ISD-0167\n",
      "ISD-0167\n"
     ]
    },
    {
     "name": "stderr",
     "output_type": "stream",
     "text": [
      "C:\\Users\\Max\\AppData\\Local\\Temp\\ipykernel_12056\\2204506995.py:29: RuntimeWarning: overflow encountered in scalar subtract\n",
      "  elif((img[i,j,2]-img[i,j,1]) > 50):\n"
     ]
    },
    {
     "name": "stdout",
     "output_type": "stream",
     "text": [
      "Use voxel to estimate volume...\n",
      "D:/共用雲端硬碟/TVGH-Group/手術復發/TGcode/Output4/check_img/HCCA\\HCCA_phasevalue_補充.csv\n",
      "datafile_path: D:/共用雲端硬碟/TVGH-Group/手術復發/TGcode/Output4/check_img/HCCA\\ISD-0171\n",
      "ISD-0171\n"
     ]
    },
    {
     "name": "stderr",
     "output_type": "stream",
     "text": [
      "C:\\Users\\Max\\AppData\\Local\\Temp\\ipykernel_12056\\2204506995.py:29: RuntimeWarning: overflow encountered in scalar subtract\n",
      "  elif((img[i,j,2]-img[i,j,1]) > 50):\n"
     ]
    },
    {
     "name": "stdout",
     "output_type": "stream",
     "text": [
      "Use voxel to estimate volume...\n",
      "D:/共用雲端硬碟/TVGH-Group/手術復發/TGcode/Output4/check_img/HCCA\\HCCA_phasevalue_補充.csv\n",
      "datafile_path: D:/共用雲端硬碟/TVGH-Group/手術復發/TGcode/Output4/check_img/HCCA\\ISD-0174\n",
      "ISD-0174\n"
     ]
    },
    {
     "name": "stderr",
     "output_type": "stream",
     "text": [
      "C:\\Users\\Max\\AppData\\Local\\Temp\\ipykernel_12056\\2204506995.py:29: RuntimeWarning: overflow encountered in scalar subtract\n",
      "  elif((img[i,j,2]-img[i,j,1]) > 50):\n"
     ]
    },
    {
     "name": "stdout",
     "output_type": "stream",
     "text": [
      "Use voxel to estimate volume...\n",
      "D:/共用雲端硬碟/TVGH-Group/手術復發/TGcode/Output4/check_img/HCCA\\HCCA_phasevalue_補充.csv\n",
      "datafile_path: D:/共用雲端硬碟/TVGH-Group/手術復發/TGcode/Output4/check_img/HCCA\\ISD-0185\n",
      "ISD-0185\n"
     ]
    },
    {
     "name": "stderr",
     "output_type": "stream",
     "text": [
      "C:\\Users\\Max\\AppData\\Local\\Temp\\ipykernel_12056\\2204506995.py:29: RuntimeWarning: overflow encountered in scalar subtract\n",
      "  elif((img[i,j,2]-img[i,j,1]) > 50):\n"
     ]
    },
    {
     "name": "stdout",
     "output_type": "stream",
     "text": [
      "Use voxel to estimate volume...\n",
      "D:/共用雲端硬碟/TVGH-Group/手術復發/TGcode/Output4/check_img/HCCA\\HCCA_phasevalue_補充.csv\n",
      "datafile_path: D:/共用雲端硬碟/TVGH-Group/手術復發/TGcode/Output4/check_img/HCCA\\ISD-0195\n",
      "ISD-0195\n"
     ]
    },
    {
     "name": "stderr",
     "output_type": "stream",
     "text": [
      "C:\\Users\\Max\\AppData\\Local\\Temp\\ipykernel_12056\\2204506995.py:29: RuntimeWarning: overflow encountered in scalar subtract\n",
      "  elif((img[i,j,2]-img[i,j,1]) > 50):\n"
     ]
    },
    {
     "name": "stdout",
     "output_type": "stream",
     "text": [
      "Use voxel to estimate volume...\n",
      "D:/共用雲端硬碟/TVGH-Group/手術復發/TGcode/Output4/check_img/HCCA\\HCCA_phasevalue_補充.csv\n",
      "datafile_path: D:/共用雲端硬碟/TVGH-Group/手術復發/TGcode/Output4/check_img/HCCA\\ISD-0203\n",
      "ISD-0203\n"
     ]
    },
    {
     "name": "stderr",
     "output_type": "stream",
     "text": [
      "C:\\Users\\Max\\AppData\\Local\\Temp\\ipykernel_12056\\2204506995.py:29: RuntimeWarning: overflow encountered in scalar subtract\n",
      "  elif((img[i,j,2]-img[i,j,1]) > 50):\n"
     ]
    },
    {
     "name": "stdout",
     "output_type": "stream",
     "text": [
      "Use voxel to estimate volume...\n",
      "D:/共用雲端硬碟/TVGH-Group/手術復發/TGcode/Output4/check_img/HCCA\\HCCA_phasevalue_補充.csv\n",
      "datafile_path: D:/共用雲端硬碟/TVGH-Group/手術復發/TGcode/Output4/check_img/HCCA\\ISD-0207\n",
      "ISD-0207\n"
     ]
    },
    {
     "name": "stderr",
     "output_type": "stream",
     "text": [
      "C:\\Users\\Max\\AppData\\Local\\Temp\\ipykernel_12056\\2204506995.py:29: RuntimeWarning: overflow encountered in scalar subtract\n",
      "  elif((img[i,j,2]-img[i,j,1]) > 50):\n"
     ]
    },
    {
     "name": "stdout",
     "output_type": "stream",
     "text": [
      "Use voxel to estimate volume...\n",
      "D:/共用雲端硬碟/TVGH-Group/手術復發/TGcode/Output4/check_img/HCCA\\HCCA_phasevalue_補充.csv\n",
      "datafile_path: D:/共用雲端硬碟/TVGH-Group/手術復發/TGcode/Output4/check_img/HCCA\\ISD-0213\n",
      "ISD-0213\n"
     ]
    },
    {
     "name": "stderr",
     "output_type": "stream",
     "text": [
      "C:\\Users\\Max\\AppData\\Local\\Temp\\ipykernel_12056\\2204506995.py:29: RuntimeWarning: overflow encountered in scalar subtract\n",
      "  elif((img[i,j,2]-img[i,j,1]) > 50):\n"
     ]
    },
    {
     "name": "stdout",
     "output_type": "stream",
     "text": [
      "Use voxel to estimate volume...\n",
      "D:/共用雲端硬碟/TVGH-Group/手術復發/TGcode/Output4/check_img/HCCA\\HCCA_phasevalue_補充.csv\n",
      "datafile_path: D:/共用雲端硬碟/TVGH-Group/手術復發/TGcode/Output4/check_img/HCCA\\ISD-0216\n",
      "ISD-0216\n"
     ]
    },
    {
     "name": "stderr",
     "output_type": "stream",
     "text": [
      "C:\\Users\\Max\\AppData\\Local\\Temp\\ipykernel_12056\\2204506995.py:29: RuntimeWarning: overflow encountered in scalar subtract\n",
      "  elif((img[i,j,2]-img[i,j,1]) > 50):\n"
     ]
    },
    {
     "name": "stdout",
     "output_type": "stream",
     "text": [
      "Use voxel to estimate volume...\n",
      "D:/共用雲端硬碟/TVGH-Group/手術復發/TGcode/Output4/check_img/HCCA\\HCCA_phasevalue_補充.csv\n",
      "datafile_path: D:/共用雲端硬碟/TVGH-Group/手術復發/TGcode/Output4/check_img/HCCA\\ISD-0301\n",
      "ISD-0301\n"
     ]
    },
    {
     "name": "stderr",
     "output_type": "stream",
     "text": [
      "C:\\Users\\Max\\AppData\\Local\\Temp\\ipykernel_12056\\2204506995.py:29: RuntimeWarning: overflow encountered in scalar subtract\n",
      "  elif((img[i,j,2]-img[i,j,1]) > 50):\n"
     ]
    },
    {
     "name": "stdout",
     "output_type": "stream",
     "text": [
      "Use voxel to estimate volume...\n",
      "D:/共用雲端硬碟/TVGH-Group/手術復發/TGcode/Output4/check_img/HCCA\\HCCA_phasevalue_補充.csv\n",
      "datafile_path: D:/共用雲端硬碟/TVGH-Group/手術復發/TGcode/Output4/check_img/HCCA\\ISD-0302\n",
      "ISD-0302\n"
     ]
    },
    {
     "name": "stderr",
     "output_type": "stream",
     "text": [
      "C:\\Users\\Max\\AppData\\Local\\Temp\\ipykernel_12056\\2204506995.py:29: RuntimeWarning: overflow encountered in scalar subtract\n",
      "  elif((img[i,j,2]-img[i,j,1]) > 50):\n"
     ]
    },
    {
     "name": "stdout",
     "output_type": "stream",
     "text": [
      "Use voxel to estimate volume...\n",
      "D:/共用雲端硬碟/TVGH-Group/手術復發/TGcode/Output4/check_img/HCCA\\HCCA_phasevalue_補充.csv\n",
      "datafile_path: D:/共用雲端硬碟/TVGH-Group/手術復發/TGcode/Output4/check_img/HCCA\\ISD-0332\n",
      "ISD-0332\n"
     ]
    },
    {
     "name": "stderr",
     "output_type": "stream",
     "text": [
      "C:\\Users\\Max\\AppData\\Local\\Temp\\ipykernel_12056\\2204506995.py:29: RuntimeWarning: overflow encountered in scalar subtract\n",
      "  elif((img[i,j,2]-img[i,j,1]) > 50):\n"
     ]
    },
    {
     "name": "stdout",
     "output_type": "stream",
     "text": [
      "Use voxel to estimate volume...\n",
      "D:/共用雲端硬碟/TVGH-Group/手術復發/TGcode/Output4/check_img/HCCA\\HCCA_phasevalue_補充.csv\n",
      "datafile_path: D:/共用雲端硬碟/TVGH-Group/手術復發/TGcode/Output4/check_img/HCCA\\ISD-0333\n",
      "ISD-0333\n"
     ]
    },
    {
     "name": "stderr",
     "output_type": "stream",
     "text": [
      "C:\\Users\\Max\\AppData\\Local\\Temp\\ipykernel_12056\\2204506995.py:29: RuntimeWarning: overflow encountered in scalar subtract\n",
      "  elif((img[i,j,2]-img[i,j,1]) > 50):\n"
     ]
    },
    {
     "name": "stdout",
     "output_type": "stream",
     "text": [
      "Use voxel to estimate volume...\n",
      "D:/共用雲端硬碟/TVGH-Group/手術復發/TGcode/Output4/check_img/HCCA\\HCCA_phasevalue_補充.csv\n",
      "datafile_path: D:/共用雲端硬碟/TVGH-Group/手術復發/TGcode/Output4/check_img/HCCA\\ISD-0335\n",
      "ISD-0335\n"
     ]
    },
    {
     "name": "stderr",
     "output_type": "stream",
     "text": [
      "C:\\Users\\Max\\AppData\\Local\\Temp\\ipykernel_12056\\2204506995.py:29: RuntimeWarning: overflow encountered in scalar subtract\n",
      "  elif((img[i,j,2]-img[i,j,1]) > 50):\n"
     ]
    },
    {
     "name": "stdout",
     "output_type": "stream",
     "text": [
      "Use voxel to estimate volume...\n",
      "D:/共用雲端硬碟/TVGH-Group/手術復發/TGcode/Output4/check_img/HCCA\\HCCA_phasevalue_補充.csv\n",
      "datafile_path: D:/共用雲端硬碟/TVGH-Group/手術復發/TGcode/Output4/check_img/HCCA\\ISD-0347\n",
      "ISD-0347\n"
     ]
    },
    {
     "name": "stderr",
     "output_type": "stream",
     "text": [
      "C:\\Users\\Max\\AppData\\Local\\Temp\\ipykernel_12056\\2204506995.py:29: RuntimeWarning: overflow encountered in scalar subtract\n",
      "  elif((img[i,j,2]-img[i,j,1]) > 50):\n"
     ]
    },
    {
     "name": "stdout",
     "output_type": "stream",
     "text": [
      "Use voxel to estimate volume...\n",
      "D:/共用雲端硬碟/TVGH-Group/手術復發/TGcode/Output4/check_img/HCCA\\HCCA_phasevalue_補充.csv\n",
      "datafile_path: D:/共用雲端硬碟/TVGH-Group/手術復發/TGcode/Output4/check_img/HCCA\\ISD-0373\n",
      "ISD-0373\n"
     ]
    },
    {
     "name": "stderr",
     "output_type": "stream",
     "text": [
      "C:\\Users\\Max\\AppData\\Local\\Temp\\ipykernel_12056\\2204506995.py:29: RuntimeWarning: overflow encountered in scalar subtract\n",
      "  elif((img[i,j,2]-img[i,j,1]) > 50):\n"
     ]
    },
    {
     "name": "stdout",
     "output_type": "stream",
     "text": [
      "Use voxel to estimate volume...\n",
      "D:/共用雲端硬碟/TVGH-Group/手術復發/TGcode/Output4/check_img/HCCA\\HCCA_phasevalue_補充.csv\n",
      "datafile_path: D:/共用雲端硬碟/TVGH-Group/手術復發/TGcode/Output4/check_img/HCCA\\ISD-0377\n",
      "ISD-0377\n"
     ]
    },
    {
     "name": "stderr",
     "output_type": "stream",
     "text": [
      "C:\\Users\\Max\\AppData\\Local\\Temp\\ipykernel_12056\\2204506995.py:29: RuntimeWarning: overflow encountered in scalar subtract\n",
      "  elif((img[i,j,2]-img[i,j,1]) > 50):\n"
     ]
    },
    {
     "name": "stdout",
     "output_type": "stream",
     "text": [
      "Use voxel to estimate volume...\n",
      "D:/共用雲端硬碟/TVGH-Group/手術復發/TGcode/Output4/check_img/HCCA\\HCCA_phasevalue_補充.csv\n",
      "datafile_path: D:/共用雲端硬碟/TVGH-Group/手術復發/TGcode/Output4/check_img/HCCA\\ISD-0379\n",
      "ISD-0379\n"
     ]
    },
    {
     "name": "stderr",
     "output_type": "stream",
     "text": [
      "C:\\Users\\Max\\AppData\\Local\\Temp\\ipykernel_12056\\2204506995.py:29: RuntimeWarning: overflow encountered in scalar subtract\n",
      "  elif((img[i,j,2]-img[i,j,1]) > 50):\n"
     ]
    },
    {
     "name": "stdout",
     "output_type": "stream",
     "text": [
      "Use voxel to estimate volume...\n",
      "D:/共用雲端硬碟/TVGH-Group/手術復發/TGcode/Output4/check_img/HCCA\\HCCA_phasevalue_補充.csv\n",
      "datafile_path: D:/共用雲端硬碟/TVGH-Group/手術復發/TGcode/Output4/check_img/HCCA\\ISD-0386\n",
      "ISD-0386\n"
     ]
    },
    {
     "name": "stderr",
     "output_type": "stream",
     "text": [
      "C:\\Users\\Max\\AppData\\Local\\Temp\\ipykernel_12056\\2204506995.py:29: RuntimeWarning: overflow encountered in scalar subtract\n",
      "  elif((img[i,j,2]-img[i,j,1]) > 50):\n"
     ]
    },
    {
     "name": "stdout",
     "output_type": "stream",
     "text": [
      "Use voxel to estimate volume...\n",
      "D:/共用雲端硬碟/TVGH-Group/手術復發/TGcode/Output4/check_img/HCCA\\HCCA_phasevalue_補充.csv\n",
      "datafile_path: D:/共用雲端硬碟/TVGH-Group/手術復發/TGcode/Output4/check_img/HCCA\\ISD-0393\n",
      "ISD-0393\n"
     ]
    },
    {
     "name": "stderr",
     "output_type": "stream",
     "text": [
      "C:\\Users\\Max\\AppData\\Local\\Temp\\ipykernel_12056\\2204506995.py:29: RuntimeWarning: overflow encountered in scalar subtract\n",
      "  elif((img[i,j,2]-img[i,j,1]) > 50):\n"
     ]
    },
    {
     "name": "stdout",
     "output_type": "stream",
     "text": [
      "Use voxel to estimate volume...\n",
      "D:/共用雲端硬碟/TVGH-Group/手術復發/TGcode/Output4/check_img/HCCA\\HCCA_phasevalue_補充.csv\n",
      "datafile_path: D:/共用雲端硬碟/TVGH-Group/手術復發/TGcode/Output4/check_img/HCCA\\ISD-0394\n",
      "ISD-0394\n"
     ]
    },
    {
     "name": "stderr",
     "output_type": "stream",
     "text": [
      "C:\\Users\\Max\\AppData\\Local\\Temp\\ipykernel_12056\\2204506995.py:29: RuntimeWarning: overflow encountered in scalar subtract\n",
      "  elif((img[i,j,2]-img[i,j,1]) > 50):\n"
     ]
    },
    {
     "name": "stdout",
     "output_type": "stream",
     "text": [
      "Use voxel to estimate volume...\n",
      "D:/共用雲端硬碟/TVGH-Group/手術復發/TGcode/Output4/check_img/HCCA\\HCCA_phasevalue_補充.csv\n",
      "datafile_path: D:/共用雲端硬碟/TVGH-Group/手術復發/TGcode/Output4/check_img/HCCA\\ISD-0397\n",
      "ISD-0397\n"
     ]
    },
    {
     "name": "stderr",
     "output_type": "stream",
     "text": [
      "C:\\Users\\Max\\AppData\\Local\\Temp\\ipykernel_12056\\2204506995.py:29: RuntimeWarning: overflow encountered in scalar subtract\n",
      "  elif((img[i,j,2]-img[i,j,1]) > 50):\n"
     ]
    },
    {
     "name": "stdout",
     "output_type": "stream",
     "text": [
      "Use voxel to estimate volume...\n",
      "D:/共用雲端硬碟/TVGH-Group/手術復發/TGcode/Output4/check_img/HCCA\\HCCA_phasevalue_補充.csv\n",
      "datafile_path: D:/共用雲端硬碟/TVGH-Group/手術復發/TGcode/Output4/check_img/HCCA\\ISD-0398\n",
      "ISD-0398\n"
     ]
    },
    {
     "name": "stderr",
     "output_type": "stream",
     "text": [
      "C:\\Users\\Max\\AppData\\Local\\Temp\\ipykernel_12056\\2204506995.py:29: RuntimeWarning: overflow encountered in scalar subtract\n",
      "  elif((img[i,j,2]-img[i,j,1]) > 50):\n"
     ]
    },
    {
     "name": "stdout",
     "output_type": "stream",
     "text": [
      "Use voxel to estimate volume...\n",
      "D:/共用雲端硬碟/TVGH-Group/手術復發/TGcode/Output4/check_img/HCCA\\HCCA_phasevalue_補充.csv\n",
      "datafile_path: D:/共用雲端硬碟/TVGH-Group/手術復發/TGcode/Output4/check_img/HCCA\\ISD-0400\n",
      "ISD-0400\n"
     ]
    },
    {
     "name": "stderr",
     "output_type": "stream",
     "text": [
      "C:\\Users\\Max\\AppData\\Local\\Temp\\ipykernel_12056\\2204506995.py:29: RuntimeWarning: overflow encountered in scalar subtract\n",
      "  elif((img[i,j,2]-img[i,j,1]) > 50):\n"
     ]
    },
    {
     "name": "stdout",
     "output_type": "stream",
     "text": [
      "Use voxel to estimate volume...\n",
      "D:/共用雲端硬碟/TVGH-Group/手術復發/TGcode/Output4/check_img/HCCA\\HCCA_phasevalue_補充.csv\n",
      "datafile_path: D:/共用雲端硬碟/TVGH-Group/手術復發/TGcode/Output4/check_img/HCCA\\ISD-0404\n",
      "ISD-0404\n"
     ]
    },
    {
     "name": "stderr",
     "output_type": "stream",
     "text": [
      "C:\\Users\\Max\\AppData\\Local\\Temp\\ipykernel_12056\\2204506995.py:29: RuntimeWarning: overflow encountered in scalar subtract\n",
      "  elif((img[i,j,2]-img[i,j,1]) > 50):\n"
     ]
    },
    {
     "name": "stdout",
     "output_type": "stream",
     "text": [
      "Use voxel to estimate volume...\n",
      "D:/共用雲端硬碟/TVGH-Group/手術復發/TGcode/Output4/check_img/HCCA\\HCCA_phasevalue_補充.csv\n",
      "datafile_path: D:/共用雲端硬碟/TVGH-Group/手術復發/TGcode/Output4/check_img/HCCA\\ISD-0406\n",
      "ISD-0406\n"
     ]
    },
    {
     "name": "stderr",
     "output_type": "stream",
     "text": [
      "C:\\Users\\Max\\AppData\\Local\\Temp\\ipykernel_12056\\2204506995.py:29: RuntimeWarning: overflow encountered in scalar subtract\n",
      "  elif((img[i,j,2]-img[i,j,1]) > 50):\n"
     ]
    },
    {
     "name": "stdout",
     "output_type": "stream",
     "text": [
      "Use voxel to estimate volume...\n",
      "D:/共用雲端硬碟/TVGH-Group/手術復發/TGcode/Output4/check_img/HCCA\\HCCA_phasevalue_補充.csv\n",
      "datafile_path: D:/共用雲端硬碟/TVGH-Group/手術復發/TGcode/Output4/check_img/HCCA\\ISD-0410\n",
      "ISD-0410\n"
     ]
    },
    {
     "name": "stderr",
     "output_type": "stream",
     "text": [
      "C:\\Users\\Max\\AppData\\Local\\Temp\\ipykernel_12056\\2204506995.py:29: RuntimeWarning: overflow encountered in scalar subtract\n",
      "  elif((img[i,j,2]-img[i,j,1]) > 50):\n"
     ]
    },
    {
     "name": "stdout",
     "output_type": "stream",
     "text": [
      "Use voxel to estimate volume...\n",
      "D:/共用雲端硬碟/TVGH-Group/手術復發/TGcode/Output4/check_img/HCCA\\HCCA_phasevalue_補充.csv\n",
      "datafile_path: D:/共用雲端硬碟/TVGH-Group/手術復發/TGcode/Output4/check_img/HCCA\\ISD-0413\n",
      "ISD-0413\n"
     ]
    },
    {
     "name": "stderr",
     "output_type": "stream",
     "text": [
      "C:\\Users\\Max\\AppData\\Local\\Temp\\ipykernel_12056\\2204506995.py:29: RuntimeWarning: overflow encountered in scalar subtract\n",
      "  elif((img[i,j,2]-img[i,j,1]) > 50):\n"
     ]
    },
    {
     "name": "stdout",
     "output_type": "stream",
     "text": [
      "Use voxel to estimate volume...\n",
      "D:/共用雲端硬碟/TVGH-Group/手術復發/TGcode/Output4/check_img/HCCA\\HCCA_phasevalue_補充.csv\n",
      "datafile_path: D:/共用雲端硬碟/TVGH-Group/手術復發/TGcode/Output4/check_img/HCCA\\ISD-0414\n",
      "ISD-0414\n"
     ]
    },
    {
     "name": "stderr",
     "output_type": "stream",
     "text": [
      "C:\\Users\\Max\\AppData\\Local\\Temp\\ipykernel_12056\\2204506995.py:29: RuntimeWarning: overflow encountered in scalar subtract\n",
      "  elif((img[i,j,2]-img[i,j,1]) > 50):\n"
     ]
    },
    {
     "name": "stdout",
     "output_type": "stream",
     "text": [
      "Use voxel to estimate volume...\n",
      "D:/共用雲端硬碟/TVGH-Group/手術復發/TGcode/Output4/check_img/HCCA\\HCCA_phasevalue_補充.csv\n",
      "datafile_path: D:/共用雲端硬碟/TVGH-Group/手術復發/TGcode/Output4/check_img/HCCA\\ISD-0417\n",
      "ISD-0417\n"
     ]
    },
    {
     "name": "stderr",
     "output_type": "stream",
     "text": [
      "C:\\Users\\Max\\AppData\\Local\\Temp\\ipykernel_12056\\2204506995.py:29: RuntimeWarning: overflow encountered in scalar subtract\n",
      "  elif((img[i,j,2]-img[i,j,1]) > 50):\n"
     ]
    },
    {
     "name": "stdout",
     "output_type": "stream",
     "text": [
      "Use voxel to estimate volume...\n",
      "D:/共用雲端硬碟/TVGH-Group/手術復發/TGcode/Output4/check_img/HCCA\\HCCA_phasevalue_補充.csv\n",
      "datafile_path: D:/共用雲端硬碟/TVGH-Group/手術復發/TGcode/Output4/check_img/HCCA\\ISD-0418\n",
      "ISD-0418\n"
     ]
    },
    {
     "name": "stderr",
     "output_type": "stream",
     "text": [
      "C:\\Users\\Max\\AppData\\Local\\Temp\\ipykernel_12056\\2204506995.py:29: RuntimeWarning: overflow encountered in scalar subtract\n",
      "  elif((img[i,j,2]-img[i,j,1]) > 50):\n"
     ]
    },
    {
     "name": "stdout",
     "output_type": "stream",
     "text": [
      "Use voxel to estimate volume...\n",
      "D:/共用雲端硬碟/TVGH-Group/手術復發/TGcode/Output4/check_img/HCCA\\HCCA_phasevalue_補充.csv\n",
      "datafile_path: D:/共用雲端硬碟/TVGH-Group/手術復發/TGcode/Output4/check_img/HCCA\\ISD-0419\n",
      "ISD-0419\n"
     ]
    },
    {
     "name": "stderr",
     "output_type": "stream",
     "text": [
      "C:\\Users\\Max\\AppData\\Local\\Temp\\ipykernel_12056\\2204506995.py:29: RuntimeWarning: overflow encountered in scalar subtract\n",
      "  elif((img[i,j,2]-img[i,j,1]) > 50):\n"
     ]
    },
    {
     "name": "stdout",
     "output_type": "stream",
     "text": [
      "Use voxel to estimate volume...\n",
      "D:/共用雲端硬碟/TVGH-Group/手術復發/TGcode/Output4/check_img/HCCA\\HCCA_phasevalue_補充.csv\n",
      "datafile_path: D:/共用雲端硬碟/TVGH-Group/手術復發/TGcode/Output4/check_img/HCCA\\ISD-0421\n",
      "ISD-0421\n"
     ]
    },
    {
     "name": "stderr",
     "output_type": "stream",
     "text": [
      "C:\\Users\\Max\\AppData\\Local\\Temp\\ipykernel_12056\\2204506995.py:29: RuntimeWarning: overflow encountered in scalar subtract\n",
      "  elif((img[i,j,2]-img[i,j,1]) > 50):\n"
     ]
    },
    {
     "name": "stdout",
     "output_type": "stream",
     "text": [
      "Use voxel to estimate volume...\n",
      "D:/共用雲端硬碟/TVGH-Group/手術復發/TGcode/Output4/check_img/HCCA\\HCCA_phasevalue_補充.csv\n",
      "datafile_path: D:/共用雲端硬碟/TVGH-Group/手術復發/TGcode/Output4/check_img/HCCA\\ISD-0423\n",
      "ISD-0423\n"
     ]
    },
    {
     "name": "stderr",
     "output_type": "stream",
     "text": [
      "C:\\Users\\Max\\AppData\\Local\\Temp\\ipykernel_12056\\2204506995.py:29: RuntimeWarning: overflow encountered in scalar subtract\n",
      "  elif((img[i,j,2]-img[i,j,1]) > 50):\n"
     ]
    },
    {
     "name": "stdout",
     "output_type": "stream",
     "text": [
      "Use voxel to estimate volume...\n",
      "D:/共用雲端硬碟/TVGH-Group/手術復發/TGcode/Output4/check_img/HCCA\\HCCA_phasevalue_補充.csv\n",
      "datafile_path: D:/共用雲端硬碟/TVGH-Group/手術復發/TGcode/Output4/check_img/HCCA\\ISD-0425\n",
      "ISD-0425\n"
     ]
    },
    {
     "name": "stderr",
     "output_type": "stream",
     "text": [
      "C:\\Users\\Max\\AppData\\Local\\Temp\\ipykernel_12056\\2204506995.py:29: RuntimeWarning: overflow encountered in scalar subtract\n",
      "  elif((img[i,j,2]-img[i,j,1]) > 50):\n"
     ]
    },
    {
     "name": "stdout",
     "output_type": "stream",
     "text": [
      "Use voxel to estimate volume...\n",
      "D:/共用雲端硬碟/TVGH-Group/手術復發/TGcode/Output4/check_img/HCCA\\HCCA_phasevalue_補充.csv\n",
      "datafile_path: D:/共用雲端硬碟/TVGH-Group/手術復發/TGcode/Output4/check_img/HCCA\\ISD-0426\n",
      "ISD-0426\n"
     ]
    },
    {
     "name": "stderr",
     "output_type": "stream",
     "text": [
      "C:\\Users\\Max\\AppData\\Local\\Temp\\ipykernel_12056\\2204506995.py:29: RuntimeWarning: overflow encountered in scalar subtract\n",
      "  elif((img[i,j,2]-img[i,j,1]) > 50):\n"
     ]
    },
    {
     "name": "stdout",
     "output_type": "stream",
     "text": [
      "Use voxel to estimate volume...\n",
      "D:/共用雲端硬碟/TVGH-Group/手術復發/TGcode/Output4/check_img/HCCA\\HCCA_phasevalue_補充.csv\n",
      "datafile_path: D:/共用雲端硬碟/TVGH-Group/手術復發/TGcode/Output4/check_img/HCCA\\ISD-0434\n",
      "ISD-0434\n"
     ]
    },
    {
     "name": "stderr",
     "output_type": "stream",
     "text": [
      "C:\\Users\\Max\\AppData\\Local\\Temp\\ipykernel_12056\\2204506995.py:29: RuntimeWarning: overflow encountered in scalar subtract\n",
      "  elif((img[i,j,2]-img[i,j,1]) > 50):\n"
     ]
    },
    {
     "name": "stdout",
     "output_type": "stream",
     "text": [
      "Use voxel to estimate volume...\n",
      "D:/共用雲端硬碟/TVGH-Group/手術復發/TGcode/Output4/check_img/HCCA\\HCCA_phasevalue_補充.csv\n",
      "datafile_path: D:/共用雲端硬碟/TVGH-Group/手術復發/TGcode/Output4/check_img/HCCA\\ISD-0432\n",
      "ISD-0432\n"
     ]
    },
    {
     "name": "stderr",
     "output_type": "stream",
     "text": [
      "C:\\Users\\Max\\AppData\\Local\\Temp\\ipykernel_12056\\2204506995.py:29: RuntimeWarning: overflow encountered in scalar subtract\n",
      "  elif((img[i,j,2]-img[i,j,1]) > 50):\n"
     ]
    },
    {
     "name": "stdout",
     "output_type": "stream",
     "text": [
      "Use voxel to estimate volume...\n",
      "D:/共用雲端硬碟/TVGH-Group/手術復發/TGcode/Output4/check_img/HCCA\\HCCA_phasevalue_補充.csv\n",
      "datafile_path: D:/共用雲端硬碟/TVGH-Group/手術復發/TGcode/Output4/check_img/HCCA\\ISD-0435\n",
      "ISD-0435\n"
     ]
    },
    {
     "name": "stderr",
     "output_type": "stream",
     "text": [
      "C:\\Users\\Max\\AppData\\Local\\Temp\\ipykernel_12056\\2204506995.py:29: RuntimeWarning: overflow encountered in scalar subtract\n",
      "  elif((img[i,j,2]-img[i,j,1]) > 50):\n"
     ]
    },
    {
     "name": "stdout",
     "output_type": "stream",
     "text": [
      "Use voxel to estimate volume...\n",
      "D:/共用雲端硬碟/TVGH-Group/手術復發/TGcode/Output4/check_img/HCCA\\HCCA_phasevalue_補充.csv\n",
      "datafile_path: D:/共用雲端硬碟/TVGH-Group/手術復發/TGcode/Output4/check_img/HCCA\\ISD-0443\n",
      "ISD-0443\n"
     ]
    },
    {
     "name": "stderr",
     "output_type": "stream",
     "text": [
      "C:\\Users\\Max\\AppData\\Local\\Temp\\ipykernel_12056\\2204506995.py:29: RuntimeWarning: overflow encountered in scalar subtract\n",
      "  elif((img[i,j,2]-img[i,j,1]) > 50):\n"
     ]
    },
    {
     "name": "stdout",
     "output_type": "stream",
     "text": [
      "Use voxel to estimate volume...\n",
      "D:/共用雲端硬碟/TVGH-Group/手術復發/TGcode/Output4/check_img/HCCA\\HCCA_phasevalue_補充.csv\n",
      "datafile_path: D:/共用雲端硬碟/TVGH-Group/手術復發/TGcode/Output4/check_img/HCCA\\ISD-0444\n",
      "ISD-0444\n"
     ]
    },
    {
     "name": "stderr",
     "output_type": "stream",
     "text": [
      "C:\\Users\\Max\\AppData\\Local\\Temp\\ipykernel_12056\\2204506995.py:29: RuntimeWarning: overflow encountered in scalar subtract\n",
      "  elif((img[i,j,2]-img[i,j,1]) > 50):\n"
     ]
    },
    {
     "name": "stdout",
     "output_type": "stream",
     "text": [
      "Use voxel to estimate volume...\n",
      "D:/共用雲端硬碟/TVGH-Group/手術復發/TGcode/Output4/check_img/HCCA\\HCCA_phasevalue_補充.csv\n",
      "datafile_path: D:/共用雲端硬碟/TVGH-Group/手術復發/TGcode/Output4/check_img/HCCA\\ISD-0445\n",
      "ISD-0445\n"
     ]
    },
    {
     "name": "stderr",
     "output_type": "stream",
     "text": [
      "C:\\Users\\Max\\AppData\\Local\\Temp\\ipykernel_12056\\2204506995.py:29: RuntimeWarning: overflow encountered in scalar subtract\n",
      "  elif((img[i,j,2]-img[i,j,1]) > 50):\n"
     ]
    },
    {
     "name": "stdout",
     "output_type": "stream",
     "text": [
      "Use voxel to estimate volume...\n",
      "D:/共用雲端硬碟/TVGH-Group/手術復發/TGcode/Output4/check_img/HCCA\\HCCA_phasevalue_補充.csv\n",
      "datafile_path: D:/共用雲端硬碟/TVGH-Group/手術復發/TGcode/Output4/check_img/HCCA\\ISD-0449\n",
      "ISD-0449\n"
     ]
    },
    {
     "name": "stderr",
     "output_type": "stream",
     "text": [
      "C:\\Users\\Max\\AppData\\Local\\Temp\\ipykernel_12056\\2204506995.py:29: RuntimeWarning: overflow encountered in scalar subtract\n",
      "  elif((img[i,j,2]-img[i,j,1]) > 50):\n"
     ]
    },
    {
     "name": "stdout",
     "output_type": "stream",
     "text": [
      "Use voxel to estimate volume...\n",
      "D:/共用雲端硬碟/TVGH-Group/手術復發/TGcode/Output4/check_img/HCCA\\HCCA_phasevalue_補充.csv\n",
      "datafile_path: D:/共用雲端硬碟/TVGH-Group/手術復發/TGcode/Output4/check_img/HCCA\\ISD-0450\n",
      "ISD-0450\n"
     ]
    },
    {
     "name": "stderr",
     "output_type": "stream",
     "text": [
      "C:\\Users\\Max\\AppData\\Local\\Temp\\ipykernel_12056\\2204506995.py:29: RuntimeWarning: overflow encountered in scalar subtract\n",
      "  elif((img[i,j,2]-img[i,j,1]) > 50):\n"
     ]
    },
    {
     "name": "stdout",
     "output_type": "stream",
     "text": [
      "Use voxel to estimate volume...\n",
      "D:/共用雲端硬碟/TVGH-Group/手術復發/TGcode/Output4/check_img/HCCA\\HCCA_phasevalue_補充.csv\n",
      "datafile_path: D:/共用雲端硬碟/TVGH-Group/手術復發/TGcode/Output4/check_img/HCCA\\ISD-0454\n",
      "ISD-0454\n"
     ]
    },
    {
     "name": "stderr",
     "output_type": "stream",
     "text": [
      "C:\\Users\\Max\\AppData\\Local\\Temp\\ipykernel_12056\\2204506995.py:29: RuntimeWarning: overflow encountered in scalar subtract\n",
      "  elif((img[i,j,2]-img[i,j,1]) > 50):\n"
     ]
    },
    {
     "name": "stdout",
     "output_type": "stream",
     "text": [
      "Use voxel to estimate volume...\n",
      "D:/共用雲端硬碟/TVGH-Group/手術復發/TGcode/Output4/check_img/HCCA\\HCCA_phasevalue_補充.csv\n",
      "datafile_path: D:/共用雲端硬碟/TVGH-Group/手術復發/TGcode/Output4/check_img/HCCA\\ISD-0456\n",
      "ISD-0456\n"
     ]
    },
    {
     "name": "stderr",
     "output_type": "stream",
     "text": [
      "C:\\Users\\Max\\AppData\\Local\\Temp\\ipykernel_12056\\2204506995.py:29: RuntimeWarning: overflow encountered in scalar subtract\n",
      "  elif((img[i,j,2]-img[i,j,1]) > 50):\n"
     ]
    },
    {
     "name": "stdout",
     "output_type": "stream",
     "text": [
      "Use voxel to estimate volume...\n",
      "D:/共用雲端硬碟/TVGH-Group/手術復發/TGcode/Output4/check_img/HCCA\\HCCA_phasevalue_補充.csv\n",
      "datafile_path: D:/共用雲端硬碟/TVGH-Group/手術復發/TGcode/Output4/check_img/HCCA\\ISD-0489\n",
      "ISD-0489\n"
     ]
    },
    {
     "name": "stderr",
     "output_type": "stream",
     "text": [
      "C:\\Users\\Max\\AppData\\Local\\Temp\\ipykernel_12056\\2204506995.py:29: RuntimeWarning: overflow encountered in scalar subtract\n",
      "  elif((img[i,j,2]-img[i,j,1]) > 50):\n"
     ]
    },
    {
     "name": "stdout",
     "output_type": "stream",
     "text": [
      "Use voxel to estimate volume...\n",
      "D:/共用雲端硬碟/TVGH-Group/手術復發/TGcode/Output4/check_img/HCCA\\HCCA_phasevalue_補充.csv\n",
      "datafile_path: D:/共用雲端硬碟/TVGH-Group/手術復發/TGcode/Output4/check_img/HCCA\\ISD-0613\n",
      "ISD-0613\n"
     ]
    },
    {
     "name": "stderr",
     "output_type": "stream",
     "text": [
      "C:\\Users\\Max\\AppData\\Local\\Temp\\ipykernel_12056\\2204506995.py:29: RuntimeWarning: overflow encountered in scalar subtract\n",
      "  elif((img[i,j,2]-img[i,j,1]) > 50):\n"
     ]
    },
    {
     "name": "stdout",
     "output_type": "stream",
     "text": [
      "Use voxel to estimate volume...\n",
      "D:/共用雲端硬碟/TVGH-Group/手術復發/TGcode/Output4/check_img/HCCA\\HCCA_phasevalue_補充.csv\n",
      "datafile_path: D:/共用雲端硬碟/TVGH-Group/手術復發/TGcode/Output4/check_img/HCCA\\ISD-0557\n",
      "ISD-0557\n"
     ]
    },
    {
     "name": "stderr",
     "output_type": "stream",
     "text": [
      "C:\\Users\\Max\\AppData\\Local\\Temp\\ipykernel_12056\\2204506995.py:29: RuntimeWarning: overflow encountered in scalar subtract\n",
      "  elif((img[i,j,2]-img[i,j,1]) > 50):\n"
     ]
    },
    {
     "name": "stdout",
     "output_type": "stream",
     "text": [
      "Use voxel to estimate volume...\n",
      "D:/共用雲端硬碟/TVGH-Group/手術復發/TGcode/Output4/check_img/HCCA\\HCCA_phasevalue_補充.csv\n",
      "datafile_path: D:/共用雲端硬碟/TVGH-Group/手術復發/TGcode/Output4/check_img/HCCA\\ISD-1009\n",
      "ISD-1009\n"
     ]
    },
    {
     "name": "stderr",
     "output_type": "stream",
     "text": [
      "C:\\Users\\Max\\AppData\\Local\\Temp\\ipykernel_12056\\2204506995.py:29: RuntimeWarning: overflow encountered in scalar subtract\n",
      "  elif((img[i,j,2]-img[i,j,1]) > 50):\n"
     ]
    },
    {
     "name": "stdout",
     "output_type": "stream",
     "text": [
      "Use voxel to estimate volume...\n",
      "D:/共用雲端硬碟/TVGH-Group/手術復發/TGcode/Output4/check_img/HCCA\\HCCA_phasevalue_補充.csv\n",
      "datafile_path: D:/共用雲端硬碟/TVGH-Group/手術復發/TGcode/Output4/check_img/HCCA\\ISD-0661\n",
      "ISD-0661\n"
     ]
    },
    {
     "name": "stderr",
     "output_type": "stream",
     "text": [
      "C:\\Users\\Max\\AppData\\Local\\Temp\\ipykernel_12056\\2204506995.py:29: RuntimeWarning: overflow encountered in scalar subtract\n",
      "  elif((img[i,j,2]-img[i,j,1]) > 50):\n"
     ]
    },
    {
     "name": "stdout",
     "output_type": "stream",
     "text": [
      "Use voxel to estimate volume...\n",
      "D:/共用雲端硬碟/TVGH-Group/手術復發/TGcode/Output4/check_img/HCCA\\HCCA_phasevalue_補充.csv\n",
      "datafile_path: D:/共用雲端硬碟/TVGH-Group/手術復發/TGcode/Output4/check_img/HCCA\\ISD-1068\n",
      "ISD-1068\n"
     ]
    },
    {
     "name": "stderr",
     "output_type": "stream",
     "text": [
      "C:\\Users\\Max\\AppData\\Local\\Temp\\ipykernel_12056\\2204506995.py:29: RuntimeWarning: overflow encountered in scalar subtract\n",
      "  elif((img[i,j,2]-img[i,j,1]) > 50):\n"
     ]
    },
    {
     "name": "stdout",
     "output_type": "stream",
     "text": [
      "Use voxel to estimate volume...\n",
      "D:/共用雲端硬碟/TVGH-Group/手術復發/TGcode/Output4/check_img/HCCA\\HCCA_phasevalue_補充.csv\n",
      "datafile_path: D:/共用雲端硬碟/TVGH-Group/手術復發/TGcode/Output4/check_img/HCCA\\ISD-1082\n",
      "ISD-1082\n"
     ]
    },
    {
     "name": "stderr",
     "output_type": "stream",
     "text": [
      "C:\\Users\\Max\\AppData\\Local\\Temp\\ipykernel_12056\\2204506995.py:29: RuntimeWarning: overflow encountered in scalar subtract\n",
      "  elif((img[i,j,2]-img[i,j,1]) > 50):\n"
     ]
    },
    {
     "name": "stdout",
     "output_type": "stream",
     "text": [
      "Use voxel to estimate volume...\n",
      "D:/共用雲端硬碟/TVGH-Group/手術復發/TGcode/Output4/check_img/HCCA\\HCCA_phasevalue_補充.csv\n",
      "datafile_path: D:/共用雲端硬碟/TVGH-Group/手術復發/TGcode/Output4/check_img/HCCA\\ISD-1120\n",
      "ISD-1120\n"
     ]
    },
    {
     "name": "stderr",
     "output_type": "stream",
     "text": [
      "C:\\Users\\Max\\AppData\\Local\\Temp\\ipykernel_12056\\2204506995.py:29: RuntimeWarning: overflow encountered in scalar subtract\n",
      "  elif((img[i,j,2]-img[i,j,1]) > 50):\n"
     ]
    },
    {
     "name": "stdout",
     "output_type": "stream",
     "text": [
      "Use voxel to estimate volume...\n",
      "D:/共用雲端硬碟/TVGH-Group/手術復發/TGcode/Output4/check_img/HCCA\\HCCA_phasevalue_補充.csv\n",
      "subfolder_path: D:/共用雲端硬碟/TVGH-Group/手術復發/TGcode/Output4/check_img/HCCN\n",
      "datafile_path: D:/共用雲端硬碟/TVGH-Group/手術復發/TGcode/Output4/check_img/HCCN\\ISD-0001\n",
      "ISD-0001\n"
     ]
    },
    {
     "name": "stderr",
     "output_type": "stream",
     "text": [
      "C:\\Users\\Max\\AppData\\Local\\Temp\\ipykernel_12056\\2204506995.py:29: RuntimeWarning: overflow encountered in scalar subtract\n",
      "  elif((img[i,j,2]-img[i,j,1]) > 50):\n"
     ]
    },
    {
     "name": "stdout",
     "output_type": "stream",
     "text": [
      "Use voxel to estimate volume...\n",
      "D:/共用雲端硬碟/TVGH-Group/手術復發/TGcode/Output4/check_img/HCCN\\HCCN_phasevalue_補充.csv\n",
      "datafile_path: D:/共用雲端硬碟/TVGH-Group/手術復發/TGcode/Output4/check_img/HCCN\\ISD-0348\n",
      "ISD-0348\n"
     ]
    },
    {
     "name": "stderr",
     "output_type": "stream",
     "text": [
      "C:\\Users\\Max\\AppData\\Local\\Temp\\ipykernel_12056\\2204506995.py:29: RuntimeWarning: overflow encountered in scalar subtract\n",
      "  elif((img[i,j,2]-img[i,j,1]) > 50):\n"
     ]
    },
    {
     "name": "stdout",
     "output_type": "stream",
     "text": [
      "Use voxel to estimate volume...\n",
      "D:/共用雲端硬碟/TVGH-Group/手術復發/TGcode/Output4/check_img/HCCN\\HCCN_phasevalue_補充.csv\n",
      "datafile_path: D:/共用雲端硬碟/TVGH-Group/手術復發/TGcode/Output4/check_img/HCCN\\ISD-0658\n",
      "ISD-0658\n"
     ]
    },
    {
     "name": "stderr",
     "output_type": "stream",
     "text": [
      "C:\\Users\\Max\\AppData\\Local\\Temp\\ipykernel_12056\\2204506995.py:29: RuntimeWarning: overflow encountered in scalar subtract\n",
      "  elif((img[i,j,2]-img[i,j,1]) > 50):\n"
     ]
    },
    {
     "name": "stdout",
     "output_type": "stream",
     "text": [
      "Use voxel to estimate volume...\n",
      "D:/共用雲端硬碟/TVGH-Group/手術復發/TGcode/Output4/check_img/HCCN\\HCCN_phasevalue_補充.csv\n",
      "datafile_path: D:/共用雲端硬碟/TVGH-Group/手術復發/TGcode/Output4/check_img/HCCN\\ISD-1011\n",
      "ISD-1011\n"
     ]
    },
    {
     "name": "stderr",
     "output_type": "stream",
     "text": [
      "C:\\Users\\Max\\AppData\\Local\\Temp\\ipykernel_12056\\2204506995.py:29: RuntimeWarning: overflow encountered in scalar subtract\n",
      "  elif((img[i,j,2]-img[i,j,1]) > 50):\n"
     ]
    },
    {
     "name": "stdout",
     "output_type": "stream",
     "text": [
      "Use voxel to estimate volume...\n",
      "D:/共用雲端硬碟/TVGH-Group/手術復發/TGcode/Output4/check_img/HCCN\\HCCN_phasevalue_補充.csv\n",
      "datafile_path: D:/共用雲端硬碟/TVGH-Group/手術復發/TGcode/Output4/check_img/HCCN\\ISD-1108\n",
      "ISD-1108\n"
     ]
    },
    {
     "name": "stderr",
     "output_type": "stream",
     "text": [
      "C:\\Users\\Max\\AppData\\Local\\Temp\\ipykernel_12056\\2204506995.py:29: RuntimeWarning: overflow encountered in scalar subtract\n",
      "  elif((img[i,j,2]-img[i,j,1]) > 50):\n"
     ]
    },
    {
     "name": "stdout",
     "output_type": "stream",
     "text": [
      "Use voxel to estimate volume...\n",
      "D:/共用雲端硬碟/TVGH-Group/手術復發/TGcode/Output4/check_img/HCCN\\HCCN_phasevalue_補充.csv\n",
      "datafile_path: D:/共用雲端硬碟/TVGH-Group/手術復發/TGcode/Output4/check_img/HCCN\\ISD-1112\n",
      "ISD-1112\n"
     ]
    },
    {
     "name": "stderr",
     "output_type": "stream",
     "text": [
      "C:\\Users\\Max\\AppData\\Local\\Temp\\ipykernel_12056\\2204506995.py:29: RuntimeWarning: overflow encountered in scalar subtract\n",
      "  elif((img[i,j,2]-img[i,j,1]) > 50):\n"
     ]
    },
    {
     "name": "stdout",
     "output_type": "stream",
     "text": [
      "Use voxel to estimate volume...\n",
      "D:/共用雲端硬碟/TVGH-Group/手術復發/TGcode/Output4/check_img/HCCN\\HCCN_phasevalue_補充.csv\n",
      "datafile_path: D:/共用雲端硬碟/TVGH-Group/手術復發/TGcode/Output4/check_img/HCCN\\ISD-1136\n",
      "ISD-1136\n"
     ]
    },
    {
     "name": "stderr",
     "output_type": "stream",
     "text": [
      "C:\\Users\\Max\\AppData\\Local\\Temp\\ipykernel_12056\\2204506995.py:29: RuntimeWarning: overflow encountered in scalar subtract\n",
      "  elif((img[i,j,2]-img[i,j,1]) > 50):\n"
     ]
    },
    {
     "name": "stdout",
     "output_type": "stream",
     "text": [
      "Use voxel to estimate volume...\n",
      "D:/共用雲端硬碟/TVGH-Group/手術復發/TGcode/Output4/check_img/HCCN\\HCCN_phasevalue_補充.csv\n",
      "datafile_path: D:/共用雲端硬碟/TVGH-Group/手術復發/TGcode/Output4/check_img/HCCN\\ISD-1133\n",
      "ISD-1133\n"
     ]
    },
    {
     "name": "stderr",
     "output_type": "stream",
     "text": [
      "C:\\Users\\Max\\AppData\\Local\\Temp\\ipykernel_12056\\2204506995.py:29: RuntimeWarning: overflow encountered in scalar subtract\n",
      "  elif((img[i,j,2]-img[i,j,1]) > 50):\n"
     ]
    },
    {
     "name": "stdout",
     "output_type": "stream",
     "text": [
      "Use voxel to estimate volume...\n",
      "D:/共用雲端硬碟/TVGH-Group/手術復發/TGcode/Output4/check_img/HCCN\\HCCN_phasevalue_補充.csv\n",
      "datafile_path: D:/共用雲端硬碟/TVGH-Group/手術復發/TGcode/Output4/check_img/HCCN\\ISD-0006\n",
      "ISD-0006\n"
     ]
    },
    {
     "name": "stderr",
     "output_type": "stream",
     "text": [
      "C:\\Users\\Max\\AppData\\Local\\Temp\\ipykernel_12056\\2204506995.py:29: RuntimeWarning: overflow encountered in scalar subtract\n",
      "  elif((img[i,j,2]-img[i,j,1]) > 50):\n"
     ]
    },
    {
     "name": "stdout",
     "output_type": "stream",
     "text": [
      "Use voxel to estimate volume...\n",
      "D:/共用雲端硬碟/TVGH-Group/手術復發/TGcode/Output4/check_img/HCCN\\HCCN_phasevalue_補充.csv\n",
      "datafile_path: D:/共用雲端硬碟/TVGH-Group/手術復發/TGcode/Output4/check_img/HCCN\\ISD-0004\n",
      "ISD-0004\n"
     ]
    },
    {
     "name": "stderr",
     "output_type": "stream",
     "text": [
      "C:\\Users\\Max\\AppData\\Local\\Temp\\ipykernel_12056\\2204506995.py:29: RuntimeWarning: overflow encountered in scalar subtract\n",
      "  elif((img[i,j,2]-img[i,j,1]) > 50):\n"
     ]
    },
    {
     "name": "stdout",
     "output_type": "stream",
     "text": [
      "Use voxel to estimate volume...\n",
      "D:/共用雲端硬碟/TVGH-Group/手術復發/TGcode/Output4/check_img/HCCN\\HCCN_phasevalue_補充.csv\n",
      "datafile_path: D:/共用雲端硬碟/TVGH-Group/手術復發/TGcode/Output4/check_img/HCCN\\ISD-0003\n",
      "ISD-0003\n"
     ]
    },
    {
     "name": "stderr",
     "output_type": "stream",
     "text": [
      "C:\\Users\\Max\\AppData\\Local\\Temp\\ipykernel_12056\\2204506995.py:29: RuntimeWarning: overflow encountered in scalar subtract\n",
      "  elif((img[i,j,2]-img[i,j,1]) > 50):\n"
     ]
    },
    {
     "name": "stdout",
     "output_type": "stream",
     "text": [
      "Use voxel to estimate volume...\n",
      "D:/共用雲端硬碟/TVGH-Group/手術復發/TGcode/Output4/check_img/HCCN\\HCCN_phasevalue_補充.csv\n",
      "datafile_path: D:/共用雲端硬碟/TVGH-Group/手術復發/TGcode/Output4/check_img/HCCN\\ISD-0075\n",
      "ISD-0075\n"
     ]
    },
    {
     "name": "stderr",
     "output_type": "stream",
     "text": [
      "C:\\Users\\Max\\AppData\\Local\\Temp\\ipykernel_12056\\2204506995.py:29: RuntimeWarning: overflow encountered in scalar subtract\n",
      "  elif((img[i,j,2]-img[i,j,1]) > 50):\n"
     ]
    },
    {
     "name": "stdout",
     "output_type": "stream",
     "text": [
      "Use voxel to estimate volume...\n",
      "D:/共用雲端硬碟/TVGH-Group/手術復發/TGcode/Output4/check_img/HCCN\\HCCN_phasevalue_補充.csv\n",
      "datafile_path: D:/共用雲端硬碟/TVGH-Group/手術復發/TGcode/Output4/check_img/HCCN\\ISD-0078\n",
      "ISD-0078\n"
     ]
    },
    {
     "name": "stderr",
     "output_type": "stream",
     "text": [
      "C:\\Users\\Max\\AppData\\Local\\Temp\\ipykernel_12056\\2204506995.py:29: RuntimeWarning: overflow encountered in scalar subtract\n",
      "  elif((img[i,j,2]-img[i,j,1]) > 50):\n"
     ]
    },
    {
     "name": "stdout",
     "output_type": "stream",
     "text": [
      "Use voxel to estimate volume...\n",
      "D:/共用雲端硬碟/TVGH-Group/手術復發/TGcode/Output4/check_img/HCCN\\HCCN_phasevalue_補充.csv\n",
      "datafile_path: D:/共用雲端硬碟/TVGH-Group/手術復發/TGcode/Output4/check_img/HCCN\\ISD-0079\n",
      "ISD-0079\n"
     ]
    },
    {
     "name": "stderr",
     "output_type": "stream",
     "text": [
      "C:\\Users\\Max\\AppData\\Local\\Temp\\ipykernel_12056\\2204506995.py:29: RuntimeWarning: overflow encountered in scalar subtract\n",
      "  elif((img[i,j,2]-img[i,j,1]) > 50):\n"
     ]
    },
    {
     "name": "stdout",
     "output_type": "stream",
     "text": [
      "Use voxel to estimate volume...\n",
      "D:/共用雲端硬碟/TVGH-Group/手術復發/TGcode/Output4/check_img/HCCN\\HCCN_phasevalue_補充.csv\n",
      "datafile_path: D:/共用雲端硬碟/TVGH-Group/手術復發/TGcode/Output4/check_img/HCCN\\ISD-0081\n",
      "ISD-0081\n"
     ]
    },
    {
     "name": "stderr",
     "output_type": "stream",
     "text": [
      "C:\\Users\\Max\\AppData\\Local\\Temp\\ipykernel_12056\\2204506995.py:29: RuntimeWarning: overflow encountered in scalar subtract\n",
      "  elif((img[i,j,2]-img[i,j,1]) > 50):\n"
     ]
    },
    {
     "name": "stdout",
     "output_type": "stream",
     "text": [
      "Use voxel to estimate volume...\n",
      "D:/共用雲端硬碟/TVGH-Group/手術復發/TGcode/Output4/check_img/HCCN\\HCCN_phasevalue_補充.csv\n",
      "datafile_path: D:/共用雲端硬碟/TVGH-Group/手術復發/TGcode/Output4/check_img/HCCN\\ISD-0082\n",
      "ISD-0082\n"
     ]
    },
    {
     "name": "stderr",
     "output_type": "stream",
     "text": [
      "C:\\Users\\Max\\AppData\\Local\\Temp\\ipykernel_12056\\2204506995.py:29: RuntimeWarning: overflow encountered in scalar subtract\n",
      "  elif((img[i,j,2]-img[i,j,1]) > 50):\n"
     ]
    },
    {
     "name": "stdout",
     "output_type": "stream",
     "text": [
      "Use voxel to estimate volume...\n",
      "D:/共用雲端硬碟/TVGH-Group/手術復發/TGcode/Output4/check_img/HCCN\\HCCN_phasevalue_補充.csv\n",
      "datafile_path: D:/共用雲端硬碟/TVGH-Group/手術復發/TGcode/Output4/check_img/HCCN\\ISD-0085\n",
      "ISD-0085\n"
     ]
    },
    {
     "name": "stderr",
     "output_type": "stream",
     "text": [
      "C:\\Users\\Max\\AppData\\Local\\Temp\\ipykernel_12056\\2204506995.py:29: RuntimeWarning: overflow encountered in scalar subtract\n",
      "  elif((img[i,j,2]-img[i,j,1]) > 50):\n"
     ]
    },
    {
     "name": "stdout",
     "output_type": "stream",
     "text": [
      "Use voxel to estimate volume...\n",
      "D:/共用雲端硬碟/TVGH-Group/手術復發/TGcode/Output4/check_img/HCCN\\HCCN_phasevalue_補充.csv\n",
      "datafile_path: D:/共用雲端硬碟/TVGH-Group/手術復發/TGcode/Output4/check_img/HCCN\\ISD-0084\n",
      "ISD-0084\n"
     ]
    },
    {
     "name": "stderr",
     "output_type": "stream",
     "text": [
      "C:\\Users\\Max\\AppData\\Local\\Temp\\ipykernel_12056\\2204506995.py:29: RuntimeWarning: overflow encountered in scalar subtract\n",
      "  elif((img[i,j,2]-img[i,j,1]) > 50):\n"
     ]
    },
    {
     "name": "stdout",
     "output_type": "stream",
     "text": [
      "Use voxel to estimate volume...\n",
      "D:/共用雲端硬碟/TVGH-Group/手術復發/TGcode/Output4/check_img/HCCN\\HCCN_phasevalue_補充.csv\n",
      "datafile_path: D:/共用雲端硬碟/TVGH-Group/手術復發/TGcode/Output4/check_img/HCCN\\ISD-0086\n",
      "ISD-0086\n"
     ]
    },
    {
     "name": "stderr",
     "output_type": "stream",
     "text": [
      "C:\\Users\\Max\\AppData\\Local\\Temp\\ipykernel_12056\\2204506995.py:29: RuntimeWarning: overflow encountered in scalar subtract\n",
      "  elif((img[i,j,2]-img[i,j,1]) > 50):\n"
     ]
    },
    {
     "name": "stdout",
     "output_type": "stream",
     "text": [
      "Use voxel to estimate volume...\n",
      "D:/共用雲端硬碟/TVGH-Group/手術復發/TGcode/Output4/check_img/HCCN\\HCCN_phasevalue_補充.csv\n",
      "datafile_path: D:/共用雲端硬碟/TVGH-Group/手術復發/TGcode/Output4/check_img/HCCN\\ISD-0087\n",
      "ISD-0087\n"
     ]
    },
    {
     "name": "stderr",
     "output_type": "stream",
     "text": [
      "C:\\Users\\Max\\AppData\\Local\\Temp\\ipykernel_12056\\2204506995.py:29: RuntimeWarning: overflow encountered in scalar subtract\n",
      "  elif((img[i,j,2]-img[i,j,1]) > 50):\n"
     ]
    },
    {
     "name": "stdout",
     "output_type": "stream",
     "text": [
      "Use voxel to estimate volume...\n",
      "D:/共用雲端硬碟/TVGH-Group/手術復發/TGcode/Output4/check_img/HCCN\\HCCN_phasevalue_補充.csv\n",
      "datafile_path: D:/共用雲端硬碟/TVGH-Group/手術復發/TGcode/Output4/check_img/HCCN\\ISD-0090\n",
      "ISD-0090\n"
     ]
    },
    {
     "name": "stderr",
     "output_type": "stream",
     "text": [
      "C:\\Users\\Max\\AppData\\Local\\Temp\\ipykernel_12056\\2204506995.py:29: RuntimeWarning: overflow encountered in scalar subtract\n",
      "  elif((img[i,j,2]-img[i,j,1]) > 50):\n"
     ]
    },
    {
     "name": "stdout",
     "output_type": "stream",
     "text": [
      "Use voxel to estimate volume...\n",
      "D:/共用雲端硬碟/TVGH-Group/手術復發/TGcode/Output4/check_img/HCCN\\HCCN_phasevalue_補充.csv\n",
      "datafile_path: D:/共用雲端硬碟/TVGH-Group/手術復發/TGcode/Output4/check_img/HCCN\\ISD-0105\n",
      "ISD-0105\n"
     ]
    },
    {
     "name": "stderr",
     "output_type": "stream",
     "text": [
      "C:\\Users\\Max\\AppData\\Local\\Temp\\ipykernel_12056\\2204506995.py:29: RuntimeWarning: overflow encountered in scalar subtract\n",
      "  elif((img[i,j,2]-img[i,j,1]) > 50):\n"
     ]
    },
    {
     "name": "stdout",
     "output_type": "stream",
     "text": [
      "Use voxel to estimate volume...\n",
      "D:/共用雲端硬碟/TVGH-Group/手術復發/TGcode/Output4/check_img/HCCN\\HCCN_phasevalue_補充.csv\n",
      "datafile_path: D:/共用雲端硬碟/TVGH-Group/手術復發/TGcode/Output4/check_img/HCCN\\ISD-0110\n",
      "ISD-0110\n"
     ]
    },
    {
     "name": "stderr",
     "output_type": "stream",
     "text": [
      "C:\\Users\\Max\\AppData\\Local\\Temp\\ipykernel_12056\\2204506995.py:29: RuntimeWarning: overflow encountered in scalar subtract\n",
      "  elif((img[i,j,2]-img[i,j,1]) > 50):\n"
     ]
    },
    {
     "name": "stdout",
     "output_type": "stream",
     "text": [
      "Use voxel to estimate volume...\n",
      "D:/共用雲端硬碟/TVGH-Group/手術復發/TGcode/Output4/check_img/HCCN\\HCCN_phasevalue_補充.csv\n",
      "datafile_path: D:/共用雲端硬碟/TVGH-Group/手術復發/TGcode/Output4/check_img/HCCN\\ISD-0115\n",
      "ISD-0115\n"
     ]
    },
    {
     "name": "stderr",
     "output_type": "stream",
     "text": [
      "C:\\Users\\Max\\AppData\\Local\\Temp\\ipykernel_12056\\2204506995.py:29: RuntimeWarning: overflow encountered in scalar subtract\n",
      "  elif((img[i,j,2]-img[i,j,1]) > 50):\n"
     ]
    },
    {
     "name": "stdout",
     "output_type": "stream",
     "text": [
      "Use voxel to estimate volume...\n",
      "D:/共用雲端硬碟/TVGH-Group/手術復發/TGcode/Output4/check_img/HCCN\\HCCN_phasevalue_補充.csv\n",
      "datafile_path: D:/共用雲端硬碟/TVGH-Group/手術復發/TGcode/Output4/check_img/HCCN\\ISD-0116\n",
      "ISD-0116\n"
     ]
    },
    {
     "name": "stderr",
     "output_type": "stream",
     "text": [
      "C:\\Users\\Max\\AppData\\Local\\Temp\\ipykernel_12056\\2204506995.py:29: RuntimeWarning: overflow encountered in scalar subtract\n",
      "  elif((img[i,j,2]-img[i,j,1]) > 50):\n"
     ]
    },
    {
     "name": "stdout",
     "output_type": "stream",
     "text": [
      "Use voxel to estimate volume...\n",
      "D:/共用雲端硬碟/TVGH-Group/手術復發/TGcode/Output4/check_img/HCCN\\HCCN_phasevalue_補充.csv\n",
      "datafile_path: D:/共用雲端硬碟/TVGH-Group/手術復發/TGcode/Output4/check_img/HCCN\\ISD-0118\n",
      "ISD-0118\n"
     ]
    },
    {
     "name": "stderr",
     "output_type": "stream",
     "text": [
      "C:\\Users\\Max\\AppData\\Local\\Temp\\ipykernel_12056\\2204506995.py:29: RuntimeWarning: overflow encountered in scalar subtract\n",
      "  elif((img[i,j,2]-img[i,j,1]) > 50):\n"
     ]
    },
    {
     "name": "stdout",
     "output_type": "stream",
     "text": [
      "Use voxel to estimate volume...\n",
      "D:/共用雲端硬碟/TVGH-Group/手術復發/TGcode/Output4/check_img/HCCN\\HCCN_phasevalue_補充.csv\n",
      "datafile_path: D:/共用雲端硬碟/TVGH-Group/手術復發/TGcode/Output4/check_img/HCCN\\ISD-0119\n",
      "ISD-0119\n"
     ]
    },
    {
     "name": "stderr",
     "output_type": "stream",
     "text": [
      "C:\\Users\\Max\\AppData\\Local\\Temp\\ipykernel_12056\\2204506995.py:29: RuntimeWarning: overflow encountered in scalar subtract\n",
      "  elif((img[i,j,2]-img[i,j,1]) > 50):\n"
     ]
    },
    {
     "name": "stdout",
     "output_type": "stream",
     "text": [
      "Use voxel to estimate volume...\n",
      "D:/共用雲端硬碟/TVGH-Group/手術復發/TGcode/Output4/check_img/HCCN\\HCCN_phasevalue_補充.csv\n",
      "datafile_path: D:/共用雲端硬碟/TVGH-Group/手術復發/TGcode/Output4/check_img/HCCN\\ISD-0120\n",
      "ISD-0120\n"
     ]
    },
    {
     "name": "stderr",
     "output_type": "stream",
     "text": [
      "C:\\Users\\Max\\AppData\\Local\\Temp\\ipykernel_12056\\2204506995.py:29: RuntimeWarning: overflow encountered in scalar subtract\n",
      "  elif((img[i,j,2]-img[i,j,1]) > 50):\n"
     ]
    },
    {
     "name": "stdout",
     "output_type": "stream",
     "text": [
      "Use voxel to estimate volume...\n",
      "D:/共用雲端硬碟/TVGH-Group/手術復發/TGcode/Output4/check_img/HCCN\\HCCN_phasevalue_補充.csv\n",
      "datafile_path: D:/共用雲端硬碟/TVGH-Group/手術復發/TGcode/Output4/check_img/HCCN\\ISD-0126\n",
      "ISD-0126\n"
     ]
    },
    {
     "name": "stderr",
     "output_type": "stream",
     "text": [
      "C:\\Users\\Max\\AppData\\Local\\Temp\\ipykernel_12056\\2204506995.py:29: RuntimeWarning: overflow encountered in scalar subtract\n",
      "  elif((img[i,j,2]-img[i,j,1]) > 50):\n"
     ]
    },
    {
     "name": "stdout",
     "output_type": "stream",
     "text": [
      "Use voxel to estimate volume...\n",
      "D:/共用雲端硬碟/TVGH-Group/手術復發/TGcode/Output4/check_img/HCCN\\HCCN_phasevalue_補充.csv\n",
      "datafile_path: D:/共用雲端硬碟/TVGH-Group/手術復發/TGcode/Output4/check_img/HCCN\\ISD-0128\n",
      "ISD-0128\n"
     ]
    },
    {
     "name": "stderr",
     "output_type": "stream",
     "text": [
      "C:\\Users\\Max\\AppData\\Local\\Temp\\ipykernel_12056\\2204506995.py:29: RuntimeWarning: overflow encountered in scalar subtract\n",
      "  elif((img[i,j,2]-img[i,j,1]) > 50):\n"
     ]
    },
    {
     "name": "stdout",
     "output_type": "stream",
     "text": [
      "Use voxel to estimate volume...\n",
      "D:/共用雲端硬碟/TVGH-Group/手術復發/TGcode/Output4/check_img/HCCN\\HCCN_phasevalue_補充.csv\n",
      "datafile_path: D:/共用雲端硬碟/TVGH-Group/手術復發/TGcode/Output4/check_img/HCCN\\ISD-0130\n",
      "ISD-0130\n"
     ]
    },
    {
     "name": "stderr",
     "output_type": "stream",
     "text": [
      "C:\\Users\\Max\\AppData\\Local\\Temp\\ipykernel_12056\\2204506995.py:29: RuntimeWarning: overflow encountered in scalar subtract\n",
      "  elif((img[i,j,2]-img[i,j,1]) > 50):\n"
     ]
    },
    {
     "name": "stdout",
     "output_type": "stream",
     "text": [
      "Use voxel to estimate volume...\n",
      "D:/共用雲端硬碟/TVGH-Group/手術復發/TGcode/Output4/check_img/HCCN\\HCCN_phasevalue_補充.csv\n",
      "datafile_path: D:/共用雲端硬碟/TVGH-Group/手術復發/TGcode/Output4/check_img/HCCN\\ISD-0136\n",
      "ISD-0136\n"
     ]
    },
    {
     "name": "stderr",
     "output_type": "stream",
     "text": [
      "C:\\Users\\Max\\AppData\\Local\\Temp\\ipykernel_12056\\2204506995.py:29: RuntimeWarning: overflow encountered in scalar subtract\n",
      "  elif((img[i,j,2]-img[i,j,1]) > 50):\n"
     ]
    },
    {
     "name": "stdout",
     "output_type": "stream",
     "text": [
      "Use voxel to estimate volume...\n",
      "D:/共用雲端硬碟/TVGH-Group/手術復發/TGcode/Output4/check_img/HCCN\\HCCN_phasevalue_補充.csv\n",
      "datafile_path: D:/共用雲端硬碟/TVGH-Group/手術復發/TGcode/Output4/check_img/HCCN\\ISD-0138\n",
      "ISD-0138\n"
     ]
    },
    {
     "name": "stderr",
     "output_type": "stream",
     "text": [
      "C:\\Users\\Max\\AppData\\Local\\Temp\\ipykernel_12056\\2204506995.py:29: RuntimeWarning: overflow encountered in scalar subtract\n",
      "  elif((img[i,j,2]-img[i,j,1]) > 50):\n"
     ]
    },
    {
     "name": "stdout",
     "output_type": "stream",
     "text": [
      "Use voxel to estimate volume...\n",
      "D:/共用雲端硬碟/TVGH-Group/手術復發/TGcode/Output4/check_img/HCCN\\HCCN_phasevalue_補充.csv\n",
      "datafile_path: D:/共用雲端硬碟/TVGH-Group/手術復發/TGcode/Output4/check_img/HCCN\\ISD-0142\n",
      "ISD-0142\n"
     ]
    },
    {
     "name": "stderr",
     "output_type": "stream",
     "text": [
      "C:\\Users\\Max\\AppData\\Local\\Temp\\ipykernel_12056\\2204506995.py:29: RuntimeWarning: overflow encountered in scalar subtract\n",
      "  elif((img[i,j,2]-img[i,j,1]) > 50):\n"
     ]
    },
    {
     "name": "stdout",
     "output_type": "stream",
     "text": [
      "Use voxel to estimate volume...\n",
      "D:/共用雲端硬碟/TVGH-Group/手術復發/TGcode/Output4/check_img/HCCN\\HCCN_phasevalue_補充.csv\n",
      "datafile_path: D:/共用雲端硬碟/TVGH-Group/手術復發/TGcode/Output4/check_img/HCCN\\ISD-0143\n",
      "ISD-0143\n"
     ]
    },
    {
     "name": "stderr",
     "output_type": "stream",
     "text": [
      "C:\\Users\\Max\\AppData\\Local\\Temp\\ipykernel_12056\\2204506995.py:29: RuntimeWarning: overflow encountered in scalar subtract\n",
      "  elif((img[i,j,2]-img[i,j,1]) > 50):\n"
     ]
    },
    {
     "name": "stdout",
     "output_type": "stream",
     "text": [
      "Use voxel to estimate volume...\n",
      "D:/共用雲端硬碟/TVGH-Group/手術復發/TGcode/Output4/check_img/HCCN\\HCCN_phasevalue_補充.csv\n",
      "datafile_path: D:/共用雲端硬碟/TVGH-Group/手術復發/TGcode/Output4/check_img/HCCN\\ISD-0145\n",
      "ISD-0145\n"
     ]
    },
    {
     "name": "stderr",
     "output_type": "stream",
     "text": [
      "C:\\Users\\Max\\AppData\\Local\\Temp\\ipykernel_12056\\2204506995.py:29: RuntimeWarning: overflow encountered in scalar subtract\n",
      "  elif((img[i,j,2]-img[i,j,1]) > 50):\n"
     ]
    },
    {
     "name": "stdout",
     "output_type": "stream",
     "text": [
      "Use voxel to estimate volume...\n",
      "D:/共用雲端硬碟/TVGH-Group/手術復發/TGcode/Output4/check_img/HCCN\\HCCN_phasevalue_補充.csv\n",
      "datafile_path: D:/共用雲端硬碟/TVGH-Group/手術復發/TGcode/Output4/check_img/HCCN\\ISD-0150\n",
      "ISD-0150\n"
     ]
    },
    {
     "name": "stderr",
     "output_type": "stream",
     "text": [
      "C:\\Users\\Max\\AppData\\Local\\Temp\\ipykernel_12056\\2204506995.py:29: RuntimeWarning: overflow encountered in scalar subtract\n",
      "  elif((img[i,j,2]-img[i,j,1]) > 50):\n"
     ]
    },
    {
     "name": "stdout",
     "output_type": "stream",
     "text": [
      "Use voxel to estimate volume...\n",
      "D:/共用雲端硬碟/TVGH-Group/手術復發/TGcode/Output4/check_img/HCCN\\HCCN_phasevalue_補充.csv\n",
      "datafile_path: D:/共用雲端硬碟/TVGH-Group/手術復發/TGcode/Output4/check_img/HCCN\\ISD-0154\n",
      "ISD-0154\n"
     ]
    },
    {
     "name": "stderr",
     "output_type": "stream",
     "text": [
      "C:\\Users\\Max\\AppData\\Local\\Temp\\ipykernel_12056\\2204506995.py:29: RuntimeWarning: overflow encountered in scalar subtract\n",
      "  elif((img[i,j,2]-img[i,j,1]) > 50):\n"
     ]
    },
    {
     "name": "stdout",
     "output_type": "stream",
     "text": [
      "Use voxel to estimate volume...\n",
      "D:/共用雲端硬碟/TVGH-Group/手術復發/TGcode/Output4/check_img/HCCN\\HCCN_phasevalue_補充.csv\n",
      "datafile_path: D:/共用雲端硬碟/TVGH-Group/手術復發/TGcode/Output4/check_img/HCCN\\ISD-0167\n",
      "ISD-0167\n"
     ]
    },
    {
     "name": "stderr",
     "output_type": "stream",
     "text": [
      "C:\\Users\\Max\\AppData\\Local\\Temp\\ipykernel_12056\\2204506995.py:29: RuntimeWarning: overflow encountered in scalar subtract\n",
      "  elif((img[i,j,2]-img[i,j,1]) > 50):\n"
     ]
    },
    {
     "name": "stdout",
     "output_type": "stream",
     "text": [
      "Use voxel to estimate volume...\n",
      "D:/共用雲端硬碟/TVGH-Group/手術復發/TGcode/Output4/check_img/HCCN\\HCCN_phasevalue_補充.csv\n",
      "datafile_path: D:/共用雲端硬碟/TVGH-Group/手術復發/TGcode/Output4/check_img/HCCN\\ISD-0171\n",
      "ISD-0171\n"
     ]
    },
    {
     "name": "stderr",
     "output_type": "stream",
     "text": [
      "C:\\Users\\Max\\AppData\\Local\\Temp\\ipykernel_12056\\2204506995.py:29: RuntimeWarning: overflow encountered in scalar subtract\n",
      "  elif((img[i,j,2]-img[i,j,1]) > 50):\n"
     ]
    },
    {
     "name": "stdout",
     "output_type": "stream",
     "text": [
      "Use voxel to estimate volume...\n",
      "D:/共用雲端硬碟/TVGH-Group/手術復發/TGcode/Output4/check_img/HCCN\\HCCN_phasevalue_補充.csv\n",
      "datafile_path: D:/共用雲端硬碟/TVGH-Group/手術復發/TGcode/Output4/check_img/HCCN\\ISD-0174\n",
      "ISD-0174\n"
     ]
    },
    {
     "name": "stderr",
     "output_type": "stream",
     "text": [
      "C:\\Users\\Max\\AppData\\Local\\Temp\\ipykernel_12056\\2204506995.py:29: RuntimeWarning: overflow encountered in scalar subtract\n",
      "  elif((img[i,j,2]-img[i,j,1]) > 50):\n"
     ]
    },
    {
     "name": "stdout",
     "output_type": "stream",
     "text": [
      "Use voxel to estimate volume...\n",
      "D:/共用雲端硬碟/TVGH-Group/手術復發/TGcode/Output4/check_img/HCCN\\HCCN_phasevalue_補充.csv\n",
      "datafile_path: D:/共用雲端硬碟/TVGH-Group/手術復發/TGcode/Output4/check_img/HCCN\\ISD-0185\n",
      "ISD-0185\n"
     ]
    },
    {
     "name": "stderr",
     "output_type": "stream",
     "text": [
      "C:\\Users\\Max\\AppData\\Local\\Temp\\ipykernel_12056\\2204506995.py:29: RuntimeWarning: overflow encountered in scalar subtract\n",
      "  elif((img[i,j,2]-img[i,j,1]) > 50):\n"
     ]
    },
    {
     "name": "stdout",
     "output_type": "stream",
     "text": [
      "Use voxel to estimate volume...\n",
      "D:/共用雲端硬碟/TVGH-Group/手術復發/TGcode/Output4/check_img/HCCN\\HCCN_phasevalue_補充.csv\n",
      "datafile_path: D:/共用雲端硬碟/TVGH-Group/手術復發/TGcode/Output4/check_img/HCCN\\ISD-0195\n",
      "ISD-0195\n"
     ]
    },
    {
     "name": "stderr",
     "output_type": "stream",
     "text": [
      "C:\\Users\\Max\\AppData\\Local\\Temp\\ipykernel_12056\\2204506995.py:29: RuntimeWarning: overflow encountered in scalar subtract\n",
      "  elif((img[i,j,2]-img[i,j,1]) > 50):\n"
     ]
    },
    {
     "name": "stdout",
     "output_type": "stream",
     "text": [
      "Use voxel to estimate volume...\n",
      "D:/共用雲端硬碟/TVGH-Group/手術復發/TGcode/Output4/check_img/HCCN\\HCCN_phasevalue_補充.csv\n",
      "datafile_path: D:/共用雲端硬碟/TVGH-Group/手術復發/TGcode/Output4/check_img/HCCN\\ISD-0203\n",
      "ISD-0203\n"
     ]
    },
    {
     "name": "stderr",
     "output_type": "stream",
     "text": [
      "C:\\Users\\Max\\AppData\\Local\\Temp\\ipykernel_12056\\2204506995.py:29: RuntimeWarning: overflow encountered in scalar subtract\n",
      "  elif((img[i,j,2]-img[i,j,1]) > 50):\n"
     ]
    },
    {
     "name": "stdout",
     "output_type": "stream",
     "text": [
      "Use voxel to estimate volume...\n",
      "D:/共用雲端硬碟/TVGH-Group/手術復發/TGcode/Output4/check_img/HCCN\\HCCN_phasevalue_補充.csv\n",
      "datafile_path: D:/共用雲端硬碟/TVGH-Group/手術復發/TGcode/Output4/check_img/HCCN\\ISD-0207\n",
      "ISD-0207\n"
     ]
    },
    {
     "name": "stderr",
     "output_type": "stream",
     "text": [
      "C:\\Users\\Max\\AppData\\Local\\Temp\\ipykernel_12056\\2204506995.py:29: RuntimeWarning: overflow encountered in scalar subtract\n",
      "  elif((img[i,j,2]-img[i,j,1]) > 50):\n"
     ]
    },
    {
     "name": "stdout",
     "output_type": "stream",
     "text": [
      "Use voxel to estimate volume...\n",
      "D:/共用雲端硬碟/TVGH-Group/手術復發/TGcode/Output4/check_img/HCCN\\HCCN_phasevalue_補充.csv\n",
      "datafile_path: D:/共用雲端硬碟/TVGH-Group/手術復發/TGcode/Output4/check_img/HCCN\\ISD-0213\n",
      "ISD-0213\n"
     ]
    },
    {
     "name": "stderr",
     "output_type": "stream",
     "text": [
      "C:\\Users\\Max\\AppData\\Local\\Temp\\ipykernel_12056\\2204506995.py:29: RuntimeWarning: overflow encountered in scalar subtract\n",
      "  elif((img[i,j,2]-img[i,j,1]) > 50):\n"
     ]
    },
    {
     "name": "stdout",
     "output_type": "stream",
     "text": [
      "Use voxel to estimate volume...\n",
      "D:/共用雲端硬碟/TVGH-Group/手術復發/TGcode/Output4/check_img/HCCN\\HCCN_phasevalue_補充.csv\n",
      "datafile_path: D:/共用雲端硬碟/TVGH-Group/手術復發/TGcode/Output4/check_img/HCCN\\ISD-0216\n",
      "ISD-0216\n"
     ]
    },
    {
     "name": "stderr",
     "output_type": "stream",
     "text": [
      "C:\\Users\\Max\\AppData\\Local\\Temp\\ipykernel_12056\\2204506995.py:29: RuntimeWarning: overflow encountered in scalar subtract\n",
      "  elif((img[i,j,2]-img[i,j,1]) > 50):\n"
     ]
    },
    {
     "name": "stdout",
     "output_type": "stream",
     "text": [
      "Use voxel to estimate volume...\n",
      "D:/共用雲端硬碟/TVGH-Group/手術復發/TGcode/Output4/check_img/HCCN\\HCCN_phasevalue_補充.csv\n",
      "datafile_path: D:/共用雲端硬碟/TVGH-Group/手術復發/TGcode/Output4/check_img/HCCN\\ISD-0301\n",
      "ISD-0301\n"
     ]
    },
    {
     "name": "stderr",
     "output_type": "stream",
     "text": [
      "C:\\Users\\Max\\AppData\\Local\\Temp\\ipykernel_12056\\2204506995.py:29: RuntimeWarning: overflow encountered in scalar subtract\n",
      "  elif((img[i,j,2]-img[i,j,1]) > 50):\n"
     ]
    },
    {
     "name": "stdout",
     "output_type": "stream",
     "text": [
      "Use voxel to estimate volume...\n",
      "D:/共用雲端硬碟/TVGH-Group/手術復發/TGcode/Output4/check_img/HCCN\\HCCN_phasevalue_補充.csv\n",
      "datafile_path: D:/共用雲端硬碟/TVGH-Group/手術復發/TGcode/Output4/check_img/HCCN\\ISD-0302\n",
      "ISD-0302\n"
     ]
    },
    {
     "name": "stderr",
     "output_type": "stream",
     "text": [
      "C:\\Users\\Max\\AppData\\Local\\Temp\\ipykernel_12056\\2204506995.py:29: RuntimeWarning: overflow encountered in scalar subtract\n",
      "  elif((img[i,j,2]-img[i,j,1]) > 50):\n"
     ]
    },
    {
     "name": "stdout",
     "output_type": "stream",
     "text": [
      "Use voxel to estimate volume...\n",
      "D:/共用雲端硬碟/TVGH-Group/手術復發/TGcode/Output4/check_img/HCCN\\HCCN_phasevalue_補充.csv\n",
      "datafile_path: D:/共用雲端硬碟/TVGH-Group/手術復發/TGcode/Output4/check_img/HCCN\\ISD-0332\n",
      "ISD-0332\n"
     ]
    },
    {
     "name": "stderr",
     "output_type": "stream",
     "text": [
      "C:\\Users\\Max\\AppData\\Local\\Temp\\ipykernel_12056\\2204506995.py:29: RuntimeWarning: overflow encountered in scalar subtract\n",
      "  elif((img[i,j,2]-img[i,j,1]) > 50):\n"
     ]
    },
    {
     "name": "stdout",
     "output_type": "stream",
     "text": [
      "Use voxel to estimate volume...\n",
      "D:/共用雲端硬碟/TVGH-Group/手術復發/TGcode/Output4/check_img/HCCN\\HCCN_phasevalue_補充.csv\n",
      "datafile_path: D:/共用雲端硬碟/TVGH-Group/手術復發/TGcode/Output4/check_img/HCCN\\ISD-0333\n",
      "ISD-0333\n"
     ]
    },
    {
     "name": "stderr",
     "output_type": "stream",
     "text": [
      "C:\\Users\\Max\\AppData\\Local\\Temp\\ipykernel_12056\\2204506995.py:29: RuntimeWarning: overflow encountered in scalar subtract\n",
      "  elif((img[i,j,2]-img[i,j,1]) > 50):\n"
     ]
    },
    {
     "name": "stdout",
     "output_type": "stream",
     "text": [
      "Use voxel to estimate volume...\n",
      "D:/共用雲端硬碟/TVGH-Group/手術復發/TGcode/Output4/check_img/HCCN\\HCCN_phasevalue_補充.csv\n",
      "datafile_path: D:/共用雲端硬碟/TVGH-Group/手術復發/TGcode/Output4/check_img/HCCN\\ISD-0347\n",
      "ISD-0347\n"
     ]
    },
    {
     "name": "stderr",
     "output_type": "stream",
     "text": [
      "C:\\Users\\Max\\AppData\\Local\\Temp\\ipykernel_12056\\2204506995.py:29: RuntimeWarning: overflow encountered in scalar subtract\n",
      "  elif((img[i,j,2]-img[i,j,1]) > 50):\n"
     ]
    },
    {
     "name": "stdout",
     "output_type": "stream",
     "text": [
      "Use voxel to estimate volume...\n",
      "D:/共用雲端硬碟/TVGH-Group/手術復發/TGcode/Output4/check_img/HCCN\\HCCN_phasevalue_補充.csv\n",
      "datafile_path: D:/共用雲端硬碟/TVGH-Group/手術復發/TGcode/Output4/check_img/HCCN\\ISD-0335\n",
      "ISD-0335\n"
     ]
    },
    {
     "name": "stderr",
     "output_type": "stream",
     "text": [
      "C:\\Users\\Max\\AppData\\Local\\Temp\\ipykernel_12056\\2204506995.py:29: RuntimeWarning: overflow encountered in scalar subtract\n",
      "  elif((img[i,j,2]-img[i,j,1]) > 50):\n"
     ]
    },
    {
     "name": "stdout",
     "output_type": "stream",
     "text": [
      "Use voxel to estimate volume...\n",
      "D:/共用雲端硬碟/TVGH-Group/手術復發/TGcode/Output4/check_img/HCCN\\HCCN_phasevalue_補充.csv\n",
      "datafile_path: D:/共用雲端硬碟/TVGH-Group/手術復發/TGcode/Output4/check_img/HCCN\\ISD-0373\n",
      "ISD-0373\n"
     ]
    },
    {
     "name": "stderr",
     "output_type": "stream",
     "text": [
      "C:\\Users\\Max\\AppData\\Local\\Temp\\ipykernel_12056\\2204506995.py:29: RuntimeWarning: overflow encountered in scalar subtract\n",
      "  elif((img[i,j,2]-img[i,j,1]) > 50):\n"
     ]
    },
    {
     "name": "stdout",
     "output_type": "stream",
     "text": [
      "Use voxel to estimate volume...\n",
      "D:/共用雲端硬碟/TVGH-Group/手術復發/TGcode/Output4/check_img/HCCN\\HCCN_phasevalue_補充.csv\n",
      "datafile_path: D:/共用雲端硬碟/TVGH-Group/手術復發/TGcode/Output4/check_img/HCCN\\ISD-0377\n",
      "ISD-0377\n"
     ]
    },
    {
     "name": "stderr",
     "output_type": "stream",
     "text": [
      "C:\\Users\\Max\\AppData\\Local\\Temp\\ipykernel_12056\\2204506995.py:29: RuntimeWarning: overflow encountered in scalar subtract\n",
      "  elif((img[i,j,2]-img[i,j,1]) > 50):\n"
     ]
    },
    {
     "name": "stdout",
     "output_type": "stream",
     "text": [
      "Use voxel to estimate volume...\n",
      "D:/共用雲端硬碟/TVGH-Group/手術復發/TGcode/Output4/check_img/HCCN\\HCCN_phasevalue_補充.csv\n",
      "datafile_path: D:/共用雲端硬碟/TVGH-Group/手術復發/TGcode/Output4/check_img/HCCN\\ISD-0379\n",
      "ISD-0379\n"
     ]
    },
    {
     "name": "stderr",
     "output_type": "stream",
     "text": [
      "C:\\Users\\Max\\AppData\\Local\\Temp\\ipykernel_12056\\2204506995.py:29: RuntimeWarning: overflow encountered in scalar subtract\n",
      "  elif((img[i,j,2]-img[i,j,1]) > 50):\n"
     ]
    },
    {
     "name": "stdout",
     "output_type": "stream",
     "text": [
      "Use voxel to estimate volume...\n",
      "D:/共用雲端硬碟/TVGH-Group/手術復發/TGcode/Output4/check_img/HCCN\\HCCN_phasevalue_補充.csv\n",
      "datafile_path: D:/共用雲端硬碟/TVGH-Group/手術復發/TGcode/Output4/check_img/HCCN\\ISD-0386\n",
      "ISD-0386\n"
     ]
    },
    {
     "name": "stderr",
     "output_type": "stream",
     "text": [
      "C:\\Users\\Max\\AppData\\Local\\Temp\\ipykernel_12056\\2204506995.py:29: RuntimeWarning: overflow encountered in scalar subtract\n",
      "  elif((img[i,j,2]-img[i,j,1]) > 50):\n"
     ]
    },
    {
     "name": "stdout",
     "output_type": "stream",
     "text": [
      "Use voxel to estimate volume...\n",
      "D:/共用雲端硬碟/TVGH-Group/手術復發/TGcode/Output4/check_img/HCCN\\HCCN_phasevalue_補充.csv\n",
      "datafile_path: D:/共用雲端硬碟/TVGH-Group/手術復發/TGcode/Output4/check_img/HCCN\\ISD-0393\n",
      "ISD-0393\n"
     ]
    },
    {
     "name": "stderr",
     "output_type": "stream",
     "text": [
      "C:\\Users\\Max\\AppData\\Local\\Temp\\ipykernel_12056\\2204506995.py:29: RuntimeWarning: overflow encountered in scalar subtract\n",
      "  elif((img[i,j,2]-img[i,j,1]) > 50):\n"
     ]
    },
    {
     "name": "stdout",
     "output_type": "stream",
     "text": [
      "Use voxel to estimate volume...\n",
      "D:/共用雲端硬碟/TVGH-Group/手術復發/TGcode/Output4/check_img/HCCN\\HCCN_phasevalue_補充.csv\n",
      "datafile_path: D:/共用雲端硬碟/TVGH-Group/手術復發/TGcode/Output4/check_img/HCCN\\ISD-0394\n",
      "ISD-0394\n"
     ]
    },
    {
     "name": "stderr",
     "output_type": "stream",
     "text": [
      "C:\\Users\\Max\\AppData\\Local\\Temp\\ipykernel_12056\\2204506995.py:29: RuntimeWarning: overflow encountered in scalar subtract\n",
      "  elif((img[i,j,2]-img[i,j,1]) > 50):\n"
     ]
    },
    {
     "name": "stdout",
     "output_type": "stream",
     "text": [
      "Use voxel to estimate volume...\n",
      "D:/共用雲端硬碟/TVGH-Group/手術復發/TGcode/Output4/check_img/HCCN\\HCCN_phasevalue_補充.csv\n",
      "datafile_path: D:/共用雲端硬碟/TVGH-Group/手術復發/TGcode/Output4/check_img/HCCN\\ISD-0397\n",
      "ISD-0397\n"
     ]
    },
    {
     "name": "stderr",
     "output_type": "stream",
     "text": [
      "C:\\Users\\Max\\AppData\\Local\\Temp\\ipykernel_12056\\2204506995.py:29: RuntimeWarning: overflow encountered in scalar subtract\n",
      "  elif((img[i,j,2]-img[i,j,1]) > 50):\n"
     ]
    },
    {
     "name": "stdout",
     "output_type": "stream",
     "text": [
      "Use voxel to estimate volume...\n",
      "D:/共用雲端硬碟/TVGH-Group/手術復發/TGcode/Output4/check_img/HCCN\\HCCN_phasevalue_補充.csv\n",
      "datafile_path: D:/共用雲端硬碟/TVGH-Group/手術復發/TGcode/Output4/check_img/HCCN\\ISD-0398\n",
      "ISD-0398\n"
     ]
    },
    {
     "name": "stderr",
     "output_type": "stream",
     "text": [
      "C:\\Users\\Max\\AppData\\Local\\Temp\\ipykernel_12056\\2204506995.py:29: RuntimeWarning: overflow encountered in scalar subtract\n",
      "  elif((img[i,j,2]-img[i,j,1]) > 50):\n"
     ]
    },
    {
     "name": "stdout",
     "output_type": "stream",
     "text": [
      "Use voxel to estimate volume...\n",
      "D:/共用雲端硬碟/TVGH-Group/手術復發/TGcode/Output4/check_img/HCCN\\HCCN_phasevalue_補充.csv\n",
      "datafile_path: D:/共用雲端硬碟/TVGH-Group/手術復發/TGcode/Output4/check_img/HCCN\\ISD-0400\n",
      "ISD-0400\n"
     ]
    },
    {
     "name": "stderr",
     "output_type": "stream",
     "text": [
      "C:\\Users\\Max\\AppData\\Local\\Temp\\ipykernel_12056\\2204506995.py:29: RuntimeWarning: overflow encountered in scalar subtract\n",
      "  elif((img[i,j,2]-img[i,j,1]) > 50):\n"
     ]
    },
    {
     "name": "stdout",
     "output_type": "stream",
     "text": [
      "Use voxel to estimate volume...\n",
      "D:/共用雲端硬碟/TVGH-Group/手術復發/TGcode/Output4/check_img/HCCN\\HCCN_phasevalue_補充.csv\n",
      "datafile_path: D:/共用雲端硬碟/TVGH-Group/手術復發/TGcode/Output4/check_img/HCCN\\ISD-0404\n",
      "ISD-0404\n"
     ]
    },
    {
     "name": "stderr",
     "output_type": "stream",
     "text": [
      "C:\\Users\\Max\\AppData\\Local\\Temp\\ipykernel_12056\\2204506995.py:29: RuntimeWarning: overflow encountered in scalar subtract\n",
      "  elif((img[i,j,2]-img[i,j,1]) > 50):\n"
     ]
    },
    {
     "name": "stdout",
     "output_type": "stream",
     "text": [
      "Use voxel to estimate volume...\n",
      "D:/共用雲端硬碟/TVGH-Group/手術復發/TGcode/Output4/check_img/HCCN\\HCCN_phasevalue_補充.csv\n",
      "datafile_path: D:/共用雲端硬碟/TVGH-Group/手術復發/TGcode/Output4/check_img/HCCN\\ISD-0406\n",
      "ISD-0406\n"
     ]
    },
    {
     "name": "stderr",
     "output_type": "stream",
     "text": [
      "C:\\Users\\Max\\AppData\\Local\\Temp\\ipykernel_12056\\2204506995.py:29: RuntimeWarning: overflow encountered in scalar subtract\n",
      "  elif((img[i,j,2]-img[i,j,1]) > 50):\n"
     ]
    },
    {
     "name": "stdout",
     "output_type": "stream",
     "text": [
      "Use voxel to estimate volume...\n",
      "D:/共用雲端硬碟/TVGH-Group/手術復發/TGcode/Output4/check_img/HCCN\\HCCN_phasevalue_補充.csv\n",
      "datafile_path: D:/共用雲端硬碟/TVGH-Group/手術復發/TGcode/Output4/check_img/HCCN\\ISD-0410\n",
      "ISD-0410\n"
     ]
    },
    {
     "name": "stderr",
     "output_type": "stream",
     "text": [
      "C:\\Users\\Max\\AppData\\Local\\Temp\\ipykernel_12056\\2204506995.py:29: RuntimeWarning: overflow encountered in scalar subtract\n",
      "  elif((img[i,j,2]-img[i,j,1]) > 50):\n"
     ]
    },
    {
     "name": "stdout",
     "output_type": "stream",
     "text": [
      "Use voxel to estimate volume...\n",
      "D:/共用雲端硬碟/TVGH-Group/手術復發/TGcode/Output4/check_img/HCCN\\HCCN_phasevalue_補充.csv\n",
      "datafile_path: D:/共用雲端硬碟/TVGH-Group/手術復發/TGcode/Output4/check_img/HCCN\\ISD-0413\n",
      "ISD-0413\n"
     ]
    },
    {
     "name": "stderr",
     "output_type": "stream",
     "text": [
      "C:\\Users\\Max\\AppData\\Local\\Temp\\ipykernel_12056\\2204506995.py:29: RuntimeWarning: overflow encountered in scalar subtract\n",
      "  elif((img[i,j,2]-img[i,j,1]) > 50):\n"
     ]
    },
    {
     "name": "stdout",
     "output_type": "stream",
     "text": [
      "Use voxel to estimate volume...\n",
      "D:/共用雲端硬碟/TVGH-Group/手術復發/TGcode/Output4/check_img/HCCN\\HCCN_phasevalue_補充.csv\n",
      "datafile_path: D:/共用雲端硬碟/TVGH-Group/手術復發/TGcode/Output4/check_img/HCCN\\ISD-0414\n",
      "ISD-0414\n"
     ]
    },
    {
     "name": "stderr",
     "output_type": "stream",
     "text": [
      "C:\\Users\\Max\\AppData\\Local\\Temp\\ipykernel_12056\\2204506995.py:29: RuntimeWarning: overflow encountered in scalar subtract\n",
      "  elif((img[i,j,2]-img[i,j,1]) > 50):\n"
     ]
    },
    {
     "name": "stdout",
     "output_type": "stream",
     "text": [
      "Use voxel to estimate volume...\n",
      "D:/共用雲端硬碟/TVGH-Group/手術復發/TGcode/Output4/check_img/HCCN\\HCCN_phasevalue_補充.csv\n",
      "datafile_path: D:/共用雲端硬碟/TVGH-Group/手術復發/TGcode/Output4/check_img/HCCN\\ISD-0417\n",
      "ISD-0417\n"
     ]
    },
    {
     "name": "stderr",
     "output_type": "stream",
     "text": [
      "C:\\Users\\Max\\AppData\\Local\\Temp\\ipykernel_12056\\2204506995.py:29: RuntimeWarning: overflow encountered in scalar subtract\n",
      "  elif((img[i,j,2]-img[i,j,1]) > 50):\n"
     ]
    },
    {
     "name": "stdout",
     "output_type": "stream",
     "text": [
      "Use voxel to estimate volume...\n",
      "D:/共用雲端硬碟/TVGH-Group/手術復發/TGcode/Output4/check_img/HCCN\\HCCN_phasevalue_補充.csv\n",
      "datafile_path: D:/共用雲端硬碟/TVGH-Group/手術復發/TGcode/Output4/check_img/HCCN\\ISD-0418\n",
      "ISD-0418\n"
     ]
    },
    {
     "name": "stderr",
     "output_type": "stream",
     "text": [
      "C:\\Users\\Max\\AppData\\Local\\Temp\\ipykernel_12056\\2204506995.py:29: RuntimeWarning: overflow encountered in scalar subtract\n",
      "  elif((img[i,j,2]-img[i,j,1]) > 50):\n"
     ]
    },
    {
     "name": "stdout",
     "output_type": "stream",
     "text": [
      "Use voxel to estimate volume...\n",
      "D:/共用雲端硬碟/TVGH-Group/手術復發/TGcode/Output4/check_img/HCCN\\HCCN_phasevalue_補充.csv\n",
      "datafile_path: D:/共用雲端硬碟/TVGH-Group/手術復發/TGcode/Output4/check_img/HCCN\\ISD-0419\n",
      "ISD-0419\n"
     ]
    },
    {
     "name": "stderr",
     "output_type": "stream",
     "text": [
      "C:\\Users\\Max\\AppData\\Local\\Temp\\ipykernel_12056\\2204506995.py:29: RuntimeWarning: overflow encountered in scalar subtract\n",
      "  elif((img[i,j,2]-img[i,j,1]) > 50):\n"
     ]
    },
    {
     "name": "stdout",
     "output_type": "stream",
     "text": [
      "Use voxel to estimate volume...\n",
      "D:/共用雲端硬碟/TVGH-Group/手術復發/TGcode/Output4/check_img/HCCN\\HCCN_phasevalue_補充.csv\n",
      "datafile_path: D:/共用雲端硬碟/TVGH-Group/手術復發/TGcode/Output4/check_img/HCCN\\ISD-0421\n",
      "ISD-0421\n"
     ]
    },
    {
     "name": "stderr",
     "output_type": "stream",
     "text": [
      "C:\\Users\\Max\\AppData\\Local\\Temp\\ipykernel_12056\\2204506995.py:29: RuntimeWarning: overflow encountered in scalar subtract\n",
      "  elif((img[i,j,2]-img[i,j,1]) > 50):\n"
     ]
    },
    {
     "name": "stdout",
     "output_type": "stream",
     "text": [
      "Use voxel to estimate volume...\n",
      "D:/共用雲端硬碟/TVGH-Group/手術復發/TGcode/Output4/check_img/HCCN\\HCCN_phasevalue_補充.csv\n",
      "datafile_path: D:/共用雲端硬碟/TVGH-Group/手術復發/TGcode/Output4/check_img/HCCN\\ISD-0423\n",
      "ISD-0423\n"
     ]
    },
    {
     "name": "stderr",
     "output_type": "stream",
     "text": [
      "C:\\Users\\Max\\AppData\\Local\\Temp\\ipykernel_12056\\2204506995.py:29: RuntimeWarning: overflow encountered in scalar subtract\n",
      "  elif((img[i,j,2]-img[i,j,1]) > 50):\n"
     ]
    },
    {
     "name": "stdout",
     "output_type": "stream",
     "text": [
      "Use voxel to estimate volume...\n",
      "D:/共用雲端硬碟/TVGH-Group/手術復發/TGcode/Output4/check_img/HCCN\\HCCN_phasevalue_補充.csv\n",
      "datafile_path: D:/共用雲端硬碟/TVGH-Group/手術復發/TGcode/Output4/check_img/HCCN\\ISD-0425\n",
      "ISD-0425\n"
     ]
    },
    {
     "name": "stderr",
     "output_type": "stream",
     "text": [
      "C:\\Users\\Max\\AppData\\Local\\Temp\\ipykernel_12056\\2204506995.py:29: RuntimeWarning: overflow encountered in scalar subtract\n",
      "  elif((img[i,j,2]-img[i,j,1]) > 50):\n"
     ]
    },
    {
     "name": "stdout",
     "output_type": "stream",
     "text": [
      "Use voxel to estimate volume...\n",
      "D:/共用雲端硬碟/TVGH-Group/手術復發/TGcode/Output4/check_img/HCCN\\HCCN_phasevalue_補充.csv\n",
      "datafile_path: D:/共用雲端硬碟/TVGH-Group/手術復發/TGcode/Output4/check_img/HCCN\\ISD-0426\n",
      "ISD-0426\n"
     ]
    },
    {
     "name": "stderr",
     "output_type": "stream",
     "text": [
      "C:\\Users\\Max\\AppData\\Local\\Temp\\ipykernel_12056\\2204506995.py:29: RuntimeWarning: overflow encountered in scalar subtract\n",
      "  elif((img[i,j,2]-img[i,j,1]) > 50):\n"
     ]
    },
    {
     "name": "stdout",
     "output_type": "stream",
     "text": [
      "Use voxel to estimate volume...\n",
      "D:/共用雲端硬碟/TVGH-Group/手術復發/TGcode/Output4/check_img/HCCN\\HCCN_phasevalue_補充.csv\n",
      "datafile_path: D:/共用雲端硬碟/TVGH-Group/手術復發/TGcode/Output4/check_img/HCCN\\ISD-0432\n",
      "ISD-0432\n"
     ]
    },
    {
     "name": "stderr",
     "output_type": "stream",
     "text": [
      "C:\\Users\\Max\\AppData\\Local\\Temp\\ipykernel_12056\\2204506995.py:29: RuntimeWarning: overflow encountered in scalar subtract\n",
      "  elif((img[i,j,2]-img[i,j,1]) > 50):\n"
     ]
    },
    {
     "name": "stdout",
     "output_type": "stream",
     "text": [
      "Use voxel to estimate volume...\n",
      "D:/共用雲端硬碟/TVGH-Group/手術復發/TGcode/Output4/check_img/HCCN\\HCCN_phasevalue_補充.csv\n",
      "datafile_path: D:/共用雲端硬碟/TVGH-Group/手術復發/TGcode/Output4/check_img/HCCN\\ISD-0434\n",
      "ISD-0434\n"
     ]
    },
    {
     "name": "stderr",
     "output_type": "stream",
     "text": [
      "C:\\Users\\Max\\AppData\\Local\\Temp\\ipykernel_12056\\2204506995.py:29: RuntimeWarning: overflow encountered in scalar subtract\n",
      "  elif((img[i,j,2]-img[i,j,1]) > 50):\n"
     ]
    },
    {
     "name": "stdout",
     "output_type": "stream",
     "text": [
      "Use voxel to estimate volume...\n",
      "D:/共用雲端硬碟/TVGH-Group/手術復發/TGcode/Output4/check_img/HCCN\\HCCN_phasevalue_補充.csv\n",
      "datafile_path: D:/共用雲端硬碟/TVGH-Group/手術復發/TGcode/Output4/check_img/HCCN\\ISD-0435\n",
      "ISD-0435\n"
     ]
    },
    {
     "name": "stderr",
     "output_type": "stream",
     "text": [
      "C:\\Users\\Max\\AppData\\Local\\Temp\\ipykernel_12056\\2204506995.py:29: RuntimeWarning: overflow encountered in scalar subtract\n",
      "  elif((img[i,j,2]-img[i,j,1]) > 50):\n"
     ]
    },
    {
     "name": "stdout",
     "output_type": "stream",
     "text": [
      "Use voxel to estimate volume...\n",
      "D:/共用雲端硬碟/TVGH-Group/手術復發/TGcode/Output4/check_img/HCCN\\HCCN_phasevalue_補充.csv\n",
      "datafile_path: D:/共用雲端硬碟/TVGH-Group/手術復發/TGcode/Output4/check_img/HCCN\\ISD-0443\n",
      "ISD-0443\n"
     ]
    },
    {
     "name": "stderr",
     "output_type": "stream",
     "text": [
      "C:\\Users\\Max\\AppData\\Local\\Temp\\ipykernel_12056\\2204506995.py:29: RuntimeWarning: overflow encountered in scalar subtract\n",
      "  elif((img[i,j,2]-img[i,j,1]) > 50):\n"
     ]
    },
    {
     "name": "stdout",
     "output_type": "stream",
     "text": [
      "Use voxel to estimate volume...\n",
      "D:/共用雲端硬碟/TVGH-Group/手術復發/TGcode/Output4/check_img/HCCN\\HCCN_phasevalue_補充.csv\n",
      "datafile_path: D:/共用雲端硬碟/TVGH-Group/手術復發/TGcode/Output4/check_img/HCCN\\ISD-0444\n",
      "ISD-0444\n"
     ]
    },
    {
     "name": "stderr",
     "output_type": "stream",
     "text": [
      "C:\\Users\\Max\\AppData\\Local\\Temp\\ipykernel_12056\\2204506995.py:29: RuntimeWarning: overflow encountered in scalar subtract\n",
      "  elif((img[i,j,2]-img[i,j,1]) > 50):\n"
     ]
    },
    {
     "name": "stdout",
     "output_type": "stream",
     "text": [
      "Use voxel to estimate volume...\n",
      "D:/共用雲端硬碟/TVGH-Group/手術復發/TGcode/Output4/check_img/HCCN\\HCCN_phasevalue_補充.csv\n",
      "datafile_path: D:/共用雲端硬碟/TVGH-Group/手術復發/TGcode/Output4/check_img/HCCN\\ISD-0445\n",
      "ISD-0445\n"
     ]
    },
    {
     "name": "stderr",
     "output_type": "stream",
     "text": [
      "C:\\Users\\Max\\AppData\\Local\\Temp\\ipykernel_12056\\2204506995.py:29: RuntimeWarning: overflow encountered in scalar subtract\n",
      "  elif((img[i,j,2]-img[i,j,1]) > 50):\n"
     ]
    },
    {
     "name": "stdout",
     "output_type": "stream",
     "text": [
      "Use voxel to estimate volume...\n",
      "D:/共用雲端硬碟/TVGH-Group/手術復發/TGcode/Output4/check_img/HCCN\\HCCN_phasevalue_補充.csv\n",
      "datafile_path: D:/共用雲端硬碟/TVGH-Group/手術復發/TGcode/Output4/check_img/HCCN\\ISD-0449\n",
      "ISD-0449\n"
     ]
    },
    {
     "name": "stderr",
     "output_type": "stream",
     "text": [
      "C:\\Users\\Max\\AppData\\Local\\Temp\\ipykernel_12056\\2204506995.py:29: RuntimeWarning: overflow encountered in scalar subtract\n",
      "  elif((img[i,j,2]-img[i,j,1]) > 50):\n"
     ]
    },
    {
     "name": "stdout",
     "output_type": "stream",
     "text": [
      "Use voxel to estimate volume...\n",
      "D:/共用雲端硬碟/TVGH-Group/手術復發/TGcode/Output4/check_img/HCCN\\HCCN_phasevalue_補充.csv\n",
      "datafile_path: D:/共用雲端硬碟/TVGH-Group/手術復發/TGcode/Output4/check_img/HCCN\\ISD-0450\n",
      "ISD-0450\n"
     ]
    },
    {
     "name": "stderr",
     "output_type": "stream",
     "text": [
      "C:\\Users\\Max\\AppData\\Local\\Temp\\ipykernel_12056\\2204506995.py:29: RuntimeWarning: overflow encountered in scalar subtract\n",
      "  elif((img[i,j,2]-img[i,j,1]) > 50):\n"
     ]
    },
    {
     "name": "stdout",
     "output_type": "stream",
     "text": [
      "Use voxel to estimate volume...\n",
      "D:/共用雲端硬碟/TVGH-Group/手術復發/TGcode/Output4/check_img/HCCN\\HCCN_phasevalue_補充.csv\n",
      "datafile_path: D:/共用雲端硬碟/TVGH-Group/手術復發/TGcode/Output4/check_img/HCCN\\ISD-0454\n",
      "ISD-0454\n"
     ]
    },
    {
     "name": "stderr",
     "output_type": "stream",
     "text": [
      "C:\\Users\\Max\\AppData\\Local\\Temp\\ipykernel_12056\\2204506995.py:29: RuntimeWarning: overflow encountered in scalar subtract\n",
      "  elif((img[i,j,2]-img[i,j,1]) > 50):\n"
     ]
    },
    {
     "name": "stdout",
     "output_type": "stream",
     "text": [
      "Use voxel to estimate volume...\n",
      "D:/共用雲端硬碟/TVGH-Group/手術復發/TGcode/Output4/check_img/HCCN\\HCCN_phasevalue_補充.csv\n",
      "datafile_path: D:/共用雲端硬碟/TVGH-Group/手術復發/TGcode/Output4/check_img/HCCN\\ISD-0456\n",
      "ISD-0456\n"
     ]
    },
    {
     "name": "stderr",
     "output_type": "stream",
     "text": [
      "C:\\Users\\Max\\AppData\\Local\\Temp\\ipykernel_12056\\2204506995.py:29: RuntimeWarning: overflow encountered in scalar subtract\n",
      "  elif((img[i,j,2]-img[i,j,1]) > 50):\n"
     ]
    },
    {
     "name": "stdout",
     "output_type": "stream",
     "text": [
      "Use voxel to estimate volume...\n",
      "D:/共用雲端硬碟/TVGH-Group/手術復發/TGcode/Output4/check_img/HCCN\\HCCN_phasevalue_補充.csv\n",
      "datafile_path: D:/共用雲端硬碟/TVGH-Group/手術復發/TGcode/Output4/check_img/HCCN\\ISD-0489\n",
      "ISD-0489\n"
     ]
    },
    {
     "name": "stderr",
     "output_type": "stream",
     "text": [
      "C:\\Users\\Max\\AppData\\Local\\Temp\\ipykernel_12056\\2204506995.py:29: RuntimeWarning: overflow encountered in scalar subtract\n",
      "  elif((img[i,j,2]-img[i,j,1]) > 50):\n"
     ]
    },
    {
     "name": "stdout",
     "output_type": "stream",
     "text": [
      "Use voxel to estimate volume...\n",
      "D:/共用雲端硬碟/TVGH-Group/手術復發/TGcode/Output4/check_img/HCCN\\HCCN_phasevalue_補充.csv\n",
      "datafile_path: D:/共用雲端硬碟/TVGH-Group/手術復發/TGcode/Output4/check_img/HCCN\\ISD-0613\n",
      "ISD-0613\n"
     ]
    },
    {
     "name": "stderr",
     "output_type": "stream",
     "text": [
      "C:\\Users\\Max\\AppData\\Local\\Temp\\ipykernel_12056\\2204506995.py:29: RuntimeWarning: overflow encountered in scalar subtract\n",
      "  elif((img[i,j,2]-img[i,j,1]) > 50):\n"
     ]
    },
    {
     "name": "stdout",
     "output_type": "stream",
     "text": [
      "Use voxel to estimate volume...\n",
      "D:/共用雲端硬碟/TVGH-Group/手術復發/TGcode/Output4/check_img/HCCN\\HCCN_phasevalue_補充.csv\n",
      "datafile_path: D:/共用雲端硬碟/TVGH-Group/手術復發/TGcode/Output4/check_img/HCCN\\ISD-0557\n",
      "ISD-0557\n"
     ]
    },
    {
     "name": "stderr",
     "output_type": "stream",
     "text": [
      "C:\\Users\\Max\\AppData\\Local\\Temp\\ipykernel_12056\\2204506995.py:29: RuntimeWarning: overflow encountered in scalar subtract\n",
      "  elif((img[i,j,2]-img[i,j,1]) > 50):\n"
     ]
    },
    {
     "name": "stdout",
     "output_type": "stream",
     "text": [
      "Use voxel to estimate volume...\n",
      "D:/共用雲端硬碟/TVGH-Group/手術復發/TGcode/Output4/check_img/HCCN\\HCCN_phasevalue_補充.csv\n",
      "datafile_path: D:/共用雲端硬碟/TVGH-Group/手術復發/TGcode/Output4/check_img/HCCN\\ISD-0661\n",
      "ISD-0661\n"
     ]
    },
    {
     "name": "stderr",
     "output_type": "stream",
     "text": [
      "C:\\Users\\Max\\AppData\\Local\\Temp\\ipykernel_12056\\2204506995.py:29: RuntimeWarning: overflow encountered in scalar subtract\n",
      "  elif((img[i,j,2]-img[i,j,1]) > 50):\n"
     ]
    },
    {
     "name": "stdout",
     "output_type": "stream",
     "text": [
      "Use voxel to estimate volume...\n",
      "D:/共用雲端硬碟/TVGH-Group/手術復發/TGcode/Output4/check_img/HCCN\\HCCN_phasevalue_補充.csv\n",
      "datafile_path: D:/共用雲端硬碟/TVGH-Group/手術復發/TGcode/Output4/check_img/HCCN\\ISD-1009\n",
      "ISD-1009\n"
     ]
    },
    {
     "name": "stderr",
     "output_type": "stream",
     "text": [
      "C:\\Users\\Max\\AppData\\Local\\Temp\\ipykernel_12056\\2204506995.py:29: RuntimeWarning: overflow encountered in scalar subtract\n",
      "  elif((img[i,j,2]-img[i,j,1]) > 50):\n"
     ]
    },
    {
     "name": "stdout",
     "output_type": "stream",
     "text": [
      "Use voxel to estimate volume...\n",
      "D:/共用雲端硬碟/TVGH-Group/手術復發/TGcode/Output4/check_img/HCCN\\HCCN_phasevalue_補充.csv\n",
      "datafile_path: D:/共用雲端硬碟/TVGH-Group/手術復發/TGcode/Output4/check_img/HCCN\\ISD-1068\n",
      "ISD-1068\n"
     ]
    },
    {
     "name": "stderr",
     "output_type": "stream",
     "text": [
      "C:\\Users\\Max\\AppData\\Local\\Temp\\ipykernel_12056\\2204506995.py:29: RuntimeWarning: overflow encountered in scalar subtract\n",
      "  elif((img[i,j,2]-img[i,j,1]) > 50):\n"
     ]
    },
    {
     "name": "stdout",
     "output_type": "stream",
     "text": [
      "Use voxel to estimate volume...\n",
      "D:/共用雲端硬碟/TVGH-Group/手術復發/TGcode/Output4/check_img/HCCN\\HCCN_phasevalue_補充.csv\n",
      "datafile_path: D:/共用雲端硬碟/TVGH-Group/手術復發/TGcode/Output4/check_img/HCCN\\ISD-1082\n",
      "ISD-1082\n"
     ]
    },
    {
     "name": "stderr",
     "output_type": "stream",
     "text": [
      "C:\\Users\\Max\\AppData\\Local\\Temp\\ipykernel_12056\\2204506995.py:29: RuntimeWarning: overflow encountered in scalar subtract\n",
      "  elif((img[i,j,2]-img[i,j,1]) > 50):\n"
     ]
    },
    {
     "name": "stdout",
     "output_type": "stream",
     "text": [
      "Use voxel to estimate volume...\n",
      "D:/共用雲端硬碟/TVGH-Group/手術復發/TGcode/Output4/check_img/HCCN\\HCCN_phasevalue_補充.csv\n",
      "datafile_path: D:/共用雲端硬碟/TVGH-Group/手術復發/TGcode/Output4/check_img/HCCN\\ISD-1120\n",
      "ISD-1120\n"
     ]
    },
    {
     "name": "stderr",
     "output_type": "stream",
     "text": [
      "C:\\Users\\Max\\AppData\\Local\\Temp\\ipykernel_12056\\2204506995.py:29: RuntimeWarning: overflow encountered in scalar subtract\n",
      "  elif((img[i,j,2]-img[i,j,1]) > 50):\n"
     ]
    },
    {
     "name": "stdout",
     "output_type": "stream",
     "text": [
      "Use voxel to estimate volume...\n",
      "D:/共用雲端硬碟/TVGH-Group/手術復發/TGcode/Output4/check_img/HCCN\\HCCN_phasevalue_補充.csv\n",
      "subfolder_path: D:/共用雲端硬碟/TVGH-Group/手術復發/TGcode/Output4/check_img/HCCP\n",
      "datafile_path: D:/共用雲端硬碟/TVGH-Group/手術復發/TGcode/Output4/check_img/HCCP\\ISD-0001\n",
      "ISD-0001\n"
     ]
    },
    {
     "name": "stderr",
     "output_type": "stream",
     "text": [
      "C:\\Users\\Max\\AppData\\Local\\Temp\\ipykernel_12056\\2204506995.py:29: RuntimeWarning: overflow encountered in scalar subtract\n",
      "  elif((img[i,j,2]-img[i,j,1]) > 50):\n"
     ]
    },
    {
     "name": "stdout",
     "output_type": "stream",
     "text": [
      "Use voxel to estimate volume...\n",
      "D:/共用雲端硬碟/TVGH-Group/手術復發/TGcode/Output4/check_img/HCCP\\HCCP_phasevalue_補充.csv\n",
      "datafile_path: D:/共用雲端硬碟/TVGH-Group/手術復發/TGcode/Output4/check_img/HCCP\\ISD-0348\n",
      "ISD-0348\n"
     ]
    },
    {
     "name": "stderr",
     "output_type": "stream",
     "text": [
      "C:\\Users\\Max\\AppData\\Local\\Temp\\ipykernel_12056\\2204506995.py:29: RuntimeWarning: overflow encountered in scalar subtract\n",
      "  elif((img[i,j,2]-img[i,j,1]) > 50):\n"
     ]
    },
    {
     "name": "stdout",
     "output_type": "stream",
     "text": [
      "Use voxel to estimate volume...\n",
      "D:/共用雲端硬碟/TVGH-Group/手術復發/TGcode/Output4/check_img/HCCP\\HCCP_phasevalue_補充.csv\n",
      "datafile_path: D:/共用雲端硬碟/TVGH-Group/手術復發/TGcode/Output4/check_img/HCCP\\ISD-0658\n",
      "ISD-0658\n"
     ]
    },
    {
     "name": "stderr",
     "output_type": "stream",
     "text": [
      "C:\\Users\\Max\\AppData\\Local\\Temp\\ipykernel_12056\\2204506995.py:29: RuntimeWarning: overflow encountered in scalar subtract\n",
      "  elif((img[i,j,2]-img[i,j,1]) > 50):\n"
     ]
    },
    {
     "name": "stdout",
     "output_type": "stream",
     "text": [
      "Use voxel to estimate volume...\n",
      "D:/共用雲端硬碟/TVGH-Group/手術復發/TGcode/Output4/check_img/HCCP\\HCCP_phasevalue_補充.csv\n",
      "datafile_path: D:/共用雲端硬碟/TVGH-Group/手術復發/TGcode/Output4/check_img/HCCP\\ISD-1011\n",
      "ISD-1011\n"
     ]
    },
    {
     "name": "stderr",
     "output_type": "stream",
     "text": [
      "C:\\Users\\Max\\AppData\\Local\\Temp\\ipykernel_12056\\2204506995.py:29: RuntimeWarning: overflow encountered in scalar subtract\n",
      "  elif((img[i,j,2]-img[i,j,1]) > 50):\n"
     ]
    },
    {
     "name": "stdout",
     "output_type": "stream",
     "text": [
      "Use voxel to estimate volume...\n",
      "D:/共用雲端硬碟/TVGH-Group/手術復發/TGcode/Output4/check_img/HCCP\\HCCP_phasevalue_補充.csv\n",
      "datafile_path: D:/共用雲端硬碟/TVGH-Group/手術復發/TGcode/Output4/check_img/HCCP\\ISD-1108\n",
      "ISD-1108\n"
     ]
    },
    {
     "name": "stderr",
     "output_type": "stream",
     "text": [
      "C:\\Users\\Max\\AppData\\Local\\Temp\\ipykernel_12056\\2204506995.py:29: RuntimeWarning: overflow encountered in scalar subtract\n",
      "  elif((img[i,j,2]-img[i,j,1]) > 50):\n"
     ]
    },
    {
     "name": "stdout",
     "output_type": "stream",
     "text": [
      "Use voxel to estimate volume...\n",
      "D:/共用雲端硬碟/TVGH-Group/手術復發/TGcode/Output4/check_img/HCCP\\HCCP_phasevalue_補充.csv\n",
      "datafile_path: D:/共用雲端硬碟/TVGH-Group/手術復發/TGcode/Output4/check_img/HCCP\\ISD-1112\n",
      "ISD-1112\n"
     ]
    },
    {
     "name": "stderr",
     "output_type": "stream",
     "text": [
      "C:\\Users\\Max\\AppData\\Local\\Temp\\ipykernel_12056\\2204506995.py:29: RuntimeWarning: overflow encountered in scalar subtract\n",
      "  elif((img[i,j,2]-img[i,j,1]) > 50):\n"
     ]
    },
    {
     "name": "stdout",
     "output_type": "stream",
     "text": [
      "Use voxel to estimate volume...\n",
      "D:/共用雲端硬碟/TVGH-Group/手術復發/TGcode/Output4/check_img/HCCP\\HCCP_phasevalue_補充.csv\n",
      "datafile_path: D:/共用雲端硬碟/TVGH-Group/手術復發/TGcode/Output4/check_img/HCCP\\ISD-1136\n",
      "ISD-1136\n"
     ]
    },
    {
     "name": "stderr",
     "output_type": "stream",
     "text": [
      "C:\\Users\\Max\\AppData\\Local\\Temp\\ipykernel_12056\\2204506995.py:29: RuntimeWarning: overflow encountered in scalar subtract\n",
      "  elif((img[i,j,2]-img[i,j,1]) > 50):\n"
     ]
    },
    {
     "name": "stdout",
     "output_type": "stream",
     "text": [
      "Use voxel to estimate volume...\n",
      "D:/共用雲端硬碟/TVGH-Group/手術復發/TGcode/Output4/check_img/HCCP\\HCCP_phasevalue_補充.csv\n",
      "datafile_path: D:/共用雲端硬碟/TVGH-Group/手術復發/TGcode/Output4/check_img/HCCP\\ISD-1133\n",
      "ISD-1133\n"
     ]
    },
    {
     "name": "stderr",
     "output_type": "stream",
     "text": [
      "C:\\Users\\Max\\AppData\\Local\\Temp\\ipykernel_12056\\2204506995.py:29: RuntimeWarning: overflow encountered in scalar subtract\n",
      "  elif((img[i,j,2]-img[i,j,1]) > 50):\n"
     ]
    },
    {
     "name": "stdout",
     "output_type": "stream",
     "text": [
      "Use voxel to estimate volume...\n",
      "D:/共用雲端硬碟/TVGH-Group/手術復發/TGcode/Output4/check_img/HCCP\\HCCP_phasevalue_補充.csv\n",
      "datafile_path: D:/共用雲端硬碟/TVGH-Group/手術復發/TGcode/Output4/check_img/HCCP\\ISD-0004\n",
      "ISD-0004\n"
     ]
    },
    {
     "name": "stderr",
     "output_type": "stream",
     "text": [
      "C:\\Users\\Max\\AppData\\Local\\Temp\\ipykernel_12056\\2204506995.py:29: RuntimeWarning: overflow encountered in scalar subtract\n",
      "  elif((img[i,j,2]-img[i,j,1]) > 50):\n"
     ]
    },
    {
     "name": "stdout",
     "output_type": "stream",
     "text": [
      "Use voxel to estimate volume...\n",
      "D:/共用雲端硬碟/TVGH-Group/手術復發/TGcode/Output4/check_img/HCCP\\HCCP_phasevalue_補充.csv\n",
      "datafile_path: D:/共用雲端硬碟/TVGH-Group/手術復發/TGcode/Output4/check_img/HCCP\\ISD-0003\n",
      "ISD-0003\n"
     ]
    },
    {
     "name": "stderr",
     "output_type": "stream",
     "text": [
      "C:\\Users\\Max\\AppData\\Local\\Temp\\ipykernel_12056\\2204506995.py:29: RuntimeWarning: overflow encountered in scalar subtract\n",
      "  elif((img[i,j,2]-img[i,j,1]) > 50):\n"
     ]
    },
    {
     "name": "stdout",
     "output_type": "stream",
     "text": [
      "Use voxel to estimate volume...\n",
      "D:/共用雲端硬碟/TVGH-Group/手術復發/TGcode/Output4/check_img/HCCP\\HCCP_phasevalue_補充.csv\n",
      "datafile_path: D:/共用雲端硬碟/TVGH-Group/手術復發/TGcode/Output4/check_img/HCCP\\ISD-0075\n",
      "ISD-0075\n"
     ]
    },
    {
     "name": "stderr",
     "output_type": "stream",
     "text": [
      "C:\\Users\\Max\\AppData\\Local\\Temp\\ipykernel_12056\\2204506995.py:29: RuntimeWarning: overflow encountered in scalar subtract\n",
      "  elif((img[i,j,2]-img[i,j,1]) > 50):\n"
     ]
    },
    {
     "name": "stdout",
     "output_type": "stream",
     "text": [
      "Use voxel to estimate volume...\n",
      "D:/共用雲端硬碟/TVGH-Group/手術復發/TGcode/Output4/check_img/HCCP\\HCCP_phasevalue_補充.csv\n",
      "datafile_path: D:/共用雲端硬碟/TVGH-Group/手術復發/TGcode/Output4/check_img/HCCP\\ISD-0079\n",
      "ISD-0079\n"
     ]
    },
    {
     "name": "stderr",
     "output_type": "stream",
     "text": [
      "C:\\Users\\Max\\AppData\\Local\\Temp\\ipykernel_12056\\2204506995.py:29: RuntimeWarning: overflow encountered in scalar subtract\n",
      "  elif((img[i,j,2]-img[i,j,1]) > 50):\n"
     ]
    },
    {
     "name": "stdout",
     "output_type": "stream",
     "text": [
      "Use voxel to estimate volume...\n",
      "D:/共用雲端硬碟/TVGH-Group/手術復發/TGcode/Output4/check_img/HCCP\\HCCP_phasevalue_補充.csv\n",
      "datafile_path: D:/共用雲端硬碟/TVGH-Group/手術復發/TGcode/Output4/check_img/HCCP\\ISD-0078\n",
      "ISD-0078\n"
     ]
    },
    {
     "name": "stderr",
     "output_type": "stream",
     "text": [
      "C:\\Users\\Max\\AppData\\Local\\Temp\\ipykernel_12056\\2204506995.py:29: RuntimeWarning: overflow encountered in scalar subtract\n",
      "  elif((img[i,j,2]-img[i,j,1]) > 50):\n"
     ]
    },
    {
     "name": "stdout",
     "output_type": "stream",
     "text": [
      "Use voxel to estimate volume...\n",
      "D:/共用雲端硬碟/TVGH-Group/手術復發/TGcode/Output4/check_img/HCCP\\HCCP_phasevalue_補充.csv\n",
      "datafile_path: D:/共用雲端硬碟/TVGH-Group/手術復發/TGcode/Output4/check_img/HCCP\\ISD-0081\n",
      "ISD-0081\n"
     ]
    },
    {
     "name": "stderr",
     "output_type": "stream",
     "text": [
      "C:\\Users\\Max\\AppData\\Local\\Temp\\ipykernel_12056\\2204506995.py:29: RuntimeWarning: overflow encountered in scalar subtract\n",
      "  elif((img[i,j,2]-img[i,j,1]) > 50):\n"
     ]
    },
    {
     "name": "stdout",
     "output_type": "stream",
     "text": [
      "Use voxel to estimate volume...\n",
      "D:/共用雲端硬碟/TVGH-Group/手術復發/TGcode/Output4/check_img/HCCP\\HCCP_phasevalue_補充.csv\n",
      "datafile_path: D:/共用雲端硬碟/TVGH-Group/手術復發/TGcode/Output4/check_img/HCCP\\ISD-0082\n",
      "ISD-0082\n"
     ]
    },
    {
     "name": "stderr",
     "output_type": "stream",
     "text": [
      "C:\\Users\\Max\\AppData\\Local\\Temp\\ipykernel_12056\\2204506995.py:29: RuntimeWarning: overflow encountered in scalar subtract\n",
      "  elif((img[i,j,2]-img[i,j,1]) > 50):\n"
     ]
    },
    {
     "name": "stdout",
     "output_type": "stream",
     "text": [
      "Use voxel to estimate volume...\n",
      "D:/共用雲端硬碟/TVGH-Group/手術復發/TGcode/Output4/check_img/HCCP\\HCCP_phasevalue_補充.csv\n",
      "datafile_path: D:/共用雲端硬碟/TVGH-Group/手術復發/TGcode/Output4/check_img/HCCP\\ISD-0084\n",
      "ISD-0084\n"
     ]
    },
    {
     "name": "stderr",
     "output_type": "stream",
     "text": [
      "C:\\Users\\Max\\AppData\\Local\\Temp\\ipykernel_12056\\2204506995.py:29: RuntimeWarning: overflow encountered in scalar subtract\n",
      "  elif((img[i,j,2]-img[i,j,1]) > 50):\n"
     ]
    },
    {
     "name": "stdout",
     "output_type": "stream",
     "text": [
      "Use voxel to estimate volume...\n",
      "D:/共用雲端硬碟/TVGH-Group/手術復發/TGcode/Output4/check_img/HCCP\\HCCP_phasevalue_補充.csv\n",
      "datafile_path: D:/共用雲端硬碟/TVGH-Group/手術復發/TGcode/Output4/check_img/HCCP\\ISD-0086\n",
      "ISD-0086\n"
     ]
    },
    {
     "name": "stderr",
     "output_type": "stream",
     "text": [
      "C:\\Users\\Max\\AppData\\Local\\Temp\\ipykernel_12056\\2204506995.py:29: RuntimeWarning: overflow encountered in scalar subtract\n",
      "  elif((img[i,j,2]-img[i,j,1]) > 50):\n"
     ]
    },
    {
     "name": "stdout",
     "output_type": "stream",
     "text": [
      "Use voxel to estimate volume...\n",
      "D:/共用雲端硬碟/TVGH-Group/手術復發/TGcode/Output4/check_img/HCCP\\HCCP_phasevalue_補充.csv\n",
      "datafile_path: D:/共用雲端硬碟/TVGH-Group/手術復發/TGcode/Output4/check_img/HCCP\\ISD-0085\n",
      "ISD-0085\n"
     ]
    },
    {
     "name": "stderr",
     "output_type": "stream",
     "text": [
      "C:\\Users\\Max\\AppData\\Local\\Temp\\ipykernel_12056\\2204506995.py:29: RuntimeWarning: overflow encountered in scalar subtract\n",
      "  elif((img[i,j,2]-img[i,j,1]) > 50):\n"
     ]
    },
    {
     "name": "stdout",
     "output_type": "stream",
     "text": [
      "Use voxel to estimate volume...\n",
      "D:/共用雲端硬碟/TVGH-Group/手術復發/TGcode/Output4/check_img/HCCP\\HCCP_phasevalue_補充.csv\n",
      "datafile_path: D:/共用雲端硬碟/TVGH-Group/手術復發/TGcode/Output4/check_img/HCCP\\ISD-0087\n",
      "ISD-0087\n"
     ]
    },
    {
     "name": "stderr",
     "output_type": "stream",
     "text": [
      "C:\\Users\\Max\\AppData\\Local\\Temp\\ipykernel_12056\\2204506995.py:29: RuntimeWarning: overflow encountered in scalar subtract\n",
      "  elif((img[i,j,2]-img[i,j,1]) > 50):\n"
     ]
    },
    {
     "name": "stdout",
     "output_type": "stream",
     "text": [
      "Use voxel to estimate volume...\n",
      "D:/共用雲端硬碟/TVGH-Group/手術復發/TGcode/Output4/check_img/HCCP\\HCCP_phasevalue_補充.csv\n",
      "datafile_path: D:/共用雲端硬碟/TVGH-Group/手術復發/TGcode/Output4/check_img/HCCP\\ISD-0090\n",
      "ISD-0090\n"
     ]
    },
    {
     "name": "stderr",
     "output_type": "stream",
     "text": [
      "C:\\Users\\Max\\AppData\\Local\\Temp\\ipykernel_12056\\2204506995.py:29: RuntimeWarning: overflow encountered in scalar subtract\n",
      "  elif((img[i,j,2]-img[i,j,1]) > 50):\n"
     ]
    },
    {
     "name": "stdout",
     "output_type": "stream",
     "text": [
      "Use voxel to estimate volume...\n",
      "D:/共用雲端硬碟/TVGH-Group/手術復發/TGcode/Output4/check_img/HCCP\\HCCP_phasevalue_補充.csv\n",
      "datafile_path: D:/共用雲端硬碟/TVGH-Group/手術復發/TGcode/Output4/check_img/HCCP\\ISD-0105\n",
      "ISD-0105\n"
     ]
    },
    {
     "name": "stderr",
     "output_type": "stream",
     "text": [
      "C:\\Users\\Max\\AppData\\Local\\Temp\\ipykernel_12056\\2204506995.py:29: RuntimeWarning: overflow encountered in scalar subtract\n",
      "  elif((img[i,j,2]-img[i,j,1]) > 50):\n"
     ]
    },
    {
     "name": "stdout",
     "output_type": "stream",
     "text": [
      "Use voxel to estimate volume...\n",
      "D:/共用雲端硬碟/TVGH-Group/手術復發/TGcode/Output4/check_img/HCCP\\HCCP_phasevalue_補充.csv\n",
      "datafile_path: D:/共用雲端硬碟/TVGH-Group/手術復發/TGcode/Output4/check_img/HCCP\\ISD-0110\n",
      "ISD-0110\n"
     ]
    },
    {
     "name": "stderr",
     "output_type": "stream",
     "text": [
      "C:\\Users\\Max\\AppData\\Local\\Temp\\ipykernel_12056\\2204506995.py:29: RuntimeWarning: overflow encountered in scalar subtract\n",
      "  elif((img[i,j,2]-img[i,j,1]) > 50):\n"
     ]
    },
    {
     "name": "stdout",
     "output_type": "stream",
     "text": [
      "Use voxel to estimate volume...\n",
      "D:/共用雲端硬碟/TVGH-Group/手術復發/TGcode/Output4/check_img/HCCP\\HCCP_phasevalue_補充.csv\n",
      "datafile_path: D:/共用雲端硬碟/TVGH-Group/手術復發/TGcode/Output4/check_img/HCCP\\ISD-0115\n",
      "ISD-0115\n"
     ]
    },
    {
     "name": "stderr",
     "output_type": "stream",
     "text": [
      "C:\\Users\\Max\\AppData\\Local\\Temp\\ipykernel_12056\\2204506995.py:29: RuntimeWarning: overflow encountered in scalar subtract\n",
      "  elif((img[i,j,2]-img[i,j,1]) > 50):\n"
     ]
    },
    {
     "name": "stdout",
     "output_type": "stream",
     "text": [
      "Use voxel to estimate volume...\n",
      "D:/共用雲端硬碟/TVGH-Group/手術復發/TGcode/Output4/check_img/HCCP\\HCCP_phasevalue_補充.csv\n",
      "datafile_path: D:/共用雲端硬碟/TVGH-Group/手術復發/TGcode/Output4/check_img/HCCP\\ISD-0116\n",
      "ISD-0116\n"
     ]
    },
    {
     "name": "stderr",
     "output_type": "stream",
     "text": [
      "C:\\Users\\Max\\AppData\\Local\\Temp\\ipykernel_12056\\2204506995.py:29: RuntimeWarning: overflow encountered in scalar subtract\n",
      "  elif((img[i,j,2]-img[i,j,1]) > 50):\n"
     ]
    },
    {
     "name": "stdout",
     "output_type": "stream",
     "text": [
      "Use voxel to estimate volume...\n",
      "D:/共用雲端硬碟/TVGH-Group/手術復發/TGcode/Output4/check_img/HCCP\\HCCP_phasevalue_補充.csv\n",
      "datafile_path: D:/共用雲端硬碟/TVGH-Group/手術復發/TGcode/Output4/check_img/HCCP\\ISD-0118\n",
      "ISD-0118\n"
     ]
    },
    {
     "name": "stderr",
     "output_type": "stream",
     "text": [
      "C:\\Users\\Max\\AppData\\Local\\Temp\\ipykernel_12056\\2204506995.py:29: RuntimeWarning: overflow encountered in scalar subtract\n",
      "  elif((img[i,j,2]-img[i,j,1]) > 50):\n"
     ]
    },
    {
     "name": "stdout",
     "output_type": "stream",
     "text": [
      "Use voxel to estimate volume...\n",
      "D:/共用雲端硬碟/TVGH-Group/手術復發/TGcode/Output4/check_img/HCCP\\HCCP_phasevalue_補充.csv\n",
      "datafile_path: D:/共用雲端硬碟/TVGH-Group/手術復發/TGcode/Output4/check_img/HCCP\\ISD-0119\n",
      "ISD-0119\n"
     ]
    },
    {
     "name": "stderr",
     "output_type": "stream",
     "text": [
      "C:\\Users\\Max\\AppData\\Local\\Temp\\ipykernel_12056\\2204506995.py:29: RuntimeWarning: overflow encountered in scalar subtract\n",
      "  elif((img[i,j,2]-img[i,j,1]) > 50):\n"
     ]
    },
    {
     "name": "stdout",
     "output_type": "stream",
     "text": [
      "Use voxel to estimate volume...\n",
      "D:/共用雲端硬碟/TVGH-Group/手術復發/TGcode/Output4/check_img/HCCP\\HCCP_phasevalue_補充.csv\n",
      "datafile_path: D:/共用雲端硬碟/TVGH-Group/手術復發/TGcode/Output4/check_img/HCCP\\ISD-0120\n",
      "ISD-0120\n"
     ]
    },
    {
     "name": "stderr",
     "output_type": "stream",
     "text": [
      "C:\\Users\\Max\\AppData\\Local\\Temp\\ipykernel_12056\\2204506995.py:29: RuntimeWarning: overflow encountered in scalar subtract\n",
      "  elif((img[i,j,2]-img[i,j,1]) > 50):\n"
     ]
    },
    {
     "name": "stdout",
     "output_type": "stream",
     "text": [
      "Use voxel to estimate volume...\n",
      "D:/共用雲端硬碟/TVGH-Group/手術復發/TGcode/Output4/check_img/HCCP\\HCCP_phasevalue_補充.csv\n",
      "datafile_path: D:/共用雲端硬碟/TVGH-Group/手術復發/TGcode/Output4/check_img/HCCP\\ISD-0128\n",
      "ISD-0128\n"
     ]
    },
    {
     "name": "stderr",
     "output_type": "stream",
     "text": [
      "C:\\Users\\Max\\AppData\\Local\\Temp\\ipykernel_12056\\2204506995.py:29: RuntimeWarning: overflow encountered in scalar subtract\n",
      "  elif((img[i,j,2]-img[i,j,1]) > 50):\n"
     ]
    },
    {
     "name": "stdout",
     "output_type": "stream",
     "text": [
      "Use voxel to estimate volume...\n",
      "D:/共用雲端硬碟/TVGH-Group/手術復發/TGcode/Output4/check_img/HCCP\\HCCP_phasevalue_補充.csv\n",
      "datafile_path: D:/共用雲端硬碟/TVGH-Group/手術復發/TGcode/Output4/check_img/HCCP\\ISD-0126\n",
      "ISD-0126\n"
     ]
    },
    {
     "name": "stderr",
     "output_type": "stream",
     "text": [
      "C:\\Users\\Max\\AppData\\Local\\Temp\\ipykernel_12056\\2204506995.py:29: RuntimeWarning: overflow encountered in scalar subtract\n",
      "  elif((img[i,j,2]-img[i,j,1]) > 50):\n"
     ]
    },
    {
     "name": "stdout",
     "output_type": "stream",
     "text": [
      "Use voxel to estimate volume...\n",
      "D:/共用雲端硬碟/TVGH-Group/手術復發/TGcode/Output4/check_img/HCCP\\HCCP_phasevalue_補充.csv\n",
      "datafile_path: D:/共用雲端硬碟/TVGH-Group/手術復發/TGcode/Output4/check_img/HCCP\\ISD-0130\n",
      "ISD-0130\n"
     ]
    },
    {
     "name": "stderr",
     "output_type": "stream",
     "text": [
      "C:\\Users\\Max\\AppData\\Local\\Temp\\ipykernel_12056\\2204506995.py:29: RuntimeWarning: overflow encountered in scalar subtract\n",
      "  elif((img[i,j,2]-img[i,j,1]) > 50):\n"
     ]
    },
    {
     "name": "stdout",
     "output_type": "stream",
     "text": [
      "Use voxel to estimate volume...\n",
      "D:/共用雲端硬碟/TVGH-Group/手術復發/TGcode/Output4/check_img/HCCP\\HCCP_phasevalue_補充.csv\n",
      "datafile_path: D:/共用雲端硬碟/TVGH-Group/手術復發/TGcode/Output4/check_img/HCCP\\ISD-0136\n",
      "ISD-0136\n"
     ]
    },
    {
     "name": "stderr",
     "output_type": "stream",
     "text": [
      "C:\\Users\\Max\\AppData\\Local\\Temp\\ipykernel_12056\\2204506995.py:29: RuntimeWarning: overflow encountered in scalar subtract\n",
      "  elif((img[i,j,2]-img[i,j,1]) > 50):\n"
     ]
    },
    {
     "name": "stdout",
     "output_type": "stream",
     "text": [
      "Use voxel to estimate volume...\n",
      "D:/共用雲端硬碟/TVGH-Group/手術復發/TGcode/Output4/check_img/HCCP\\HCCP_phasevalue_補充.csv\n",
      "datafile_path: D:/共用雲端硬碟/TVGH-Group/手術復發/TGcode/Output4/check_img/HCCP\\ISD-0138\n",
      "ISD-0138\n"
     ]
    },
    {
     "name": "stderr",
     "output_type": "stream",
     "text": [
      "C:\\Users\\Max\\AppData\\Local\\Temp\\ipykernel_12056\\2204506995.py:29: RuntimeWarning: overflow encountered in scalar subtract\n",
      "  elif((img[i,j,2]-img[i,j,1]) > 50):\n"
     ]
    },
    {
     "name": "stdout",
     "output_type": "stream",
     "text": [
      "Use voxel to estimate volume...\n",
      "D:/共用雲端硬碟/TVGH-Group/手術復發/TGcode/Output4/check_img/HCCP\\HCCP_phasevalue_補充.csv\n",
      "datafile_path: D:/共用雲端硬碟/TVGH-Group/手術復發/TGcode/Output4/check_img/HCCP\\ISD-0142\n",
      "ISD-0142\n"
     ]
    },
    {
     "name": "stderr",
     "output_type": "stream",
     "text": [
      "C:\\Users\\Max\\AppData\\Local\\Temp\\ipykernel_12056\\2204506995.py:29: RuntimeWarning: overflow encountered in scalar subtract\n",
      "  elif((img[i,j,2]-img[i,j,1]) > 50):\n"
     ]
    },
    {
     "name": "stdout",
     "output_type": "stream",
     "text": [
      "Use voxel to estimate volume...\n",
      "D:/共用雲端硬碟/TVGH-Group/手術復發/TGcode/Output4/check_img/HCCP\\HCCP_phasevalue_補充.csv\n",
      "datafile_path: D:/共用雲端硬碟/TVGH-Group/手術復發/TGcode/Output4/check_img/HCCP\\ISD-0143\n",
      "ISD-0143\n"
     ]
    },
    {
     "name": "stderr",
     "output_type": "stream",
     "text": [
      "C:\\Users\\Max\\AppData\\Local\\Temp\\ipykernel_12056\\2204506995.py:29: RuntimeWarning: overflow encountered in scalar subtract\n",
      "  elif((img[i,j,2]-img[i,j,1]) > 50):\n"
     ]
    },
    {
     "name": "stdout",
     "output_type": "stream",
     "text": [
      "Use voxel to estimate volume...\n",
      "D:/共用雲端硬碟/TVGH-Group/手術復發/TGcode/Output4/check_img/HCCP\\HCCP_phasevalue_補充.csv\n",
      "datafile_path: D:/共用雲端硬碟/TVGH-Group/手術復發/TGcode/Output4/check_img/HCCP\\ISD-0150\n",
      "ISD-0150\n"
     ]
    },
    {
     "name": "stderr",
     "output_type": "stream",
     "text": [
      "C:\\Users\\Max\\AppData\\Local\\Temp\\ipykernel_12056\\2204506995.py:29: RuntimeWarning: overflow encountered in scalar subtract\n",
      "  elif((img[i,j,2]-img[i,j,1]) > 50):\n"
     ]
    },
    {
     "name": "stdout",
     "output_type": "stream",
     "text": [
      "Use voxel to estimate volume...\n",
      "D:/共用雲端硬碟/TVGH-Group/手術復發/TGcode/Output4/check_img/HCCP\\HCCP_phasevalue_補充.csv\n",
      "datafile_path: D:/共用雲端硬碟/TVGH-Group/手術復發/TGcode/Output4/check_img/HCCP\\ISD-0145\n",
      "ISD-0145\n"
     ]
    },
    {
     "name": "stderr",
     "output_type": "stream",
     "text": [
      "C:\\Users\\Max\\AppData\\Local\\Temp\\ipykernel_12056\\2204506995.py:29: RuntimeWarning: overflow encountered in scalar subtract\n",
      "  elif((img[i,j,2]-img[i,j,1]) > 50):\n"
     ]
    },
    {
     "name": "stdout",
     "output_type": "stream",
     "text": [
      "Use voxel to estimate volume...\n",
      "D:/共用雲端硬碟/TVGH-Group/手術復發/TGcode/Output4/check_img/HCCP\\HCCP_phasevalue_補充.csv\n",
      "datafile_path: D:/共用雲端硬碟/TVGH-Group/手術復發/TGcode/Output4/check_img/HCCP\\ISD-0154\n",
      "ISD-0154\n"
     ]
    },
    {
     "name": "stderr",
     "output_type": "stream",
     "text": [
      "C:\\Users\\Max\\AppData\\Local\\Temp\\ipykernel_12056\\2204506995.py:29: RuntimeWarning: overflow encountered in scalar subtract\n",
      "  elif((img[i,j,2]-img[i,j,1]) > 50):\n"
     ]
    },
    {
     "name": "stdout",
     "output_type": "stream",
     "text": [
      "Use voxel to estimate volume...\n",
      "D:/共用雲端硬碟/TVGH-Group/手術復發/TGcode/Output4/check_img/HCCP\\HCCP_phasevalue_補充.csv\n",
      "datafile_path: D:/共用雲端硬碟/TVGH-Group/手術復發/TGcode/Output4/check_img/HCCP\\ISD-0167\n",
      "ISD-0167\n"
     ]
    },
    {
     "name": "stderr",
     "output_type": "stream",
     "text": [
      "C:\\Users\\Max\\AppData\\Local\\Temp\\ipykernel_12056\\2204506995.py:29: RuntimeWarning: overflow encountered in scalar subtract\n",
      "  elif((img[i,j,2]-img[i,j,1]) > 50):\n"
     ]
    },
    {
     "name": "stdout",
     "output_type": "stream",
     "text": [
      "Use voxel to estimate volume...\n",
      "D:/共用雲端硬碟/TVGH-Group/手術復發/TGcode/Output4/check_img/HCCP\\HCCP_phasevalue_補充.csv\n",
      "datafile_path: D:/共用雲端硬碟/TVGH-Group/手術復發/TGcode/Output4/check_img/HCCP\\ISD-0171\n",
      "ISD-0171\n"
     ]
    },
    {
     "name": "stderr",
     "output_type": "stream",
     "text": [
      "C:\\Users\\Max\\AppData\\Local\\Temp\\ipykernel_12056\\2204506995.py:29: RuntimeWarning: overflow encountered in scalar subtract\n",
      "  elif((img[i,j,2]-img[i,j,1]) > 50):\n"
     ]
    },
    {
     "name": "stdout",
     "output_type": "stream",
     "text": [
      "Use voxel to estimate volume...\n",
      "D:/共用雲端硬碟/TVGH-Group/手術復發/TGcode/Output4/check_img/HCCP\\HCCP_phasevalue_補充.csv\n",
      "datafile_path: D:/共用雲端硬碟/TVGH-Group/手術復發/TGcode/Output4/check_img/HCCP\\ISD-0174\n",
      "ISD-0174\n"
     ]
    },
    {
     "name": "stderr",
     "output_type": "stream",
     "text": [
      "C:\\Users\\Max\\AppData\\Local\\Temp\\ipykernel_12056\\2204506995.py:29: RuntimeWarning: overflow encountered in scalar subtract\n",
      "  elif((img[i,j,2]-img[i,j,1]) > 50):\n"
     ]
    },
    {
     "name": "stdout",
     "output_type": "stream",
     "text": [
      "Use voxel to estimate volume...\n",
      "D:/共用雲端硬碟/TVGH-Group/手術復發/TGcode/Output4/check_img/HCCP\\HCCP_phasevalue_補充.csv\n",
      "datafile_path: D:/共用雲端硬碟/TVGH-Group/手術復發/TGcode/Output4/check_img/HCCP\\ISD-0185\n",
      "ISD-0185\n"
     ]
    },
    {
     "name": "stderr",
     "output_type": "stream",
     "text": [
      "C:\\Users\\Max\\AppData\\Local\\Temp\\ipykernel_12056\\2204506995.py:29: RuntimeWarning: overflow encountered in scalar subtract\n",
      "  elif((img[i,j,2]-img[i,j,1]) > 50):\n"
     ]
    },
    {
     "name": "stdout",
     "output_type": "stream",
     "text": [
      "Use voxel to estimate volume...\n",
      "D:/共用雲端硬碟/TVGH-Group/手術復發/TGcode/Output4/check_img/HCCP\\HCCP_phasevalue_補充.csv\n",
      "datafile_path: D:/共用雲端硬碟/TVGH-Group/手術復發/TGcode/Output4/check_img/HCCP\\ISD-0195\n",
      "ISD-0195\n"
     ]
    },
    {
     "name": "stderr",
     "output_type": "stream",
     "text": [
      "C:\\Users\\Max\\AppData\\Local\\Temp\\ipykernel_12056\\2204506995.py:29: RuntimeWarning: overflow encountered in scalar subtract\n",
      "  elif((img[i,j,2]-img[i,j,1]) > 50):\n"
     ]
    },
    {
     "name": "stdout",
     "output_type": "stream",
     "text": [
      "Use voxel to estimate volume...\n",
      "D:/共用雲端硬碟/TVGH-Group/手術復發/TGcode/Output4/check_img/HCCP\\HCCP_phasevalue_補充.csv\n",
      "datafile_path: D:/共用雲端硬碟/TVGH-Group/手術復發/TGcode/Output4/check_img/HCCP\\ISD-0203\n",
      "ISD-0203\n"
     ]
    },
    {
     "name": "stderr",
     "output_type": "stream",
     "text": [
      "C:\\Users\\Max\\AppData\\Local\\Temp\\ipykernel_12056\\2204506995.py:29: RuntimeWarning: overflow encountered in scalar subtract\n",
      "  elif((img[i,j,2]-img[i,j,1]) > 50):\n"
     ]
    },
    {
     "name": "stdout",
     "output_type": "stream",
     "text": [
      "Use voxel to estimate volume...\n",
      "D:/共用雲端硬碟/TVGH-Group/手術復發/TGcode/Output4/check_img/HCCP\\HCCP_phasevalue_補充.csv\n",
      "datafile_path: D:/共用雲端硬碟/TVGH-Group/手術復發/TGcode/Output4/check_img/HCCP\\ISD-0207\n",
      "ISD-0207\n"
     ]
    },
    {
     "name": "stderr",
     "output_type": "stream",
     "text": [
      "C:\\Users\\Max\\AppData\\Local\\Temp\\ipykernel_12056\\2204506995.py:29: RuntimeWarning: overflow encountered in scalar subtract\n",
      "  elif((img[i,j,2]-img[i,j,1]) > 50):\n"
     ]
    },
    {
     "name": "stdout",
     "output_type": "stream",
     "text": [
      "Use voxel to estimate volume...\n",
      "D:/共用雲端硬碟/TVGH-Group/手術復發/TGcode/Output4/check_img/HCCP\\HCCP_phasevalue_補充.csv\n",
      "datafile_path: D:/共用雲端硬碟/TVGH-Group/手術復發/TGcode/Output4/check_img/HCCP\\ISD-0213\n",
      "ISD-0213\n"
     ]
    },
    {
     "name": "stderr",
     "output_type": "stream",
     "text": [
      "C:\\Users\\Max\\AppData\\Local\\Temp\\ipykernel_12056\\2204506995.py:29: RuntimeWarning: overflow encountered in scalar subtract\n",
      "  elif((img[i,j,2]-img[i,j,1]) > 50):\n"
     ]
    },
    {
     "name": "stdout",
     "output_type": "stream",
     "text": [
      "Use voxel to estimate volume...\n",
      "D:/共用雲端硬碟/TVGH-Group/手術復發/TGcode/Output4/check_img/HCCP\\HCCP_phasevalue_補充.csv\n",
      "datafile_path: D:/共用雲端硬碟/TVGH-Group/手術復發/TGcode/Output4/check_img/HCCP\\ISD-0216\n",
      "ISD-0216\n"
     ]
    },
    {
     "name": "stderr",
     "output_type": "stream",
     "text": [
      "C:\\Users\\Max\\AppData\\Local\\Temp\\ipykernel_12056\\2204506995.py:29: RuntimeWarning: overflow encountered in scalar subtract\n",
      "  elif((img[i,j,2]-img[i,j,1]) > 50):\n"
     ]
    },
    {
     "name": "stdout",
     "output_type": "stream",
     "text": [
      "Use voxel to estimate volume...\n",
      "D:/共用雲端硬碟/TVGH-Group/手術復發/TGcode/Output4/check_img/HCCP\\HCCP_phasevalue_補充.csv\n",
      "datafile_path: D:/共用雲端硬碟/TVGH-Group/手術復發/TGcode/Output4/check_img/HCCP\\ISD-0301\n",
      "ISD-0301\n"
     ]
    },
    {
     "name": "stderr",
     "output_type": "stream",
     "text": [
      "C:\\Users\\Max\\AppData\\Local\\Temp\\ipykernel_12056\\2204506995.py:29: RuntimeWarning: overflow encountered in scalar subtract\n",
      "  elif((img[i,j,2]-img[i,j,1]) > 50):\n"
     ]
    },
    {
     "name": "stdout",
     "output_type": "stream",
     "text": [
      "Use voxel to estimate volume...\n",
      "D:/共用雲端硬碟/TVGH-Group/手術復發/TGcode/Output4/check_img/HCCP\\HCCP_phasevalue_補充.csv\n",
      "datafile_path: D:/共用雲端硬碟/TVGH-Group/手術復發/TGcode/Output4/check_img/HCCP\\ISD-0302\n",
      "ISD-0302\n"
     ]
    },
    {
     "name": "stderr",
     "output_type": "stream",
     "text": [
      "C:\\Users\\Max\\AppData\\Local\\Temp\\ipykernel_12056\\2204506995.py:29: RuntimeWarning: overflow encountered in scalar subtract\n",
      "  elif((img[i,j,2]-img[i,j,1]) > 50):\n"
     ]
    },
    {
     "name": "stdout",
     "output_type": "stream",
     "text": [
      "Use voxel to estimate volume...\n",
      "D:/共用雲端硬碟/TVGH-Group/手術復發/TGcode/Output4/check_img/HCCP\\HCCP_phasevalue_補充.csv\n",
      "datafile_path: D:/共用雲端硬碟/TVGH-Group/手術復發/TGcode/Output4/check_img/HCCP\\ISD-0332\n",
      "ISD-0332\n"
     ]
    },
    {
     "name": "stderr",
     "output_type": "stream",
     "text": [
      "C:\\Users\\Max\\AppData\\Local\\Temp\\ipykernel_12056\\2204506995.py:29: RuntimeWarning: overflow encountered in scalar subtract\n",
      "  elif((img[i,j,2]-img[i,j,1]) > 50):\n"
     ]
    },
    {
     "name": "stdout",
     "output_type": "stream",
     "text": [
      "Use voxel to estimate volume...\n",
      "D:/共用雲端硬碟/TVGH-Group/手術復發/TGcode/Output4/check_img/HCCP\\HCCP_phasevalue_補充.csv\n",
      "datafile_path: D:/共用雲端硬碟/TVGH-Group/手術復發/TGcode/Output4/check_img/HCCP\\ISD-0333\n",
      "ISD-0333\n"
     ]
    },
    {
     "name": "stderr",
     "output_type": "stream",
     "text": [
      "C:\\Users\\Max\\AppData\\Local\\Temp\\ipykernel_12056\\2204506995.py:29: RuntimeWarning: overflow encountered in scalar subtract\n",
      "  elif((img[i,j,2]-img[i,j,1]) > 50):\n"
     ]
    },
    {
     "name": "stdout",
     "output_type": "stream",
     "text": [
      "Use voxel to estimate volume...\n",
      "D:/共用雲端硬碟/TVGH-Group/手術復發/TGcode/Output4/check_img/HCCP\\HCCP_phasevalue_補充.csv\n",
      "datafile_path: D:/共用雲端硬碟/TVGH-Group/手術復發/TGcode/Output4/check_img/HCCP\\ISD-0335\n",
      "ISD-0335\n"
     ]
    },
    {
     "name": "stderr",
     "output_type": "stream",
     "text": [
      "C:\\Users\\Max\\AppData\\Local\\Temp\\ipykernel_12056\\2204506995.py:29: RuntimeWarning: overflow encountered in scalar subtract\n",
      "  elif((img[i,j,2]-img[i,j,1]) > 50):\n"
     ]
    },
    {
     "name": "stdout",
     "output_type": "stream",
     "text": [
      "Use voxel to estimate volume...\n",
      "D:/共用雲端硬碟/TVGH-Group/手術復發/TGcode/Output4/check_img/HCCP\\HCCP_phasevalue_補充.csv\n",
      "datafile_path: D:/共用雲端硬碟/TVGH-Group/手術復發/TGcode/Output4/check_img/HCCP\\ISD-0347\n",
      "ISD-0347\n"
     ]
    },
    {
     "name": "stderr",
     "output_type": "stream",
     "text": [
      "C:\\Users\\Max\\AppData\\Local\\Temp\\ipykernel_12056\\2204506995.py:29: RuntimeWarning: overflow encountered in scalar subtract\n",
      "  elif((img[i,j,2]-img[i,j,1]) > 50):\n"
     ]
    },
    {
     "name": "stdout",
     "output_type": "stream",
     "text": [
      "Use voxel to estimate volume...\n",
      "D:/共用雲端硬碟/TVGH-Group/手術復發/TGcode/Output4/check_img/HCCP\\HCCP_phasevalue_補充.csv\n",
      "datafile_path: D:/共用雲端硬碟/TVGH-Group/手術復發/TGcode/Output4/check_img/HCCP\\ISD-0373\n",
      "ISD-0373\n"
     ]
    },
    {
     "name": "stderr",
     "output_type": "stream",
     "text": [
      "C:\\Users\\Max\\AppData\\Local\\Temp\\ipykernel_12056\\2204506995.py:29: RuntimeWarning: overflow encountered in scalar subtract\n",
      "  elif((img[i,j,2]-img[i,j,1]) > 50):\n"
     ]
    },
    {
     "name": "stdout",
     "output_type": "stream",
     "text": [
      "Use voxel to estimate volume...\n",
      "D:/共用雲端硬碟/TVGH-Group/手術復發/TGcode/Output4/check_img/HCCP\\HCCP_phasevalue_補充.csv\n",
      "datafile_path: D:/共用雲端硬碟/TVGH-Group/手術復發/TGcode/Output4/check_img/HCCP\\ISD-0377\n",
      "ISD-0377\n"
     ]
    },
    {
     "name": "stderr",
     "output_type": "stream",
     "text": [
      "C:\\Users\\Max\\AppData\\Local\\Temp\\ipykernel_12056\\2204506995.py:29: RuntimeWarning: overflow encountered in scalar subtract\n",
      "  elif((img[i,j,2]-img[i,j,1]) > 50):\n"
     ]
    },
    {
     "name": "stdout",
     "output_type": "stream",
     "text": [
      "Use voxel to estimate volume...\n",
      "D:/共用雲端硬碟/TVGH-Group/手術復發/TGcode/Output4/check_img/HCCP\\HCCP_phasevalue_補充.csv\n",
      "datafile_path: D:/共用雲端硬碟/TVGH-Group/手術復發/TGcode/Output4/check_img/HCCP\\ISD-0379\n",
      "ISD-0379\n"
     ]
    },
    {
     "name": "stderr",
     "output_type": "stream",
     "text": [
      "C:\\Users\\Max\\AppData\\Local\\Temp\\ipykernel_12056\\2204506995.py:29: RuntimeWarning: overflow encountered in scalar subtract\n",
      "  elif((img[i,j,2]-img[i,j,1]) > 50):\n"
     ]
    },
    {
     "name": "stdout",
     "output_type": "stream",
     "text": [
      "Use voxel to estimate volume...\n",
      "D:/共用雲端硬碟/TVGH-Group/手術復發/TGcode/Output4/check_img/HCCP\\HCCP_phasevalue_補充.csv\n",
      "datafile_path: D:/共用雲端硬碟/TVGH-Group/手術復發/TGcode/Output4/check_img/HCCP\\ISD-0386\n",
      "ISD-0386\n"
     ]
    },
    {
     "name": "stderr",
     "output_type": "stream",
     "text": [
      "C:\\Users\\Max\\AppData\\Local\\Temp\\ipykernel_12056\\2204506995.py:29: RuntimeWarning: overflow encountered in scalar subtract\n",
      "  elif((img[i,j,2]-img[i,j,1]) > 50):\n"
     ]
    },
    {
     "name": "stdout",
     "output_type": "stream",
     "text": [
      "Use voxel to estimate volume...\n",
      "D:/共用雲端硬碟/TVGH-Group/手術復發/TGcode/Output4/check_img/HCCP\\HCCP_phasevalue_補充.csv\n",
      "datafile_path: D:/共用雲端硬碟/TVGH-Group/手術復發/TGcode/Output4/check_img/HCCP\\ISD-0393\n",
      "ISD-0393\n"
     ]
    },
    {
     "name": "stderr",
     "output_type": "stream",
     "text": [
      "C:\\Users\\Max\\AppData\\Local\\Temp\\ipykernel_12056\\2204506995.py:29: RuntimeWarning: overflow encountered in scalar subtract\n",
      "  elif((img[i,j,2]-img[i,j,1]) > 50):\n"
     ]
    },
    {
     "name": "stdout",
     "output_type": "stream",
     "text": [
      "Use voxel to estimate volume...\n",
      "D:/共用雲端硬碟/TVGH-Group/手術復發/TGcode/Output4/check_img/HCCP\\HCCP_phasevalue_補充.csv\n",
      "datafile_path: D:/共用雲端硬碟/TVGH-Group/手術復發/TGcode/Output4/check_img/HCCP\\ISD-0394\n",
      "ISD-0394\n"
     ]
    },
    {
     "name": "stderr",
     "output_type": "stream",
     "text": [
      "C:\\Users\\Max\\AppData\\Local\\Temp\\ipykernel_12056\\2204506995.py:29: RuntimeWarning: overflow encountered in scalar subtract\n",
      "  elif((img[i,j,2]-img[i,j,1]) > 50):\n"
     ]
    },
    {
     "name": "stdout",
     "output_type": "stream",
     "text": [
      "Use voxel to estimate volume...\n",
      "D:/共用雲端硬碟/TVGH-Group/手術復發/TGcode/Output4/check_img/HCCP\\HCCP_phasevalue_補充.csv\n",
      "datafile_path: D:/共用雲端硬碟/TVGH-Group/手術復發/TGcode/Output4/check_img/HCCP\\ISD-0397\n",
      "ISD-0397\n"
     ]
    },
    {
     "name": "stderr",
     "output_type": "stream",
     "text": [
      "C:\\Users\\Max\\AppData\\Local\\Temp\\ipykernel_12056\\2204506995.py:29: RuntimeWarning: overflow encountered in scalar subtract\n",
      "  elif((img[i,j,2]-img[i,j,1]) > 50):\n"
     ]
    },
    {
     "name": "stdout",
     "output_type": "stream",
     "text": [
      "Use voxel to estimate volume...\n",
      "D:/共用雲端硬碟/TVGH-Group/手術復發/TGcode/Output4/check_img/HCCP\\HCCP_phasevalue_補充.csv\n",
      "datafile_path: D:/共用雲端硬碟/TVGH-Group/手術復發/TGcode/Output4/check_img/HCCP\\ISD-0398\n",
      "ISD-0398\n"
     ]
    },
    {
     "name": "stderr",
     "output_type": "stream",
     "text": [
      "C:\\Users\\Max\\AppData\\Local\\Temp\\ipykernel_12056\\2204506995.py:29: RuntimeWarning: overflow encountered in scalar subtract\n",
      "  elif((img[i,j,2]-img[i,j,1]) > 50):\n"
     ]
    },
    {
     "name": "stdout",
     "output_type": "stream",
     "text": [
      "Use voxel to estimate volume...\n",
      "D:/共用雲端硬碟/TVGH-Group/手術復發/TGcode/Output4/check_img/HCCP\\HCCP_phasevalue_補充.csv\n",
      "datafile_path: D:/共用雲端硬碟/TVGH-Group/手術復發/TGcode/Output4/check_img/HCCP\\ISD-0400\n",
      "ISD-0400\n"
     ]
    },
    {
     "name": "stderr",
     "output_type": "stream",
     "text": [
      "C:\\Users\\Max\\AppData\\Local\\Temp\\ipykernel_12056\\2204506995.py:29: RuntimeWarning: overflow encountered in scalar subtract\n",
      "  elif((img[i,j,2]-img[i,j,1]) > 50):\n"
     ]
    },
    {
     "name": "stdout",
     "output_type": "stream",
     "text": [
      "Use voxel to estimate volume...\n",
      "D:/共用雲端硬碟/TVGH-Group/手術復發/TGcode/Output4/check_img/HCCP\\HCCP_phasevalue_補充.csv\n",
      "datafile_path: D:/共用雲端硬碟/TVGH-Group/手術復發/TGcode/Output4/check_img/HCCP\\ISD-0404\n",
      "ISD-0404\n"
     ]
    },
    {
     "name": "stderr",
     "output_type": "stream",
     "text": [
      "C:\\Users\\Max\\AppData\\Local\\Temp\\ipykernel_12056\\2204506995.py:29: RuntimeWarning: overflow encountered in scalar subtract\n",
      "  elif((img[i,j,2]-img[i,j,1]) > 50):\n"
     ]
    },
    {
     "name": "stdout",
     "output_type": "stream",
     "text": [
      "Use voxel to estimate volume...\n",
      "D:/共用雲端硬碟/TVGH-Group/手術復發/TGcode/Output4/check_img/HCCP\\HCCP_phasevalue_補充.csv\n",
      "datafile_path: D:/共用雲端硬碟/TVGH-Group/手術復發/TGcode/Output4/check_img/HCCP\\ISD-0406\n",
      "ISD-0406\n"
     ]
    },
    {
     "name": "stderr",
     "output_type": "stream",
     "text": [
      "C:\\Users\\Max\\AppData\\Local\\Temp\\ipykernel_12056\\2204506995.py:29: RuntimeWarning: overflow encountered in scalar subtract\n",
      "  elif((img[i,j,2]-img[i,j,1]) > 50):\n"
     ]
    },
    {
     "name": "stdout",
     "output_type": "stream",
     "text": [
      "Use voxel to estimate volume...\n",
      "D:/共用雲端硬碟/TVGH-Group/手術復發/TGcode/Output4/check_img/HCCP\\HCCP_phasevalue_補充.csv\n",
      "datafile_path: D:/共用雲端硬碟/TVGH-Group/手術復發/TGcode/Output4/check_img/HCCP\\ISD-0410\n",
      "ISD-0410\n"
     ]
    },
    {
     "name": "stderr",
     "output_type": "stream",
     "text": [
      "C:\\Users\\Max\\AppData\\Local\\Temp\\ipykernel_12056\\2204506995.py:29: RuntimeWarning: overflow encountered in scalar subtract\n",
      "  elif((img[i,j,2]-img[i,j,1]) > 50):\n"
     ]
    },
    {
     "name": "stdout",
     "output_type": "stream",
     "text": [
      "Use voxel to estimate volume...\n",
      "D:/共用雲端硬碟/TVGH-Group/手術復發/TGcode/Output4/check_img/HCCP\\HCCP_phasevalue_補充.csv\n",
      "datafile_path: D:/共用雲端硬碟/TVGH-Group/手術復發/TGcode/Output4/check_img/HCCP\\ISD-0413\n",
      "ISD-0413\n"
     ]
    },
    {
     "name": "stderr",
     "output_type": "stream",
     "text": [
      "C:\\Users\\Max\\AppData\\Local\\Temp\\ipykernel_12056\\2204506995.py:29: RuntimeWarning: overflow encountered in scalar subtract\n",
      "  elif((img[i,j,2]-img[i,j,1]) > 50):\n"
     ]
    },
    {
     "name": "stdout",
     "output_type": "stream",
     "text": [
      "Use voxel to estimate volume...\n",
      "D:/共用雲端硬碟/TVGH-Group/手術復發/TGcode/Output4/check_img/HCCP\\HCCP_phasevalue_補充.csv\n",
      "datafile_path: D:/共用雲端硬碟/TVGH-Group/手術復發/TGcode/Output4/check_img/HCCP\\ISD-0414\n",
      "ISD-0414\n"
     ]
    },
    {
     "name": "stderr",
     "output_type": "stream",
     "text": [
      "C:\\Users\\Max\\AppData\\Local\\Temp\\ipykernel_12056\\2204506995.py:29: RuntimeWarning: overflow encountered in scalar subtract\n",
      "  elif((img[i,j,2]-img[i,j,1]) > 50):\n"
     ]
    },
    {
     "name": "stdout",
     "output_type": "stream",
     "text": [
      "Use voxel to estimate volume...\n",
      "D:/共用雲端硬碟/TVGH-Group/手術復發/TGcode/Output4/check_img/HCCP\\HCCP_phasevalue_補充.csv\n",
      "datafile_path: D:/共用雲端硬碟/TVGH-Group/手術復發/TGcode/Output4/check_img/HCCP\\ISD-0417\n",
      "ISD-0417\n"
     ]
    },
    {
     "name": "stderr",
     "output_type": "stream",
     "text": [
      "C:\\Users\\Max\\AppData\\Local\\Temp\\ipykernel_12056\\2204506995.py:29: RuntimeWarning: overflow encountered in scalar subtract\n",
      "  elif((img[i,j,2]-img[i,j,1]) > 50):\n"
     ]
    },
    {
     "name": "stdout",
     "output_type": "stream",
     "text": [
      "Use voxel to estimate volume...\n",
      "D:/共用雲端硬碟/TVGH-Group/手術復發/TGcode/Output4/check_img/HCCP\\HCCP_phasevalue_補充.csv\n",
      "datafile_path: D:/共用雲端硬碟/TVGH-Group/手術復發/TGcode/Output4/check_img/HCCP\\ISD-0418\n",
      "ISD-0418\n"
     ]
    },
    {
     "name": "stderr",
     "output_type": "stream",
     "text": [
      "C:\\Users\\Max\\AppData\\Local\\Temp\\ipykernel_12056\\2204506995.py:29: RuntimeWarning: overflow encountered in scalar subtract\n",
      "  elif((img[i,j,2]-img[i,j,1]) > 50):\n"
     ]
    },
    {
     "name": "stdout",
     "output_type": "stream",
     "text": [
      "Use voxel to estimate volume...\n",
      "D:/共用雲端硬碟/TVGH-Group/手術復發/TGcode/Output4/check_img/HCCP\\HCCP_phasevalue_補充.csv\n",
      "datafile_path: D:/共用雲端硬碟/TVGH-Group/手術復發/TGcode/Output4/check_img/HCCP\\ISD-0419\n",
      "ISD-0419\n"
     ]
    },
    {
     "name": "stderr",
     "output_type": "stream",
     "text": [
      "C:\\Users\\Max\\AppData\\Local\\Temp\\ipykernel_12056\\2204506995.py:29: RuntimeWarning: overflow encountered in scalar subtract\n",
      "  elif((img[i,j,2]-img[i,j,1]) > 50):\n"
     ]
    },
    {
     "name": "stdout",
     "output_type": "stream",
     "text": [
      "Use voxel to estimate volume...\n",
      "D:/共用雲端硬碟/TVGH-Group/手術復發/TGcode/Output4/check_img/HCCP\\HCCP_phasevalue_補充.csv\n",
      "datafile_path: D:/共用雲端硬碟/TVGH-Group/手術復發/TGcode/Output4/check_img/HCCP\\ISD-0421\n",
      "ISD-0421\n"
     ]
    },
    {
     "name": "stderr",
     "output_type": "stream",
     "text": [
      "C:\\Users\\Max\\AppData\\Local\\Temp\\ipykernel_12056\\2204506995.py:29: RuntimeWarning: overflow encountered in scalar subtract\n",
      "  elif((img[i,j,2]-img[i,j,1]) > 50):\n"
     ]
    },
    {
     "name": "stdout",
     "output_type": "stream",
     "text": [
      "Use voxel to estimate volume...\n",
      "D:/共用雲端硬碟/TVGH-Group/手術復發/TGcode/Output4/check_img/HCCP\\HCCP_phasevalue_補充.csv\n",
      "datafile_path: D:/共用雲端硬碟/TVGH-Group/手術復發/TGcode/Output4/check_img/HCCP\\ISD-0423\n",
      "ISD-0423\n"
     ]
    },
    {
     "name": "stderr",
     "output_type": "stream",
     "text": [
      "C:\\Users\\Max\\AppData\\Local\\Temp\\ipykernel_12056\\2204506995.py:29: RuntimeWarning: overflow encountered in scalar subtract\n",
      "  elif((img[i,j,2]-img[i,j,1]) > 50):\n"
     ]
    },
    {
     "name": "stdout",
     "output_type": "stream",
     "text": [
      "Use voxel to estimate volume...\n",
      "D:/共用雲端硬碟/TVGH-Group/手術復發/TGcode/Output4/check_img/HCCP\\HCCP_phasevalue_補充.csv\n",
      "datafile_path: D:/共用雲端硬碟/TVGH-Group/手術復發/TGcode/Output4/check_img/HCCP\\ISD-0425\n",
      "ISD-0425\n"
     ]
    },
    {
     "name": "stderr",
     "output_type": "stream",
     "text": [
      "C:\\Users\\Max\\AppData\\Local\\Temp\\ipykernel_12056\\2204506995.py:29: RuntimeWarning: overflow encountered in scalar subtract\n",
      "  elif((img[i,j,2]-img[i,j,1]) > 50):\n"
     ]
    },
    {
     "name": "stdout",
     "output_type": "stream",
     "text": [
      "Use voxel to estimate volume...\n",
      "D:/共用雲端硬碟/TVGH-Group/手術復發/TGcode/Output4/check_img/HCCP\\HCCP_phasevalue_補充.csv\n",
      "datafile_path: D:/共用雲端硬碟/TVGH-Group/手術復發/TGcode/Output4/check_img/HCCP\\ISD-0432\n",
      "ISD-0432\n"
     ]
    },
    {
     "name": "stderr",
     "output_type": "stream",
     "text": [
      "C:\\Users\\Max\\AppData\\Local\\Temp\\ipykernel_12056\\2204506995.py:29: RuntimeWarning: overflow encountered in scalar subtract\n",
      "  elif((img[i,j,2]-img[i,j,1]) > 50):\n"
     ]
    },
    {
     "name": "stdout",
     "output_type": "stream",
     "text": [
      "Use voxel to estimate volume...\n",
      "D:/共用雲端硬碟/TVGH-Group/手術復發/TGcode/Output4/check_img/HCCP\\HCCP_phasevalue_補充.csv\n",
      "datafile_path: D:/共用雲端硬碟/TVGH-Group/手術復發/TGcode/Output4/check_img/HCCP\\ISD-0426\n",
      "ISD-0426\n"
     ]
    },
    {
     "name": "stderr",
     "output_type": "stream",
     "text": [
      "C:\\Users\\Max\\AppData\\Local\\Temp\\ipykernel_12056\\2204506995.py:29: RuntimeWarning: overflow encountered in scalar subtract\n",
      "  elif((img[i,j,2]-img[i,j,1]) > 50):\n"
     ]
    },
    {
     "name": "stdout",
     "output_type": "stream",
     "text": [
      "Use voxel to estimate volume...\n",
      "D:/共用雲端硬碟/TVGH-Group/手術復發/TGcode/Output4/check_img/HCCP\\HCCP_phasevalue_補充.csv\n",
      "datafile_path: D:/共用雲端硬碟/TVGH-Group/手術復發/TGcode/Output4/check_img/HCCP\\ISD-0434\n",
      "ISD-0434\n"
     ]
    },
    {
     "name": "stderr",
     "output_type": "stream",
     "text": [
      "C:\\Users\\Max\\AppData\\Local\\Temp\\ipykernel_12056\\2204506995.py:29: RuntimeWarning: overflow encountered in scalar subtract\n",
      "  elif((img[i,j,2]-img[i,j,1]) > 50):\n"
     ]
    },
    {
     "name": "stdout",
     "output_type": "stream",
     "text": [
      "Use voxel to estimate volume...\n",
      "D:/共用雲端硬碟/TVGH-Group/手術復發/TGcode/Output4/check_img/HCCP\\HCCP_phasevalue_補充.csv\n",
      "datafile_path: D:/共用雲端硬碟/TVGH-Group/手術復發/TGcode/Output4/check_img/HCCP\\ISD-0435\n",
      "ISD-0435\n"
     ]
    },
    {
     "name": "stderr",
     "output_type": "stream",
     "text": [
      "C:\\Users\\Max\\AppData\\Local\\Temp\\ipykernel_12056\\2204506995.py:29: RuntimeWarning: overflow encountered in scalar subtract\n",
      "  elif((img[i,j,2]-img[i,j,1]) > 50):\n"
     ]
    },
    {
     "name": "stdout",
     "output_type": "stream",
     "text": [
      "Use voxel to estimate volume...\n",
      "D:/共用雲端硬碟/TVGH-Group/手術復發/TGcode/Output4/check_img/HCCP\\HCCP_phasevalue_補充.csv\n",
      "datafile_path: D:/共用雲端硬碟/TVGH-Group/手術復發/TGcode/Output4/check_img/HCCP\\ISD-0443\n",
      "ISD-0443\n"
     ]
    },
    {
     "name": "stderr",
     "output_type": "stream",
     "text": [
      "C:\\Users\\Max\\AppData\\Local\\Temp\\ipykernel_12056\\2204506995.py:29: RuntimeWarning: overflow encountered in scalar subtract\n",
      "  elif((img[i,j,2]-img[i,j,1]) > 50):\n"
     ]
    },
    {
     "name": "stdout",
     "output_type": "stream",
     "text": [
      "Use voxel to estimate volume...\n",
      "D:/共用雲端硬碟/TVGH-Group/手術復發/TGcode/Output4/check_img/HCCP\\HCCP_phasevalue_補充.csv\n",
      "datafile_path: D:/共用雲端硬碟/TVGH-Group/手術復發/TGcode/Output4/check_img/HCCP\\ISD-0444\n",
      "ISD-0444\n"
     ]
    },
    {
     "name": "stderr",
     "output_type": "stream",
     "text": [
      "C:\\Users\\Max\\AppData\\Local\\Temp\\ipykernel_12056\\2204506995.py:29: RuntimeWarning: overflow encountered in scalar subtract\n",
      "  elif((img[i,j,2]-img[i,j,1]) > 50):\n"
     ]
    },
    {
     "name": "stdout",
     "output_type": "stream",
     "text": [
      "Use voxel to estimate volume...\n",
      "D:/共用雲端硬碟/TVGH-Group/手術復發/TGcode/Output4/check_img/HCCP\\HCCP_phasevalue_補充.csv\n",
      "datafile_path: D:/共用雲端硬碟/TVGH-Group/手術復發/TGcode/Output4/check_img/HCCP\\ISD-0449\n",
      "ISD-0449\n"
     ]
    },
    {
     "name": "stderr",
     "output_type": "stream",
     "text": [
      "C:\\Users\\Max\\AppData\\Local\\Temp\\ipykernel_12056\\2204506995.py:29: RuntimeWarning: overflow encountered in scalar subtract\n",
      "  elif((img[i,j,2]-img[i,j,1]) > 50):\n"
     ]
    },
    {
     "name": "stdout",
     "output_type": "stream",
     "text": [
      "Use voxel to estimate volume...\n",
      "D:/共用雲端硬碟/TVGH-Group/手術復發/TGcode/Output4/check_img/HCCP\\HCCP_phasevalue_補充.csv\n",
      "datafile_path: D:/共用雲端硬碟/TVGH-Group/手術復發/TGcode/Output4/check_img/HCCP\\ISD-0445\n",
      "ISD-0445\n"
     ]
    },
    {
     "name": "stderr",
     "output_type": "stream",
     "text": [
      "C:\\Users\\Max\\AppData\\Local\\Temp\\ipykernel_12056\\2204506995.py:29: RuntimeWarning: overflow encountered in scalar subtract\n",
      "  elif((img[i,j,2]-img[i,j,1]) > 50):\n"
     ]
    },
    {
     "name": "stdout",
     "output_type": "stream",
     "text": [
      "Use voxel to estimate volume...\n",
      "D:/共用雲端硬碟/TVGH-Group/手術復發/TGcode/Output4/check_img/HCCP\\HCCP_phasevalue_補充.csv\n",
      "datafile_path: D:/共用雲端硬碟/TVGH-Group/手術復發/TGcode/Output4/check_img/HCCP\\ISD-0450\n",
      "ISD-0450\n"
     ]
    },
    {
     "name": "stderr",
     "output_type": "stream",
     "text": [
      "C:\\Users\\Max\\AppData\\Local\\Temp\\ipykernel_12056\\2204506995.py:29: RuntimeWarning: overflow encountered in scalar subtract\n",
      "  elif((img[i,j,2]-img[i,j,1]) > 50):\n"
     ]
    },
    {
     "name": "stdout",
     "output_type": "stream",
     "text": [
      "Use voxel to estimate volume...\n",
      "D:/共用雲端硬碟/TVGH-Group/手術復發/TGcode/Output4/check_img/HCCP\\HCCP_phasevalue_補充.csv\n",
      "datafile_path: D:/共用雲端硬碟/TVGH-Group/手術復發/TGcode/Output4/check_img/HCCP\\ISD-0454\n",
      "ISD-0454\n"
     ]
    },
    {
     "name": "stderr",
     "output_type": "stream",
     "text": [
      "C:\\Users\\Max\\AppData\\Local\\Temp\\ipykernel_12056\\2204506995.py:29: RuntimeWarning: overflow encountered in scalar subtract\n",
      "  elif((img[i,j,2]-img[i,j,1]) > 50):\n"
     ]
    },
    {
     "name": "stdout",
     "output_type": "stream",
     "text": [
      "Use voxel to estimate volume...\n",
      "D:/共用雲端硬碟/TVGH-Group/手術復發/TGcode/Output4/check_img/HCCP\\HCCP_phasevalue_補充.csv\n",
      "datafile_path: D:/共用雲端硬碟/TVGH-Group/手術復發/TGcode/Output4/check_img/HCCP\\ISD-0456\n",
      "ISD-0456\n"
     ]
    },
    {
     "name": "stderr",
     "output_type": "stream",
     "text": [
      "C:\\Users\\Max\\AppData\\Local\\Temp\\ipykernel_12056\\2204506995.py:29: RuntimeWarning: overflow encountered in scalar subtract\n",
      "  elif((img[i,j,2]-img[i,j,1]) > 50):\n"
     ]
    },
    {
     "name": "stdout",
     "output_type": "stream",
     "text": [
      "Use voxel to estimate volume...\n",
      "D:/共用雲端硬碟/TVGH-Group/手術復發/TGcode/Output4/check_img/HCCP\\HCCP_phasevalue_補充.csv\n",
      "datafile_path: D:/共用雲端硬碟/TVGH-Group/手術復發/TGcode/Output4/check_img/HCCP\\ISD-0489\n",
      "ISD-0489\n"
     ]
    },
    {
     "name": "stderr",
     "output_type": "stream",
     "text": [
      "C:\\Users\\Max\\AppData\\Local\\Temp\\ipykernel_12056\\2204506995.py:29: RuntimeWarning: overflow encountered in scalar subtract\n",
      "  elif((img[i,j,2]-img[i,j,1]) > 50):\n"
     ]
    },
    {
     "name": "stdout",
     "output_type": "stream",
     "text": [
      "Use voxel to estimate volume...\n",
      "D:/共用雲端硬碟/TVGH-Group/手術復發/TGcode/Output4/check_img/HCCP\\HCCP_phasevalue_補充.csv\n",
      "datafile_path: D:/共用雲端硬碟/TVGH-Group/手術復發/TGcode/Output4/check_img/HCCP\\ISD-0557\n",
      "ISD-0557\n"
     ]
    },
    {
     "name": "stderr",
     "output_type": "stream",
     "text": [
      "C:\\Users\\Max\\AppData\\Local\\Temp\\ipykernel_12056\\2204506995.py:29: RuntimeWarning: overflow encountered in scalar subtract\n",
      "  elif((img[i,j,2]-img[i,j,1]) > 50):\n"
     ]
    },
    {
     "name": "stdout",
     "output_type": "stream",
     "text": [
      "Use voxel to estimate volume...\n",
      "D:/共用雲端硬碟/TVGH-Group/手術復發/TGcode/Output4/check_img/HCCP\\HCCP_phasevalue_補充.csv\n",
      "datafile_path: D:/共用雲端硬碟/TVGH-Group/手術復發/TGcode/Output4/check_img/HCCP\\ISD-0613\n",
      "ISD-0613\n"
     ]
    },
    {
     "name": "stderr",
     "output_type": "stream",
     "text": [
      "C:\\Users\\Max\\AppData\\Local\\Temp\\ipykernel_12056\\2204506995.py:29: RuntimeWarning: overflow encountered in scalar subtract\n",
      "  elif((img[i,j,2]-img[i,j,1]) > 50):\n"
     ]
    },
    {
     "name": "stdout",
     "output_type": "stream",
     "text": [
      "Use voxel to estimate volume...\n",
      "D:/共用雲端硬碟/TVGH-Group/手術復發/TGcode/Output4/check_img/HCCP\\HCCP_phasevalue_補充.csv\n",
      "datafile_path: D:/共用雲端硬碟/TVGH-Group/手術復發/TGcode/Output4/check_img/HCCP\\ISD-1009\n",
      "ISD-1009\n"
     ]
    },
    {
     "name": "stderr",
     "output_type": "stream",
     "text": [
      "C:\\Users\\Max\\AppData\\Local\\Temp\\ipykernel_12056\\2204506995.py:29: RuntimeWarning: overflow encountered in scalar subtract\n",
      "  elif((img[i,j,2]-img[i,j,1]) > 50):\n"
     ]
    },
    {
     "name": "stdout",
     "output_type": "stream",
     "text": [
      "Use voxel to estimate volume...\n",
      "D:/共用雲端硬碟/TVGH-Group/手術復發/TGcode/Output4/check_img/HCCP\\HCCP_phasevalue_補充.csv\n",
      "datafile_path: D:/共用雲端硬碟/TVGH-Group/手術復發/TGcode/Output4/check_img/HCCP\\ISD-0661\n",
      "ISD-0661\n"
     ]
    },
    {
     "name": "stderr",
     "output_type": "stream",
     "text": [
      "C:\\Users\\Max\\AppData\\Local\\Temp\\ipykernel_12056\\2204506995.py:29: RuntimeWarning: overflow encountered in scalar subtract\n",
      "  elif((img[i,j,2]-img[i,j,1]) > 50):\n"
     ]
    },
    {
     "name": "stdout",
     "output_type": "stream",
     "text": [
      "Use voxel to estimate volume...\n",
      "D:/共用雲端硬碟/TVGH-Group/手術復發/TGcode/Output4/check_img/HCCP\\HCCP_phasevalue_補充.csv\n",
      "datafile_path: D:/共用雲端硬碟/TVGH-Group/手術復發/TGcode/Output4/check_img/HCCP\\ISD-1068\n",
      "ISD-1068\n"
     ]
    },
    {
     "name": "stderr",
     "output_type": "stream",
     "text": [
      "C:\\Users\\Max\\AppData\\Local\\Temp\\ipykernel_12056\\2204506995.py:29: RuntimeWarning: overflow encountered in scalar subtract\n",
      "  elif((img[i,j,2]-img[i,j,1]) > 50):\n"
     ]
    },
    {
     "name": "stdout",
     "output_type": "stream",
     "text": [
      "Use voxel to estimate volume...\n",
      "D:/共用雲端硬碟/TVGH-Group/手術復發/TGcode/Output4/check_img/HCCP\\HCCP_phasevalue_補充.csv\n",
      "datafile_path: D:/共用雲端硬碟/TVGH-Group/手術復發/TGcode/Output4/check_img/HCCP\\ISD-1082\n",
      "ISD-1082\n"
     ]
    },
    {
     "name": "stderr",
     "output_type": "stream",
     "text": [
      "C:\\Users\\Max\\AppData\\Local\\Temp\\ipykernel_12056\\2204506995.py:29: RuntimeWarning: overflow encountered in scalar subtract\n",
      "  elif((img[i,j,2]-img[i,j,1]) > 50):\n"
     ]
    },
    {
     "name": "stdout",
     "output_type": "stream",
     "text": [
      "Use voxel to estimate volume...\n",
      "D:/共用雲端硬碟/TVGH-Group/手術復發/TGcode/Output4/check_img/HCCP\\HCCP_phasevalue_補充.csv\n",
      "datafile_path: D:/共用雲端硬碟/TVGH-Group/手術復發/TGcode/Output4/check_img/HCCP\\ISD-1120\n",
      "ISD-1120\n"
     ]
    },
    {
     "name": "stderr",
     "output_type": "stream",
     "text": [
      "C:\\Users\\Max\\AppData\\Local\\Temp\\ipykernel_12056\\2204506995.py:29: RuntimeWarning: overflow encountered in scalar subtract\n",
      "  elif((img[i,j,2]-img[i,j,1]) > 50):\n"
     ]
    },
    {
     "name": "stdout",
     "output_type": "stream",
     "text": [
      "Use voxel to estimate volume...\n",
      "D:/共用雲端硬碟/TVGH-Group/手術復發/TGcode/Output4/check_img/HCCP\\HCCP_phasevalue_補充.csv\n"
     ]
    }
   ],
   "source": [
    "import os\n",
    "import numpy as np\n",
    "import pickle\n",
    "import pandas as pd\n",
    "from scipy import interpolate\n",
    "from skimage import measure\n",
    "\n",
    "# 定义一个函数来处理子文件夹\n",
    "def process_subfolder(subfolder_path):\n",
    "    # results = []\n",
    "\n",
    "    # 获取子文件夹名称\n",
    "    subfolder_name = os.path.basename(subfolder_path)\n",
    "\n",
    "    try:\n",
    "        npy_file_path = os.path.join(subfolder_path, 'imgs.npy')\n",
    "        image_data = np.load(npy_file_path)\n",
    "        file_name = os.path.basename(os.path.dirname(npy_file_path))\n",
    "        print(file_name)\n",
    "        # 使用字符串分割方法分割文件名\n",
    "        parts = file_name.split('-')\n",
    "\n",
    "        # 提取0003并存储到变量中\n",
    "        if len(parts) >= 2:\n",
    "            identifier = parts[1]\n",
    "        masks = []\n",
    "        for idx in range(len(image_data)):\n",
    "            image = getLargestContour(image_data[idx])\n",
    "            masks.append(image)\n",
    "\n",
    "        slicefilename = f\"{subfolder_name}_slicelocations.pkl\"\n",
    "        slicefilepath = os.path.join(subfolder_path, slicefilename)\n",
    "\n",
    "        with open(slicefilepath, \"rb\") as f:\n",
    "            slice_locations = pickle.load(f)\n",
    "        slice_locations = np.unique(slice_locations)\n",
    "        sorted_indices = np.argsort(slice_locations)\n",
    "        slice_locations.sort()\n",
    "        masks_sorted = [masks[i] for i in sorted_indices]\n",
    "\n",
    "        pixelfilename = f\"{subfolder_name}_pixelspacing.pkl\"\n",
    "        pixelfilepath = os.path.join(subfolder_path, pixelfilename)\n",
    "        with open(pixelfilepath, \"rb\") as f:\n",
    "            case_pixel_spacings = pickle.load(f)\n",
    "        px_spacing = case_pixel_spacings[0]\n",
    "\n",
    "        slice_thickness = 5.0\n",
    "\n",
    "        # 创建插值器函数\n",
    "        z = np.array(slice_locations)\n",
    "        y = np.arange(0, masks[0].shape[0] * px_spacing, px_spacing)\n",
    "        x = np.arange(0, masks[0].shape[1] * px_spacing, px_spacing)\n",
    "        if len(x) != 800:\n",
    "            x = np.arange(0, masks[0].shape[1] * px_spacing, px_spacing)[:-1]\n",
    "        if len(y) != 800:\n",
    "            y = np.arange(0, masks[0].shape[0] * px_spacing, px_spacing)[:-1]\n",
    "        masks_bin = np.array([(mask > 0).astype(int) for mask in masks_sorted])\n",
    "        z_mask = np.arange(z.min(), z.max() + slice_thickness, slice_thickness)\n",
    "        x_mask, y_mask, z_mask = np.meshgrid(x, y, z_mask, indexing='ij')\n",
    "        interpolator = interpolate.RegularGridInterpolator((x, y, z), np.moveaxis(masks_bin, 0, -1), method='nearest', bounds_error=False, fill_value=0)\n",
    "\n",
    "        vol = interpolator((x_mask, y_mask, z_mask))\n",
    "        verts, faces, _, _ = measure.marching_cubes(vol, level=0.5)\n",
    "\n",
    "        pixel_volume = px_spacing ** 2 * slice_thickness\n",
    "        total_volume = np.sum(vol) * pixel_volume\n",
    "\n",
    "        tumor_extractor = ThreedMorphologyFeaturesExtractor(vol)\n",
    "        threed_morphology_p = tumor_extractor.all('p')\n",
    "        threed_morphology_p['ISDnumber'] = pd.Series([identifier])\n",
    "        # results.append(threed_morphology_p)\n",
    "        return threed_morphology_p\n",
    "    except Exception as e:\n",
    "        print(f'处理文件{subfolder_name}时发生错误：{str(e)}')\n",
    "    \n",
    "    # final_results = pd.concat(results, ignore_index=True)\n",
    "    # new_path = os.path.dirname(subfolder_path)\n",
    "    # last_folder_name = os.path.basename(new_path)\n",
    "    # finalcsvpath = os.path.join(new_path, f'{last_folder_name}_phasevalue.csv')\n",
    "    # final_results.to_csv(finalcsvpath, index=False)\n",
    "    # print(finalcsvpath)\n",
    "\n",
    "# 根文件夹\n",
    "# root_folder = 'C:/Users/Max/Desktop/肝癌手術電燒/radiomics 3D/check_img'\n",
    "root_folder = 'D:/共用雲端硬碟/TVGH-Group/手術復發/TGcode/Output4/check_img/'\n",
    "\n",
    "subfolder_names = ['HCCA', 'HCCN', 'HCCP']\n",
    "\n",
    "# 遍历每个子文件夹\n",
    "for subfolder_name in subfolder_names:\n",
    "    subfolder_path = os.path.join(root_folder, subfolder_name)\n",
    "    print('subfolder_path:',subfolder_path)\n",
    "    # 获取根文件夹下的所有子文件夹名称\n",
    "    subfolder_filepaths = [subfolder_file for subfolder_file in os.listdir(subfolder_path) if os.path.isdir(os.path.join(subfolder_path, subfolder_file))]\n",
    "    results = []\n",
    "    # 遍历每个子文件夹\n",
    "    for subfolder_filepath in subfolder_filepaths:\n",
    "        \n",
    "        datafile_path = os.path.join(subfolder_path, subfolder_filepath)\n",
    "        print('datafile_path:',datafile_path)\n",
    "        threed_morphology_p = process_subfolder(datafile_path)\n",
    "        results.append(threed_morphology_p)\n",
    "        final_results = pd.concat(results, ignore_index=True)\n",
    "        new_path = os.path.dirname(datafile_path)\n",
    "        last_folder_name = os.path.basename(new_path)\n",
    "        finalcsvpath = os.path.join(new_path, f'{last_folder_name}_phasevalue_補充.csv')\n",
    "        final_results.to_csv(finalcsvpath, index=False)\n",
    "        print(finalcsvpath)\n",
    "\n"
   ]
  },
  {
   "cell_type": "markdown",
   "metadata": {},
   "source": [
    "從ISD-1xxx開始處理"
   ]
  },
  {
   "cell_type": "code",
   "execution_count": null,
   "metadata": {},
   "outputs": [],
   "source": [
    "import os\n",
    "import numpy as np\n",
    "import pickle\n",
    "import pandas as pd\n",
    "from scipy import interpolate\n",
    "from skimage import measure\n",
    "\n",
    "# 定义一个函数来处理子文件夹\n",
    "def process_subfolder(subfolder_path):\n",
    "    # results = []\n",
    "\n",
    "    # 获取子文件夹名称\n",
    "    subfolder_name = os.path.basename(subfolder_path)\n",
    "\n",
    "    try:\n",
    "        npy_file_path = os.path.join(subfolder_path, 'imgs.npy')\n",
    "        image_data = np.load(npy_file_path)\n",
    "        file_name = os.path.basename(os.path.dirname(npy_file_path))\n",
    "        print(file_name)\n",
    "        # 使用字符串分割方法分割文件名\n",
    "        parts = file_name.split('-')\n",
    "\n",
    "        # 提取0003并存储到变量中\n",
    "        if len(parts) >= 2:\n",
    "            identifier = parts[1]\n",
    "        masks = []\n",
    "        for idx in range(len(image_data)):\n",
    "            image = getLargestContour(image_data[idx])\n",
    "            masks.append(image)\n",
    "\n",
    "        slicefilename = f\"{subfolder_name}_slicelocations.pkl\"\n",
    "        slicefilepath = os.path.join(subfolder_path, slicefilename)\n",
    "\n",
    "        with open(slicefilepath, \"rb\") as f:\n",
    "            slice_locations = pickle.load(f)\n",
    "        slice_locations = slice_locations[:len(masks)]\n",
    "        sorted_indices = np.argsort(slice_locations)\n",
    "        slice_locations.sort()\n",
    "        masks_sorted = [masks[i] for i in sorted_indices]\n",
    "\n",
    "        pixelfilename = f\"{subfolder_name}_pixelspacing.pkl\"\n",
    "        pixelfilepath = os.path.join(subfolder_path, pixelfilename)\n",
    "        with open(pixelfilepath, \"rb\") as f:\n",
    "            case_pixel_spacings = pickle.load(f)\n",
    "        px_spacing = case_pixel_spacings[0]\n",
    "\n",
    "        slice_thickness = 5.0\n",
    "\n",
    "        # 创建插值器函数\n",
    "        z = np.array(slice_locations)\n",
    "        y = np.arange(0, masks[0].shape[0] * px_spacing, px_spacing)\n",
    "        x = np.arange(0, masks[0].shape[1] * px_spacing, px_spacing)\n",
    "        masks_bin = np.array([(mask > 0).astype(int) for mask in masks_sorted])\n",
    "        z_mask = np.arange(z.min(), z.max() + slice_thickness, slice_thickness)\n",
    "        x_mask, y_mask, z_mask = np.meshgrid(x, y, z_mask, indexing='ij')\n",
    "        interpolator = interpolate.RegularGridInterpolator((x, y, z), np.moveaxis(masks_bin, 0, -1), method='nearest', bounds_error=False, fill_value=0)\n",
    "\n",
    "        vol = interpolator((x_mask, y_mask, z_mask))\n",
    "        verts, faces, _, _ = measure.marching_cubes(vol, level=0.5)\n",
    "\n",
    "        pixel_volume = px_spacing ** 2 * slice_thickness\n",
    "        total_volume = np.sum(vol) * pixel_volume\n",
    "\n",
    "        tumor_extractor = ThreedMorphologyFeaturesExtractor(vol)\n",
    "        threed_morphology_p = tumor_extractor.all('p')\n",
    "        threed_morphology_p['ISDnumber'] = pd.Series([identifier])\n",
    "        # results.append(threed_morphology_p)\n",
    "        return threed_morphology_p\n",
    "    except Exception as e:\n",
    "        print(f'处理文件{subfolder_name}时发生错误：{str(e)}')\n",
    "    \n",
    "    # final_results = pd.concat(results, ignore_index=True)\n",
    "    # new_path = os.path.dirname(subfolder_path)\n",
    "    # last_folder_name = os.path.basename(new_path)\n",
    "    # finalcsvpath = os.path.join(new_path, f'{last_folder_name}_phasevalue.csv')\n",
    "    # final_results.to_csv(finalcsvpath, index=False)\n",
    "    # print(finalcsvpath)\n",
    "\n",
    "# 根文件夹\n",
    "# root_folder = 'C:/Users/Max/Desktop/肝癌手術電燒/radiomics 3D/check_img'\n",
    "root_folder = 'D:/共用雲端硬碟/TVGH-Group/手術復發/TGcode/Output3/check_img/'\n",
    "\n",
    "# 定义要处理的文件夹名称顺序\n",
    "subfolder_order = ['HCCA', 'HCCN', 'HCCP']\n",
    "\n",
    "# 存储满足条件的子文件夹路径的列表\n",
    "subfolder_paths_to_process = []\n",
    "\n",
    "# 遍历每个子文件夹名称\n",
    "for subfolder_name in subfolder_order:\n",
    "    subfolder_path = os.path.join(root_folder, subfolder_name)\n",
    "    \n",
    "    # 获取根文件夹下的所有子文件夹名称\n",
    "    subfolder_names = os.listdir(subfolder_path)\n",
    "    \n",
    "    # 遍历每个子文件夹\n",
    "    for subfolder_name_inner in subfolder_names:\n",
    "        subfolder_path_inner = os.path.join(subfolder_path, subfolder_name_inner)\n",
    "        \n",
    "        # 检查子文件夹是否为 ISD-1xxx 格式\n",
    "        if os.path.isdir(subfolder_path_inner) and subfolder_name_inner.startswith('ISD-1'):\n",
    "            # print('subfolder_path_inner:', subfolder_path_inner)\n",
    "            \n",
    "            # 将满足条件的子文件夹路径添加到列表中\n",
    "            subfolder_paths_to_process.append(subfolder_path_inner)\n",
    "\n",
    "# 遍历满足条件的子文件夹路径\n",
    "for subfolder_path_inner in subfolder_paths_to_process:\n",
    "    print('Processing subfolder:', subfolder_path_inner)\n",
    "    \n",
    "    # 调用处理函数来处理当前子文件夹\n",
    "    threed_morphology_p = process_subfolder(subfolder_path_inner)\n",
    "    \n",
    "    # 下面的部分是您的处理代码，处理当前子文件夹的数据\n",
    "    # ...\n",
    "\n",
    "    # 接下来的代码将 threed_morphology_p 存储为 CSV 文件\n",
    "    results.append(threed_morphology_p)\n",
    "    final_results = pd.concat(results, ignore_index=True)\n",
    "    new_path = os.path.dirname(subfolder_path_inner)\n",
    "    last_folder_name = os.path.basename(new_path)\n",
    "    finalcsvpath = os.path.join(new_path, f'{last_folder_name}_phasevalue2.csv')\n",
    "    final_results.to_csv(finalcsvpath, index=False)\n",
    "    print(finalcsvpath)"
   ]
  },
  {
   "cell_type": "markdown",
   "metadata": {},
   "source": [
    "測試"
   ]
  },
  {
   "cell_type": "code",
   "execution_count": null,
   "metadata": {},
   "outputs": [],
   "source": []
  },
  {
   "cell_type": "code",
   "execution_count": 48,
   "metadata": {},
   "outputs": [],
   "source": [
    "import traceback\n",
    "def process_subfolder_try(subfolder_path):\n",
    "    # results = []\n",
    "\n",
    "    # 获取子文件夹名称\n",
    "    subfolder_name = os.path.basename(subfolder_path)\n",
    "\n",
    "    try:\n",
    "        npy_file_path = os.path.join(subfolder_path, 'imgs.npy')\n",
    "        image_data = np.load(npy_file_path)\n",
    "        file_name = os.path.basename(os.path.dirname(npy_file_path))\n",
    "        print(file_name)\n",
    "        # 使用字符串分割方法分割文件名\n",
    "        parts = file_name.split('-')\n",
    "\n",
    "        # 提取0003并存储到变量中\n",
    "        if len(parts) >= 2:\n",
    "            identifier = parts[1]\n",
    "        masks = []\n",
    "        for idx in range(len(image_data)):\n",
    "            image = getLargestContour(image_data[idx])\n",
    "            masks.append(image)\n",
    "\n",
    "        slicefilename = f\"{subfolder_name}_slicelocations.pkl\"\n",
    "        slicefilepath = os.path.join(subfolder_path, slicefilename)\n",
    "\n",
    "        with open(slicefilepath, \"rb\") as f:\n",
    "            slice_locations = pickle.load(f)\n",
    "        # slice_locations = slice_locations[:len(masks)]\n",
    "        slice_locations = np.unique(slice_locations)\n",
    "        sorted_indices = np.argsort(slice_locations)\n",
    "        slice_locations.sort()\n",
    "        masks_sorted = [masks[i] for i in sorted_indices]\n",
    "\n",
    "        pixelfilename = f\"{subfolder_name}_pixelspacing.pkl\"\n",
    "        pixelfilepath = os.path.join(subfolder_path, pixelfilename)\n",
    "        with open(pixelfilepath, \"rb\") as f:\n",
    "            case_pixel_spacings = pickle.load(f)\n",
    "        px_spacing = case_pixel_spacings[0]\n",
    "\n",
    "        slice_thickness = 5.0\n",
    "\n",
    "        # 创建插值器函数\n",
    "        # masks_bin = np.array([(mask > 0).astype(int) for mask in masks_sorted])\n",
    "        # print(len(masks_bin))\n",
    "        z = np.array(slice_locations)\n",
    "        # if len(z) > len(masks_bin):\n",
    "        #     z = z[:-1] \n",
    "        y = np.arange(0, masks[0].shape[0] * px_spacing, px_spacing)\n",
    "        x = np.arange(0, masks[0].shape[1] * px_spacing, px_spacing)\n",
    "        if len(x) != 800:\n",
    "            x = np.arange(0, masks[0].shape[1] * px_spacing, px_spacing)[:-1]\n",
    "        if len(y) != 800:\n",
    "            y = np.arange(0, masks[0].shape[0] * px_spacing, px_spacing)[:-1]\n",
    "        masks_bin = np.array([(mask > 0).astype(int) for mask in masks_sorted])\n",
    "        z_mask = np.arange(z.min(), z.max() + slice_thickness, slice_thickness)\n",
    "        x_mask, y_mask, z_mask = np.meshgrid(x, y, z_mask, indexing='ij')\n",
    "        interpolator = interpolate.RegularGridInterpolator((x, y, z), np.moveaxis(masks_bin, 0, -1), method='nearest', bounds_error=False, fill_value=0)\n",
    "\n",
    "        vol = interpolator((x_mask, y_mask, z_mask))\n",
    "        verts, faces, _, _ = measure.marching_cubes(vol, level=0.5)\n",
    "\n",
    "        pixel_volume = px_spacing ** 2 * slice_thickness\n",
    "        total_volume = np.sum(vol) * pixel_volume\n",
    "\n",
    "        tumor_extractor = ThreedMorphologyFeaturesExtractor(vol)\n",
    "        threed_morphology_p = tumor_extractor.all('p')\n",
    "        threed_morphology_p['ISDnumber'] = pd.Series([identifier])\n",
    "        # results.append(threed_morphology_p)\n",
    "        return threed_morphology_p\n",
    "    except Exception as e:\n",
    "        traceback.print_exc()\n",
    "        print(f'处理文件{subfolder_name}时发生错误：{str(e)}')"
   ]
  },
  {
   "cell_type": "code",
   "execution_count": 35,
   "metadata": {},
   "outputs": [
    {
     "name": "stdout",
     "output_type": "stream",
     "text": [
      "ISD-0272\n"
     ]
    },
    {
     "name": "stderr",
     "output_type": "stream",
     "text": [
      "C:\\Users\\Max\\AppData\\Local\\Temp\\ipykernel_14536\\2204506995.py:29: RuntimeWarning: overflow encountered in scalar subtract\n",
      "  elif((img[i,j,2]-img[i,j,1]) > 50):\n"
     ]
    },
    {
     "name": "stdout",
     "output_type": "stream",
     "text": [
      "处理文件ISD-0272时发生错误：list index out of range\n"
     ]
    },
    {
     "name": "stderr",
     "output_type": "stream",
     "text": [
      "Traceback (most recent call last):\n",
      "  File \"C:\\Users\\Max\\AppData\\Local\\Temp\\ipykernel_14536\\3680454540.py\", line 32, in process_subfolder_try\n",
      "    masks_sorted = [masks[i] for i in sorted_indices]\n",
      "  File \"C:\\Users\\Max\\AppData\\Local\\Temp\\ipykernel_14536\\3680454540.py\", line 32, in <listcomp>\n",
      "    masks_sorted = [masks[i] for i in sorted_indices]\n",
      "IndexError: list index out of range\n"
     ]
    }
   ],
   "source": [
    "root = 'D:/共用雲端硬碟/TVGH-Group/手術復發/TGcode/Output3/check_img/HCCA/ISD-0272'\n",
    "threed_morphology_p = process_subfolder_try(root)"
   ]
  },
  {
   "cell_type": "code",
   "execution_count": 51,
   "metadata": {},
   "outputs": [
    {
     "name": "stdout",
     "output_type": "stream",
     "text": [
      "ISD-0380\n"
     ]
    },
    {
     "name": "stderr",
     "output_type": "stream",
     "text": [
      "C:\\Users\\Max\\AppData\\Local\\Temp\\ipykernel_14536\\2204506995.py:29: RuntimeWarning: overflow encountered in scalar subtract\n",
      "  elif((img[i,j,2]-img[i,j,1]) > 50):\n"
     ]
    },
    {
     "name": "stdout",
     "output_type": "stream",
     "text": [
      "Use voxel to estimate volume...\n",
      "ISD-0364\n"
     ]
    },
    {
     "name": "stderr",
     "output_type": "stream",
     "text": [
      "C:\\Users\\Max\\AppData\\Local\\Temp\\ipykernel_14536\\2204506995.py:29: RuntimeWarning: overflow encountered in scalar subtract\n",
      "  elif((img[i,j,2]-img[i,j,1]) > 50):\n"
     ]
    },
    {
     "name": "stdout",
     "output_type": "stream",
     "text": [
      "Use voxel to estimate volume...\n",
      "ISD-0272\n"
     ]
    },
    {
     "name": "stderr",
     "output_type": "stream",
     "text": [
      "C:\\Users\\Max\\AppData\\Local\\Temp\\ipykernel_14536\\2204506995.py:29: RuntimeWarning: overflow encountered in scalar subtract\n",
      "  elif((img[i,j,2]-img[i,j,1]) > 50):\n"
     ]
    },
    {
     "name": "stdout",
     "output_type": "stream",
     "text": [
      "Use voxel to estimate volume...\n",
      "ISD-0485\n"
     ]
    },
    {
     "name": "stderr",
     "output_type": "stream",
     "text": [
      "C:\\Users\\Max\\AppData\\Local\\Temp\\ipykernel_14536\\2204506995.py:29: RuntimeWarning: overflow encountered in scalar subtract\n",
      "  elif((img[i,j,2]-img[i,j,1]) > 50):\n",
      "Traceback (most recent call last):\n",
      "  File \"C:\\Users\\Max\\AppData\\Local\\Temp\\ipykernel_14536\\1808561733.py\", line 61, in process_subfolder_try\n",
      "    verts, faces, _, _ = measure.marching_cubes(vol, level=0.5)\n",
      "  File \"c:\\Users\\Max\\anaconda3\\envs\\OP_RFA\\lib\\site-packages\\skimage\\measure\\_marching_cubes_lewiner.py\", line 133, in marching_cubes\n",
      "    return _marching_cubes_lewiner(volume, level, spacing,\n",
      "  File \"c:\\Users\\Max\\anaconda3\\envs\\OP_RFA\\lib\\site-packages\\skimage\\measure\\_marching_cubes_lewiner.py\", line 166, in _marching_cubes_lewiner\n",
      "    raise ValueError(\"Input array must be at least 2x2x2.\")\n",
      "ValueError: Input array must be at least 2x2x2.\n"
     ]
    },
    {
     "name": "stdout",
     "output_type": "stream",
     "text": [
      "处理文件ISD-0485时发生错误：Input array must be at least 2x2x2.\n",
      "ISD-0623\n",
      "Use voxel to estimate volume...\n",
      "ISD-0010\n"
     ]
    },
    {
     "name": "stderr",
     "output_type": "stream",
     "text": [
      "C:\\Users\\Max\\AppData\\Local\\Temp\\ipykernel_14536\\2204506995.py:29: RuntimeWarning: overflow encountered in scalar subtract\n",
      "  elif((img[i,j,2]-img[i,j,1]) > 50):\n"
     ]
    },
    {
     "name": "stdout",
     "output_type": "stream",
     "text": [
      "Use voxel to estimate volume...\n",
      "ISD-0341\n"
     ]
    },
    {
     "name": "stderr",
     "output_type": "stream",
     "text": [
      "C:\\Users\\Max\\AppData\\Local\\Temp\\ipykernel_14536\\2204506995.py:29: RuntimeWarning: overflow encountered in scalar subtract\n",
      "  elif((img[i,j,2]-img[i,j,1]) > 50):\n"
     ]
    },
    {
     "name": "stdout",
     "output_type": "stream",
     "text": [
      "Use voxel to estimate volume...\n",
      "ISD-1012\n"
     ]
    },
    {
     "name": "stderr",
     "output_type": "stream",
     "text": [
      "C:\\Users\\Max\\AppData\\Local\\Temp\\ipykernel_14536\\2204506995.py:29: RuntimeWarning: overflow encountered in scalar subtract\n",
      "  elif((img[i,j,2]-img[i,j,1]) > 50):\n"
     ]
    },
    {
     "name": "stdout",
     "output_type": "stream",
     "text": [
      "Use voxel to estimate volume...\n",
      "ISD-0045\n"
     ]
    },
    {
     "name": "stderr",
     "output_type": "stream",
     "text": [
      "C:\\Users\\Max\\AppData\\Local\\Temp\\ipykernel_14536\\2204506995.py:29: RuntimeWarning: overflow encountered in scalar subtract\n",
      "  elif((img[i,j,2]-img[i,j,1]) > 50):\n"
     ]
    },
    {
     "name": "stdout",
     "output_type": "stream",
     "text": [
      "Use voxel to estimate volume...\n",
      "ISD-0298\n"
     ]
    },
    {
     "name": "stderr",
     "output_type": "stream",
     "text": [
      "C:\\Users\\Max\\AppData\\Local\\Temp\\ipykernel_14536\\2204506995.py:29: RuntimeWarning: overflow encountered in scalar subtract\n",
      "  elif((img[i,j,2]-img[i,j,1]) > 50):\n"
     ]
    },
    {
     "name": "stdout",
     "output_type": "stream",
     "text": [
      "Use voxel to estimate volume...\n",
      "ISD-0621\n"
     ]
    },
    {
     "name": "stderr",
     "output_type": "stream",
     "text": [
      "C:\\Users\\Max\\AppData\\Local\\Temp\\ipykernel_14536\\2204506995.py:29: RuntimeWarning: overflow encountered in scalar subtract\n",
      "  elif((img[i,j,2]-img[i,j,1]) > 50):\n"
     ]
    },
    {
     "name": "stdout",
     "output_type": "stream",
     "text": [
      "Use voxel to estimate volume...\n",
      "ISD-0691\n"
     ]
    },
    {
     "name": "stderr",
     "output_type": "stream",
     "text": [
      "C:\\Users\\Max\\AppData\\Local\\Temp\\ipykernel_14536\\2204506995.py:29: RuntimeWarning: overflow encountered in scalar subtract\n",
      "  elif((img[i,j,2]-img[i,j,1]) > 50):\n"
     ]
    },
    {
     "name": "stdout",
     "output_type": "stream",
     "text": [
      "Use voxel to estimate volume...\n",
      "ISD-0072\n"
     ]
    },
    {
     "name": "stderr",
     "output_type": "stream",
     "text": [
      "C:\\Users\\Max\\AppData\\Local\\Temp\\ipykernel_14536\\2204506995.py:29: RuntimeWarning: overflow encountered in scalar subtract\n",
      "  elif((img[i,j,2]-img[i,j,1]) > 50):\n"
     ]
    },
    {
     "name": "stdout",
     "output_type": "stream",
     "text": [
      "Use voxel to estimate volume...\n",
      "ISD-0256\n"
     ]
    },
    {
     "name": "stderr",
     "output_type": "stream",
     "text": [
      "C:\\Users\\Max\\AppData\\Local\\Temp\\ipykernel_14536\\2204506995.py:29: RuntimeWarning: overflow encountered in scalar subtract\n",
      "  elif((img[i,j,2]-img[i,j,1]) > 50):\n"
     ]
    },
    {
     "name": "stdout",
     "output_type": "stream",
     "text": [
      "Use voxel to estimate volume...\n",
      "ISD-0604\n"
     ]
    },
    {
     "name": "stderr",
     "output_type": "stream",
     "text": [
      "C:\\Users\\Max\\AppData\\Local\\Temp\\ipykernel_14536\\2204506995.py:29: RuntimeWarning: overflow encountered in scalar subtract\n",
      "  elif((img[i,j,2]-img[i,j,1]) > 50):\n"
     ]
    },
    {
     "name": "stdout",
     "output_type": "stream",
     "text": [
      "Use voxel to estimate volume...\n",
      "ISD-1171\n"
     ]
    },
    {
     "name": "stderr",
     "output_type": "stream",
     "text": [
      "C:\\Users\\Max\\AppData\\Local\\Temp\\ipykernel_14536\\2204506995.py:29: RuntimeWarning: overflow encountered in scalar subtract\n",
      "  elif((img[i,j,2]-img[i,j,1]) > 50):\n"
     ]
    },
    {
     "name": "stdout",
     "output_type": "stream",
     "text": [
      "Use voxel to estimate volume...\n",
      "ISD-0062\n"
     ]
    },
    {
     "name": "stderr",
     "output_type": "stream",
     "text": [
      "C:\\Users\\Max\\AppData\\Local\\Temp\\ipykernel_14536\\2204506995.py:29: RuntimeWarning: overflow encountered in scalar subtract\n",
      "  elif((img[i,j,2]-img[i,j,1]) > 50):\n"
     ]
    },
    {
     "name": "stdout",
     "output_type": "stream",
     "text": [
      "Use voxel to estimate volume...\n",
      "ISD-0687\n"
     ]
    },
    {
     "name": "stderr",
     "output_type": "stream",
     "text": [
      "C:\\Users\\Max\\AppData\\Local\\Temp\\ipykernel_14536\\2204506995.py:29: RuntimeWarning: overflow encountered in scalar subtract\n",
      "  elif((img[i,j,2]-img[i,j,1]) > 50):\n"
     ]
    },
    {
     "name": "stdout",
     "output_type": "stream",
     "text": [
      "Use voxel to estimate volume...\n",
      "ISD-0507\n"
     ]
    },
    {
     "name": "stderr",
     "output_type": "stream",
     "text": [
      "C:\\Users\\Max\\AppData\\Local\\Temp\\ipykernel_14536\\2204506995.py:29: RuntimeWarning: overflow encountered in scalar subtract\n",
      "  elif((img[i,j,2]-img[i,j,1]) > 50):\n",
      "Traceback (most recent call last):\n",
      "  File \"C:\\Users\\Max\\AppData\\Local\\Temp\\ipykernel_14536\\1808561733.py\", line 61, in process_subfolder_try\n",
      "    verts, faces, _, _ = measure.marching_cubes(vol, level=0.5)\n",
      "  File \"c:\\Users\\Max\\anaconda3\\envs\\OP_RFA\\lib\\site-packages\\skimage\\measure\\_marching_cubes_lewiner.py\", line 133, in marching_cubes\n",
      "    return _marching_cubes_lewiner(volume, level, spacing,\n",
      "  File \"c:\\Users\\Max\\anaconda3\\envs\\OP_RFA\\lib\\site-packages\\skimage\\measure\\_marching_cubes_lewiner.py\", line 166, in _marching_cubes_lewiner\n",
      "    raise ValueError(\"Input array must be at least 2x2x2.\")\n",
      "ValueError: Input array must be at least 2x2x2.\n"
     ]
    },
    {
     "name": "stdout",
     "output_type": "stream",
     "text": [
      "处理文件ISD-0507时发生错误：Input array must be at least 2x2x2.\n",
      "ISD-0632\n",
      "Use voxel to estimate volume...\n",
      "ISD-0194\n"
     ]
    },
    {
     "name": "stderr",
     "output_type": "stream",
     "text": [
      "C:\\Users\\Max\\AppData\\Local\\Temp\\ipykernel_14536\\2204506995.py:29: RuntimeWarning: overflow encountered in scalar subtract\n",
      "  elif((img[i,j,2]-img[i,j,1]) > 50):\n"
     ]
    },
    {
     "name": "stdout",
     "output_type": "stream",
     "text": [
      "Use voxel to estimate volume...\n",
      "ISD-1189\n"
     ]
    },
    {
     "name": "stderr",
     "output_type": "stream",
     "text": [
      "C:\\Users\\Max\\AppData\\Local\\Temp\\ipykernel_14536\\2204506995.py:29: RuntimeWarning: overflow encountered in scalar subtract\n",
      "  elif((img[i,j,2]-img[i,j,1]) > 50):\n"
     ]
    },
    {
     "name": "stdout",
     "output_type": "stream",
     "text": [
      "Use voxel to estimate volume...\n",
      "ISD-0215\n"
     ]
    },
    {
     "name": "stderr",
     "output_type": "stream",
     "text": [
      "C:\\Users\\Max\\AppData\\Local\\Temp\\ipykernel_14536\\2204506995.py:29: RuntimeWarning: overflow encountered in scalar subtract\n",
      "  elif((img[i,j,2]-img[i,j,1]) > 50):\n"
     ]
    },
    {
     "name": "stdout",
     "output_type": "stream",
     "text": [
      "Use voxel to estimate volume...\n",
      "ISD-0052\n"
     ]
    },
    {
     "name": "stderr",
     "output_type": "stream",
     "text": [
      "C:\\Users\\Max\\AppData\\Local\\Temp\\ipykernel_14536\\2204506995.py:29: RuntimeWarning: overflow encountered in scalar subtract\n",
      "  elif((img[i,j,2]-img[i,j,1]) > 50):\n"
     ]
    },
    {
     "name": "stdout",
     "output_type": "stream",
     "text": [
      "Use voxel to estimate volume...\n",
      "ISD-0103\n"
     ]
    },
    {
     "name": "stderr",
     "output_type": "stream",
     "text": [
      "C:\\Users\\Max\\AppData\\Local\\Temp\\ipykernel_14536\\2204506995.py:29: RuntimeWarning: overflow encountered in scalar subtract\n",
      "  elif((img[i,j,2]-img[i,j,1]) > 50):\n"
     ]
    },
    {
     "name": "stdout",
     "output_type": "stream",
     "text": [
      "Use voxel to estimate volume...\n",
      "ISD-0222\n"
     ]
    },
    {
     "name": "stderr",
     "output_type": "stream",
     "text": [
      "C:\\Users\\Max\\AppData\\Local\\Temp\\ipykernel_14536\\2204506995.py:29: RuntimeWarning: overflow encountered in scalar subtract\n",
      "  elif((img[i,j,2]-img[i,j,1]) > 50):\n"
     ]
    },
    {
     "name": "stdout",
     "output_type": "stream",
     "text": [
      "Use voxel to estimate volume...\n",
      "ISD-0639\n"
     ]
    },
    {
     "name": "stderr",
     "output_type": "stream",
     "text": [
      "C:\\Users\\Max\\AppData\\Local\\Temp\\ipykernel_14536\\2204506995.py:29: RuntimeWarning: overflow encountered in scalar subtract\n",
      "  elif((img[i,j,2]-img[i,j,1]) > 50):\n",
      "Traceback (most recent call last):\n",
      "  File \"C:\\Users\\Max\\AppData\\Local\\Temp\\ipykernel_14536\\1808561733.py\", line 61, in process_subfolder_try\n",
      "    verts, faces, _, _ = measure.marching_cubes(vol, level=0.5)\n",
      "  File \"c:\\Users\\Max\\anaconda3\\envs\\OP_RFA\\lib\\site-packages\\skimage\\measure\\_marching_cubes_lewiner.py\", line 133, in marching_cubes\n",
      "    return _marching_cubes_lewiner(volume, level, spacing,\n",
      "  File \"c:\\Users\\Max\\anaconda3\\envs\\OP_RFA\\lib\\site-packages\\skimage\\measure\\_marching_cubes_lewiner.py\", line 166, in _marching_cubes_lewiner\n",
      "    raise ValueError(\"Input array must be at least 2x2x2.\")\n",
      "ValueError: Input array must be at least 2x2x2.\n"
     ]
    },
    {
     "name": "stdout",
     "output_type": "stream",
     "text": [
      "处理文件ISD-0639时发生错误：Input array must be at least 2x2x2.\n",
      "ISD-0018\n",
      "Use voxel to estimate volume...\n",
      "ISD-1211\n"
     ]
    },
    {
     "name": "stderr",
     "output_type": "stream",
     "text": [
      "C:\\Users\\Max\\AppData\\Local\\Temp\\ipykernel_14536\\2204506995.py:29: RuntimeWarning: overflow encountered in scalar subtract\n",
      "  elif((img[i,j,2]-img[i,j,1]) > 50):\n"
     ]
    },
    {
     "name": "stdout",
     "output_type": "stream",
     "text": [
      "Use voxel to estimate volume...\n",
      "ISD-0219\n"
     ]
    },
    {
     "name": "stderr",
     "output_type": "stream",
     "text": [
      "C:\\Users\\Max\\AppData\\Local\\Temp\\ipykernel_14536\\2204506995.py:29: RuntimeWarning: overflow encountered in scalar subtract\n",
      "  elif((img[i,j,2]-img[i,j,1]) > 50):\n"
     ]
    },
    {
     "name": "stdout",
     "output_type": "stream",
     "text": [
      "Use voxel to estimate volume...\n",
      "ISD-0554\n"
     ]
    },
    {
     "name": "stderr",
     "output_type": "stream",
     "text": [
      "C:\\Users\\Max\\AppData\\Local\\Temp\\ipykernel_14536\\2204506995.py:29: RuntimeWarning: overflow encountered in scalar subtract\n",
      "  elif((img[i,j,2]-img[i,j,1]) > 50):\n"
     ]
    },
    {
     "name": "stdout",
     "output_type": "stream",
     "text": [
      "Use voxel to estimate volume...\n",
      "ISD-0221\n"
     ]
    },
    {
     "name": "stderr",
     "output_type": "stream",
     "text": [
      "C:\\Users\\Max\\AppData\\Local\\Temp\\ipykernel_14536\\2204506995.py:29: RuntimeWarning: overflow encountered in scalar subtract\n",
      "  elif((img[i,j,2]-img[i,j,1]) > 50):\n"
     ]
    },
    {
     "name": "stdout",
     "output_type": "stream",
     "text": [
      "Use voxel to estimate volume...\n",
      "ISD-1071\n"
     ]
    },
    {
     "name": "stderr",
     "output_type": "stream",
     "text": [
      "C:\\Users\\Max\\AppData\\Local\\Temp\\ipykernel_14536\\2204506995.py:29: RuntimeWarning: overflow encountered in scalar subtract\n",
      "  elif((img[i,j,2]-img[i,j,1]) > 50):\n"
     ]
    },
    {
     "name": "stdout",
     "output_type": "stream",
     "text": [
      "Use voxel to estimate volume...\n",
      "ISD-0581\n"
     ]
    },
    {
     "name": "stderr",
     "output_type": "stream",
     "text": [
      "C:\\Users\\Max\\AppData\\Local\\Temp\\ipykernel_14536\\2204506995.py:29: RuntimeWarning: overflow encountered in scalar subtract\n",
      "  elif((img[i,j,2]-img[i,j,1]) > 50):\n"
     ]
    },
    {
     "name": "stdout",
     "output_type": "stream",
     "text": [
      "Use voxel to estimate volume...\n",
      "ISD-0508\n"
     ]
    },
    {
     "name": "stderr",
     "output_type": "stream",
     "text": [
      "C:\\Users\\Max\\AppData\\Local\\Temp\\ipykernel_14536\\2204506995.py:29: RuntimeWarning: overflow encountered in scalar subtract\n",
      "  elif((img[i,j,2]-img[i,j,1]) > 50):\n",
      "Traceback (most recent call last):\n",
      "  File \"C:\\Users\\Max\\AppData\\Local\\Temp\\ipykernel_14536\\1808561733.py\", line 61, in process_subfolder_try\n",
      "    verts, faces, _, _ = measure.marching_cubes(vol, level=0.5)\n",
      "  File \"c:\\Users\\Max\\anaconda3\\envs\\OP_RFA\\lib\\site-packages\\skimage\\measure\\_marching_cubes_lewiner.py\", line 133, in marching_cubes\n",
      "    return _marching_cubes_lewiner(volume, level, spacing,\n",
      "  File \"c:\\Users\\Max\\anaconda3\\envs\\OP_RFA\\lib\\site-packages\\skimage\\measure\\_marching_cubes_lewiner.py\", line 166, in _marching_cubes_lewiner\n",
      "    raise ValueError(\"Input array must be at least 2x2x2.\")\n",
      "ValueError: Input array must be at least 2x2x2.\n"
     ]
    },
    {
     "name": "stdout",
     "output_type": "stream",
     "text": [
      "处理文件ISD-0508时发生错误：Input array must be at least 2x2x2.\n",
      "ISD-0381\n",
      "Use voxel to estimate volume...\n",
      "ISD-0343\n"
     ]
    },
    {
     "name": "stderr",
     "output_type": "stream",
     "text": [
      "C:\\Users\\Max\\AppData\\Local\\Temp\\ipykernel_14536\\2204506995.py:29: RuntimeWarning: overflow encountered in scalar subtract\n",
      "  elif((img[i,j,2]-img[i,j,1]) > 50):\n"
     ]
    },
    {
     "name": "stdout",
     "output_type": "stream",
     "text": [
      "Use voxel to estimate volume...\n",
      "ISD-1203\n"
     ]
    },
    {
     "name": "stderr",
     "output_type": "stream",
     "text": [
      "C:\\Users\\Max\\AppData\\Local\\Temp\\ipykernel_14536\\2204506995.py:29: RuntimeWarning: overflow encountered in scalar subtract\n",
      "  elif((img[i,j,2]-img[i,j,1]) > 50):\n"
     ]
    },
    {
     "name": "stdout",
     "output_type": "stream",
     "text": [
      "Use voxel to estimate volume...\n",
      "ISD-0223\n"
     ]
    },
    {
     "name": "stderr",
     "output_type": "stream",
     "text": [
      "C:\\Users\\Max\\AppData\\Local\\Temp\\ipykernel_14536\\2204506995.py:29: RuntimeWarning: overflow encountered in scalar subtract\n",
      "  elif((img[i,j,2]-img[i,j,1]) > 50):\n"
     ]
    },
    {
     "name": "stdout",
     "output_type": "stream",
     "text": [
      "Use voxel to estimate volume...\n",
      "ISD-0135\n"
     ]
    },
    {
     "name": "stderr",
     "output_type": "stream",
     "text": [
      "C:\\Users\\Max\\AppData\\Local\\Temp\\ipykernel_14536\\2204506995.py:29: RuntimeWarning: overflow encountered in scalar subtract\n",
      "  elif((img[i,j,2]-img[i,j,1]) > 50):\n"
     ]
    },
    {
     "name": "stdout",
     "output_type": "stream",
     "text": [
      "Use voxel to estimate volume...\n",
      "ISD-0575\n"
     ]
    },
    {
     "name": "stderr",
     "output_type": "stream",
     "text": [
      "C:\\Users\\Max\\AppData\\Local\\Temp\\ipykernel_14536\\2204506995.py:29: RuntimeWarning: overflow encountered in scalar subtract\n",
      "  elif((img[i,j,2]-img[i,j,1]) > 50):\n",
      "Traceback (most recent call last):\n",
      "  File \"C:\\Users\\Max\\AppData\\Local\\Temp\\ipykernel_14536\\1808561733.py\", line 61, in process_subfolder_try\n",
      "    verts, faces, _, _ = measure.marching_cubes(vol, level=0.5)\n",
      "  File \"c:\\Users\\Max\\anaconda3\\envs\\OP_RFA\\lib\\site-packages\\skimage\\measure\\_marching_cubes_lewiner.py\", line 133, in marching_cubes\n",
      "    return _marching_cubes_lewiner(volume, level, spacing,\n",
      "  File \"c:\\Users\\Max\\anaconda3\\envs\\OP_RFA\\lib\\site-packages\\skimage\\measure\\_marching_cubes_lewiner.py\", line 166, in _marching_cubes_lewiner\n",
      "    raise ValueError(\"Input array must be at least 2x2x2.\")\n",
      "ValueError: Input array must be at least 2x2x2.\n"
     ]
    },
    {
     "name": "stdout",
     "output_type": "stream",
     "text": [
      "处理文件ISD-0575时发生错误：Input array must be at least 2x2x2.\n",
      "ISD-0666\n",
      "Use voxel to estimate volume...\n",
      "ISD-0278\n"
     ]
    },
    {
     "name": "stderr",
     "output_type": "stream",
     "text": [
      "C:\\Users\\Max\\AppData\\Local\\Temp\\ipykernel_14536\\2204506995.py:29: RuntimeWarning: overflow encountered in scalar subtract\n",
      "  elif((img[i,j,2]-img[i,j,1]) > 50):\n"
     ]
    },
    {
     "name": "stdout",
     "output_type": "stream",
     "text": [
      "Use voxel to estimate volume...\n",
      "ISD-0056\n"
     ]
    },
    {
     "name": "stderr",
     "output_type": "stream",
     "text": [
      "C:\\Users\\Max\\AppData\\Local\\Temp\\ipykernel_14536\\2204506995.py:29: RuntimeWarning: overflow encountered in scalar subtract\n",
      "  elif((img[i,j,2]-img[i,j,1]) > 50):\n"
     ]
    },
    {
     "name": "stdout",
     "output_type": "stream",
     "text": [
      "Use voxel to estimate volume...\n",
      "ISD-0403\n"
     ]
    },
    {
     "name": "stderr",
     "output_type": "stream",
     "text": [
      "C:\\Users\\Max\\AppData\\Local\\Temp\\ipykernel_14536\\2204506995.py:29: RuntimeWarning: overflow encountered in scalar subtract\n",
      "  elif((img[i,j,2]-img[i,j,1]) > 50):\n"
     ]
    },
    {
     "name": "stdout",
     "output_type": "stream",
     "text": [
      "Use voxel to estimate volume...\n",
      "ISD-0193\n"
     ]
    },
    {
     "name": "stderr",
     "output_type": "stream",
     "text": [
      "C:\\Users\\Max\\AppData\\Local\\Temp\\ipykernel_14536\\2204506995.py:29: RuntimeWarning: overflow encountered in scalar subtract\n",
      "  elif((img[i,j,2]-img[i,j,1]) > 50):\n"
     ]
    },
    {
     "name": "stdout",
     "output_type": "stream",
     "text": [
      "Use voxel to estimate volume...\n",
      "ISD-0502\n"
     ]
    },
    {
     "name": "stderr",
     "output_type": "stream",
     "text": [
      "C:\\Users\\Max\\AppData\\Local\\Temp\\ipykernel_14536\\2204506995.py:29: RuntimeWarning: overflow encountered in scalar subtract\n",
      "  elif((img[i,j,2]-img[i,j,1]) > 50):\n"
     ]
    },
    {
     "name": "stdout",
     "output_type": "stream",
     "text": [
      "Use voxel to estimate volume...\n",
      "ISD-1185\n"
     ]
    },
    {
     "name": "stderr",
     "output_type": "stream",
     "text": [
      "C:\\Users\\Max\\AppData\\Local\\Temp\\ipykernel_14536\\2204506995.py:29: RuntimeWarning: overflow encountered in scalar subtract\n",
      "  elif((img[i,j,2]-img[i,j,1]) > 50):\n"
     ]
    },
    {
     "name": "stdout",
     "output_type": "stream",
     "text": [
      "Use voxel to estimate volume...\n",
      "ISD-1180\n"
     ]
    },
    {
     "name": "stderr",
     "output_type": "stream",
     "text": [
      "C:\\Users\\Max\\AppData\\Local\\Temp\\ipykernel_14536\\2204506995.py:29: RuntimeWarning: overflow encountered in scalar subtract\n",
      "  elif((img[i,j,2]-img[i,j,1]) > 50):\n"
     ]
    },
    {
     "name": "stdout",
     "output_type": "stream",
     "text": [
      "Use voxel to estimate volume...\n",
      "ISD-0693\n"
     ]
    },
    {
     "name": "stderr",
     "output_type": "stream",
     "text": [
      "C:\\Users\\Max\\AppData\\Local\\Temp\\ipykernel_14536\\2204506995.py:29: RuntimeWarning: overflow encountered in scalar subtract\n",
      "  elif((img[i,j,2]-img[i,j,1]) > 50):\n"
     ]
    },
    {
     "name": "stdout",
     "output_type": "stream",
     "text": [
      "Use voxel to estimate volume...\n",
      "ISD-0179\n"
     ]
    },
    {
     "name": "stderr",
     "output_type": "stream",
     "text": [
      "C:\\Users\\Max\\AppData\\Local\\Temp\\ipykernel_14536\\2204506995.py:29: RuntimeWarning: overflow encountered in scalar subtract\n",
      "  elif((img[i,j,2]-img[i,j,1]) > 50):\n"
     ]
    },
    {
     "name": "stdout",
     "output_type": "stream",
     "text": [
      "Use voxel to estimate volume...\n",
      "ISD-0690\n"
     ]
    },
    {
     "name": "stderr",
     "output_type": "stream",
     "text": [
      "C:\\Users\\Max\\AppData\\Local\\Temp\\ipykernel_14536\\2204506995.py:29: RuntimeWarning: overflow encountered in scalar subtract\n",
      "  elif((img[i,j,2]-img[i,j,1]) > 50):\n"
     ]
    },
    {
     "name": "stdout",
     "output_type": "stream",
     "text": [
      "Use voxel to estimate volume...\n",
      "ISD-0132\n"
     ]
    },
    {
     "name": "stderr",
     "output_type": "stream",
     "text": [
      "C:\\Users\\Max\\AppData\\Local\\Temp\\ipykernel_14536\\2204506995.py:29: RuntimeWarning: overflow encountered in scalar subtract\n",
      "  elif((img[i,j,2]-img[i,j,1]) > 50):\n"
     ]
    },
    {
     "name": "stdout",
     "output_type": "stream",
     "text": [
      "Use voxel to estimate volume...\n",
      "ISD-0224\n"
     ]
    },
    {
     "name": "stderr",
     "output_type": "stream",
     "text": [
      "C:\\Users\\Max\\AppData\\Local\\Temp\\ipykernel_14536\\2204506995.py:29: RuntimeWarning: overflow encountered in scalar subtract\n",
      "  elif((img[i,j,2]-img[i,j,1]) > 50):\n"
     ]
    },
    {
     "name": "stdout",
     "output_type": "stream",
     "text": [
      "Use voxel to estimate volume...\n",
      "ISD-0483\n"
     ]
    },
    {
     "name": "stderr",
     "output_type": "stream",
     "text": [
      "C:\\Users\\Max\\AppData\\Local\\Temp\\ipykernel_14536\\2204506995.py:29: RuntimeWarning: overflow encountered in scalar subtract\n",
      "  elif((img[i,j,2]-img[i,j,1]) > 50):\n",
      "Traceback (most recent call last):\n",
      "  File \"C:\\Users\\Max\\AppData\\Local\\Temp\\ipykernel_14536\\1808561733.py\", line 61, in process_subfolder_try\n",
      "    verts, faces, _, _ = measure.marching_cubes(vol, level=0.5)\n",
      "  File \"c:\\Users\\Max\\anaconda3\\envs\\OP_RFA\\lib\\site-packages\\skimage\\measure\\_marching_cubes_lewiner.py\", line 133, in marching_cubes\n",
      "    return _marching_cubes_lewiner(volume, level, spacing,\n",
      "  File \"c:\\Users\\Max\\anaconda3\\envs\\OP_RFA\\lib\\site-packages\\skimage\\measure\\_marching_cubes_lewiner.py\", line 166, in _marching_cubes_lewiner\n",
      "    raise ValueError(\"Input array must be at least 2x2x2.\")\n",
      "ValueError: Input array must be at least 2x2x2.\n"
     ]
    },
    {
     "name": "stdout",
     "output_type": "stream",
     "text": [
      "处理文件ISD-0483时发生错误：Input array must be at least 2x2x2.\n",
      "ISD-0212\n",
      "Use voxel to estimate volume...\n",
      "D:/共用雲端硬碟/TVGH-Group/手術復發/TGcode/Output3/check_img/HCCP\\HCCP_phasevalue3.csv\n"
     ]
    }
   ],
   "source": [
    "import pickle\n",
    "\n",
    "# 指定.pkl檔案的路徑\n",
    "missing_path = './check_img/HCCP/missing_paths.pkl'\n",
    "# 使用二進位模式打開.pkl檔案\n",
    "with open(missing_path, 'rb') as file:\n",
    "    # 使用pickle.load()方法讀取檔案內容\n",
    "    subfolder_paths_to_process = pickle.load(file)\n",
    "results = []\n",
    "failcase = []\n",
    "for subfolder_path_inner in subfolder_paths_to_process:\n",
    "    # print('Processing subfolder:', subfolder_path_inner)\n",
    "    try:\n",
    "        threed_morphology_p = process_subfolder_try(subfolder_path_inner)\n",
    "        \n",
    "        # 下面的部分是您的处理代码，处理当前子文件夹的数据\n",
    "        # ...\n",
    "\n",
    "        # 接下来的代码将 threed_morphology_p 存储为 CSV 文件\n",
    "        results.append(threed_morphology_p)\n",
    "        failcase.append(subfolder_path_inner)\n",
    "    except Exception as e:\n",
    "        print(f'处理文件{file_name}时发生错误：{str(e)}')\n",
    "        continue \n",
    "\n",
    "final_results = pd.concat(results, ignore_index=True)\n",
    "new_path = os.path.dirname(subfolder_path_inner)\n",
    "last_folder_name = os.path.basename(new_path)\n",
    "finalcsvpath = os.path.join(new_path, f'{last_folder_name}_phasevalue3.csv')\n",
    "final_results.to_csv(finalcsvpath, index=False)\n",
    "print(finalcsvpath)"
   ]
  },
  {
   "cell_type": "code",
   "execution_count": 43,
   "metadata": {},
   "outputs": [
    {
     "name": "stdout",
     "output_type": "stream",
     "text": [
      "None\n"
     ]
    }
   ],
   "source": [
    "print(failcase)"
   ]
  },
  {
   "cell_type": "code",
   "execution_count": 8,
   "metadata": {},
   "outputs": [
    {
     "name": "stdout",
     "output_type": "stream",
     "text": [
      "讀取到的資料型別：<class 'numpy.ndarray'>\n",
      "[0.673828 0.673828]\n"
     ]
    }
   ],
   "source": [
    "import pickle\n",
    "\n",
    "# 指定.pkl檔案的路徑\n",
    "file_path = 'D:/共用雲端硬碟/TVGH-Group/手術復發/TGcode/Output3/check_img/HCCA/ISD-0364/ISD-0364_pixelspacing.pkl'\n",
    "\n",
    "try:\n",
    "    # 使用二進位模式打開.pkl檔案\n",
    "    with open(file_path, 'rb') as file:\n",
    "        # 使用pickle.load()方法讀取檔案內容\n",
    "        data = pickle.load(file)\n",
    "        \n",
    "        # 顯示讀取到的資料型別\n",
    "        print(f'讀取到的資料型別：{type(data)}')\n",
    "        \n",
    "        # 如果需要，您可以進一步處理讀取到的資料\n",
    "        # 例如，將其列印出來\n",
    "        print(data)\n",
    "        \n",
    "except FileNotFoundError:\n",
    "    print(f'找不到檔案：{file_path}')\n",
    "except Exception as e:\n",
    "    print(f'發生錯誤：{str(e)}')"
   ]
  },
  {
   "cell_type": "code",
   "execution_count": 36,
   "metadata": {},
   "outputs": [
    {
     "name": "stdout",
     "output_type": "stream",
     "text": [
      "讀取到的資料型別：<class 'numpy.ndarray'>\n",
      "[-153 -148 -143 -138 -133 -128 -123 -118 -113 -108 -103  -98  -93  -88\n",
      "  -88  -83  -78]\n"
     ]
    }
   ],
   "source": [
    "import pickle\n",
    "\n",
    "# 指定.pkl檔案的路徑\n",
    "file_path = 'D:/共用雲端硬碟/TVGH-Group/手術復發/TGcode/Output3/check_img/HCCA/ISD-0209/ISD-0209_slicelocations.pkl'\n",
    "\n",
    "try:\n",
    "    # 使用二進位模式打開.pkl檔案\n",
    "    with open(file_path, 'rb') as file:\n",
    "        # 使用pickle.load()方法讀取檔案內容\n",
    "        data = pickle.load(file)\n",
    "        \n",
    "        # 顯示讀取到的資料型別\n",
    "        print(f'讀取到的資料型別：{type(data)}')\n",
    "        \n",
    "        # 如果需要，您可以進一步處理讀取到的資料\n",
    "        # 例如，將其列印出來\n",
    "        print(data)\n",
    "        \n",
    "except FileNotFoundError:\n",
    "    print(f'找不到檔案：{file_path}')\n",
    "except Exception as e:\n",
    "    print(f'發生錯誤：{str(e)}')"
   ]
  }
 ],
 "metadata": {
  "kernelspec": {
   "display_name": "OP_RFA",
   "language": "python",
   "name": "python3"
  },
  "language_info": {
   "codemirror_mode": {
    "name": "ipython",
    "version": 3
   },
   "file_extension": ".py",
   "mimetype": "text/x-python",
   "name": "python",
   "nbconvert_exporter": "python",
   "pygments_lexer": "ipython3",
   "version": "3.10.9"
  },
  "orig_nbformat": 4
 },
 "nbformat": 4,
 "nbformat_minor": 2
}
